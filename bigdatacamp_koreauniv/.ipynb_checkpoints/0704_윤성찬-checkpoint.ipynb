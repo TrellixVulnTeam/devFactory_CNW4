{
 "cells": [
  {
   "cell_type": "markdown",
   "metadata": {},
   "source": [
    "# 0704 윤성찬 "
   ]
  },
  {
   "cell_type": "code",
   "execution_count": 12,
   "metadata": {},
   "outputs": [
    {
     "name": "stdout",
     "output_type": "stream",
     "text": [
      "1\n",
      "2\n",
      "3\n",
      "4\n",
      "0\n",
      "==================\n",
      "0을 입력받았습니다.\n",
      "==================\n",
      "average :  2.5\n"
     ]
    }
   ],
   "source": [
    "# 61 : Average\n",
    "\n",
    "num_list=[]\n",
    "sum = 0\n",
    "while True:\n",
    "    a = int(input())\n",
    "    num_list.append(a)\n",
    "    sum = sum + a\n",
    "    if num_list[0] is 0:\n",
    "        print(\"처음부터 0이여?\")\n",
    "        break\n",
    "    else: \n",
    "        if a ==0:\n",
    "            print('==================')\n",
    "            print('0을 입력받았습니다.')\n",
    "            print('==================')\n",
    "            print('average : ',sum/(len(num_list)-1))\n",
    "            break\n",
    "        else:\n",
    "#             num_list.append(a)\n",
    "            continue"
   ]
  },
  {
   "cell_type": "code",
   "execution_count": 87,
   "metadata": {},
   "outputs": [
    {
     "name": "stdout",
     "output_type": "stream",
     "text": [
      "섭씨 :  0 \t화씨 :  32.0\n",
      "섭씨 :  10 \t화씨 :  50.0\n",
      "섭씨 :  20 \t화씨 :  68.0\n",
      "섭씨 :  30 \t화씨 :  86.0\n",
      "섭씨 :  40 \t화씨 :  104.0\n",
      "섭씨 :  50 \t화씨 :  122.0\n",
      "섭씨 :  60 \t화씨 :  140.0\n",
      "섭씨 :  70 \t화씨 :  158.0\n",
      "섭씨 :  80 \t화씨 :  176.0\n",
      "섭씨 :  90 \t화씨 :  194.0\n",
      "섭씨 :  100 \t화씨 :  212.0\n"
     ]
    }
   ],
   "source": [
    "# 63 : Temperature Conversion Table\n",
    "\n",
    "for c in range(0,101,10):\n",
    "    f = (c*1.8) + 32\n",
    "    print(\"섭씨 : \",c,\"\\t화씨 : \",f)"
   ]
  },
  {
   "cell_type": "code",
   "execution_count": 6,
   "metadata": {},
   "outputs": [
    {
     "name": "stdout",
     "output_type": "stream",
     "text": [
      "A\n",
      "A\n",
      "A\n",
      "A\n",
      "\n",
      "엔터를 입력받았습니다.\n",
      "평균 학점은 ?  4.0\n"
     ]
    }
   ],
   "source": [
    "# 66 : Compute a Grade Point Average\n",
    "def f(x):\n",
    "    return {'A+': 4.0,'A':4.0,'A-':3.7,'B+':3.3,'B':3.0,'B-':2.7,\n",
    "            'C+':2.3,'C':2.0,'C-':1.7,'D+':1.3,'D-':1.0,'F':0}[x]\n",
    "\n",
    "grade_sum = 0.0\n",
    "count = 0\n",
    "while True:\n",
    "    a = input()\n",
    "    if a in '':\n",
    "        print('엔터를 입력받았습니다.')\n",
    "        print('평균 학점은 ? ',grade_sum/count)\n",
    "        break\n",
    "    else: \n",
    "        count += 1 \n",
    "        grade_sum += f(a)"
   ]
  },
  {
   "cell_type": "code",
   "execution_count": 14,
   "metadata": {},
   "outputs": [
    {
     "name": "stdout",
     "output_type": "stream",
     "text": [
      "65\n",
      "65세 이상은 $18 입니다.\n",
      "64\n",
      "기본요금은 $23 입니다.\n",
      "100\n",
      "65세 이상은 $18 입니다.\n",
      "2\n",
      "2세 이하이므로 무료입니다.\n",
      "1\n",
      "2세 이하이므로 무료입니다.\n",
      "4\n",
      "2~12세는 $14 입니다.\n",
      "\n",
      "총 입장료 값은 : $ 73.00 입니다.\n"
     ]
    }
   ],
   "source": [
    "# Exercise 67 : Admission Price\n",
    "price = 0.0\n",
    "while True:\n",
    "    a = input()\n",
    "    if a in '':\n",
    "        print('총 입장료 값은 : $',format(price,\".2f\"),'입니다.')\n",
    "        break\n",
    "    else:\n",
    "        a = int(a)\n",
    "        if a <= 2:\n",
    "            print(\"2세 이하이므로 무료입니다.\")\n",
    "        elif 3 <= a <=12:\n",
    "            print(\"2~12세는 $14 입니다.\")\n",
    "            price += 14\n",
    "        elif 13 <= a <= 64:\n",
    "            print(\"기본요금은 $23 입니다.\")\n",
    "            price +=23\n",
    "        else:\n",
    "            print(\"65세 이상은 $18 입니다.\")\n",
    "            price += 18\n"
   ]
  },
  {
   "cell_type": "code",
   "execution_count": 3,
   "metadata": {
    "scrolled": true
   },
   "outputs": [
    {
     "name": "stdout",
     "output_type": "stream",
     "text": [
      "aba\n",
      "True\n",
      "aaaaabbbbb\n",
      "False\n",
      "abbbbbbbbba\n",
      "True\n",
      "civic\n",
      "True\n",
      "\n",
      "종료합니다.\n"
     ]
    }
   ],
   "source": [
    "# Exercise 72 : Is a String a Palindrome?\n",
    "\n",
    "while True:\n",
    "    a = input()\n",
    "    if a in '':\n",
    "        print('종료합니다.')\n",
    "        break\n",
    "    else:\n",
    "        len_a = len(a)\n",
    "        for i in range(int(len_a/2)):\n",
    "            if a[i] != a[len_a-1-i]:\n",
    "                flag = False\n",
    "            else:\n",
    "                flag = True\n",
    "        print(flag)"
   ]
  },
  {
   "cell_type": "code",
   "execution_count": 89,
   "metadata": {},
   "outputs": [
    {
     "name": "stdout",
     "output_type": "stream",
     "text": [
      " \t1\t2\t3\t4\t5\t6\t7\t8\t9\t10\t\n",
      "1\t1\t2\t3\t4\t5\t6\t7\t8\t9\t10\n",
      "2\t2\t4\t6\t8\t10\t12\t14\t16\t18\t20\n",
      "3\t3\t6\t9\t12\t15\t18\t21\t24\t27\t30\n",
      "4\t4\t8\t12\t16\t20\t24\t28\t32\t36\t40\n",
      "5\t5\t10\t15\t20\t25\t30\t35\t40\t45\t50\n",
      "6\t6\t12\t18\t24\t30\t36\t42\t48\t54\t60\n",
      "7\t7\t14\t21\t28\t35\t42\t49\t56\t63\t70\n",
      "8\t8\t16\t24\t32\t40\t48\t56\t64\t72\t80\n",
      "9\t9\t18\t27\t36\t45\t54\t63\t72\t81\t90\n",
      "10\t10\t20\t30\t40\t50\t60\t70\t80\t90\t100\n"
     ]
    }
   ],
   "source": [
    "# Exercise 74 : Multiplication Table\n",
    "\n",
    "for k in range(1,11):\n",
    "    if k is 1:\n",
    "        print(\" \", end =\"\\t\")\n",
    "    print(k, end=\"\\t\")\n",
    "print()\n",
    "for i in range(1,11):\n",
    "    print(i, end=\"\\t\")\n",
    "    for j in range(1,11):\n",
    "        if j == 10:\n",
    "            print(i*j)\n",
    "        else: \n",
    "            print(i*j, end=\"\\t\")"
   ]
  },
  {
   "cell_type": "code",
   "execution_count": 81,
   "metadata": {},
   "outputs": [
    {
     "name": "stdout",
     "output_type": "stream",
     "text": [
      "first > 6\n",
      "second > 8\n",
      "2\n"
     ]
    }
   ],
   "source": [
    "# Exercise 75 : Greatest Common Divisor\n",
    "# 최대공약수 구하기\n",
    "\n",
    "n = int(input('first > '))\n",
    "m = int(input('second > '))\n",
    "\n",
    "d = min(n,m)\n",
    "\n",
    "for i in range(d, 0, -1):\n",
    "    if n%i ==0 and m%i ==0:\n",
    "        print(i)\n",
    "        break"
   ]
  },
  {
   "cell_type": "code",
   "execution_count": 16,
   "metadata": {},
   "outputs": [
    {
     "name": "stdout",
     "output_type": "stream",
     "text": [
      "1111\n",
      "10진수로 변환한 값은 :  15\n"
     ]
    }
   ],
   "source": [
    "# Exercise 77 : Binary to Decimal\n",
    "\n",
    "a = input()\n",
    "print('10진수로 변환한 값은 : ' , int(a,2))"
   ]
  },
  {
   "cell_type": "code",
   "execution_count": 23,
   "metadata": {
    "scrolled": true
   },
   "outputs": [
    {
     "name": "stdout",
     "output_type": "stream",
     "text": [
      "233\n",
      "2진수로 변환한 값은 :  10010111\n"
     ]
    }
   ],
   "source": [
    "# Exercise 78 : Decimal to Binary\n",
    "\n",
    "result = ''\n",
    "q = int(input())\n",
    "while True:\n",
    "    r = q%2\n",
    "    if r is 0:\n",
    "        result+='0'\n",
    "    else:\n",
    "        result+='1'\n",
    "    q = int(q/2)\n",
    "    if q is 0:\n",
    "        print('2진수로 변환한 값은 : ', result)\n",
    "        break"
   ]
  }
 ],
 "metadata": {
  "kernelspec": {
   "display_name": "Python 3",
   "language": "python",
   "name": "python3"
  },
  "language_info": {
   "codemirror_mode": {
    "name": "ipython",
    "version": 3
   },
   "file_extension": ".py",
   "mimetype": "text/x-python",
   "name": "python",
   "nbconvert_exporter": "python",
   "pygments_lexer": "ipython3",
   "version": "3.6.5"
  }
 },
 "nbformat": 4,
 "nbformat_minor": 2
}
