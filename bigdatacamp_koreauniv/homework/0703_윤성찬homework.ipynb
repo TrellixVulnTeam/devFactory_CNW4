{
 "cells": [
  {
   "cell_type": "markdown",
   "metadata": {},
   "source": [
    "# 윤성찬 0703 과제 "
   ]
  },
  {
   "cell_type": "code",
   "execution_count": 13,
   "metadata": {},
   "outputs": [
    {
     "name": "stdout",
     "output_type": "stream",
     "text": [
      "1\n",
      "2\n",
      "3\n",
      "4\n",
      "5\n",
      "6\n",
      "7\n",
      "8\n",
      "9\n",
      "0\n",
      "==================\n",
      "0을 입력받았습니다.\n",
      "==================\n",
      "9\n",
      "8\n",
      "7\n",
      "6\n",
      "5\n",
      "4\n",
      "3\n",
      "2\n",
      "1\n"
     ]
    }
   ],
   "source": [
    "# Exercise 105 : Reverse Order\n",
    "\n",
    "sum=[]\n",
    "while True:\n",
    "    a = int(input())\n",
    "    if a==0:\n",
    "        print('==================')\n",
    "        print('0을 입력받았습니다.')\n",
    "        print('==================')\n",
    "        sum.sort(reverse=True)\n",
    "        for i in range(0, len(sum)):\n",
    "            print(sum[i])\n",
    "        break\n",
    "    else:\n",
    "        sum.append(a)"
   ]
  },
  {
   "cell_type": "code",
   "execution_count": null,
   "metadata": {},
   "outputs": [],
   "source": [
    "# 모범답안\n",
    "\n",
    "num_list=[]\n",
    "while True:\n",
    "    a = int(input())\n",
    "    if a ==0:\n",
    "        print('==================')\n",
    "        print('0을 입력받았습니다.')\n",
    "        print('==================')\n",
    "        num_list.reverse()\n",
    "        for i in range(len(num_list)):\n",
    "            print(num_list[i])\n",
    "        break\n",
    "    else:\n",
    "        num_list.append(a)"
   ]
  },
  {
   "cell_type": "code",
   "execution_count": 63,
   "metadata": {},
   "outputs": [
    {
     "name": "stdout",
     "output_type": "stream",
     "text": [
      "aa\n",
      "bb\n",
      "cc\n",
      "aa\n",
      "bb\n",
      "dd\n",
      "\n",
      "엔터키를 입력하셨습니다.\n",
      "aa\n",
      "bb\n",
      "cc\n",
      "dd\n"
     ]
    }
   ],
   "source": [
    "# Exercise 107 : Avoiding Duplicates\n",
    "\n",
    "words = []\n",
    "while True:\n",
    "    a = input()\n",
    "    if a in words:\n",
    "        pass\n",
    "    else:\n",
    "        if a=='':\n",
    "            print('엔터키를 입력하셨습니다.')\n",
    "            for i in range(0, len(words)):\n",
    "                print(words[i])\n",
    "            break\n",
    "        else:\n",
    "            words.append(a)"
   ]
  },
  {
   "cell_type": "code",
   "execution_count": 13,
   "metadata": {},
   "outputs": [
    {
     "name": "stdout",
     "output_type": "stream",
     "text": [
      "-5\n",
      "- 입니다.\n",
      "-3\n",
      "- 입니다.\n",
      "-10000\n",
      "- 입니다.\n",
      "0\n",
      "0 입니다.\n",
      "55555\n",
      "+ 입니다.\n",
      "4\n",
      "+ 입니다.\n",
      "22222\n",
      "+ 입니다.\n",
      "\n",
      "종료합니다.\n",
      "[-5, -3, -10000, 0, 55555, 4, 22222]\n"
     ]
    }
   ],
   "source": [
    "# Exercise 108 : Negatives, Zeros and Positives\n",
    "plus_words = []\n",
    "zero_words = []\n",
    "minus_words = []\n",
    "while True:\n",
    "    a = input()\n",
    "    if a =='':\n",
    "        sum_words = minus_words + zero_words + plus_words\n",
    "        print(\"종료합니다.\")\n",
    "        print(sum_words)\n",
    "        break\n",
    "    else:\n",
    "        int_a = int(a)\n",
    "        if int_a > 0:\n",
    "            plus_words.append(int_a)\n",
    "            print(\"+ 입니다.\")\n",
    "        elif int_a < 0:\n",
    "            minus_words.append(int_a)\n",
    "            print(\"- 입니다.\")\n",
    "        else :\n",
    "            zero_words.append(int_a)\n",
    "            print(\"0 입니다.\")\n"
   ]
  },
  {
   "cell_type": "code",
   "execution_count": 15,
   "metadata": {},
   "outputs": [
    {
     "name": "stdout",
     "output_type": "stream",
     "text": [
      "10000\n",
      "결과는 :  [6, 28, 496, 8128]\n"
     ]
    }
   ],
   "source": [
    "# Exercise 110 : Perfect Numbers\n",
    "num = int(input())\n",
    "list = []\n",
    "for i in range(1,num+1):\n",
    "    sum = 0\n",
    "    for j in range(1,i):\n",
    "        if i%j ==0:\n",
    "            sum+=j\n",
    "    if(sum==i):\n",
    "        list.append(i)\n",
    "        \n",
    "print(\"결과는 : \", list)"
   ]
  },
  {
   "cell_type": "code",
   "execution_count": 9,
   "metadata": {},
   "outputs": [],
   "source": [
    "def common(num):\n",
    "    common_list = []\n",
    "    for i in range(1, int(num/2)):\n",
    "        if num % i is 0:\n",
    "            common_list.append(i)\n",
    "    return common_list"
   ]
  },
  {
   "cell_type": "code",
   "execution_count": 10,
   "metadata": {},
   "outputs": [],
   "source": [
    "a = common(10)"
   ]
  },
  {
   "cell_type": "code",
   "execution_count": 11,
   "metadata": {},
   "outputs": [
    {
     "data": {
      "text/plain": [
       "[1, 2]"
      ]
     },
     "execution_count": 11,
     "metadata": {},
     "output_type": "execute_result"
    }
   ],
   "source": []
  },
  {
   "cell_type": "code",
   "execution_count": null,
   "metadata": {},
   "outputs": [
    {
     "name": "stdout",
     "output_type": "stream",
     "text": [
      "a\n",
      "a\n",
      "b\n",
      "a and b\n",
      "c\n",
      "a , b and c\n",
      "d\n",
      "a, b , c and d\n",
      "e\n",
      "a, b , c , d and e\n",
      "f\n",
      "a, b , c , d , e and f\n",
      "g\n",
      "a, b , c , d , e , f and g\n"
     ]
    }
   ],
   "source": [
    "# Exercise 113 : Formatting a List\n",
    "fruits = []\n",
    "while True:\n",
    "    f_input = input()\n",
    "    fruits.append(f_input)\n",
    "    f_len = len(fruits)\n",
    "    \n",
    "    if f_len == 1:\n",
    "        print(f_input)\n",
    "    elif f_len == 2:\n",
    "        print(fruits[0],'and',fruits[1])\n",
    "    elif f_len == 3:\n",
    "        print(fruits[0],',',fruits[1],'and',fruits[2])\n",
    "        temp = fruits[-1]\n",
    "        fruits[0] = fruits[0]+' ,'\n",
    "    else: \n",
    "        fruits[-2] = ', '+temp\n",
    "        temp = fruits[-1]\n",
    "        fruits[-1] = 'and ' + fruits[-1]\n",
    "        print(\" \".join(fruits))"
   ]
  },
  {
   "cell_type": "code",
   "execution_count": 19,
   "metadata": {},
   "outputs": [
    {
     "name": "stdout",
     "output_type": "stream",
     "text": [
      "[3, 11, 30, 37, 44, 49]\n"
     ]
    }
   ],
   "source": [
    "# Exercise 114 : Random Lottery Numbers\n",
    "import random\n",
    "\n",
    "count = 6\n",
    "sampleList = []\n",
    "for i in range(1,50):\n",
    "    sampleList.append(i)\n",
    "    \n",
    "print (sorted(random.sample(sampleList, count)))"
   ]
  },
  {
   "cell_type": "code",
   "execution_count": 23,
   "metadata": {},
   "outputs": [
    {
     "data": {
      "text/plain": [
       "27"
      ]
     },
     "execution_count": 23,
     "metadata": {},
     "output_type": "execute_result"
    }
   ],
   "source": [
    "import random\n",
    "rand = random.Random()\n",
    "while()\n",
    "rand.randint(1,49)\n"
   ]
  },
  {
   "cell_type": "code",
   "execution_count": null,
   "metadata": {},
   "outputs": [
    {
     "name": "stdout",
     "output_type": "stream",
     "text": [
      "hello\n",
      "4\n",
      "zzz\n",
      "1\n",
      "\n",
      "0\n"
     ]
    }
   ],
   "source": [
    "# Exercise 134 : Unique Characters\n",
    "while True:\n",
    "    a = input()\n",
    "    word_count = set(list(a))\n",
    "    print(len(word_count))\n",
    "    \n",
    "    "
   ]
  },
  {
   "cell_type": "code",
   "execution_count": 11,
   "metadata": {},
   "outputs": [
    {
     "name": "stdout",
     "output_type": "stream",
     "text": [
      "first > live\n",
      "second > evil\n",
      "아나그램이 맞습니다.\n"
     ]
    }
   ],
   "source": [
    "# Exercise 135 : Anagrams\n",
    "a = input('first > ')\n",
    "b = input('second > ')\n",
    "\n",
    "if \"\".join(sorted(a.lower())).strip() == \"\".join(sorted(b.lower())).strip():\n",
    "    print(\"아나그램이 맞습니다.\")\n",
    "else:\n",
    "    print(\"아나그램이 아닙니다.\")"
   ]
  },
  {
   "cell_type": "code",
   "execution_count": null,
   "metadata": {},
   "outputs": [],
   "source": []
  }
 ],
 "metadata": {
  "kernelspec": {
   "display_name": "Python 3",
   "language": "python",
   "name": "python3"
  },
  "language_info": {
   "codemirror_mode": {
    "name": "ipython",
    "version": 3
   },
   "file_extension": ".py",
   "mimetype": "text/x-python",
   "name": "python",
   "nbconvert_exporter": "python",
   "pygments_lexer": "ipython3",
   "version": "3.6.5"
  }
 },
 "nbformat": 4,
 "nbformat_minor": 2
}
