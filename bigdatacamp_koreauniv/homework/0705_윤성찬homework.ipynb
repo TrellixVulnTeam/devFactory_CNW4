{
 "cells": [
  {
   "cell_type": "markdown",
   "metadata": {},
   "source": [
    "# 윤성찬 0705 과제 "
   ]
  },
  {
   "cell_type": "code",
   "execution_count": 28,
   "metadata": {},
   "outputs": [],
   "source": [
    "# Exercise 82: Taxi Fare\n",
    "\n",
    "def cal_taxifare(meter):\n",
    "    fare = 4.00\n",
    "    if meter > 140:\n",
    "        fare = fare + (meter-140)*0.25\n",
    "    print(\"기본요금은 > $ 4.00 입니다.\")\n",
    "    print(\"추가요금은 > $\",format((meter-140)*0.25,\".2f\"),\"입니다.\")\n",
    "    print(\"총 요금은  > $\",format(fare,\".2f\"),\"입니다.\") "
   ]
  },
  {
   "cell_type": "code",
   "execution_count": 29,
   "metadata": {},
   "outputs": [
    {
     "name": "stdout",
     "output_type": "stream",
     "text": [
      "기본요금은 > $ 4.00 입니다.\n",
      "추가요금은 > $ 2.50 입니다.\n",
      "총 요금은  > $ 6.50 입니다.\n"
     ]
    }
   ],
   "source": [
    "cal_taxifare(150)"
   ]
  },
  {
   "cell_type": "code",
   "execution_count": 53,
   "metadata": {},
   "outputs": [],
   "source": [
    "# Exercise 84 : Median of Three Values\n",
    "\n",
    "def median_num(a,b,c):\n",
    "    list = [a,b,c]\n",
    "    return sorted(list)[1]"
   ]
  },
  {
   "cell_type": "code",
   "execution_count": 54,
   "metadata": {},
   "outputs": [
    {
     "data": {
      "text/plain": [
       "2"
      ]
     },
     "execution_count": 54,
     "metadata": {},
     "output_type": "execute_result"
    }
   ],
   "source": [
    "median_num(1,3,2)"
   ]
  },
  {
   "cell_type": "code",
   "execution_count": 59,
   "metadata": {},
   "outputs": [],
   "source": [
    "# Exercise 85 : Convert an Integer to its Ordinal Number\n",
    "\n",
    "def print_ordinal(num):\n",
    "    if num in range(1,13):\n",
    "        return {1:'First',2:'Second',3:'Third',4:'Forth',5:'Fifth',6:'Sixth',7:'Seventh',\n",
    "                8:'Eighth',9:'Nineth',10:'Tenth',11:'Eleventh',12:'Twelfth'}[num]\n",
    "    else:\n",
    "        return ''\n"
   ]
  },
  {
   "cell_type": "code",
   "execution_count": 60,
   "metadata": {},
   "outputs": [
    {
     "data": {
      "text/plain": [
       "'First'"
      ]
     },
     "execution_count": 60,
     "metadata": {},
     "output_type": "execute_result"
    }
   ],
   "source": [
    "print_ordinal(1)"
   ]
  },
  {
   "cell_type": "code",
   "execution_count": 61,
   "metadata": {},
   "outputs": [
    {
     "data": {
      "text/plain": [
       "''"
      ]
     },
     "execution_count": 61,
     "metadata": {},
     "output_type": "execute_result"
    }
   ],
   "source": [
    "print_ordinal(13)"
   ]
  },
  {
   "cell_type": "code",
   "execution_count": 73,
   "metadata": {},
   "outputs": [
    {
     "name": "stdout",
     "output_type": "stream",
     "text": [
      "first > 11\n",
      "second > 12\n",
      "third > 13\n"
     ]
    },
    {
     "data": {
      "text/plain": [
       "False"
      ]
     },
     "execution_count": 73,
     "metadata": {},
     "output_type": "execute_result"
    }
   ],
   "source": [
    "# Exercise 88 : Is It a Valid Triangle?\n",
    "\n",
    "def isValidTriangle(l1,l2,l3):\n",
    "    list = [l1,l2,l3]\n",
    "    list.sort()\n",
    "    if list[2] > list[0]+list[1]:\n",
    "        return True\n",
    "    else:\n",
    "        return False\n",
    "\n",
    "l1 = input('first > ')\n",
    "l2 = input('second > ')\n",
    "l2 = input('third > ')\n",
    "isValidTriangle(11,13,12)"
   ]
  },
  {
   "cell_type": "code",
   "execution_count": 84,
   "metadata": {},
   "outputs": [
    {
     "name": "stdout",
     "output_type": "stream",
     "text": [
      "입력하세요 > 10\n",
      "10 is not a prime number\n"
     ]
    }
   ],
   "source": [
    "# Exercise 92 : Is a Number Prime?\n",
    "\n",
    "def isPrimeNumber(n):\n",
    "    flag = 1;\n",
    "    for i in range(2,n):\n",
    "        if(n%i == 0):\n",
    "            print('%d is not a prime number' %n)\n",
    "            flag = 0;\n",
    "            break;\n",
    "    if(flag == 1):\n",
    "        print('%d is a prime number' %n)\n",
    "\n",
    "n = int(input('입력하세요 > '))\n",
    "isPrimeNumber(n)"
   ]
  },
  {
   "cell_type": "markdown",
   "metadata": {},
   "source": [
    "### ==============심화==============="
   ]
  },
  {
   "cell_type": "code",
   "execution_count": 106,
   "metadata": {},
   "outputs": [],
   "source": [
    "# Exercise 86: The Twelve Days of Christmas\n",
    "\n",
    "def print_ordinal(num):\n",
    "    if num in range(1,13):\n",
    "        return {1:'First',2:'Second',3:'Third',4:'Forth',5:'Fifth',6:'Sixth',7:'Seventh',\n",
    "                8:'Eighth',9:'Nineth',10:'Tenth',11:'Eleventh',12:'Twelfth'}[num]\n",
    "\n",
    "def get_gift(gift_num):\n",
    "    return {2:'2개요,',3:'3개요,',4:'4개요,',5:'5개요,',6:'6개요,',7:'7개요,',\n",
    "                8:'8개요,',9:'9개요,',10:'10개요,',11:'11개요,',12:'12개요,'}[gift_num]\n",
    "\n",
    "def Lyrics(line):\n",
    "    word_list = []\n",
    "    ordinal = print_ordinal(line)\n",
    "    print(\"One the\",ordinal,\"day of Chrismas\")\n",
    "    print(\"my true love sent to me:\")\n",
    "    \n",
    "    if line is 1:\n",
    "        print(\"A partridge in a pear tree\")\n",
    "    else:\n",
    "        for i in range(line,1,-1):\n",
    "            print(get_gift(i))\n",
    "        print(\"And a partridge in a pear tree.\")"
   ]
  },
  {
   "cell_type": "code",
   "execution_count": 107,
   "metadata": {},
   "outputs": [
    {
     "name": "stdout",
     "output_type": "stream",
     "text": [
      "One the Tenth day of Chrismas\n",
      "my true love sent to me:\n",
      "10개요,\n",
      "9개요,\n",
      "8개요,\n",
      "7개요,\n",
      "6개요,\n",
      "5개요,\n",
      "4개요,\n",
      "3개요,\n",
      "2개요,\n",
      "And a partridge in a pear tree.\n"
     ]
    }
   ],
   "source": [
    "Lyrics(10)"
   ]
  }
 ],
 "metadata": {
  "kernelspec": {
   "display_name": "Python 3",
   "language": "python",
   "name": "python3"
  },
  "language_info": {
   "codemirror_mode": {
    "name": "ipython",
    "version": 3
   },
   "file_extension": ".py",
   "mimetype": "text/x-python",
   "name": "python",
   "nbconvert_exporter": "python",
   "pygments_lexer": "ipython3",
   "version": "3.6.5"
  }
 },
 "nbformat": 4,
 "nbformat_minor": 2
}
