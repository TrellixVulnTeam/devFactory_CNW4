{
 "cells": [
  {
   "cell_type": "markdown",
   "metadata": {},
   "source": [
    "# 20180706 필기"
   ]
  },
  {
   "cell_type": "markdown",
   "metadata": {},
   "source": [
    "분석만 하는 친구들은 Python + R / 개발 하는 친구들은 Python + Java\n",
    "\n",
    "연봉은 분석가<개발자\n",
    "\n",
    "분석은 진입장벽이 너무나 높아, 신입은 전 처리만 할 가능성이 높아"
   ]
  },
  {
   "cell_type": "markdown",
   "metadata": {},
   "source": [
    "### Class and Object\n",
    "객체지향 언어는 매우 중요하다\n",
    "  - 꼭 알아야할 패러다임. 객체지향!"
   ]
  },
  {
   "cell_type": "markdown",
   "metadata": {},
   "source": [
    "### Class\n",
    "- 객체 지향의 기본\n",
    "- 상태와 행위을 묶어서 관리한다. -> 재사용하기 편함 -> 생산성이 좋음 (함수는 행위만)\n",
    "   - 상속 / 확장 / 컴포지션 ..등등\n",
    "   \n",
    "- Attribute / Method < 젤 중요\n",
    "- class로 원형을 만들면 인스턴스화 한다.\n",
    "- Mutable 함"
   ]
  },
  {
   "cell_type": "markdown",
   "metadata": {},
   "source": [
    "#### 부록1) 클래스 이름 규칙 \n",
    "- 파스칼규칙! 대문자로 시작"
   ]
  },
  {
   "cell_type": "markdown",
   "metadata": {},
   "source": [
    "코드의 new style / old style\n",
    "- class A: / class A(Object):"
   ]
  },
  {
   "cell_type": "code",
   "execution_count": 13,
   "metadata": {},
   "outputs": [],
   "source": [
    "class A:\n",
    "    a = 3"
   ]
  },
  {
   "cell_type": "markdown",
   "metadata": {},
   "source": [
    "### 객체가 생성될 때, 초기화 할 때, 메모리에 올라왔을 때,\n",
    "- def __init__(self) 가 실행됨"
   ]
  },
  {
   "cell_type": "code",
   "execution_count": 59,
   "metadata": {},
   "outputs": [],
   "source": [
    "class A:\n",
    "    a = 3\n",
    "    def __init__(self,x):\n",
    "        self.__a=x\n",
    "        print('init')"
   ]
  },
  {
   "cell_type": "code",
   "execution_count": 63,
   "metadata": {},
   "outputs": [
    {
     "name": "stdout",
     "output_type": "stream",
     "text": [
      "init\n"
     ]
    }
   ],
   "source": [
    "aa = A(4)"
   ]
  },
  {
   "cell_type": "markdown",
   "metadata": {},
   "source": [
    "### def __init__(self):\n",
    "- 생성자의 역할을 함\n",
    "- python에서는 생성자를 한 개 밖에 못 만듬\n",
    "    - 기본 값을 넣는 방법으로 조절함"
   ]
  },
  {
   "cell_type": "code",
   "execution_count": 82,
   "metadata": {},
   "outputs": [],
   "source": [
    "class A:\n",
    "    __a = 3\n",
    "    def __init__(self,x=3):\n",
    "        self.__a=x\n",
    "        print('init')\n",
    "    def beau(self):\n",
    "        print('beautiful')\n",
    "    def __beau(self):\n",
    "        print('beautiful')"
   ]
  },
  {
   "cell_type": "code",
   "execution_count": 84,
   "metadata": {},
   "outputs": [
    {
     "name": "stdout",
     "output_type": "stream",
     "text": [
      "init\n"
     ]
    }
   ],
   "source": [
    "xxxx = A()"
   ]
  },
  {
   "cell_type": "markdown",
   "metadata": {},
   "source": [
    "외부에서는 접근 안되는 private! 내부에서만 접근이 된다"
   ]
  },
  {
   "cell_type": "code",
   "execution_count": 86,
   "metadata": {},
   "outputs": [
    {
     "ename": "AttributeError",
     "evalue": "'A' object has no attribute '__beau'",
     "output_type": "error",
     "traceback": [
      "\u001b[1;31m---------------------------------------------------------------------------\u001b[0m",
      "\u001b[1;31mAttributeError\u001b[0m                            Traceback (most recent call last)",
      "\u001b[1;32m<ipython-input-86-9147a4ba59c9>\u001b[0m in \u001b[0;36m<module>\u001b[1;34m()\u001b[0m\n\u001b[1;32m----> 1\u001b[1;33m \u001b[0mxxxx\u001b[0m\u001b[1;33m.\u001b[0m\u001b[0m__beau\u001b[0m\u001b[1;33m(\u001b[0m\u001b[1;33m)\u001b[0m\u001b[1;33m\u001b[0m\u001b[0m\n\u001b[0m",
      "\u001b[1;31mAttributeError\u001b[0m: 'A' object has no attribute '__beau'"
     ]
    }
   ],
   "source": [
    "xxxx.__beau()"
   ]
  },
  {
   "cell_type": "code",
   "execution_count": 87,
   "metadata": {},
   "outputs": [],
   "source": [
    "func = lambda self:self+1"
   ]
  },
  {
   "cell_type": "code",
   "execution_count": 88,
   "metadata": {},
   "outputs": [
    {
     "name": "stdout",
     "output_type": "stream",
     "text": [
      "init\n"
     ]
    }
   ],
   "source": [
    "yyy = A()"
   ]
  },
  {
   "cell_type": "code",
   "execution_count": 89,
   "metadata": {},
   "outputs": [],
   "source": [
    "yyy.func = func"
   ]
  },
  {
   "cell_type": "code",
   "execution_count": 91,
   "metadata": {},
   "outputs": [
    {
     "data": {
      "text/plain": [
       "['_A__a',\n",
       " '_A__beau',\n",
       " '__class__',\n",
       " '__delattr__',\n",
       " '__dict__',\n",
       " '__dir__',\n",
       " '__doc__',\n",
       " '__eq__',\n",
       " '__format__',\n",
       " '__ge__',\n",
       " '__getattribute__',\n",
       " '__gt__',\n",
       " '__hash__',\n",
       " '__init__',\n",
       " '__init_subclass__',\n",
       " '__le__',\n",
       " '__lt__',\n",
       " '__module__',\n",
       " '__ne__',\n",
       " '__new__',\n",
       " '__reduce__',\n",
       " '__reduce_ex__',\n",
       " '__repr__',\n",
       " '__setattr__',\n",
       " '__sizeof__',\n",
       " '__str__',\n",
       " '__subclasshook__',\n",
       " '__weakref__',\n",
       " 'beau',\n",
       " 'func']"
      ]
     },
     "execution_count": 91,
     "metadata": {},
     "output_type": "execute_result"
    }
   ],
   "source": [
    "dir(yyy)"
   ]
  },
  {
   "cell_type": "code",
   "execution_count": 83,
   "metadata": {
    "scrolled": true
   },
   "outputs": [
    {
     "name": "stdout",
     "output_type": "stream",
     "text": [
      "init\n"
     ]
    }
   ],
   "source": [
    "aa = A()"
   ]
  },
  {
   "cell_type": "code",
   "execution_count": 81,
   "metadata": {},
   "outputs": [
    {
     "ename": "AttributeError",
     "evalue": "'A' object has no attribute '__a'",
     "output_type": "error",
     "traceback": [
      "\u001b[1;31m---------------------------------------------------------------------------\u001b[0m",
      "\u001b[1;31mAttributeError\u001b[0m                            Traceback (most recent call last)",
      "\u001b[1;32m<ipython-input-81-6476a7098e61>\u001b[0m in \u001b[0;36m<module>\u001b[1;34m()\u001b[0m\n\u001b[1;32m----> 1\u001b[1;33m \u001b[0maa\u001b[0m\u001b[1;33m.\u001b[0m\u001b[0m__a\u001b[0m\u001b[1;33m\u001b[0m\u001b[0m\n\u001b[0m",
      "\u001b[1;31mAttributeError\u001b[0m: 'A' object has no attribute '__a'"
     ]
    }
   ],
   "source": [
    "aa.__a"
   ]
  },
  {
   "cell_type": "markdown",
   "metadata": {},
   "source": [
    "### python은 접근 제한자가 없다.\n",
    "- private, public, protected... 등등 없어\n",
    "- 하지만 변수에 '__'를 사용하면 private 개념으로 사용한다.\n",
    "- dir을 치면 맨 위에 생겨버림 ( 네임 멩글리 ? )\n",
    "\n",
    "### private\n",
    "- 외부에서는 접근이 안 됨. 내부에서만 접근 가능"
   ]
  },
  {
   "cell_type": "code",
   "execution_count": 53,
   "metadata": {},
   "outputs": [
    {
     "data": {
      "text/plain": [
       "['_A__a',\n",
       " '__class__',\n",
       " '__delattr__',\n",
       " '__dict__',\n",
       " '__dir__',\n",
       " '__doc__',\n",
       " '__eq__',\n",
       " '__format__',\n",
       " '__ge__',\n",
       " '__getattribute__',\n",
       " '__gt__',\n",
       " '__hash__',\n",
       " '__init__',\n",
       " '__init_subclass__',\n",
       " '__le__',\n",
       " '__lt__',\n",
       " '__module__',\n",
       " '__ne__',\n",
       " '__new__',\n",
       " '__reduce__',\n",
       " '__reduce_ex__',\n",
       " '__repr__',\n",
       " '__setattr__',\n",
       " '__sizeof__',\n",
       " '__str__',\n",
       " '__subclasshook__',\n",
       " '__weakref__',\n",
       " 'a',\n",
       " 'beau']"
      ]
     },
     "execution_count": 53,
     "metadata": {},
     "output_type": "execute_result"
    }
   ],
   "source": [
    "dir(aa)"
   ]
  },
  {
   "cell_type": "code",
   "execution_count": 40,
   "metadata": {},
   "outputs": [
    {
     "name": "stdout",
     "output_type": "stream",
     "text": [
      "beautiful\n"
     ]
    }
   ],
   "source": [
    "aa.beau()"
   ]
  },
  {
   "cell_type": "markdown",
   "metadata": {},
   "source": [
    "### Attribute를 동적으로 추가할 수 있음\n",
    "- Mutable 개념\n",
    "- 멤버변수도 추가할 수 있음\n",
    "### 근데 하지마셈"
   ]
  },
  {
   "cell_type": "code",
   "execution_count": 29,
   "metadata": {},
   "outputs": [],
   "source": [
    "aa.xx=\"윤성찬\""
   ]
  },
  {
   "cell_type": "code",
   "execution_count": 30,
   "metadata": {},
   "outputs": [
    {
     "data": {
      "text/plain": [
       "'윤성찬'"
      ]
     },
     "execution_count": 30,
     "metadata": {},
     "output_type": "execute_result"
    }
   ],
   "source": [
    "aa.xx"
   ]
  },
  {
   "cell_type": "markdown",
   "metadata": {},
   "source": [
    "xx가 추가되어 있음;\n",
    "- class는 mutable !"
   ]
  },
  {
   "cell_type": "markdown",
   "metadata": {},
   "source": [
    "### 부록2) 새로운 것이 나옴. 어떤걸 찾아야 할 까?\n",
    "- type\n",
    "- dir\n",
    "- vars"
   ]
  },
  {
   "cell_type": "code",
   "execution_count": 33,
   "metadata": {},
   "outputs": [
    {
     "data": {
      "text/plain": [
       "{'a': 3, 'xx': '윤성찬'}"
      ]
     },
     "execution_count": 33,
     "metadata": {},
     "output_type": "execute_result"
    }
   ],
   "source": [
    "vars(aa)"
   ]
  },
  {
   "cell_type": "markdown",
   "metadata": {},
   "source": [
    "- 메소드는 오버라이딩\n",
    "- 연산은 오버로딩"
   ]
  },
  {
   "cell_type": "code",
   "execution_count": 34,
   "metadata": {},
   "outputs": [
    {
     "data": {
      "text/plain": [
       "{'a': 3, 'xx': '윤성찬'}"
      ]
     },
     "execution_count": 34,
     "metadata": {},
     "output_type": "execute_result"
    }
   ],
   "source": [
    "aa.__dict__"
   ]
  },
  {
   "cell_type": "code",
   "execution_count": 31,
   "metadata": {},
   "outputs": [
    {
     "data": {
      "text/plain": [
       "['__class__',\n",
       " '__delattr__',\n",
       " '__dict__',\n",
       " '__dir__',\n",
       " '__doc__',\n",
       " '__eq__',\n",
       " '__format__',\n",
       " '__ge__',\n",
       " '__getattribute__',\n",
       " '__gt__',\n",
       " '__hash__',\n",
       " '__init__',\n",
       " '__init_subclass__',\n",
       " '__le__',\n",
       " '__lt__',\n",
       " '__module__',\n",
       " '__ne__',\n",
       " '__new__',\n",
       " '__reduce__',\n",
       " '__reduce_ex__',\n",
       " '__repr__',\n",
       " '__setattr__',\n",
       " '__sizeof__',\n",
       " '__str__',\n",
       " '__subclasshook__',\n",
       " '__weakref__',\n",
       " 'a',\n",
       " 'xx']"
      ]
     },
     "execution_count": 31,
     "metadata": {},
     "output_type": "execute_result"
    }
   ],
   "source": [
    "dir(aa)"
   ]
  },
  {
   "cell_type": "markdown",
   "metadata": {},
   "source": [
    "매직메소드 , 스페셜 메소드라고 함\n",
    "- python의 모든 객체는 object 객체를 상속 받음"
   ]
  },
  {
   "cell_type": "code",
   "execution_count": 68,
   "metadata": {},
   "outputs": [],
   "source": [
    "class A:\n",
    "    a = 3\n",
    "    def __init__(self,x=3):\n",
    "        self.a=x\n",
    "        print('init')\n",
    "    def beau(self):\n",
    "        print('beautiful')"
   ]
  },
  {
   "cell_type": "code",
   "execution_count": 70,
   "metadata": {},
   "outputs": [
    {
     "name": "stdout",
     "output_type": "stream",
     "text": [
      "init\n",
      "init\n"
     ]
    }
   ],
   "source": [
    "c = A()\n",
    "d = A(3)"
   ]
  },
  {
   "cell_type": "code",
   "execution_count": 72,
   "metadata": {},
   "outputs": [
    {
     "name": "stdout",
     "output_type": "stream",
     "text": [
      "beautiful\n",
      "beautiful\n"
     ]
    }
   ],
   "source": [
    "c.beau()\n",
    "d.beau()"
   ]
  },
  {
   "cell_type": "markdown",
   "metadata": {},
   "source": [
    "### python 은 요게 됨ㅋㅋ 개쩜"
   ]
  },
  {
   "cell_type": "code",
   "execution_count": 77,
   "metadata": {},
   "outputs": [
    {
     "name": "stdout",
     "output_type": "stream",
     "text": [
      "beautiful\n"
     ]
    }
   ],
   "source": [
    "A.beau(c)"
   ]
  },
  {
   "cell_type": "code",
   "execution_count": 92,
   "metadata": {},
   "outputs": [],
   "source": [
    "class Parrot:\n",
    "\n",
    "    # class attribute\n",
    "    species = \"bird\"\n",
    "\n",
    "    # instance attribute\n",
    "    def __init__(self, name, age):\n",
    "        self.name = name\n",
    "        self.age = age\n",
    "\n",
    "# instantiate the Parrot class\n",
    "blu = Parrot(\"Blu\", 10)\n",
    "woo = Parrot(\"Woo\", 15)"
   ]
  },
  {
   "cell_type": "code",
   "execution_count": 106,
   "metadata": {},
   "outputs": [
    {
     "name": "stdout",
     "output_type": "stream",
     "text": [
      "Blu is a bird\n",
      "Woo is also a bird\n",
      "Blu is 10 years old\n",
      "Woo is 15 years old\n"
     ]
    }
   ],
   "source": [
    "# access the class attributes\n",
    "print(\"Blu is a {}\".format(blu.__class__.species))\n",
    "print(\"Woo is also a {}\".format(woo.__class__.species))\n",
    "\n",
    "# access the instance attributes\n",
    "print(\"{} is {} years old\".format( blu.name, blu.age))\n",
    "print(\"{} is {} years old\".format( woo.name, woo.age))"
   ]
  },
  {
   "cell_type": "code",
   "execution_count": 94,
   "metadata": {},
   "outputs": [],
   "source": [
    "blu.species='birds2'"
   ]
  },
  {
   "cell_type": "code",
   "execution_count": 96,
   "metadata": {},
   "outputs": [
    {
     "data": {
      "text/plain": [
       "{'name': 'Blu', 'age': 10, 'species': 'birds2'}"
      ]
     },
     "execution_count": 96,
     "metadata": {},
     "output_type": "execute_result"
    }
   ],
   "source": [
    "blu.__dict__"
   ]
  },
  {
   "cell_type": "code",
   "execution_count": 100,
   "metadata": {},
   "outputs": [
    {
     "data": {
      "text/plain": [
       "'bird'"
      ]
     },
     "execution_count": 100,
     "metadata": {},
     "output_type": "execute_result"
    }
   ],
   "source": [
    "woo.species"
   ]
  },
  {
   "cell_type": "code",
   "execution_count": 101,
   "metadata": {},
   "outputs": [
    {
     "data": {
      "text/plain": [
       "{'name': 'Woo', 'age': 15}"
      ]
     },
     "execution_count": 101,
     "metadata": {},
     "output_type": "execute_result"
    }
   ],
   "source": [
    "woo.__dict__"
   ]
  },
  {
   "cell_type": "code",
   "execution_count": 99,
   "metadata": {},
   "outputs": [
    {
     "data": {
      "text/plain": [
       "{'name': 'Blu', 'age': 10, 'species': 'birds2'}"
      ]
     },
     "execution_count": 99,
     "metadata": {},
     "output_type": "execute_result"
    }
   ],
   "source": [
    "vars(blu)"
   ]
  },
  {
   "cell_type": "markdown",
   "metadata": {},
   "source": [
    "첫 번째 인자에는 self가 들어간다. 사실 self 안 써도됨;\n",
    "## ★★★★★★★★★★★★★★★★★★★★★★★★★★★★\n",
    "## 멤버 변수는 클래스 어트리뷰트와 인스턴스 어트리뷰트로 나눈다.\n",
    "- 클래스 어트리뷰트는 Static이라고 생각하면 된다.\n",
    "- 인스턴스 어트리뷰트는 인스턴스 된 상태에서만 사용할 수 있다.\n",
    "- 그래서 어트리뷰트는 인스턴스가 안되도 쓸 수 있대?????\n",
    "- 남아는 있는데, 접근할 때는 무조건 바뀐 값으로 남아 있다\n",
    "\n",
    "- 메소드 안에 선언되지 않은 것이 클래스 어트리뷰트\n",
    "- 메소드 안에 선언되는 것이 인스턴스 어트리뷰트\n",
    "\n",
    "- 인스턴스 메소드는 자기자신을 가리킴(this 같은 개념)\n",
    "- 자기자신.메소드명() 일 때, 첫 번째 인자를 생략\n",
    "- 클래스.메소드명() 일 때는 자기 자신을 넣어야 한다.\n",
    "- 인스턴스.--class--. 는 클래스와 같다\n",
    "\n",
    "## ★★★★★★★★★★★★★★★★★★★★★★★★★★★★"
   ]
  },
  {
   "cell_type": "code",
   "execution_count": 114,
   "metadata": {},
   "outputs": [],
   "source": [
    "찬 = Parrot('찬찬',30)"
   ]
  },
  {
   "cell_type": "code",
   "execution_count": 115,
   "metadata": {},
   "outputs": [
    {
     "data": {
      "text/plain": [
       "{'name': '찬찬', 'age': 30}"
      ]
     },
     "execution_count": 115,
     "metadata": {},
     "output_type": "execute_result"
    }
   ],
   "source": [
    "vars(찬)"
   ]
  },
  {
   "cell_type": "code",
   "execution_count": 117,
   "metadata": {},
   "outputs": [
    {
     "data": {
      "text/plain": [
       "'bird'"
      ]
     },
     "execution_count": 117,
     "metadata": {},
     "output_type": "execute_result"
    }
   ],
   "source": [
    "찬.species"
   ]
  },
  {
   "cell_type": "code",
   "execution_count": 118,
   "metadata": {},
   "outputs": [],
   "source": [
    "찬.species = 'bird2'"
   ]
  },
  {
   "cell_type": "code",
   "execution_count": 119,
   "metadata": {},
   "outputs": [
    {
     "data": {
      "text/plain": [
       "'bird2'"
      ]
     },
     "execution_count": 119,
     "metadata": {},
     "output_type": "execute_result"
    }
   ],
   "source": [
    "찬.species"
   ]
  },
  {
   "cell_type": "markdown",
   "metadata": {},
   "source": [
    "- 클래스 어트리뷰트는 사라진게 아니고 남아있고, 인스턴스 어트리뷰트만 바뀐 것이다.\n",
    "- 우선순위는 인스턴스 어트리뷰트가 더 우선이다.\n",
    "- self. 붙은애들은 인스턴스 어트리뷰트라고 함\n",
    "- 어트리뷰트는 몇 개? 3개임 (클래스 / 인스턴스로 나눠짐)"
   ]
  },
  {
   "cell_type": "code",
   "execution_count": 120,
   "metadata": {},
   "outputs": [
    {
     "data": {
      "text/plain": [
       "'bird'"
      ]
     },
     "execution_count": 120,
     "metadata": {},
     "output_type": "execute_result"
    }
   ],
   "source": [
    "찬.__class__.species"
   ]
  },
  {
   "cell_type": "code",
   "execution_count": 123,
   "metadata": {},
   "outputs": [
    {
     "data": {
      "text/plain": [
       "'bird'"
      ]
     },
     "execution_count": 123,
     "metadata": {},
     "output_type": "execute_result"
    }
   ],
   "source": [
    "찬.__class__.species"
   ]
  },
  {
   "cell_type": "markdown",
   "metadata": {},
   "source": [
    "## Methods"
   ]
  },
  {
   "cell_type": "code",
   "execution_count": 130,
   "metadata": {},
   "outputs": [
    {
     "name": "stdout",
     "output_type": "stream",
     "text": [
      "Blu sings 'Happy'\n",
      "Blu is now dancing\n"
     ]
    }
   ],
   "source": [
    "class Parrot:\n",
    "    \n",
    "    # instance attributes\n",
    "    def __init__(self, name, age):\n",
    "        self.name = name\n",
    "        self.age = age\n",
    "    \n",
    "    # instance method\n",
    "    def sing(self, song):\n",
    "        return \"{} sings {}\".format(self.name, song)\n",
    "\n",
    "    def dance(self):\n",
    "        return \"{} is now dancing\".format(self.name)\n",
    "\n",
    "# instantiate the object\n",
    "blu = Parrot(\"Blu\", 10)\n",
    "\n",
    "# call our instance methods\n",
    "print(blu.sing(\"'Happy'\"))\n",
    "print(blu.dance())"
   ]
  },
  {
   "cell_type": "markdown",
   "metadata": {},
   "source": [
    "### self 표기는 그냥 관례이다. convention이라고 함\n",
    "- 메소드의 첫 번째 인자는 자기 자신을 가리키는 아이다.\n",
    "- 관례상 self라고 쓰지만, 다른 거 써도됨ㅋㅋ하지만 권장사항임\n",
    "- 클래스 메소드는 관례상 cls를 사용한다."
   ]
  },
  {
   "cell_type": "code",
   "execution_count": 152,
   "metadata": {},
   "outputs": [],
   "source": [
    "class Parrot:\n",
    "    \n",
    "    # instance attributes\n",
    "    def __init__(selfaaa, name, age):\n",
    "        selfaaa.name = name\n",
    "        selfaaa.age = age\n",
    "    \n",
    "    # instance method\n",
    "    def sing(selfaaa, song):\n",
    "        return \"{} sings {}\".format(selfaaa.name, song)\n",
    "\n",
    "    def dance(selfaaa):\n",
    "        return \"{} is now dancing\".format(selfaaa.name)\n",
    "    \n",
    "    @classmethod    # 데코레이터라고 함\n",
    "    def dance2(cls):\n",
    "        return \"now dancing222\""
   ]
  },
  {
   "cell_type": "code",
   "execution_count": 155,
   "metadata": {},
   "outputs": [],
   "source": [
    "aa = Parrot('aaa', 26)"
   ]
  },
  {
   "cell_type": "code",
   "execution_count": 156,
   "metadata": {},
   "outputs": [
    {
     "name": "stdout",
     "output_type": "stream",
     "text": [
      "aaa sings 얍얍얍\n",
      "aaa is now dancing\n",
      "now dancing222\n"
     ]
    }
   ],
   "source": [
    "print(aa.sing('얍얍얍'))\n",
    "print(aa.dance())\n",
    "print(aa.dance2())"
   ]
  },
  {
   "cell_type": "markdown",
   "metadata": {},
   "source": [
    "클래스 메소드는 인자 없이 그냥 사용 가능함!"
   ]
  },
  {
   "cell_type": "code",
   "execution_count": 160,
   "metadata": {},
   "outputs": [
    {
     "name": "stdout",
     "output_type": "stream",
     "text": [
      "찬찬 sings 노래\n",
      "aaa is now dancing\n"
     ]
    },
    {
     "data": {
      "text/plain": [
       "'now dancing222'"
      ]
     },
     "execution_count": 160,
     "metadata": {},
     "output_type": "execute_result"
    }
   ],
   "source": [
    "print(Parrot.sing(찬,'노래'))\n",
    "print(Parrot.dance(aa))\n",
    "Parrot.dance2()"
   ]
  },
  {
   "cell_type": "code",
   "execution_count": 163,
   "metadata": {},
   "outputs": [
    {
     "data": {
      "text/plain": [
       "'now dancing222'"
      ]
     },
     "execution_count": 163,
     "metadata": {},
     "output_type": "execute_result"
    }
   ],
   "source": [
    "aa.__class__.dance2()"
   ]
  },
  {
   "cell_type": "code",
   "execution_count": 166,
   "metadata": {},
   "outputs": [
    {
     "data": {
      "text/plain": [
       "'aaa is now dancing'"
      ]
     },
     "execution_count": 166,
     "metadata": {},
     "output_type": "execute_result"
    }
   ],
   "source": [
    "aa.__class__.dance(aa)"
   ]
  },
  {
   "cell_type": "code",
   "execution_count": 126,
   "metadata": {},
   "outputs": [
    {
     "name": "stdout",
     "output_type": "stream",
     "text": [
      "Blu sings 'Happy'\n",
      "Blu is now dancing\n"
     ]
    }
   ],
   "source": [
    "# instantiate the object\n",
    "blu = Parrot(\"Blu\", 10)\n",
    "\n",
    "# call our instance methods\n",
    "print(blu.sing(\"'Happy'\"))\n",
    "print(blu.dance())"
   ]
  },
  {
   "cell_type": "code",
   "execution_count": 137,
   "metadata": {},
   "outputs": [
    {
     "ename": "AttributeError",
     "evalue": "'Parrot' object has no attribute 'dance'",
     "output_type": "error",
     "traceback": [
      "\u001b[1;31m---------------------------------------------------------------------------\u001b[0m",
      "\u001b[1;31mAttributeError\u001b[0m                            Traceback (most recent call last)",
      "\u001b[1;32m<ipython-input-137-4995e27d65e6>\u001b[0m in \u001b[0;36m<module>\u001b[1;34m()\u001b[0m\n\u001b[0;32m      1\u001b[0m \u001b[0mParrot\u001b[0m\u001b[1;33m.\u001b[0m\u001b[0msing\u001b[0m\u001b[1;33m(\u001b[0m\u001b[0m찬\u001b[0m\u001b[1;33m,\u001b[0m\u001b[1;34m'노래'\u001b[0m\u001b[1;33m)\u001b[0m\u001b[1;33m\u001b[0m\u001b[0m\n\u001b[1;32m----> 2\u001b[1;33m \u001b[0m찬\u001b[0m\u001b[1;33m.\u001b[0m\u001b[0mdance\u001b[0m\u001b[1;33m(\u001b[0m\u001b[1;33m)\u001b[0m\u001b[1;33m\u001b[0m\u001b[0m\n\u001b[0m",
      "\u001b[1;31mAttributeError\u001b[0m: 'Parrot' object has no attribute 'dance'"
     ]
    }
   ],
   "source": [
    "Parrot.sing(찬,'노래')\n",
    "찬.dance()"
   ]
  },
  {
   "cell_type": "markdown",
   "metadata": {},
   "source": [
    "웹개발 180 @ php 250 @ 스프링 350 @ ios/android 350 @ 분석 180~250"
   ]
  },
  {
   "cell_type": "markdown",
   "metadata": {},
   "source": [
    "### 객체지향의 특징\n",
    "- 상속, 확장, 내 임의로 변경가능!\n",
    "\n",
    "### Inheritance \n",
    "- 재사용 가능\n",
    "- 단일 상속 - 자바\n",
    "- 다중 상속 - c++\n",
    "\n",
    "가능한 다중 상속을 쓰지마셈\n",
    "\n",
    "아예 상속만 가능할 수 있게 하는 방법?\n",
    "- 추상클래스\n",
    "\n",
    "오버라이딩 : 부모의 행위를 바꿀 수 있음\n",
    "- 부모의 메소드의 이름을 그대로 가져와서 수정하면 됨\n",
    "\n",
    "부모의 성질을 다 가져오면 너무 커져서 권장하지 않음\n",
    "- 상속은 만능은 아니지만, 간단하게 확장시킬 수 있다.\n",
    "\n",
    "super()\n",
    "- 부모 것도 실행하고 내 것도 실행하게 만드는 것\n",
    "- 부모의 init 메소드 실행함\n",
    "\n",
    "super(매개변수) \n",
    "- 다중 상속 시에 어떤 부모의 것을 가져올 지 지정가능\n",
    "- 클래스의 매개변수 순서대로 상속을 받음 \n",
    "\n",
    "__mro__\n",
    "- 상속 순서를 보여줌"
   ]
  },
  {
   "cell_type": "code",
   "execution_count": 196,
   "metadata": {},
   "outputs": [],
   "source": [
    "# parent class\n",
    "# Attribute 0개\n",
    "class Bird:\n",
    "    \n",
    "    def __init__(self):\n",
    "        print(\"Bird is ready\")\n",
    "\n",
    "    def whoisThis(self):\n",
    "        print(\"Bird\")\n",
    "\n",
    "    def swim(self):\n",
    "        print(\"Swim faster\")"
   ]
  },
  {
   "cell_type": "code",
   "execution_count": 213,
   "metadata": {},
   "outputs": [],
   "source": [
    "# child class\n",
    "class Penguin(Bird):\n",
    "    def swim(self):\n",
    "        print(\"I can Swim\")\n",
    "\n",
    "    def __init__(self):\n",
    "        # call super() function\n",
    "        super(Penguin,self).__init__()\n",
    "        print(\"Penguin is ready\")\n",
    "\n",
    "#     def whoisThis(self):\n",
    "#         print(\"Penguin\")\n",
    "\n",
    "    def run(self):\n",
    "        print(\"Run faster\")"
   ]
  },
  {
   "cell_type": "code",
   "execution_count": 215,
   "metadata": {},
   "outputs": [
    {
     "name": "stdout",
     "output_type": "stream",
     "text": [
      "Bird is ready\n",
      "Penguin is ready\n",
      "Bird\n",
      "I can Swim\n",
      "Run faster\n"
     ]
    },
    {
     "ename": "AttributeError",
     "evalue": "'Penguin' object has no attribute '__mro__'",
     "output_type": "error",
     "traceback": [
      "\u001b[1;31m---------------------------------------------------------------------------\u001b[0m",
      "\u001b[1;31mAttributeError\u001b[0m                            Traceback (most recent call last)",
      "\u001b[1;32m<ipython-input-215-5254fd87bd38>\u001b[0m in \u001b[0;36m<module>\u001b[1;34m()\u001b[0m\n\u001b[0;32m      3\u001b[0m \u001b[0mpeggy\u001b[0m\u001b[1;33m.\u001b[0m\u001b[0mswim\u001b[0m\u001b[1;33m(\u001b[0m\u001b[1;33m)\u001b[0m\u001b[1;33m\u001b[0m\u001b[0m\n\u001b[0;32m      4\u001b[0m \u001b[0mpeggy\u001b[0m\u001b[1;33m.\u001b[0m\u001b[0mrun\u001b[0m\u001b[1;33m(\u001b[0m\u001b[1;33m)\u001b[0m\u001b[1;33m\u001b[0m\u001b[0m\n\u001b[1;32m----> 5\u001b[1;33m \u001b[0mpeggy\u001b[0m\u001b[1;33m.\u001b[0m\u001b[0m__mro__\u001b[0m\u001b[1;33m\u001b[0m\u001b[0m\n\u001b[0m",
      "\u001b[1;31mAttributeError\u001b[0m: 'Penguin' object has no attribute '__mro__'"
     ]
    }
   ],
   "source": [
    "peggy = Penguin()\n",
    "peggy.whoisThis()\n",
    "peggy.swim()\n",
    "peggy.run()\n",
    "peggy.__mro__"
   ]
  },
  {
   "cell_type": "markdown",
   "metadata": {},
   "source": [
    "## Encapsulation"
   ]
  },
  {
   "cell_type": "code",
   "execution_count": 225,
   "metadata": {},
   "outputs": [
    {
     "name": "stdout",
     "output_type": "stream",
     "text": [
      "Selling Price: 900\n",
      "Selling Price: 900\n",
      "Selling Price: 1000\n"
     ]
    }
   ],
   "source": [
    "class Computer:\n",
    "\n",
    "    def __init__(self):\n",
    "        self.__maxprice = 900\n",
    "\n",
    "    def sell(self):\n",
    "        print(\"Selling Price: {}\".format(self.__maxprice))\n",
    "\n",
    "    def setMaxPrice(self, price):\n",
    "        self.__maxprice = price\n",
    "\n",
    "c = Computer()\n",
    "c.sell()\n",
    "\n",
    "# change the price\n",
    "c.__maxprice = 1000\n",
    "c.sell()\n",
    "\n",
    "# using setter function\n",
    "c.setMaxPrice(1000)\n",
    "c.sell()"
   ]
  },
  {
   "cell_type": "code",
   "execution_count": 226,
   "metadata": {},
   "outputs": [
    {
     "data": {
      "text/plain": [
       "{'_Computer__maxprice': 1000, '__maxprice': 1000}"
      ]
     },
     "execution_count": 226,
     "metadata": {},
     "output_type": "execute_result"
    }
   ],
   "source": [
    "vars(c)"
   ]
  },
  {
   "cell_type": "code",
   "execution_count": 228,
   "metadata": {},
   "outputs": [
    {
     "data": {
      "text/plain": [
       "{'_Computer__maxprice': 1000, '__maxprice': 1000}"
      ]
     },
     "execution_count": 228,
     "metadata": {},
     "output_type": "execute_result"
    }
   ],
   "source": [
    "_226"
   ]
  },
  {
   "cell_type": "code",
   "execution_count": 232,
   "metadata": {},
   "outputs": [
    {
     "data": {
      "text/plain": [
       "{'__name__': '__main__',\n",
       " '__doc__': 'Automatically created module for IPython interactive environment',\n",
       " '__package__': None,\n",
       " '__loader__': None,\n",
       " '__spec__': None,\n",
       " '__builtin__': <module 'builtins' (built-in)>,\n",
       " '__builtins__': <module 'builtins' (built-in)>,\n",
       " '_ih': ['',\n",
       "  'class ',\n",
       "  'class A:\\n    a = 3\\n    ',\n",
       "  'class A:\\n    a = 3',\n",
       "  'aa = A()',\n",
       "  'aa',\n",
       "  'type(aa)',\n",
       "  'dir(aa)',\n",
       "  'type(A)',\n",
       "  'type 을 쳤는데 type이 나온다?',\n",
       "  'type(aa)',\n",
       "  'dir(aa)',\n",
       "  'aa.a',\n",
       "  'class A:\\n    a = 3',\n",
       "  \"class A:\\n    a = 3\\n    def __init__(self):\\n        print('init')\",\n",
       "  'aa = A()',\n",
       "  'aa.a',\n",
       "  \"class A:\\n    a = 3\\n    def __init__(self,x):\\n        self.a=x\\n        print('init')\",\n",
       "  'aa = A()',\n",
       "  'aa = A(3)',\n",
       "  \"class A:\\n    a = 3\\n    def __init__(self,x):\\n        self.a=x\\n        print('init')\\n        print(a)\",\n",
       "  'aa = A(3)',\n",
       "  \"class A:\\n    a = 3\\n    def __init__(self,x):\\n        self.a=x\\n        print('init')\\n        print(self.a)\",\n",
       "  'aa = A(3)',\n",
       "  \"class A:\\n    a = 3\\n    def __init__(self,x,y):\\n        self.a=x\\n        print('init')\\n        print(self.a,y)\",\n",
       "  'aa = A(3,4)',\n",
       "  \"class A:\\n    a = 3\\n    def __init__(self,x=3):\\n        self.a=x\\n        print('init')\",\n",
       "  'aa = A()',\n",
       "  'aa.xx=\"윤성ㅊ나\"',\n",
       "  'aa.xx=\"윤성찬\"',\n",
       "  'aa.xx',\n",
       "  'dir(aa)',\n",
       "  'vars(aa)',\n",
       "  'vars(aa)',\n",
       "  'aa.__dict__',\n",
       "  \"class A:\\n    a = 3\\n    def __init__(self,x=3):\\n        self.a=x\\n        print('init')\\n    def beua(self):\\n        print('beautiful')\",\n",
       "  'aa = A()',\n",
       "  \"class A:\\n    a = 3\\n    def __init__(self,x=3):\\n        self.a=x\\n        print('init')\\n    def beau(self):\\n        print('beautiful')\",\n",
       "  'aa = A()',\n",
       "  'aa.beau()',\n",
       "  'aa.beau()',\n",
       "  'import keyword',\n",
       "  'keyword.iskeyword',\n",
       "  'keyword.iskeyword()',\n",
       "  'keyword.iskeyword',\n",
       "  'keyword.kwlist',\n",
       "  'keyword.xx = 3',\n",
       "  'keyword.xx',\n",
       "  'dir(keyword)',\n",
       "  'del keyword.xx',\n",
       "  'dir(keyword)',\n",
       "  \"class A:\\n    __a = 3\\n    def __init__(self,x=3):\\n        self.a=x\\n        print('init')\\n    def beau(self):\\n        print('beautiful')\",\n",
       "  'aa = A()',\n",
       "  'dir(aa)',\n",
       "  'aa.__a',\n",
       "  \"class A:\\n    a = 3\\n    def __init__(self,x):\\n        self.__a=x\\n        print('init')\\n        print(self.__a)\",\n",
       "  'aa = A(3,4)',\n",
       "  \"class A:\\n    a = 3\\n    def __init__(self,x):\\n        self.__a=x\\n        print('init')\",\n",
       "  'aa = A(3,4)',\n",
       "  \"class A:\\n    a = 3\\n    def __init__(self,x):\\n        self.__a=x\\n        print('init')\",\n",
       "  'aa = A(4)',\n",
       "  'aa.__a',\n",
       "  'aa = A(4)\\nd = A()',\n",
       "  'aa = A(4)',\n",
       "  'aa = A()\\nd = A(2)',\n",
       "  'aa = A()',\n",
       "  \"class A:\\n    __a = 3\\n    def __init__(self,x=3):\\n        self.a=x\\n        print('init')\\n    def beau(self):\\n        print('beautiful')\",\n",
       "  'aa = A()',\n",
       "  \"class A:\\n    a = 3\\n    def __init__(self,x=3):\\n        self.a=x\\n        print('init')\\n    def beau(self):\\n        print('beautiful')\",\n",
       "  'c = A()',\n",
       "  'c = A()\\nd = A(3)',\n",
       "  'c.beau()',\n",
       "  'c.beau()\\nd.beau()',\n",
       "  'A.beau(c)',\n",
       "  \"class A:\\n    __a = 3\\n    def __init__(self,x=3):\\n        self.__a=x\\n        print('init')\\n    def beau(self):\\n        print('beautiful')\",\n",
       "  'aa = A()',\n",
       "  'aa.__a',\n",
       "  'A.beau(c)',\n",
       "  'aa.__a()',\n",
       "  'aa.__a',\n",
       "  'aa = A()',\n",
       "  'aa.__a',\n",
       "  \"class A:\\n    __a = 3\\n    def __init__(self,x=3):\\n        self.__a=x\\n        print('init')\\n    def beau(self):\\n        print('beautiful')\\n    def __beau(self):\\n        print('beautiful')\",\n",
       "  'aa = A()',\n",
       "  'xxxx = A()',\n",
       "  'dir(xxxx)',\n",
       "  'xxxx.__beau()',\n",
       "  'func = lambda self:self+1',\n",
       "  'yyy = A()',\n",
       "  'yyy.func = func',\n",
       "  'A.func(yyy)',\n",
       "  'dir(yyy)',\n",
       "  'class Parrot:\\n\\n    # class attribute\\n    species = \"bird\"\\n\\n    # instance attribute\\n    def __init__(self, name, age):\\n        self.name = name\\n        self.age = age\\n\\n# instantiate the Parrot class\\nblu = Parrot(\"Blu\", 10)\\nwoo = Parrot(\"Woo\", 15)',\n",
       "  '# access the class attributes\\nprint(\"Blu is a {}\".format(blu.__class__.species))\\nprint(\"Woo is also a {}\".format(woo.__class__.species))\\n\\n# access the instance attributes\\nprint(\"{} is {} years old\".format( blu.name, blu.age))\\nprint(\"{} is {} years old\".format( woo.name, woo.age))',\n",
       "  \"blu.species='birds2'\",\n",
       "  'blu._dict__',\n",
       "  'blu.__dict__',\n",
       "  'woo.species',\n",
       "  'var(blu)',\n",
       "  'vars(blu)',\n",
       "  'woo.species',\n",
       "  'woo.__dict__',\n",
       "  'blu.species',\n",
       "  'woo.species',\n",
       "  'Parrot.species',\n",
       "  'Parrot.name',\n",
       "  '# access the class attributes\\nprint(\"Blu is a {}\".format(blu.__class__.species))\\nprint(\"Woo is also a {}\".format(woo.__class__.species))\\n\\n# access the instance attributes\\nprint(\"{} is {} years old\".format( blu.name, blu.age))\\nprint(\"{} is {} years old\".format( woo.name, woo.age))',\n",
       "  \"찬 = Parrot('찬찬',30)\",\n",
       "  'vars(찬)',\n",
       "  '찬.species',\n",
       "  '찬.species',\n",
       "  \"찬.species = 'bird2'\",\n",
       "  '찬.species',\n",
       "  \"찬.species = 'bird2'\",\n",
       "  \"찬 = Parrot('찬찬',30)\",\n",
       "  'vars(찬)',\n",
       "  '찬.species',\n",
       "  '찬.species',\n",
       "  \"찬.species = 'bird2'\",\n",
       "  '찬.species',\n",
       "  '찬.__class__.species',\n",
       "  '찬.__class__',\n",
       "  '찬.__class__.mro',\n",
       "  '찬.__class__.species',\n",
       "  'class Parrot:\\n    \\n    # instance attributes\\n    def __init__(self, name, age):\\n        self.name = name\\n        self.age = age\\n    \\n    # instance method\\n    def sing(self, song):\\n        return \"{} sings {}\".format(self.name, song)\\n\\n    def dance(self):\\n        return \"{} is now dancing\".format(self.name)\\n\\n# instantiate the object\\nblu = Parrot(\"Blu\", 10)\\n\\n# call our instance methods\\nprint(blu.sing(\"\\'Happy\\'\"))\\nprint(blu.dance())',\n",
       "  'class Parrot:\\n    \\n    # instance attributes\\n    def __init__(self1, name, age):\\n        self1.name = name\\n        self1.age = age\\n    \\n    # instance method\\n    def sing(self, song):\\n        return \"{} sings {}\".format(self.name, song)\\n\\n    def dance(self):\\n        return \"{} is now dancing\".format(self.name)\\n\\n# instantiate the object\\nblu = Parrot(\"Blu\", 10)\\n\\n# call our instance methods\\nprint(blu.sing(\"\\'Happy\\'\"))\\nprint(blu.dance())',\n",
       "  'class Parrot:\\n    \\n    # instance attributes\\n    def __init__(selfaaa, name, age):\\n        selfaaa.name = name\\n        selfaaa.age = age\\n    \\n    # instance method\\n    def sing(selfaaa, song):\\n        return \"{} sings {}\".format(selfaaa.name, song)\\n\\n    def dance(selfaaa):\\n        return \"{} is now dancing\".format(selfaaa.name)\\n\\n# instantiate the object\\nblu = Parrot(\"Blu\", 10)\\n\\n# call our instance methods\\nprint(blu.sing(\"\\'Happy\\'\"))\\nprint(blu.dance())',\n",
       "  \"Parrot.sing(찬찬,'노래')\",\n",
       "  \"Parrot.sing(찬,'노래')\",\n",
       "  \"Parrot.sing(찬,'노래')\\n찬.sing('노래')\",\n",
       "  'class Parrot:\\n    \\n    # instance attributes\\n    def __init__(self, name, age):\\n        self.name = name\\n        self.age = age\\n    \\n    # instance method\\n    def sing(self, song):\\n        return \"{} sings {}\".format(self.name, song)\\n\\n    def dance(self):\\n        return \"{} is now dancing\".format(self.name)\\n\\n# instantiate the object\\nblu = Parrot(\"Blu\", 10)\\n\\n# call our instance methods\\nprint(blu.sing(\"\\'Happy\\'\"))\\nprint(blu.dance())',\n",
       "  \"Parrot.sing(찬,'노래')\\n찬.sing('노래')\",\n",
       "  \"Parrot.sing(찬,'노래')\",\n",
       "  'AA = Parrot()',\n",
       "  'class Parrot:\\n    \\n    # instance attributes\\n    def __init__(selfaaa, name, age):\\n        selfaaa.name = name\\n        selfaaa.age = age\\n    \\n    # instance method\\n    def sing(selfaaa, song):\\n        return \"{} sings {}\".format(selfaaa.name, song)\\n\\n    def dance(selfaaa):\\n        return \"{} is now dancing\".format(selfaaa.name)',\n",
       "  \"aa = Parrot('aaa', 26)\",\n",
       "  'aa.dance()',\n",
       "  \"Parrot.sing(찬,'노래')\\n찬.dance()\",\n",
       "  \"aa.sing('얍얍얍')\\naa.dance()\",\n",
       "  \"aa = Parrot('aaa', 26)\",\n",
       "  \"aa.sing('얍얍얍')\\naa.dance()\",\n",
       "  \"print(aa.sing('얍얍얍'))\\naa.dance()\",\n",
       "  \"print(aa.sing('얍얍얍'))\\nprint(aa.dance())\",\n",
       "  \"Parrot.sing(찬,'노래')\",\n",
       "  \"Parrot.sing(찬,'노래')\\nParrot.dance()\",\n",
       "  \"Parrot.sing(찬,'노래')\\nParrot.dance(?)\",\n",
       "  \"Parrot.sing(찬,'노래')\\nParrot.dance('?'')\",\n",
       "  \"Parrot.sing(찬,'노래')\\nParrot.dance('?')\",\n",
       "  \"Parrot.sing(찬,'노래')\\nParrot.dance('aa')\",\n",
       "  \"Parrot.sing(찬,'노래')\\nParrot.dance()\",\n",
       "  \"Parrot.sing(찬,'노래')\\nParrot.dance(self)\",\n",
       "  \"Parrot.sing(찬,'노래')\\nParrot.dance(찬)\",\n",
       "  'class Parrot:\\n    \\n    # instance attributes\\n    def __init__(selfaaa, name, age):\\n        selfaaa.name = name\\n        selfaaa.age = age\\n    \\n    # instance method\\n    def sing(selfaaa, song):\\n        return \"{} sings {}\".format(selfaaa.name, song)\\n\\n    def dance(selfaaa):\\n        return \"{} is now dancing\".format(selfaaa.name)\\n    \\n    @classmethod    # 데코레이터라고 함\\n    def dance2(cls):\\n        return \"now dancing222\"',\n",
       "  \"print(Parrot.sing(찬,'노래'))\\nprint(Parrot.dance(찬))\",\n",
       "  \"print(aa.sing('얍얍얍'))\\nprint(aa.dance())\\nprint(aa.dance2())\",\n",
       "  \"aa = Parrot('aaa', 26)\",\n",
       "  \"print(aa.sing('얍얍얍'))\\nprint(aa.dance())\\nprint(aa.dance2())\",\n",
       "  \"print(Parrot.sing(찬,'노래'))\\nprint(Parrot.dance(AA))\",\n",
       "  \"print(Parrot.sing(찬,'노래'))\\nprint(Parrot.dance(a))\",\n",
       "  \"print(Parrot.sing(찬,'노래'))\\nprint(Parrot.dance(aa))\",\n",
       "  \"print(Parrot.sing(찬,'노래'))\\nprint(Parrot.dance(aa))\\nParrot.dance2()\",\n",
       "  'aa.__class__.dance2',\n",
       "  'aa.__class__.dance2()',\n",
       "  'aa.__class__.dance2()',\n",
       "  'aa.__class__.dance()',\n",
       "  'aa.__class__.dance(\"zz\")',\n",
       "  'aa.__class__.dance(aa)',\n",
       "  '# parent class\\nclass Bird:\\n    \\n    def __init__(self):\\n        print(\"Bird is ready\")\\n\\n    def whoisThis(self):\\n        print(\"Bird\")\\n\\n    def swim(self):\\n        print(\"Swim faster\")\\n\\n# child class\\nclass Penguin(Bird):\\n\\n    def __init__(self):\\n        # call super() function\\n        super().__init__()\\n        print(\"Penguin is ready\")\\n\\n    def whoisThis(self):\\n        print(\"Penguin\")\\n\\n    def run(self):\\n        print(\"Run faster\")\\n\\npeggy = Penguin()\\npeggy.whoisThis()\\npeggy.swim()\\npeggy.run()',\n",
       "  '# parent class\\n# Attribute 0개\\nclass Bird:\\n    \\n    def __init__(self):\\n        print(\"Bird is ready\")\\n\\n    def whoisThis(self):\\n        print(\"Bird\")\\n\\n    def swim(self):\\n        print(\"Swim faster\")\\n\\n# child class\\nclass Penguin(Bird):\\n\\n    def __init__(self):\\n        # call super() function\\n        super().__init__()\\n        print(\"Penguin is ready\")\\n\\n    def whoisThis(self):\\n        print(\"Penguin\")\\n\\n    def run(self):\\n        print(\"Run faster\")\\n\\npeggy = Penguin()\\npeggy.whoisThis()\\npeggy.swim()\\npeggy.run()',\n",
       "  '# parent class\\n# Attribute 0개\\nclass Bird:\\n    pass  \\n#     def __init__(self):\\n#         print(\"Bird is ready\")\\n\\n#     def whoisThis(self):\\n#         print(\"Bird\")\\n\\n#     def swim(self):\\n#         print(\"Swim faster\")\\n\\n# child class\\nclass Penguin(Bird):\\n\\n    def __init__(self):\\n        # call super() function\\n        super().__init__()\\n        print(\"Penguin is ready\")\\n\\n    def whoisThis(self):\\n        print(\"Penguin\")\\n\\n    def run(self):\\n        print(\"Run faster\")\\n\\npeggy = Penguin()\\npeggy.whoisThis()\\npeggy.swim()\\npeggy.run()',\n",
       "  '# parent class\\n# Attribute 0개\\nclass Bird:\\n    \\n    def __init__(self):\\n        print(\"Bird is ready\")\\n\\n    def whoisThis(self):\\n        print(\"Bird\")\\n\\n    def swim(self):\\n        print(\"Swim faster\")',\n",
       "  '# child class\\nclass Penguin(Bird):\\n    pass\\n#     def __init__(self):\\n#         # call super() function\\n#         super().__init__()\\n#         print(\"Penguin is ready\")\\n\\n#     def whoisThis(self):\\n#         print(\"Penguin\")\\n\\n#     def run(self):\\n#         print(\"Run faster\")\\n\\npeggy = Penguin()\\npeggy.whoisThis()\\npeggy.swim()\\npeggy.run()',\n",
       "  'dir(Penguin)',\n",
       "  '# child class\\nclass Penguin(Bird):\\n    pass\\n#     def __init__(self):\\n#         # call super() function\\n#         super().__init__()\\n#         print(\"Penguin is ready\")\\n\\n#     def whoisThis(self):\\n#         print(\"Penguin\")\\n\\n#     def run(self):\\n#         print(\"Run faster\")\\n\\npeggy = Penguin()\\npeggy.whoisThis()\\n# peggy.swim()\\n# peggy.run()',\n",
       "  '# child class\\nclass Penguin(Bird):\\n    def swim(self):\\n        print(\"I can Swim\")\\n#     def __init__(self):\\n#         # call super() function\\n#         super().__init__()\\n#         print(\"Penguin is ready\")\\n\\n#     def whoisThis(self):\\n#         print(\"Penguin\")\\n\\n#     def run(self):\\n#         print(\"Run faster\")\\n\\npeggy = Penguin()\\npeggy.whoisThis()\\n# peggy.swim()\\n# peggy.run()',\n",
       "  '# child class\\nclass Penguin(Bird):\\n    def swim(self):\\n        print(\"I can Swim\")\\n#     def __init__(self):\\n#         # call super() function\\n#         super().__init__()\\n#         print(\"Penguin is ready\")\\n\\n#     def whoisThis(self):\\n#         print(\"Penguin\")\\n\\n#     def run(self):\\n#         print(\"Run faster\")\\n\\npeggy = Penguin()\\npeggy.whoisThis()\\npeggy.swim()\\n# peggy.run()',\n",
       "  '# child class\\nclass Penguin(Bird):\\n    def swim(self):\\n        print(\"I can Swim\")\\n#     def __init__(self):\\n#         # call super() function\\n#         super().__init__()\\n#         print(\"Penguin is ready\")\\n\\n#     def whoisThis(self):\\n#         print(\"Penguin\")\\n\\n    def run(self):\\n        print(\"Run faster\")\\n\\npeggy = Penguin()\\npeggy.whoisThis()\\npeggy.swim()\\npeggy.run()',\n",
       "  'dir(Penguin)',\n",
       "  '# child class\\nclass Penguin(Bird):\\n    def swim(self):\\n        print(\"I can Swim\")\\n#     def __init__(self):\\n#         # call super() function\\n#         super().__init__()\\n#         print(\"Penguin is ready\")\\n\\n#     def whoisThis(self):\\n#         print(\"Penguin\")\\n\\n    def run(self):\\n        print(\"Run faster\")',\n",
       "  'peggy = Penguin()\\npeggy.whoisThis()\\npeggy.swim()\\npeggy.run()',\n",
       "  '# child class\\nclass Penguin(Bird):\\n    def swim(self):\\n        print(\"I can Swim\")\\n\\n    def __init__(self):\\n        # call super() function\\n        super().__init__()\\n        print(\"Penguin is ready\")\\n\\n#     def whoisThis(self):\\n#         print(\"Penguin\")\\n\\n    def run(self):\\n        print(\"Run faster\")',\n",
       "  'peggy = Penguin()\\npeggy.whoisThis()\\npeggy.swim()\\npeggy.run()',\n",
       "  '# child class\\nclass Penguin(Bird):\\n    def swim(self):\\n        print(\"I can Swim\")\\n\\n    def __init__(self):\\n        # call super() function\\n#         super().__init__()\\n        print(\"Penguin is ready\")\\n\\n#     def whoisThis(self):\\n#         print(\"Penguin\")\\n\\n    def run(self):\\n        print(\"Run faster\")',\n",
       "  'peggy = Penguin()\\npeggy.whoisThis()\\npeggy.swim()\\npeggy.run()',\n",
       "  '# child class\\nclass Penguin(Bird):\\n    def swim(self):\\n        print(\"I can Swim\")\\n\\n    def __init__(self):\\n        # call super() function\\n        super().__init__()\\n        print(\"Penguin is ready\")\\n\\n#     def whoisThis(self):\\n#         print(\"Penguin\")\\n\\n    def run(self):\\n        print(\"Run faster\")',\n",
       "  'peggy = Penguin()\\npeggy.whoisThis()\\npeggy.swim()\\npeggy.run()',\n",
       "  '# child class\\nclass Penguin(Bird):\\n    def swim(self):\\n        print(\"I can Swim\")\\n\\n    def __init__(self):\\n        # call super() function\\n        super(Bird).__init__()\\n        print(\"Penguin is ready\")\\n\\n#     def whoisThis(self):\\n#         print(\"Penguin\")\\n\\n    def run(self):\\n        print(\"Run faster\")',\n",
       "  'peggy = Penguin()\\npeggy.whoisThis()\\npeggy.swim()\\npeggy.run()',\n",
       "  '# child class\\nclass Penguin(Bird):\\n    def swim(self):\\n        print(\"I can Swim\")\\n\\n    def __init__(self):\\n        # call super() function\\n        super(Penguin).__init__()\\n        print(\"Penguin is ready\")\\n\\n#     def whoisThis(self):\\n#         print(\"Penguin\")\\n\\n    def run(self):\\n        print(\"Run faster\")',\n",
       "  'peggy = Penguin()\\npeggy.whoisThis()\\npeggy.swim()\\npeggy.run()',\n",
       "  '# child class\\nclass Penguin(Bird):\\n    def swim(self):\\n        print(\"I can Swim\")\\n\\n    def __init__(self):\\n        # call super() function\\n        super().__init__()\\n        print(\"Penguin is ready\")\\n\\n#     def whoisThis(self):\\n#         print(\"Penguin\")\\n\\n    def run(self):\\n        print(\"Run faster\")',\n",
       "  'peggy = Penguin()\\npeggy.whoisThis()\\npeggy.swim()\\npeggy.run()',\n",
       "  '# child class\\nclass Penguin(Bird):\\n    def swim(self):\\n        print(\"I can Swim\")\\n\\n    def __init__(self):\\n        # call super() function\\n        super(Penguin, self).__init__()\\n        print(\"Penguin is ready\")\\n\\n#     def whoisThis(self):\\n#         print(\"Penguin\")\\n\\n    def run(self):\\n        print(\"Run faster\")',\n",
       "  'peggy = Penguin()\\npeggy.whoisThis()\\npeggy.swim()\\npeggy.run()',\n",
       "  '# child class\\nclass Penguin(Bird):\\n    def swim(self):\\n        print(\"I can Swim\")\\n\\n    def __init__(self):\\n        # call super() function\\n        super(Penguin).__init__()\\n        print(\"Penguin is ready\")\\n\\n#     def whoisThis(self):\\n#         print(\"Penguin\")\\n\\n    def run(self):\\n        print(\"Run faster\")',\n",
       "  'peggy = Penguin()\\npeggy.whoisThis()\\npeggy.swim()\\npeggy.run()',\n",
       "  '# parent class\\n# Attribute 0개\\nclass Bird:\\n    \\n    def __init__(self):\\n        print(\"Bird is ready\")\\n\\n    def whoisThis(self):\\n        print(\"Bird\")\\n\\n    def swim(self):\\n        print(\"Swim faster\")',\n",
       "  '# child class\\nclass Penguin(Bird):\\n    def swim(self):\\n        print(\"I can Swim\")\\n\\n    def __init__(self):\\n        # call super() function\\n        super(Penguin).__init__()\\n        print(\"Penguin is ready\")\\n\\n#     def whoisThis(self):\\n#         print(\"Penguin\")\\n\\n    def run(self):\\n        print(\"Run faster\")',\n",
       "  'peggy = Penguin()\\npeggy.whoisThis()\\npeggy.swim()\\npeggy.run()',\n",
       "  '# child class\\nclass Penguin(Bird):\\n    def swim(self):\\n        print(\"I can Swim\")\\n\\n    def __init__(self):\\n        # call super() function\\n        super().__init__()\\n        print(\"Penguin is ready\")\\n\\n#     def whoisThis(self):\\n#         print(\"Penguin\")\\n\\n    def run(self):\\n        print(\"Run faster\")',\n",
       "  'peggy = Penguin()\\npeggy.whoisThis()\\npeggy.swim()\\npeggy.run()',\n",
       "  '# child class\\nclass Penguin(Bird):\\n    def swim(self):\\n        print(\"I can Swim\")\\n\\n    def __init__(self):\\n        # call super() function\\n        super(Bird).__init__()\\n        print(\"Penguin is ready\")\\n\\n#     def whoisThis(self):\\n#         print(\"Penguin\")\\n\\n    def run(self):\\n        print(\"Run faster\")',\n",
       "  'peggy = Penguin()\\npeggy.whoisThis()\\npeggy.swim()\\npeggy.run()',\n",
       "  '# child class\\nclass Penguin(Bird):\\n    def swim(self):\\n        print(\"I can Swim\")\\n\\n    def __init__(self):\\n        # call super() function\\n        super().__init__()\\n        print(\"Penguin is ready\")\\n\\n#     def whoisThis(self):\\n#         print(\"Penguin\")\\n\\n    def run(self):\\n        print(\"Run faster\")',\n",
       "  'peggy = Penguin()\\npeggy.whoisThis()\\npeggy.swim()\\npeggy.run()',\n",
       "  '# child class\\nclass Penguin(Bird):\\n    def swim(self):\\n        print(\"I can Swim\")\\n\\n    def __init__(self):\\n        # call super() function\\n        super(Penguin).__init__()\\n        print(\"Penguin is ready\")\\n\\n#     def whoisThis(self):\\n#         print(\"Penguin\")\\n\\n    def run(self):\\n        print(\"Run faster\")',\n",
       "  'peggy = Penguin()\\npeggy.whoisThis()\\npeggy.swim()\\npeggy.run()',\n",
       "  '# child class\\nclass Penguin(Bird):\\n    def swim(self):\\n        print(\"I can Swim\")\\n\\n    def __init__(self):\\n        # call super() function\\n        super(Bird, self).__init__()\\n        print(\"Penguin is ready\")\\n\\n#     def whoisThis(self):\\n#         print(\"Penguin\")\\n\\n    def run(self):\\n        print(\"Run faster\")',\n",
       "  'peggy = Penguin()\\npeggy.whoisThis()\\npeggy.swim()\\npeggy.run()',\n",
       "  '# child class\\nclass Penguin(Bird):\\n    def swim(self):\\n        print(\"I can Swim\")\\n\\n    def __init__(self):\\n        # call super() function\\n        super(Penguin, self).__init__()\\n        print(\"Penguin is ready\")\\n\\n#     def whoisThis(self):\\n#         print(\"Penguin\")\\n\\n    def run(self):\\n        print(\"Run faster\")',\n",
       "  'peggy = Penguin()\\npeggy.whoisThis()\\npeggy.swim()\\npeggy.run()',\n",
       "  '# child class\\nclass Penguin(Bird):\\n    def swim(self):\\n        print(\"I can Swim\")\\n\\n    def __init__(self):\\n        # call super() function\\n        super(Penguin).__init__()\\n        print(\"Penguin is ready\")\\n\\n#     def whoisThis(self):\\n#         print(\"Penguin\")\\n\\n    def run(self):\\n        print(\"Run faster\")',\n",
       "  'peggy = Penguin()\\npeggy.whoisThis()\\npeggy.swim()\\npeggy.run()',\n",
       "  '# child class\\nclass Penguin(Bird):\\n    def swim(self):\\n        print(\"I can Swim\")\\n\\n    def __init__(self):\\n        # call super() function\\n        super(Penguin,self).__init__()\\n        print(\"Penguin is ready\")\\n\\n#     def whoisThis(self):\\n#         print(\"Penguin\")\\n\\n    def run(self):\\n        print(\"Run faster\")',\n",
       "  'peggy = Penguin()\\npeggy.whoisThis()\\npeggy.swim()\\npeggy.run()',\n",
       "  'peggy = Penguin()\\npeggy.whoisThis()\\npeggy.swim()\\npeggy.run()\\npeggy.__mro__',\n",
       "  'super()',\n",
       "  'class Computer:\\n\\n    def __init__(self):\\n        self.__maxprice = 900\\n\\n    def sell(self):\\n        print(\"Selling Price: {}\".format(self.__maxprice))\\n\\n    def setMaxPrice(self, price):\\n        self.__maxprice = price\\n\\nc = Computer()\\nc.sell()\\n\\n# change the price\\nc.__maxprice = 1000\\nc.sell()\\n\\n# using setter function\\nc.setMaxPrice(1000)\\nc.sell()',\n",
       "  'dir(c)',\n",
       "  'type(c)',\n",
       "  'vars(c0)',\n",
       "  'vars(c)',\n",
       "  'vars(c)',\n",
       "  'class Computer:\\n\\n    def __init__(self):\\n        self.__maxprice = 900\\n\\n    def sell(self):\\n        print(\"Selling Price: {}\".format(self.__maxprice))\\n\\n    def setMaxPrice(self, price):\\n        self.__maxprice = price\\n\\nc = Computer()\\nc.sell()\\n\\n# change the price\\nc.__maxprice = 1000\\nc.sell()\\n\\n# # using setter function\\n# c.setMaxPrice(1000)\\n# c.sell()',\n",
       "  'vars(c)',\n",
       "  'class Computer:\\n\\n    def __init__(self):\\n        self.__maxprice = 900\\n\\n    def sell(self):\\n        print(\"Selling Price: {}\".format(self.__maxprice))\\n\\n    def setMaxPrice(self, price):\\n        self.__maxprice = price\\n\\nc = Computer()\\nc.sell()\\n\\n# change the price\\nc.__maxprice = 1000\\nc.sell()\\n\\n# using setter function\\nc.setMaxPrice(1000)\\nc.sell()',\n",
       "  'vars(c)',\n",
       "  'dir()',\n",
       "  '_226',\n",
       "  '_ii',\n",
       "  '_iii',\n",
       "  'locals()',\n",
       "  'globals()'],\n",
       " '_oh': {5: <__main__.A at 0x1a425a9d978>,\n",
       "  6: __main__.A,\n",
       "  7: ['__class__',\n",
       "   '__delattr__',\n",
       "   '__dict__',\n",
       "   '__dir__',\n",
       "   '__doc__',\n",
       "   '__eq__',\n",
       "   '__format__',\n",
       "   '__ge__',\n",
       "   '__getattribute__',\n",
       "   '__gt__',\n",
       "   '__hash__',\n",
       "   '__init__',\n",
       "   '__init_subclass__',\n",
       "   '__le__',\n",
       "   '__lt__',\n",
       "   '__module__',\n",
       "   '__ne__',\n",
       "   '__new__',\n",
       "   '__reduce__',\n",
       "   '__reduce_ex__',\n",
       "   '__repr__',\n",
       "   '__setattr__',\n",
       "   '__sizeof__',\n",
       "   '__str__',\n",
       "   '__subclasshook__',\n",
       "   '__weakref__',\n",
       "   'a'],\n",
       "  8: type,\n",
       "  10: __main__.A,\n",
       "  11: ['__class__',\n",
       "   '__delattr__',\n",
       "   '__dict__',\n",
       "   '__dir__',\n",
       "   '__doc__',\n",
       "   '__eq__',\n",
       "   '__format__',\n",
       "   '__ge__',\n",
       "   '__getattribute__',\n",
       "   '__gt__',\n",
       "   '__hash__',\n",
       "   '__init__',\n",
       "   '__init_subclass__',\n",
       "   '__le__',\n",
       "   '__lt__',\n",
       "   '__module__',\n",
       "   '__ne__',\n",
       "   '__new__',\n",
       "   '__reduce__',\n",
       "   '__reduce_ex__',\n",
       "   '__repr__',\n",
       "   '__setattr__',\n",
       "   '__sizeof__',\n",
       "   '__str__',\n",
       "   '__subclasshook__',\n",
       "   '__weakref__',\n",
       "   'a'],\n",
       "  12: 3,\n",
       "  16: 3,\n",
       "  30: '윤성찬',\n",
       "  31: ['__class__',\n",
       "   '__delattr__',\n",
       "   '__dict__',\n",
       "   '__dir__',\n",
       "   '__doc__',\n",
       "   '__eq__',\n",
       "   '__format__',\n",
       "   '__ge__',\n",
       "   '__getattribute__',\n",
       "   '__gt__',\n",
       "   '__hash__',\n",
       "   '__init__',\n",
       "   '__init_subclass__',\n",
       "   '__le__',\n",
       "   '__lt__',\n",
       "   '__module__',\n",
       "   '__ne__',\n",
       "   '__new__',\n",
       "   '__reduce__',\n",
       "   '__reduce_ex__',\n",
       "   '__repr__',\n",
       "   '__setattr__',\n",
       "   '__sizeof__',\n",
       "   '__str__',\n",
       "   '__subclasshook__',\n",
       "   '__weakref__',\n",
       "   'a',\n",
       "   'xx'],\n",
       "  32: {'a': 3, 'xx': '윤성찬'},\n",
       "  33: {'a': 3, 'xx': '윤성찬'},\n",
       "  34: {'a': 3, 'xx': '윤성찬'},\n",
       "  42: <function frozenset.__contains__>,\n",
       "  44: <function frozenset.__contains__>,\n",
       "  45: ['False',\n",
       "   'None',\n",
       "   'True',\n",
       "   'and',\n",
       "   'as',\n",
       "   'assert',\n",
       "   'break',\n",
       "   'class',\n",
       "   'continue',\n",
       "   'def',\n",
       "   'del',\n",
       "   'elif',\n",
       "   'else',\n",
       "   'except',\n",
       "   'finally',\n",
       "   'for',\n",
       "   'from',\n",
       "   'global',\n",
       "   'if',\n",
       "   'import',\n",
       "   'in',\n",
       "   'is',\n",
       "   'lambda',\n",
       "   'nonlocal',\n",
       "   'not',\n",
       "   'or',\n",
       "   'pass',\n",
       "   'raise',\n",
       "   'return',\n",
       "   'try',\n",
       "   'while',\n",
       "   'with',\n",
       "   'yield'],\n",
       "  47: 3,\n",
       "  48: ['__all__',\n",
       "   '__builtins__',\n",
       "   '__cached__',\n",
       "   '__doc__',\n",
       "   '__file__',\n",
       "   '__loader__',\n",
       "   '__name__',\n",
       "   '__package__',\n",
       "   '__spec__',\n",
       "   'iskeyword',\n",
       "   'kwlist',\n",
       "   'main',\n",
       "   'xx'],\n",
       "  50: ['__all__',\n",
       "   '__builtins__',\n",
       "   '__cached__',\n",
       "   '__doc__',\n",
       "   '__file__',\n",
       "   '__loader__',\n",
       "   '__name__',\n",
       "   '__package__',\n",
       "   '__spec__',\n",
       "   'iskeyword',\n",
       "   'kwlist',\n",
       "   'main'],\n",
       "  53: ['_A__a',\n",
       "   '__class__',\n",
       "   '__delattr__',\n",
       "   '__dict__',\n",
       "   '__dir__',\n",
       "   '__doc__',\n",
       "   '__eq__',\n",
       "   '__format__',\n",
       "   '__ge__',\n",
       "   '__getattribute__',\n",
       "   '__gt__',\n",
       "   '__hash__',\n",
       "   '__init__',\n",
       "   '__init_subclass__',\n",
       "   '__le__',\n",
       "   '__lt__',\n",
       "   '__module__',\n",
       "   '__ne__',\n",
       "   '__new__',\n",
       "   '__reduce__',\n",
       "   '__reduce_ex__',\n",
       "   '__repr__',\n",
       "   '__setattr__',\n",
       "   '__sizeof__',\n",
       "   '__str__',\n",
       "   '__subclasshook__',\n",
       "   '__weakref__',\n",
       "   'a',\n",
       "   'beau'],\n",
       "  85: ['_A__a',\n",
       "   '_A__beau',\n",
       "   '__class__',\n",
       "   '__delattr__',\n",
       "   '__dict__',\n",
       "   '__dir__',\n",
       "   '__doc__',\n",
       "   '__eq__',\n",
       "   '__format__',\n",
       "   '__ge__',\n",
       "   '__getattribute__',\n",
       "   '__gt__',\n",
       "   '__hash__',\n",
       "   '__init__',\n",
       "   '__init_subclass__',\n",
       "   '__le__',\n",
       "   '__lt__',\n",
       "   '__module__',\n",
       "   '__ne__',\n",
       "   '__new__',\n",
       "   '__reduce__',\n",
       "   '__reduce_ex__',\n",
       "   '__repr__',\n",
       "   '__setattr__',\n",
       "   '__sizeof__',\n",
       "   '__str__',\n",
       "   '__subclasshook__',\n",
       "   '__weakref__',\n",
       "   'beau'],\n",
       "  91: ['_A__a',\n",
       "   '_A__beau',\n",
       "   '__class__',\n",
       "   '__delattr__',\n",
       "   '__dict__',\n",
       "   '__dir__',\n",
       "   '__doc__',\n",
       "   '__eq__',\n",
       "   '__format__',\n",
       "   '__ge__',\n",
       "   '__getattribute__',\n",
       "   '__gt__',\n",
       "   '__hash__',\n",
       "   '__init__',\n",
       "   '__init_subclass__',\n",
       "   '__le__',\n",
       "   '__lt__',\n",
       "   '__module__',\n",
       "   '__ne__',\n",
       "   '__new__',\n",
       "   '__reduce__',\n",
       "   '__reduce_ex__',\n",
       "   '__repr__',\n",
       "   '__setattr__',\n",
       "   '__sizeof__',\n",
       "   '__str__',\n",
       "   '__subclasshook__',\n",
       "   '__weakref__',\n",
       "   'beau',\n",
       "   'func'],\n",
       "  96: {'name': 'Blu', 'age': 10, 'species': 'birds2'},\n",
       "  97: 'bird',\n",
       "  99: {'name': 'Blu', 'age': 10, 'species': 'birds2'},\n",
       "  100: 'bird',\n",
       "  101: {'name': 'Woo', 'age': 15},\n",
       "  102: 'birds2',\n",
       "  103: 'bird',\n",
       "  104: 'bird',\n",
       "  108: {'name': '찬찬', 'age': 30, 'species': 'bird2'},\n",
       "  109: 'bird',\n",
       "  110: 'bird',\n",
       "  112: 'bird2',\n",
       "  115: {'name': '찬찬', 'age': 30, 'species': 'bird2'},\n",
       "  116: 'bird',\n",
       "  117: 'bird',\n",
       "  119: 'bird2',\n",
       "  120: 'bird',\n",
       "  121: __main__.Parrot,\n",
       "  122: <function Parrot.mro>,\n",
       "  123: 'bird',\n",
       "  128: '찬찬 sings 노래',\n",
       "  132: '찬찬 sings 노래',\n",
       "  136: 'aaa is now dancing',\n",
       "  138: 'aaa is now dancing',\n",
       "  140: 'aaa is now dancing',\n",
       "  141: 'aaa is now dancing',\n",
       "  143: '찬찬 sings 노래',\n",
       "  151: '찬찬 is now dancing',\n",
       "  160: 'now dancing222',\n",
       "  161: <bound method Parrot.dance2 of <class '__main__.Parrot'>>,\n",
       "  162: 'now dancing222',\n",
       "  163: 'now dancing222',\n",
       "  166: 'aaa is now dancing',\n",
       "  172: ['__class__',\n",
       "   '__delattr__',\n",
       "   '__dict__',\n",
       "   '__dir__',\n",
       "   '__doc__',\n",
       "   '__eq__',\n",
       "   '__format__',\n",
       "   '__ge__',\n",
       "   '__getattribute__',\n",
       "   '__gt__',\n",
       "   '__hash__',\n",
       "   '__init__',\n",
       "   '__init_subclass__',\n",
       "   '__le__',\n",
       "   '__lt__',\n",
       "   '__module__',\n",
       "   '__ne__',\n",
       "   '__new__',\n",
       "   '__reduce__',\n",
       "   '__reduce_ex__',\n",
       "   '__repr__',\n",
       "   '__setattr__',\n",
       "   '__sizeof__',\n",
       "   '__str__',\n",
       "   '__subclasshook__',\n",
       "   '__weakref__',\n",
       "   'swim',\n",
       "   'whoisThis'],\n",
       "  177: ['__class__',\n",
       "   '__delattr__',\n",
       "   '__dict__',\n",
       "   '__dir__',\n",
       "   '__doc__',\n",
       "   '__eq__',\n",
       "   '__format__',\n",
       "   '__ge__',\n",
       "   '__getattribute__',\n",
       "   '__gt__',\n",
       "   '__hash__',\n",
       "   '__init__',\n",
       "   '__init_subclass__',\n",
       "   '__le__',\n",
       "   '__lt__',\n",
       "   '__module__',\n",
       "   '__ne__',\n",
       "   '__new__',\n",
       "   '__reduce__',\n",
       "   '__reduce_ex__',\n",
       "   '__repr__',\n",
       "   '__setattr__',\n",
       "   '__sizeof__',\n",
       "   '__str__',\n",
       "   '__subclasshook__',\n",
       "   '__weakref__',\n",
       "   'run',\n",
       "   'swim',\n",
       "   'whoisThis'],\n",
       "  218: ['_Computer__maxprice',\n",
       "   '__class__',\n",
       "   '__delattr__',\n",
       "   '__dict__',\n",
       "   '__dir__',\n",
       "   '__doc__',\n",
       "   '__eq__',\n",
       "   '__format__',\n",
       "   '__ge__',\n",
       "   '__getattribute__',\n",
       "   '__gt__',\n",
       "   '__hash__',\n",
       "   '__init__',\n",
       "   '__init_subclass__',\n",
       "   '__le__',\n",
       "   '__lt__',\n",
       "   '__maxprice',\n",
       "   '__module__',\n",
       "   '__ne__',\n",
       "   '__new__',\n",
       "   '__reduce__',\n",
       "   '__reduce_ex__',\n",
       "   '__repr__',\n",
       "   '__setattr__',\n",
       "   '__sizeof__',\n",
       "   '__str__',\n",
       "   '__subclasshook__',\n",
       "   '__weakref__',\n",
       "   'sell',\n",
       "   'setMaxPrice'],\n",
       "  219: __main__.Computer,\n",
       "  221: {'_Computer__maxprice': 1000, '__maxprice': 1000},\n",
       "  222: {'_Computer__maxprice': 1000, '__maxprice': 1000},\n",
       "  224: {'_Computer__maxprice': 900, '__maxprice': 1000},\n",
       "  226: {'_Computer__maxprice': 1000, '__maxprice': 1000},\n",
       "  227: ['A',\n",
       "   'Bird',\n",
       "   'Computer',\n",
       "   'In',\n",
       "   'Out',\n",
       "   'Parrot',\n",
       "   'Penguin',\n",
       "   '_',\n",
       "   '_10',\n",
       "   '_100',\n",
       "   '_101',\n",
       "   '_102',\n",
       "   '_103',\n",
       "   '_104',\n",
       "   '_108',\n",
       "   '_109',\n",
       "   '_11',\n",
       "   '_110',\n",
       "   '_112',\n",
       "   '_115',\n",
       "   '_116',\n",
       "   '_117',\n",
       "   '_119',\n",
       "   '_12',\n",
       "   '_120',\n",
       "   '_121',\n",
       "   '_122',\n",
       "   '_123',\n",
       "   '_128',\n",
       "   '_132',\n",
       "   '_136',\n",
       "   '_138',\n",
       "   '_140',\n",
       "   '_141',\n",
       "   '_143',\n",
       "   '_151',\n",
       "   '_16',\n",
       "   '_160',\n",
       "   '_161',\n",
       "   '_162',\n",
       "   '_163',\n",
       "   '_166',\n",
       "   '_172',\n",
       "   '_177',\n",
       "   '_218',\n",
       "   '_219',\n",
       "   '_221',\n",
       "   '_222',\n",
       "   '_224',\n",
       "   '_226',\n",
       "   '_30',\n",
       "   '_31',\n",
       "   '_32',\n",
       "   '_33',\n",
       "   '_34',\n",
       "   '_42',\n",
       "   '_44',\n",
       "   '_45',\n",
       "   '_47',\n",
       "   '_48',\n",
       "   '_5',\n",
       "   '_50',\n",
       "   '_53',\n",
       "   '_6',\n",
       "   '_7',\n",
       "   '_8',\n",
       "   '_85',\n",
       "   '_91',\n",
       "   '_96',\n",
       "   '_97',\n",
       "   '_99',\n",
       "   '__',\n",
       "   '___',\n",
       "   '__builtin__',\n",
       "   '__builtins__',\n",
       "   '__doc__',\n",
       "   '__loader__',\n",
       "   '__name__',\n",
       "   '__package__',\n",
       "   '__spec__',\n",
       "   '_dh',\n",
       "   '_i',\n",
       "   '_i1',\n",
       "   '_i10',\n",
       "   '_i100',\n",
       "   '_i101',\n",
       "   '_i102',\n",
       "   '_i103',\n",
       "   '_i104',\n",
       "   '_i105',\n",
       "   '_i106',\n",
       "   '_i107',\n",
       "   '_i108',\n",
       "   '_i109',\n",
       "   '_i11',\n",
       "   '_i110',\n",
       "   '_i111',\n",
       "   '_i112',\n",
       "   '_i113',\n",
       "   '_i114',\n",
       "   '_i115',\n",
       "   '_i116',\n",
       "   '_i117',\n",
       "   '_i118',\n",
       "   '_i119',\n",
       "   '_i12',\n",
       "   '_i120',\n",
       "   '_i121',\n",
       "   '_i122',\n",
       "   '_i123',\n",
       "   '_i124',\n",
       "   '_i125',\n",
       "   '_i126',\n",
       "   '_i127',\n",
       "   '_i128',\n",
       "   '_i129',\n",
       "   '_i13',\n",
       "   '_i130',\n",
       "   '_i131',\n",
       "   '_i132',\n",
       "   '_i133',\n",
       "   '_i134',\n",
       "   '_i135',\n",
       "   '_i136',\n",
       "   '_i137',\n",
       "   '_i138',\n",
       "   '_i139',\n",
       "   '_i14',\n",
       "   '_i140',\n",
       "   '_i141',\n",
       "   '_i142',\n",
       "   '_i143',\n",
       "   '_i144',\n",
       "   '_i145',\n",
       "   '_i146',\n",
       "   '_i147',\n",
       "   '_i148',\n",
       "   '_i149',\n",
       "   '_i15',\n",
       "   '_i150',\n",
       "   '_i151',\n",
       "   '_i152',\n",
       "   '_i153',\n",
       "   '_i154',\n",
       "   '_i155',\n",
       "   '_i156',\n",
       "   '_i157',\n",
       "   '_i158',\n",
       "   '_i159',\n",
       "   '_i16',\n",
       "   '_i160',\n",
       "   '_i161',\n",
       "   '_i162',\n",
       "   '_i163',\n",
       "   '_i164',\n",
       "   '_i165',\n",
       "   '_i166',\n",
       "   '_i167',\n",
       "   '_i168',\n",
       "   '_i169',\n",
       "   '_i17',\n",
       "   '_i170',\n",
       "   '_i171',\n",
       "   '_i172',\n",
       "   '_i173',\n",
       "   '_i174',\n",
       "   '_i175',\n",
       "   '_i176',\n",
       "   '_i177',\n",
       "   '_i178',\n",
       "   '_i179',\n",
       "   '_i18',\n",
       "   '_i180',\n",
       "   '_i181',\n",
       "   '_i182',\n",
       "   '_i183',\n",
       "   '_i184',\n",
       "   '_i185',\n",
       "   '_i186',\n",
       "   '_i187',\n",
       "   '_i188',\n",
       "   '_i189',\n",
       "   '_i19',\n",
       "   '_i190',\n",
       "   '_i191',\n",
       "   '_i192',\n",
       "   '_i193',\n",
       "   '_i194',\n",
       "   '_i195',\n",
       "   '_i196',\n",
       "   '_i197',\n",
       "   '_i198',\n",
       "   '_i199',\n",
       "   '_i2',\n",
       "   '_i20',\n",
       "   '_i200',\n",
       "   '_i201',\n",
       "   '_i202',\n",
       "   '_i203',\n",
       "   '_i204',\n",
       "   '_i205',\n",
       "   '_i206',\n",
       "   '_i207',\n",
       "   '_i208',\n",
       "   '_i209',\n",
       "   '_i21',\n",
       "   '_i210',\n",
       "   '_i211',\n",
       "   '_i212',\n",
       "   '_i213',\n",
       "   '_i214',\n",
       "   '_i215',\n",
       "   '_i216',\n",
       "   '_i217',\n",
       "   '_i218',\n",
       "   '_i219',\n",
       "   '_i22',\n",
       "   '_i220',\n",
       "   '_i221',\n",
       "   '_i222',\n",
       "   '_i223',\n",
       "   '_i224',\n",
       "   '_i225',\n",
       "   '_i226',\n",
       "   '_i227',\n",
       "   '_i23',\n",
       "   '_i24',\n",
       "   '_i25',\n",
       "   '_i26',\n",
       "   '_i27',\n",
       "   '_i28',\n",
       "   '_i29',\n",
       "   '_i3',\n",
       "   '_i30',\n",
       "   '_i31',\n",
       "   '_i32',\n",
       "   '_i33',\n",
       "   '_i34',\n",
       "   '_i35',\n",
       "   '_i36',\n",
       "   '_i37',\n",
       "   '_i38',\n",
       "   '_i39',\n",
       "   '_i4',\n",
       "   '_i40',\n",
       "   '_i41',\n",
       "   '_i42',\n",
       "   '_i43',\n",
       "   '_i44',\n",
       "   '_i45',\n",
       "   '_i46',\n",
       "   '_i47',\n",
       "   '_i48',\n",
       "   '_i49',\n",
       "   '_i5',\n",
       "   '_i50',\n",
       "   '_i51',\n",
       "   '_i52',\n",
       "   '_i53',\n",
       "   '_i54',\n",
       "   '_i55',\n",
       "   '_i56',\n",
       "   '_i57',\n",
       "   '_i58',\n",
       "   '_i59',\n",
       "   '_i6',\n",
       "   '_i60',\n",
       "   '_i61',\n",
       "   '_i62',\n",
       "   '_i63',\n",
       "   '_i64',\n",
       "   '_i65',\n",
       "   '_i66',\n",
       "   '_i67',\n",
       "   '_i68',\n",
       "   '_i69',\n",
       "   '_i7',\n",
       "   '_i70',\n",
       "   '_i71',\n",
       "   '_i72',\n",
       "   '_i73',\n",
       "   '_i74',\n",
       "   '_i75',\n",
       "   '_i76',\n",
       "   '_i77',\n",
       "   '_i78',\n",
       "   '_i79',\n",
       "   '_i8',\n",
       "   '_i80',\n",
       "   '_i81',\n",
       "   '_i82',\n",
       "   '_i83',\n",
       "   '_i84',\n",
       "   '_i85',\n",
       "   '_i86',\n",
       "   '_i87',\n",
       "   '_i88',\n",
       "   '_i89',\n",
       "   '_i9',\n",
       "   '_i90',\n",
       "   '_i91',\n",
       "   '_i92',\n",
       "   '_i93',\n",
       "   '_i94',\n",
       "   '_i95',\n",
       "   '_i96',\n",
       "   '_i97',\n",
       "   '_i98',\n",
       "   '_i99',\n",
       "   '_ih',\n",
       "   '_ii',\n",
       "   '_iii',\n",
       "   '_oh',\n",
       "   'aa',\n",
       "   'blu',\n",
       "   'c',\n",
       "   'd',\n",
       "   'exit',\n",
       "   'func',\n",
       "   'get_ipython',\n",
       "   'keyword',\n",
       "   'peggy',\n",
       "   'quit',\n",
       "   'woo',\n",
       "   'xxxx',\n",
       "   'yyy',\n",
       "   '찬'],\n",
       "  228: {'_Computer__maxprice': 1000, '__maxprice': 1000},\n",
       "  229: 'dir()',\n",
       "  230: 'dir()',\n",
       "  231: {...}},\n",
       " '_dh': ['C:\\\\Users\\\\user'],\n",
       " 'In': ['',\n",
       "  'class ',\n",
       "  'class A:\\n    a = 3\\n    ',\n",
       "  'class A:\\n    a = 3',\n",
       "  'aa = A()',\n",
       "  'aa',\n",
       "  'type(aa)',\n",
       "  'dir(aa)',\n",
       "  'type(A)',\n",
       "  'type 을 쳤는데 type이 나온다?',\n",
       "  'type(aa)',\n",
       "  'dir(aa)',\n",
       "  'aa.a',\n",
       "  'class A:\\n    a = 3',\n",
       "  \"class A:\\n    a = 3\\n    def __init__(self):\\n        print('init')\",\n",
       "  'aa = A()',\n",
       "  'aa.a',\n",
       "  \"class A:\\n    a = 3\\n    def __init__(self,x):\\n        self.a=x\\n        print('init')\",\n",
       "  'aa = A()',\n",
       "  'aa = A(3)',\n",
       "  \"class A:\\n    a = 3\\n    def __init__(self,x):\\n        self.a=x\\n        print('init')\\n        print(a)\",\n",
       "  'aa = A(3)',\n",
       "  \"class A:\\n    a = 3\\n    def __init__(self,x):\\n        self.a=x\\n        print('init')\\n        print(self.a)\",\n",
       "  'aa = A(3)',\n",
       "  \"class A:\\n    a = 3\\n    def __init__(self,x,y):\\n        self.a=x\\n        print('init')\\n        print(self.a,y)\",\n",
       "  'aa = A(3,4)',\n",
       "  \"class A:\\n    a = 3\\n    def __init__(self,x=3):\\n        self.a=x\\n        print('init')\",\n",
       "  'aa = A()',\n",
       "  'aa.xx=\"윤성ㅊ나\"',\n",
       "  'aa.xx=\"윤성찬\"',\n",
       "  'aa.xx',\n",
       "  'dir(aa)',\n",
       "  'vars(aa)',\n",
       "  'vars(aa)',\n",
       "  'aa.__dict__',\n",
       "  \"class A:\\n    a = 3\\n    def __init__(self,x=3):\\n        self.a=x\\n        print('init')\\n    def beua(self):\\n        print('beautiful')\",\n",
       "  'aa = A()',\n",
       "  \"class A:\\n    a = 3\\n    def __init__(self,x=3):\\n        self.a=x\\n        print('init')\\n    def beau(self):\\n        print('beautiful')\",\n",
       "  'aa = A()',\n",
       "  'aa.beau()',\n",
       "  'aa.beau()',\n",
       "  'import keyword',\n",
       "  'keyword.iskeyword',\n",
       "  'keyword.iskeyword()',\n",
       "  'keyword.iskeyword',\n",
       "  'keyword.kwlist',\n",
       "  'keyword.xx = 3',\n",
       "  'keyword.xx',\n",
       "  'dir(keyword)',\n",
       "  'del keyword.xx',\n",
       "  'dir(keyword)',\n",
       "  \"class A:\\n    __a = 3\\n    def __init__(self,x=3):\\n        self.a=x\\n        print('init')\\n    def beau(self):\\n        print('beautiful')\",\n",
       "  'aa = A()',\n",
       "  'dir(aa)',\n",
       "  'aa.__a',\n",
       "  \"class A:\\n    a = 3\\n    def __init__(self,x):\\n        self.__a=x\\n        print('init')\\n        print(self.__a)\",\n",
       "  'aa = A(3,4)',\n",
       "  \"class A:\\n    a = 3\\n    def __init__(self,x):\\n        self.__a=x\\n        print('init')\",\n",
       "  'aa = A(3,4)',\n",
       "  \"class A:\\n    a = 3\\n    def __init__(self,x):\\n        self.__a=x\\n        print('init')\",\n",
       "  'aa = A(4)',\n",
       "  'aa.__a',\n",
       "  'aa = A(4)\\nd = A()',\n",
       "  'aa = A(4)',\n",
       "  'aa = A()\\nd = A(2)',\n",
       "  'aa = A()',\n",
       "  \"class A:\\n    __a = 3\\n    def __init__(self,x=3):\\n        self.a=x\\n        print('init')\\n    def beau(self):\\n        print('beautiful')\",\n",
       "  'aa = A()',\n",
       "  \"class A:\\n    a = 3\\n    def __init__(self,x=3):\\n        self.a=x\\n        print('init')\\n    def beau(self):\\n        print('beautiful')\",\n",
       "  'c = A()',\n",
       "  'c = A()\\nd = A(3)',\n",
       "  'c.beau()',\n",
       "  'c.beau()\\nd.beau()',\n",
       "  'A.beau(c)',\n",
       "  \"class A:\\n    __a = 3\\n    def __init__(self,x=3):\\n        self.__a=x\\n        print('init')\\n    def beau(self):\\n        print('beautiful')\",\n",
       "  'aa = A()',\n",
       "  'aa.__a',\n",
       "  'A.beau(c)',\n",
       "  'aa.__a()',\n",
       "  'aa.__a',\n",
       "  'aa = A()',\n",
       "  'aa.__a',\n",
       "  \"class A:\\n    __a = 3\\n    def __init__(self,x=3):\\n        self.__a=x\\n        print('init')\\n    def beau(self):\\n        print('beautiful')\\n    def __beau(self):\\n        print('beautiful')\",\n",
       "  'aa = A()',\n",
       "  'xxxx = A()',\n",
       "  'dir(xxxx)',\n",
       "  'xxxx.__beau()',\n",
       "  'func = lambda self:self+1',\n",
       "  'yyy = A()',\n",
       "  'yyy.func = func',\n",
       "  'A.func(yyy)',\n",
       "  'dir(yyy)',\n",
       "  'class Parrot:\\n\\n    # class attribute\\n    species = \"bird\"\\n\\n    # instance attribute\\n    def __init__(self, name, age):\\n        self.name = name\\n        self.age = age\\n\\n# instantiate the Parrot class\\nblu = Parrot(\"Blu\", 10)\\nwoo = Parrot(\"Woo\", 15)',\n",
       "  '# access the class attributes\\nprint(\"Blu is a {}\".format(blu.__class__.species))\\nprint(\"Woo is also a {}\".format(woo.__class__.species))\\n\\n# access the instance attributes\\nprint(\"{} is {} years old\".format( blu.name, blu.age))\\nprint(\"{} is {} years old\".format( woo.name, woo.age))',\n",
       "  \"blu.species='birds2'\",\n",
       "  'blu._dict__',\n",
       "  'blu.__dict__',\n",
       "  'woo.species',\n",
       "  'var(blu)',\n",
       "  'vars(blu)',\n",
       "  'woo.species',\n",
       "  'woo.__dict__',\n",
       "  'blu.species',\n",
       "  'woo.species',\n",
       "  'Parrot.species',\n",
       "  'Parrot.name',\n",
       "  '# access the class attributes\\nprint(\"Blu is a {}\".format(blu.__class__.species))\\nprint(\"Woo is also a {}\".format(woo.__class__.species))\\n\\n# access the instance attributes\\nprint(\"{} is {} years old\".format( blu.name, blu.age))\\nprint(\"{} is {} years old\".format( woo.name, woo.age))',\n",
       "  \"찬 = Parrot('찬찬',30)\",\n",
       "  'vars(찬)',\n",
       "  '찬.species',\n",
       "  '찬.species',\n",
       "  \"찬.species = 'bird2'\",\n",
       "  '찬.species',\n",
       "  \"찬.species = 'bird2'\",\n",
       "  \"찬 = Parrot('찬찬',30)\",\n",
       "  'vars(찬)',\n",
       "  '찬.species',\n",
       "  '찬.species',\n",
       "  \"찬.species = 'bird2'\",\n",
       "  '찬.species',\n",
       "  '찬.__class__.species',\n",
       "  '찬.__class__',\n",
       "  '찬.__class__.mro',\n",
       "  '찬.__class__.species',\n",
       "  'class Parrot:\\n    \\n    # instance attributes\\n    def __init__(self, name, age):\\n        self.name = name\\n        self.age = age\\n    \\n    # instance method\\n    def sing(self, song):\\n        return \"{} sings {}\".format(self.name, song)\\n\\n    def dance(self):\\n        return \"{} is now dancing\".format(self.name)\\n\\n# instantiate the object\\nblu = Parrot(\"Blu\", 10)\\n\\n# call our instance methods\\nprint(blu.sing(\"\\'Happy\\'\"))\\nprint(blu.dance())',\n",
       "  'class Parrot:\\n    \\n    # instance attributes\\n    def __init__(self1, name, age):\\n        self1.name = name\\n        self1.age = age\\n    \\n    # instance method\\n    def sing(self, song):\\n        return \"{} sings {}\".format(self.name, song)\\n\\n    def dance(self):\\n        return \"{} is now dancing\".format(self.name)\\n\\n# instantiate the object\\nblu = Parrot(\"Blu\", 10)\\n\\n# call our instance methods\\nprint(blu.sing(\"\\'Happy\\'\"))\\nprint(blu.dance())',\n",
       "  'class Parrot:\\n    \\n    # instance attributes\\n    def __init__(selfaaa, name, age):\\n        selfaaa.name = name\\n        selfaaa.age = age\\n    \\n    # instance method\\n    def sing(selfaaa, song):\\n        return \"{} sings {}\".format(selfaaa.name, song)\\n\\n    def dance(selfaaa):\\n        return \"{} is now dancing\".format(selfaaa.name)\\n\\n# instantiate the object\\nblu = Parrot(\"Blu\", 10)\\n\\n# call our instance methods\\nprint(blu.sing(\"\\'Happy\\'\"))\\nprint(blu.dance())',\n",
       "  \"Parrot.sing(찬찬,'노래')\",\n",
       "  \"Parrot.sing(찬,'노래')\",\n",
       "  \"Parrot.sing(찬,'노래')\\n찬.sing('노래')\",\n",
       "  'class Parrot:\\n    \\n    # instance attributes\\n    def __init__(self, name, age):\\n        self.name = name\\n        self.age = age\\n    \\n    # instance method\\n    def sing(self, song):\\n        return \"{} sings {}\".format(self.name, song)\\n\\n    def dance(self):\\n        return \"{} is now dancing\".format(self.name)\\n\\n# instantiate the object\\nblu = Parrot(\"Blu\", 10)\\n\\n# call our instance methods\\nprint(blu.sing(\"\\'Happy\\'\"))\\nprint(blu.dance())',\n",
       "  \"Parrot.sing(찬,'노래')\\n찬.sing('노래')\",\n",
       "  \"Parrot.sing(찬,'노래')\",\n",
       "  'AA = Parrot()',\n",
       "  'class Parrot:\\n    \\n    # instance attributes\\n    def __init__(selfaaa, name, age):\\n        selfaaa.name = name\\n        selfaaa.age = age\\n    \\n    # instance method\\n    def sing(selfaaa, song):\\n        return \"{} sings {}\".format(selfaaa.name, song)\\n\\n    def dance(selfaaa):\\n        return \"{} is now dancing\".format(selfaaa.name)',\n",
       "  \"aa = Parrot('aaa', 26)\",\n",
       "  'aa.dance()',\n",
       "  \"Parrot.sing(찬,'노래')\\n찬.dance()\",\n",
       "  \"aa.sing('얍얍얍')\\naa.dance()\",\n",
       "  \"aa = Parrot('aaa', 26)\",\n",
       "  \"aa.sing('얍얍얍')\\naa.dance()\",\n",
       "  \"print(aa.sing('얍얍얍'))\\naa.dance()\",\n",
       "  \"print(aa.sing('얍얍얍'))\\nprint(aa.dance())\",\n",
       "  \"Parrot.sing(찬,'노래')\",\n",
       "  \"Parrot.sing(찬,'노래')\\nParrot.dance()\",\n",
       "  \"Parrot.sing(찬,'노래')\\nParrot.dance(?)\",\n",
       "  \"Parrot.sing(찬,'노래')\\nParrot.dance('?'')\",\n",
       "  \"Parrot.sing(찬,'노래')\\nParrot.dance('?')\",\n",
       "  \"Parrot.sing(찬,'노래')\\nParrot.dance('aa')\",\n",
       "  \"Parrot.sing(찬,'노래')\\nParrot.dance()\",\n",
       "  \"Parrot.sing(찬,'노래')\\nParrot.dance(self)\",\n",
       "  \"Parrot.sing(찬,'노래')\\nParrot.dance(찬)\",\n",
       "  'class Parrot:\\n    \\n    # instance attributes\\n    def __init__(selfaaa, name, age):\\n        selfaaa.name = name\\n        selfaaa.age = age\\n    \\n    # instance method\\n    def sing(selfaaa, song):\\n        return \"{} sings {}\".format(selfaaa.name, song)\\n\\n    def dance(selfaaa):\\n        return \"{} is now dancing\".format(selfaaa.name)\\n    \\n    @classmethod    # 데코레이터라고 함\\n    def dance2(cls):\\n        return \"now dancing222\"',\n",
       "  \"print(Parrot.sing(찬,'노래'))\\nprint(Parrot.dance(찬))\",\n",
       "  \"print(aa.sing('얍얍얍'))\\nprint(aa.dance())\\nprint(aa.dance2())\",\n",
       "  \"aa = Parrot('aaa', 26)\",\n",
       "  \"print(aa.sing('얍얍얍'))\\nprint(aa.dance())\\nprint(aa.dance2())\",\n",
       "  \"print(Parrot.sing(찬,'노래'))\\nprint(Parrot.dance(AA))\",\n",
       "  \"print(Parrot.sing(찬,'노래'))\\nprint(Parrot.dance(a))\",\n",
       "  \"print(Parrot.sing(찬,'노래'))\\nprint(Parrot.dance(aa))\",\n",
       "  \"print(Parrot.sing(찬,'노래'))\\nprint(Parrot.dance(aa))\\nParrot.dance2()\",\n",
       "  'aa.__class__.dance2',\n",
       "  'aa.__class__.dance2()',\n",
       "  'aa.__class__.dance2()',\n",
       "  'aa.__class__.dance()',\n",
       "  'aa.__class__.dance(\"zz\")',\n",
       "  'aa.__class__.dance(aa)',\n",
       "  '# parent class\\nclass Bird:\\n    \\n    def __init__(self):\\n        print(\"Bird is ready\")\\n\\n    def whoisThis(self):\\n        print(\"Bird\")\\n\\n    def swim(self):\\n        print(\"Swim faster\")\\n\\n# child class\\nclass Penguin(Bird):\\n\\n    def __init__(self):\\n        # call super() function\\n        super().__init__()\\n        print(\"Penguin is ready\")\\n\\n    def whoisThis(self):\\n        print(\"Penguin\")\\n\\n    def run(self):\\n        print(\"Run faster\")\\n\\npeggy = Penguin()\\npeggy.whoisThis()\\npeggy.swim()\\npeggy.run()',\n",
       "  '# parent class\\n# Attribute 0개\\nclass Bird:\\n    \\n    def __init__(self):\\n        print(\"Bird is ready\")\\n\\n    def whoisThis(self):\\n        print(\"Bird\")\\n\\n    def swim(self):\\n        print(\"Swim faster\")\\n\\n# child class\\nclass Penguin(Bird):\\n\\n    def __init__(self):\\n        # call super() function\\n        super().__init__()\\n        print(\"Penguin is ready\")\\n\\n    def whoisThis(self):\\n        print(\"Penguin\")\\n\\n    def run(self):\\n        print(\"Run faster\")\\n\\npeggy = Penguin()\\npeggy.whoisThis()\\npeggy.swim()\\npeggy.run()',\n",
       "  '# parent class\\n# Attribute 0개\\nclass Bird:\\n    pass  \\n#     def __init__(self):\\n#         print(\"Bird is ready\")\\n\\n#     def whoisThis(self):\\n#         print(\"Bird\")\\n\\n#     def swim(self):\\n#         print(\"Swim faster\")\\n\\n# child class\\nclass Penguin(Bird):\\n\\n    def __init__(self):\\n        # call super() function\\n        super().__init__()\\n        print(\"Penguin is ready\")\\n\\n    def whoisThis(self):\\n        print(\"Penguin\")\\n\\n    def run(self):\\n        print(\"Run faster\")\\n\\npeggy = Penguin()\\npeggy.whoisThis()\\npeggy.swim()\\npeggy.run()',\n",
       "  '# parent class\\n# Attribute 0개\\nclass Bird:\\n    \\n    def __init__(self):\\n        print(\"Bird is ready\")\\n\\n    def whoisThis(self):\\n        print(\"Bird\")\\n\\n    def swim(self):\\n        print(\"Swim faster\")',\n",
       "  '# child class\\nclass Penguin(Bird):\\n    pass\\n#     def __init__(self):\\n#         # call super() function\\n#         super().__init__()\\n#         print(\"Penguin is ready\")\\n\\n#     def whoisThis(self):\\n#         print(\"Penguin\")\\n\\n#     def run(self):\\n#         print(\"Run faster\")\\n\\npeggy = Penguin()\\npeggy.whoisThis()\\npeggy.swim()\\npeggy.run()',\n",
       "  'dir(Penguin)',\n",
       "  '# child class\\nclass Penguin(Bird):\\n    pass\\n#     def __init__(self):\\n#         # call super() function\\n#         super().__init__()\\n#         print(\"Penguin is ready\")\\n\\n#     def whoisThis(self):\\n#         print(\"Penguin\")\\n\\n#     def run(self):\\n#         print(\"Run faster\")\\n\\npeggy = Penguin()\\npeggy.whoisThis()\\n# peggy.swim()\\n# peggy.run()',\n",
       "  '# child class\\nclass Penguin(Bird):\\n    def swim(self):\\n        print(\"I can Swim\")\\n#     def __init__(self):\\n#         # call super() function\\n#         super().__init__()\\n#         print(\"Penguin is ready\")\\n\\n#     def whoisThis(self):\\n#         print(\"Penguin\")\\n\\n#     def run(self):\\n#         print(\"Run faster\")\\n\\npeggy = Penguin()\\npeggy.whoisThis()\\n# peggy.swim()\\n# peggy.run()',\n",
       "  '# child class\\nclass Penguin(Bird):\\n    def swim(self):\\n        print(\"I can Swim\")\\n#     def __init__(self):\\n#         # call super() function\\n#         super().__init__()\\n#         print(\"Penguin is ready\")\\n\\n#     def whoisThis(self):\\n#         print(\"Penguin\")\\n\\n#     def run(self):\\n#         print(\"Run faster\")\\n\\npeggy = Penguin()\\npeggy.whoisThis()\\npeggy.swim()\\n# peggy.run()',\n",
       "  '# child class\\nclass Penguin(Bird):\\n    def swim(self):\\n        print(\"I can Swim\")\\n#     def __init__(self):\\n#         # call super() function\\n#         super().__init__()\\n#         print(\"Penguin is ready\")\\n\\n#     def whoisThis(self):\\n#         print(\"Penguin\")\\n\\n    def run(self):\\n        print(\"Run faster\")\\n\\npeggy = Penguin()\\npeggy.whoisThis()\\npeggy.swim()\\npeggy.run()',\n",
       "  'dir(Penguin)',\n",
       "  '# child class\\nclass Penguin(Bird):\\n    def swim(self):\\n        print(\"I can Swim\")\\n#     def __init__(self):\\n#         # call super() function\\n#         super().__init__()\\n#         print(\"Penguin is ready\")\\n\\n#     def whoisThis(self):\\n#         print(\"Penguin\")\\n\\n    def run(self):\\n        print(\"Run faster\")',\n",
       "  'peggy = Penguin()\\npeggy.whoisThis()\\npeggy.swim()\\npeggy.run()',\n",
       "  '# child class\\nclass Penguin(Bird):\\n    def swim(self):\\n        print(\"I can Swim\")\\n\\n    def __init__(self):\\n        # call super() function\\n        super().__init__()\\n        print(\"Penguin is ready\")\\n\\n#     def whoisThis(self):\\n#         print(\"Penguin\")\\n\\n    def run(self):\\n        print(\"Run faster\")',\n",
       "  'peggy = Penguin()\\npeggy.whoisThis()\\npeggy.swim()\\npeggy.run()',\n",
       "  '# child class\\nclass Penguin(Bird):\\n    def swim(self):\\n        print(\"I can Swim\")\\n\\n    def __init__(self):\\n        # call super() function\\n#         super().__init__()\\n        print(\"Penguin is ready\")\\n\\n#     def whoisThis(self):\\n#         print(\"Penguin\")\\n\\n    def run(self):\\n        print(\"Run faster\")',\n",
       "  'peggy = Penguin()\\npeggy.whoisThis()\\npeggy.swim()\\npeggy.run()',\n",
       "  '# child class\\nclass Penguin(Bird):\\n    def swim(self):\\n        print(\"I can Swim\")\\n\\n    def __init__(self):\\n        # call super() function\\n        super().__init__()\\n        print(\"Penguin is ready\")\\n\\n#     def whoisThis(self):\\n#         print(\"Penguin\")\\n\\n    def run(self):\\n        print(\"Run faster\")',\n",
       "  'peggy = Penguin()\\npeggy.whoisThis()\\npeggy.swim()\\npeggy.run()',\n",
       "  '# child class\\nclass Penguin(Bird):\\n    def swim(self):\\n        print(\"I can Swim\")\\n\\n    def __init__(self):\\n        # call super() function\\n        super(Bird).__init__()\\n        print(\"Penguin is ready\")\\n\\n#     def whoisThis(self):\\n#         print(\"Penguin\")\\n\\n    def run(self):\\n        print(\"Run faster\")',\n",
       "  'peggy = Penguin()\\npeggy.whoisThis()\\npeggy.swim()\\npeggy.run()',\n",
       "  '# child class\\nclass Penguin(Bird):\\n    def swim(self):\\n        print(\"I can Swim\")\\n\\n    def __init__(self):\\n        # call super() function\\n        super(Penguin).__init__()\\n        print(\"Penguin is ready\")\\n\\n#     def whoisThis(self):\\n#         print(\"Penguin\")\\n\\n    def run(self):\\n        print(\"Run faster\")',\n",
       "  'peggy = Penguin()\\npeggy.whoisThis()\\npeggy.swim()\\npeggy.run()',\n",
       "  '# child class\\nclass Penguin(Bird):\\n    def swim(self):\\n        print(\"I can Swim\")\\n\\n    def __init__(self):\\n        # call super() function\\n        super().__init__()\\n        print(\"Penguin is ready\")\\n\\n#     def whoisThis(self):\\n#         print(\"Penguin\")\\n\\n    def run(self):\\n        print(\"Run faster\")',\n",
       "  'peggy = Penguin()\\npeggy.whoisThis()\\npeggy.swim()\\npeggy.run()',\n",
       "  '# child class\\nclass Penguin(Bird):\\n    def swim(self):\\n        print(\"I can Swim\")\\n\\n    def __init__(self):\\n        # call super() function\\n        super(Penguin, self).__init__()\\n        print(\"Penguin is ready\")\\n\\n#     def whoisThis(self):\\n#         print(\"Penguin\")\\n\\n    def run(self):\\n        print(\"Run faster\")',\n",
       "  'peggy = Penguin()\\npeggy.whoisThis()\\npeggy.swim()\\npeggy.run()',\n",
       "  '# child class\\nclass Penguin(Bird):\\n    def swim(self):\\n        print(\"I can Swim\")\\n\\n    def __init__(self):\\n        # call super() function\\n        super(Penguin).__init__()\\n        print(\"Penguin is ready\")\\n\\n#     def whoisThis(self):\\n#         print(\"Penguin\")\\n\\n    def run(self):\\n        print(\"Run faster\")',\n",
       "  'peggy = Penguin()\\npeggy.whoisThis()\\npeggy.swim()\\npeggy.run()',\n",
       "  '# parent class\\n# Attribute 0개\\nclass Bird:\\n    \\n    def __init__(self):\\n        print(\"Bird is ready\")\\n\\n    def whoisThis(self):\\n        print(\"Bird\")\\n\\n    def swim(self):\\n        print(\"Swim faster\")',\n",
       "  '# child class\\nclass Penguin(Bird):\\n    def swim(self):\\n        print(\"I can Swim\")\\n\\n    def __init__(self):\\n        # call super() function\\n        super(Penguin).__init__()\\n        print(\"Penguin is ready\")\\n\\n#     def whoisThis(self):\\n#         print(\"Penguin\")\\n\\n    def run(self):\\n        print(\"Run faster\")',\n",
       "  'peggy = Penguin()\\npeggy.whoisThis()\\npeggy.swim()\\npeggy.run()',\n",
       "  '# child class\\nclass Penguin(Bird):\\n    def swim(self):\\n        print(\"I can Swim\")\\n\\n    def __init__(self):\\n        # call super() function\\n        super().__init__()\\n        print(\"Penguin is ready\")\\n\\n#     def whoisThis(self):\\n#         print(\"Penguin\")\\n\\n    def run(self):\\n        print(\"Run faster\")',\n",
       "  'peggy = Penguin()\\npeggy.whoisThis()\\npeggy.swim()\\npeggy.run()',\n",
       "  '# child class\\nclass Penguin(Bird):\\n    def swim(self):\\n        print(\"I can Swim\")\\n\\n    def __init__(self):\\n        # call super() function\\n        super(Bird).__init__()\\n        print(\"Penguin is ready\")\\n\\n#     def whoisThis(self):\\n#         print(\"Penguin\")\\n\\n    def run(self):\\n        print(\"Run faster\")',\n",
       "  'peggy = Penguin()\\npeggy.whoisThis()\\npeggy.swim()\\npeggy.run()',\n",
       "  '# child class\\nclass Penguin(Bird):\\n    def swim(self):\\n        print(\"I can Swim\")\\n\\n    def __init__(self):\\n        # call super() function\\n        super().__init__()\\n        print(\"Penguin is ready\")\\n\\n#     def whoisThis(self):\\n#         print(\"Penguin\")\\n\\n    def run(self):\\n        print(\"Run faster\")',\n",
       "  'peggy = Penguin()\\npeggy.whoisThis()\\npeggy.swim()\\npeggy.run()',\n",
       "  '# child class\\nclass Penguin(Bird):\\n    def swim(self):\\n        print(\"I can Swim\")\\n\\n    def __init__(self):\\n        # call super() function\\n        super(Penguin).__init__()\\n        print(\"Penguin is ready\")\\n\\n#     def whoisThis(self):\\n#         print(\"Penguin\")\\n\\n    def run(self):\\n        print(\"Run faster\")',\n",
       "  'peggy = Penguin()\\npeggy.whoisThis()\\npeggy.swim()\\npeggy.run()',\n",
       "  '# child class\\nclass Penguin(Bird):\\n    def swim(self):\\n        print(\"I can Swim\")\\n\\n    def __init__(self):\\n        # call super() function\\n        super(Bird, self).__init__()\\n        print(\"Penguin is ready\")\\n\\n#     def whoisThis(self):\\n#         print(\"Penguin\")\\n\\n    def run(self):\\n        print(\"Run faster\")',\n",
       "  'peggy = Penguin()\\npeggy.whoisThis()\\npeggy.swim()\\npeggy.run()',\n",
       "  '# child class\\nclass Penguin(Bird):\\n    def swim(self):\\n        print(\"I can Swim\")\\n\\n    def __init__(self):\\n        # call super() function\\n        super(Penguin, self).__init__()\\n        print(\"Penguin is ready\")\\n\\n#     def whoisThis(self):\\n#         print(\"Penguin\")\\n\\n    def run(self):\\n        print(\"Run faster\")',\n",
       "  'peggy = Penguin()\\npeggy.whoisThis()\\npeggy.swim()\\npeggy.run()',\n",
       "  '# child class\\nclass Penguin(Bird):\\n    def swim(self):\\n        print(\"I can Swim\")\\n\\n    def __init__(self):\\n        # call super() function\\n        super(Penguin).__init__()\\n        print(\"Penguin is ready\")\\n\\n#     def whoisThis(self):\\n#         print(\"Penguin\")\\n\\n    def run(self):\\n        print(\"Run faster\")',\n",
       "  'peggy = Penguin()\\npeggy.whoisThis()\\npeggy.swim()\\npeggy.run()',\n",
       "  '# child class\\nclass Penguin(Bird):\\n    def swim(self):\\n        print(\"I can Swim\")\\n\\n    def __init__(self):\\n        # call super() function\\n        super(Penguin,self).__init__()\\n        print(\"Penguin is ready\")\\n\\n#     def whoisThis(self):\\n#         print(\"Penguin\")\\n\\n    def run(self):\\n        print(\"Run faster\")',\n",
       "  'peggy = Penguin()\\npeggy.whoisThis()\\npeggy.swim()\\npeggy.run()',\n",
       "  'peggy = Penguin()\\npeggy.whoisThis()\\npeggy.swim()\\npeggy.run()\\npeggy.__mro__',\n",
       "  'super()',\n",
       "  'class Computer:\\n\\n    def __init__(self):\\n        self.__maxprice = 900\\n\\n    def sell(self):\\n        print(\"Selling Price: {}\".format(self.__maxprice))\\n\\n    def setMaxPrice(self, price):\\n        self.__maxprice = price\\n\\nc = Computer()\\nc.sell()\\n\\n# change the price\\nc.__maxprice = 1000\\nc.sell()\\n\\n# using setter function\\nc.setMaxPrice(1000)\\nc.sell()',\n",
       "  'dir(c)',\n",
       "  'type(c)',\n",
       "  'vars(c0)',\n",
       "  'vars(c)',\n",
       "  'vars(c)',\n",
       "  'class Computer:\\n\\n    def __init__(self):\\n        self.__maxprice = 900\\n\\n    def sell(self):\\n        print(\"Selling Price: {}\".format(self.__maxprice))\\n\\n    def setMaxPrice(self, price):\\n        self.__maxprice = price\\n\\nc = Computer()\\nc.sell()\\n\\n# change the price\\nc.__maxprice = 1000\\nc.sell()\\n\\n# # using setter function\\n# c.setMaxPrice(1000)\\n# c.sell()',\n",
       "  'vars(c)',\n",
       "  'class Computer:\\n\\n    def __init__(self):\\n        self.__maxprice = 900\\n\\n    def sell(self):\\n        print(\"Selling Price: {}\".format(self.__maxprice))\\n\\n    def setMaxPrice(self, price):\\n        self.__maxprice = price\\n\\nc = Computer()\\nc.sell()\\n\\n# change the price\\nc.__maxprice = 1000\\nc.sell()\\n\\n# using setter function\\nc.setMaxPrice(1000)\\nc.sell()',\n",
       "  'vars(c)',\n",
       "  'dir()',\n",
       "  '_226',\n",
       "  '_ii',\n",
       "  '_iii',\n",
       "  'locals()',\n",
       "  'globals()'],\n",
       " 'Out': {5: <__main__.A at 0x1a425a9d978>,\n",
       "  6: __main__.A,\n",
       "  7: ['__class__',\n",
       "   '__delattr__',\n",
       "   '__dict__',\n",
       "   '__dir__',\n",
       "   '__doc__',\n",
       "   '__eq__',\n",
       "   '__format__',\n",
       "   '__ge__',\n",
       "   '__getattribute__',\n",
       "   '__gt__',\n",
       "   '__hash__',\n",
       "   '__init__',\n",
       "   '__init_subclass__',\n",
       "   '__le__',\n",
       "   '__lt__',\n",
       "   '__module__',\n",
       "   '__ne__',\n",
       "   '__new__',\n",
       "   '__reduce__',\n",
       "   '__reduce_ex__',\n",
       "   '__repr__',\n",
       "   '__setattr__',\n",
       "   '__sizeof__',\n",
       "   '__str__',\n",
       "   '__subclasshook__',\n",
       "   '__weakref__',\n",
       "   'a'],\n",
       "  8: type,\n",
       "  10: __main__.A,\n",
       "  11: ['__class__',\n",
       "   '__delattr__',\n",
       "   '__dict__',\n",
       "   '__dir__',\n",
       "   '__doc__',\n",
       "   '__eq__',\n",
       "   '__format__',\n",
       "   '__ge__',\n",
       "   '__getattribute__',\n",
       "   '__gt__',\n",
       "   '__hash__',\n",
       "   '__init__',\n",
       "   '__init_subclass__',\n",
       "   '__le__',\n",
       "   '__lt__',\n",
       "   '__module__',\n",
       "   '__ne__',\n",
       "   '__new__',\n",
       "   '__reduce__',\n",
       "   '__reduce_ex__',\n",
       "   '__repr__',\n",
       "   '__setattr__',\n",
       "   '__sizeof__',\n",
       "   '__str__',\n",
       "   '__subclasshook__',\n",
       "   '__weakref__',\n",
       "   'a'],\n",
       "  12: 3,\n",
       "  16: 3,\n",
       "  30: '윤성찬',\n",
       "  31: ['__class__',\n",
       "   '__delattr__',\n",
       "   '__dict__',\n",
       "   '__dir__',\n",
       "   '__doc__',\n",
       "   '__eq__',\n",
       "   '__format__',\n",
       "   '__ge__',\n",
       "   '__getattribute__',\n",
       "   '__gt__',\n",
       "   '__hash__',\n",
       "   '__init__',\n",
       "   '__init_subclass__',\n",
       "   '__le__',\n",
       "   '__lt__',\n",
       "   '__module__',\n",
       "   '__ne__',\n",
       "   '__new__',\n",
       "   '__reduce__',\n",
       "   '__reduce_ex__',\n",
       "   '__repr__',\n",
       "   '__setattr__',\n",
       "   '__sizeof__',\n",
       "   '__str__',\n",
       "   '__subclasshook__',\n",
       "   '__weakref__',\n",
       "   'a',\n",
       "   'xx'],\n",
       "  32: {'a': 3, 'xx': '윤성찬'},\n",
       "  33: {'a': 3, 'xx': '윤성찬'},\n",
       "  34: {'a': 3, 'xx': '윤성찬'},\n",
       "  42: <function frozenset.__contains__>,\n",
       "  44: <function frozenset.__contains__>,\n",
       "  45: ['False',\n",
       "   'None',\n",
       "   'True',\n",
       "   'and',\n",
       "   'as',\n",
       "   'assert',\n",
       "   'break',\n",
       "   'class',\n",
       "   'continue',\n",
       "   'def',\n",
       "   'del',\n",
       "   'elif',\n",
       "   'else',\n",
       "   'except',\n",
       "   'finally',\n",
       "   'for',\n",
       "   'from',\n",
       "   'global',\n",
       "   'if',\n",
       "   'import',\n",
       "   'in',\n",
       "   'is',\n",
       "   'lambda',\n",
       "   'nonlocal',\n",
       "   'not',\n",
       "   'or',\n",
       "   'pass',\n",
       "   'raise',\n",
       "   'return',\n",
       "   'try',\n",
       "   'while',\n",
       "   'with',\n",
       "   'yield'],\n",
       "  47: 3,\n",
       "  48: ['__all__',\n",
       "   '__builtins__',\n",
       "   '__cached__',\n",
       "   '__doc__',\n",
       "   '__file__',\n",
       "   '__loader__',\n",
       "   '__name__',\n",
       "   '__package__',\n",
       "   '__spec__',\n",
       "   'iskeyword',\n",
       "   'kwlist',\n",
       "   'main',\n",
       "   'xx'],\n",
       "  50: ['__all__',\n",
       "   '__builtins__',\n",
       "   '__cached__',\n",
       "   '__doc__',\n",
       "   '__file__',\n",
       "   '__loader__',\n",
       "   '__name__',\n",
       "   '__package__',\n",
       "   '__spec__',\n",
       "   'iskeyword',\n",
       "   'kwlist',\n",
       "   'main'],\n",
       "  53: ['_A__a',\n",
       "   '__class__',\n",
       "   '__delattr__',\n",
       "   '__dict__',\n",
       "   '__dir__',\n",
       "   '__doc__',\n",
       "   '__eq__',\n",
       "   '__format__',\n",
       "   '__ge__',\n",
       "   '__getattribute__',\n",
       "   '__gt__',\n",
       "   '__hash__',\n",
       "   '__init__',\n",
       "   '__init_subclass__',\n",
       "   '__le__',\n",
       "   '__lt__',\n",
       "   '__module__',\n",
       "   '__ne__',\n",
       "   '__new__',\n",
       "   '__reduce__',\n",
       "   '__reduce_ex__',\n",
       "   '__repr__',\n",
       "   '__setattr__',\n",
       "   '__sizeof__',\n",
       "   '__str__',\n",
       "   '__subclasshook__',\n",
       "   '__weakref__',\n",
       "   'a',\n",
       "   'beau'],\n",
       "  85: ['_A__a',\n",
       "   '_A__beau',\n",
       "   '__class__',\n",
       "   '__delattr__',\n",
       "   '__dict__',\n",
       "   '__dir__',\n",
       "   '__doc__',\n",
       "   '__eq__',\n",
       "   '__format__',\n",
       "   '__ge__',\n",
       "   '__getattribute__',\n",
       "   '__gt__',\n",
       "   '__hash__',\n",
       "   '__init__',\n",
       "   '__init_subclass__',\n",
       "   '__le__',\n",
       "   '__lt__',\n",
       "   '__module__',\n",
       "   '__ne__',\n",
       "   '__new__',\n",
       "   '__reduce__',\n",
       "   '__reduce_ex__',\n",
       "   '__repr__',\n",
       "   '__setattr__',\n",
       "   '__sizeof__',\n",
       "   '__str__',\n",
       "   '__subclasshook__',\n",
       "   '__weakref__',\n",
       "   'beau'],\n",
       "  91: ['_A__a',\n",
       "   '_A__beau',\n",
       "   '__class__',\n",
       "   '__delattr__',\n",
       "   '__dict__',\n",
       "   '__dir__',\n",
       "   '__doc__',\n",
       "   '__eq__',\n",
       "   '__format__',\n",
       "   '__ge__',\n",
       "   '__getattribute__',\n",
       "   '__gt__',\n",
       "   '__hash__',\n",
       "   '__init__',\n",
       "   '__init_subclass__',\n",
       "   '__le__',\n",
       "   '__lt__',\n",
       "   '__module__',\n",
       "   '__ne__',\n",
       "   '__new__',\n",
       "   '__reduce__',\n",
       "   '__reduce_ex__',\n",
       "   '__repr__',\n",
       "   '__setattr__',\n",
       "   '__sizeof__',\n",
       "   '__str__',\n",
       "   '__subclasshook__',\n",
       "   '__weakref__',\n",
       "   'beau',\n",
       "   'func'],\n",
       "  96: {'name': 'Blu', 'age': 10, 'species': 'birds2'},\n",
       "  97: 'bird',\n",
       "  99: {'name': 'Blu', 'age': 10, 'species': 'birds2'},\n",
       "  100: 'bird',\n",
       "  101: {'name': 'Woo', 'age': 15},\n",
       "  102: 'birds2',\n",
       "  103: 'bird',\n",
       "  104: 'bird',\n",
       "  108: {'name': '찬찬', 'age': 30, 'species': 'bird2'},\n",
       "  109: 'bird',\n",
       "  110: 'bird',\n",
       "  112: 'bird2',\n",
       "  115: {'name': '찬찬', 'age': 30, 'species': 'bird2'},\n",
       "  116: 'bird',\n",
       "  117: 'bird',\n",
       "  119: 'bird2',\n",
       "  120: 'bird',\n",
       "  121: __main__.Parrot,\n",
       "  122: <function Parrot.mro>,\n",
       "  123: 'bird',\n",
       "  128: '찬찬 sings 노래',\n",
       "  132: '찬찬 sings 노래',\n",
       "  136: 'aaa is now dancing',\n",
       "  138: 'aaa is now dancing',\n",
       "  140: 'aaa is now dancing',\n",
       "  141: 'aaa is now dancing',\n",
       "  143: '찬찬 sings 노래',\n",
       "  151: '찬찬 is now dancing',\n",
       "  160: 'now dancing222',\n",
       "  161: <bound method Parrot.dance2 of <class '__main__.Parrot'>>,\n",
       "  162: 'now dancing222',\n",
       "  163: 'now dancing222',\n",
       "  166: 'aaa is now dancing',\n",
       "  172: ['__class__',\n",
       "   '__delattr__',\n",
       "   '__dict__',\n",
       "   '__dir__',\n",
       "   '__doc__',\n",
       "   '__eq__',\n",
       "   '__format__',\n",
       "   '__ge__',\n",
       "   '__getattribute__',\n",
       "   '__gt__',\n",
       "   '__hash__',\n",
       "   '__init__',\n",
       "   '__init_subclass__',\n",
       "   '__le__',\n",
       "   '__lt__',\n",
       "   '__module__',\n",
       "   '__ne__',\n",
       "   '__new__',\n",
       "   '__reduce__',\n",
       "   '__reduce_ex__',\n",
       "   '__repr__',\n",
       "   '__setattr__',\n",
       "   '__sizeof__',\n",
       "   '__str__',\n",
       "   '__subclasshook__',\n",
       "   '__weakref__',\n",
       "   'swim',\n",
       "   'whoisThis'],\n",
       "  177: ['__class__',\n",
       "   '__delattr__',\n",
       "   '__dict__',\n",
       "   '__dir__',\n",
       "   '__doc__',\n",
       "   '__eq__',\n",
       "   '__format__',\n",
       "   '__ge__',\n",
       "   '__getattribute__',\n",
       "   '__gt__',\n",
       "   '__hash__',\n",
       "   '__init__',\n",
       "   '__init_subclass__',\n",
       "   '__le__',\n",
       "   '__lt__',\n",
       "   '__module__',\n",
       "   '__ne__',\n",
       "   '__new__',\n",
       "   '__reduce__',\n",
       "   '__reduce_ex__',\n",
       "   '__repr__',\n",
       "   '__setattr__',\n",
       "   '__sizeof__',\n",
       "   '__str__',\n",
       "   '__subclasshook__',\n",
       "   '__weakref__',\n",
       "   'run',\n",
       "   'swim',\n",
       "   'whoisThis'],\n",
       "  218: ['_Computer__maxprice',\n",
       "   '__class__',\n",
       "   '__delattr__',\n",
       "   '__dict__',\n",
       "   '__dir__',\n",
       "   '__doc__',\n",
       "   '__eq__',\n",
       "   '__format__',\n",
       "   '__ge__',\n",
       "   '__getattribute__',\n",
       "   '__gt__',\n",
       "   '__hash__',\n",
       "   '__init__',\n",
       "   '__init_subclass__',\n",
       "   '__le__',\n",
       "   '__lt__',\n",
       "   '__maxprice',\n",
       "   '__module__',\n",
       "   '__ne__',\n",
       "   '__new__',\n",
       "   '__reduce__',\n",
       "   '__reduce_ex__',\n",
       "   '__repr__',\n",
       "   '__setattr__',\n",
       "   '__sizeof__',\n",
       "   '__str__',\n",
       "   '__subclasshook__',\n",
       "   '__weakref__',\n",
       "   'sell',\n",
       "   'setMaxPrice'],\n",
       "  219: __main__.Computer,\n",
       "  221: {'_Computer__maxprice': 1000, '__maxprice': 1000},\n",
       "  222: {'_Computer__maxprice': 1000, '__maxprice': 1000},\n",
       "  224: {'_Computer__maxprice': 900, '__maxprice': 1000},\n",
       "  226: {'_Computer__maxprice': 1000, '__maxprice': 1000},\n",
       "  227: ['A',\n",
       "   'Bird',\n",
       "   'Computer',\n",
       "   'In',\n",
       "   'Out',\n",
       "   'Parrot',\n",
       "   'Penguin',\n",
       "   '_',\n",
       "   '_10',\n",
       "   '_100',\n",
       "   '_101',\n",
       "   '_102',\n",
       "   '_103',\n",
       "   '_104',\n",
       "   '_108',\n",
       "   '_109',\n",
       "   '_11',\n",
       "   '_110',\n",
       "   '_112',\n",
       "   '_115',\n",
       "   '_116',\n",
       "   '_117',\n",
       "   '_119',\n",
       "   '_12',\n",
       "   '_120',\n",
       "   '_121',\n",
       "   '_122',\n",
       "   '_123',\n",
       "   '_128',\n",
       "   '_132',\n",
       "   '_136',\n",
       "   '_138',\n",
       "   '_140',\n",
       "   '_141',\n",
       "   '_143',\n",
       "   '_151',\n",
       "   '_16',\n",
       "   '_160',\n",
       "   '_161',\n",
       "   '_162',\n",
       "   '_163',\n",
       "   '_166',\n",
       "   '_172',\n",
       "   '_177',\n",
       "   '_218',\n",
       "   '_219',\n",
       "   '_221',\n",
       "   '_222',\n",
       "   '_224',\n",
       "   '_226',\n",
       "   '_30',\n",
       "   '_31',\n",
       "   '_32',\n",
       "   '_33',\n",
       "   '_34',\n",
       "   '_42',\n",
       "   '_44',\n",
       "   '_45',\n",
       "   '_47',\n",
       "   '_48',\n",
       "   '_5',\n",
       "   '_50',\n",
       "   '_53',\n",
       "   '_6',\n",
       "   '_7',\n",
       "   '_8',\n",
       "   '_85',\n",
       "   '_91',\n",
       "   '_96',\n",
       "   '_97',\n",
       "   '_99',\n",
       "   '__',\n",
       "   '___',\n",
       "   '__builtin__',\n",
       "   '__builtins__',\n",
       "   '__doc__',\n",
       "   '__loader__',\n",
       "   '__name__',\n",
       "   '__package__',\n",
       "   '__spec__',\n",
       "   '_dh',\n",
       "   '_i',\n",
       "   '_i1',\n",
       "   '_i10',\n",
       "   '_i100',\n",
       "   '_i101',\n",
       "   '_i102',\n",
       "   '_i103',\n",
       "   '_i104',\n",
       "   '_i105',\n",
       "   '_i106',\n",
       "   '_i107',\n",
       "   '_i108',\n",
       "   '_i109',\n",
       "   '_i11',\n",
       "   '_i110',\n",
       "   '_i111',\n",
       "   '_i112',\n",
       "   '_i113',\n",
       "   '_i114',\n",
       "   '_i115',\n",
       "   '_i116',\n",
       "   '_i117',\n",
       "   '_i118',\n",
       "   '_i119',\n",
       "   '_i12',\n",
       "   '_i120',\n",
       "   '_i121',\n",
       "   '_i122',\n",
       "   '_i123',\n",
       "   '_i124',\n",
       "   '_i125',\n",
       "   '_i126',\n",
       "   '_i127',\n",
       "   '_i128',\n",
       "   '_i129',\n",
       "   '_i13',\n",
       "   '_i130',\n",
       "   '_i131',\n",
       "   '_i132',\n",
       "   '_i133',\n",
       "   '_i134',\n",
       "   '_i135',\n",
       "   '_i136',\n",
       "   '_i137',\n",
       "   '_i138',\n",
       "   '_i139',\n",
       "   '_i14',\n",
       "   '_i140',\n",
       "   '_i141',\n",
       "   '_i142',\n",
       "   '_i143',\n",
       "   '_i144',\n",
       "   '_i145',\n",
       "   '_i146',\n",
       "   '_i147',\n",
       "   '_i148',\n",
       "   '_i149',\n",
       "   '_i15',\n",
       "   '_i150',\n",
       "   '_i151',\n",
       "   '_i152',\n",
       "   '_i153',\n",
       "   '_i154',\n",
       "   '_i155',\n",
       "   '_i156',\n",
       "   '_i157',\n",
       "   '_i158',\n",
       "   '_i159',\n",
       "   '_i16',\n",
       "   '_i160',\n",
       "   '_i161',\n",
       "   '_i162',\n",
       "   '_i163',\n",
       "   '_i164',\n",
       "   '_i165',\n",
       "   '_i166',\n",
       "   '_i167',\n",
       "   '_i168',\n",
       "   '_i169',\n",
       "   '_i17',\n",
       "   '_i170',\n",
       "   '_i171',\n",
       "   '_i172',\n",
       "   '_i173',\n",
       "   '_i174',\n",
       "   '_i175',\n",
       "   '_i176',\n",
       "   '_i177',\n",
       "   '_i178',\n",
       "   '_i179',\n",
       "   '_i18',\n",
       "   '_i180',\n",
       "   '_i181',\n",
       "   '_i182',\n",
       "   '_i183',\n",
       "   '_i184',\n",
       "   '_i185',\n",
       "   '_i186',\n",
       "   '_i187',\n",
       "   '_i188',\n",
       "   '_i189',\n",
       "   '_i19',\n",
       "   '_i190',\n",
       "   '_i191',\n",
       "   '_i192',\n",
       "   '_i193',\n",
       "   '_i194',\n",
       "   '_i195',\n",
       "   '_i196',\n",
       "   '_i197',\n",
       "   '_i198',\n",
       "   '_i199',\n",
       "   '_i2',\n",
       "   '_i20',\n",
       "   '_i200',\n",
       "   '_i201',\n",
       "   '_i202',\n",
       "   '_i203',\n",
       "   '_i204',\n",
       "   '_i205',\n",
       "   '_i206',\n",
       "   '_i207',\n",
       "   '_i208',\n",
       "   '_i209',\n",
       "   '_i21',\n",
       "   '_i210',\n",
       "   '_i211',\n",
       "   '_i212',\n",
       "   '_i213',\n",
       "   '_i214',\n",
       "   '_i215',\n",
       "   '_i216',\n",
       "   '_i217',\n",
       "   '_i218',\n",
       "   '_i219',\n",
       "   '_i22',\n",
       "   '_i220',\n",
       "   '_i221',\n",
       "   '_i222',\n",
       "   '_i223',\n",
       "   '_i224',\n",
       "   '_i225',\n",
       "   '_i226',\n",
       "   '_i227',\n",
       "   '_i23',\n",
       "   '_i24',\n",
       "   '_i25',\n",
       "   '_i26',\n",
       "   '_i27',\n",
       "   '_i28',\n",
       "   '_i29',\n",
       "   '_i3',\n",
       "   '_i30',\n",
       "   '_i31',\n",
       "   '_i32',\n",
       "   '_i33',\n",
       "   '_i34',\n",
       "   '_i35',\n",
       "   '_i36',\n",
       "   '_i37',\n",
       "   '_i38',\n",
       "   '_i39',\n",
       "   '_i4',\n",
       "   '_i40',\n",
       "   '_i41',\n",
       "   '_i42',\n",
       "   '_i43',\n",
       "   '_i44',\n",
       "   '_i45',\n",
       "   '_i46',\n",
       "   '_i47',\n",
       "   '_i48',\n",
       "   '_i49',\n",
       "   '_i5',\n",
       "   '_i50',\n",
       "   '_i51',\n",
       "   '_i52',\n",
       "   '_i53',\n",
       "   '_i54',\n",
       "   '_i55',\n",
       "   '_i56',\n",
       "   '_i57',\n",
       "   '_i58',\n",
       "   '_i59',\n",
       "   '_i6',\n",
       "   '_i60',\n",
       "   '_i61',\n",
       "   '_i62',\n",
       "   '_i63',\n",
       "   '_i64',\n",
       "   '_i65',\n",
       "   '_i66',\n",
       "   '_i67',\n",
       "   '_i68',\n",
       "   '_i69',\n",
       "   '_i7',\n",
       "   '_i70',\n",
       "   '_i71',\n",
       "   '_i72',\n",
       "   '_i73',\n",
       "   '_i74',\n",
       "   '_i75',\n",
       "   '_i76',\n",
       "   '_i77',\n",
       "   '_i78',\n",
       "   '_i79',\n",
       "   '_i8',\n",
       "   '_i80',\n",
       "   '_i81',\n",
       "   '_i82',\n",
       "   '_i83',\n",
       "   '_i84',\n",
       "   '_i85',\n",
       "   '_i86',\n",
       "   '_i87',\n",
       "   '_i88',\n",
       "   '_i89',\n",
       "   '_i9',\n",
       "   '_i90',\n",
       "   '_i91',\n",
       "   '_i92',\n",
       "   '_i93',\n",
       "   '_i94',\n",
       "   '_i95',\n",
       "   '_i96',\n",
       "   '_i97',\n",
       "   '_i98',\n",
       "   '_i99',\n",
       "   '_ih',\n",
       "   '_ii',\n",
       "   '_iii',\n",
       "   '_oh',\n",
       "   'aa',\n",
       "   'blu',\n",
       "   'c',\n",
       "   'd',\n",
       "   'exit',\n",
       "   'func',\n",
       "   'get_ipython',\n",
       "   'keyword',\n",
       "   'peggy',\n",
       "   'quit',\n",
       "   'woo',\n",
       "   'xxxx',\n",
       "   'yyy',\n",
       "   '찬'],\n",
       "  228: {'_Computer__maxprice': 1000, '__maxprice': 1000},\n",
       "  229: 'dir()',\n",
       "  230: 'dir()',\n",
       "  231: {...}},\n",
       " 'get_ipython': <bound method InteractiveShell.get_ipython of <ipykernel.zmqshell.ZMQInteractiveShell object at 0x000001A425969F28>>,\n",
       " 'exit': <IPython.core.autocall.ZMQExitAutocall at 0x1a4259c2390>,\n",
       " 'quit': <IPython.core.autocall.ZMQExitAutocall at 0x1a4259c2390>,\n",
       " '_': {...},\n",
       " '__': 'dir()',\n",
       " '___': 'dir()',\n",
       " '_i': 'locals()',\n",
       " '_ii': '_iii',\n",
       " '_iii': '_ii',\n",
       " '_i1': 'class ',\n",
       " '_i2': 'class A:\\n    a = 3\\n    ',\n",
       " 'A': __main__.A,\n",
       " '_i3': 'class A:\\n    a = 3',\n",
       " '_i4': 'aa = A()',\n",
       " 'aa': <__main__.Parrot at 0x1a425b6c4a8>,\n",
       " '_i5': 'aa',\n",
       " '_5': <__main__.A at 0x1a425a9d978>,\n",
       " '_i6': 'type(aa)',\n",
       " '_6': __main__.A,\n",
       " '_i7': 'dir(aa)',\n",
       " '_7': ['__class__',\n",
       "  '__delattr__',\n",
       "  '__dict__',\n",
       "  '__dir__',\n",
       "  '__doc__',\n",
       "  '__eq__',\n",
       "  '__format__',\n",
       "  '__ge__',\n",
       "  '__getattribute__',\n",
       "  '__gt__',\n",
       "  '__hash__',\n",
       "  '__init__',\n",
       "  '__init_subclass__',\n",
       "  '__le__',\n",
       "  '__lt__',\n",
       "  '__module__',\n",
       "  '__ne__',\n",
       "  '__new__',\n",
       "  '__reduce__',\n",
       "  '__reduce_ex__',\n",
       "  '__repr__',\n",
       "  '__setattr__',\n",
       "  '__sizeof__',\n",
       "  '__str__',\n",
       "  '__subclasshook__',\n",
       "  '__weakref__',\n",
       "  'a'],\n",
       " '_i8': 'type(A)',\n",
       " '_8': type,\n",
       " '_i9': 'type 을 쳤는데 type이 나온다?',\n",
       " '_i10': 'type(aa)',\n",
       " '_10': __main__.A,\n",
       " '_i11': 'dir(aa)',\n",
       " '_11': ['__class__',\n",
       "  '__delattr__',\n",
       "  '__dict__',\n",
       "  '__dir__',\n",
       "  '__doc__',\n",
       "  '__eq__',\n",
       "  '__format__',\n",
       "  '__ge__',\n",
       "  '__getattribute__',\n",
       "  '__gt__',\n",
       "  '__hash__',\n",
       "  '__init__',\n",
       "  '__init_subclass__',\n",
       "  '__le__',\n",
       "  '__lt__',\n",
       "  '__module__',\n",
       "  '__ne__',\n",
       "  '__new__',\n",
       "  '__reduce__',\n",
       "  '__reduce_ex__',\n",
       "  '__repr__',\n",
       "  '__setattr__',\n",
       "  '__sizeof__',\n",
       "  '__str__',\n",
       "  '__subclasshook__',\n",
       "  '__weakref__',\n",
       "  'a'],\n",
       " '_i12': 'aa.a',\n",
       " '_12': 3,\n",
       " '_i13': 'class A:\\n    a = 3',\n",
       " '_i14': \"class A:\\n    a = 3\\n    def __init__(self):\\n        print('init')\",\n",
       " '_i15': 'aa = A()',\n",
       " '_i16': 'aa.a',\n",
       " '_16': 3,\n",
       " '_i17': \"class A:\\n    a = 3\\n    def __init__(self,x):\\n        self.a=x\\n        print('init')\",\n",
       " '_i18': 'aa = A()',\n",
       " '_i19': 'aa = A(3)',\n",
       " '_i20': \"class A:\\n    a = 3\\n    def __init__(self,x):\\n        self.a=x\\n        print('init')\\n        print(a)\",\n",
       " '_i21': 'aa = A(3)',\n",
       " '_i22': \"class A:\\n    a = 3\\n    def __init__(self,x):\\n        self.a=x\\n        print('init')\\n        print(self.a)\",\n",
       " '_i23': 'aa = A(3)',\n",
       " '_i24': \"class A:\\n    a = 3\\n    def __init__(self,x,y):\\n        self.a=x\\n        print('init')\\n        print(self.a,y)\",\n",
       " '_i25': 'aa = A(3,4)',\n",
       " '_i26': \"class A:\\n    a = 3\\n    def __init__(self,x=3):\\n        self.a=x\\n        print('init')\",\n",
       " '_i27': 'aa = A()',\n",
       " '_i28': 'aa.xx=\"윤성ㅊ나\"',\n",
       " '_i29': 'aa.xx=\"윤성찬\"',\n",
       " '_i30': 'aa.xx',\n",
       " '_30': '윤성찬',\n",
       " '_i31': 'dir(aa)',\n",
       " '_31': ['__class__',\n",
       "  '__delattr__',\n",
       "  '__dict__',\n",
       "  '__dir__',\n",
       "  '__doc__',\n",
       "  '__eq__',\n",
       "  '__format__',\n",
       "  '__ge__',\n",
       "  '__getattribute__',\n",
       "  '__gt__',\n",
       "  '__hash__',\n",
       "  '__init__',\n",
       "  '__init_subclass__',\n",
       "  '__le__',\n",
       "  '__lt__',\n",
       "  '__module__',\n",
       "  '__ne__',\n",
       "  '__new__',\n",
       "  '__reduce__',\n",
       "  '__reduce_ex__',\n",
       "  '__repr__',\n",
       "  '__setattr__',\n",
       "  '__sizeof__',\n",
       "  '__str__',\n",
       "  '__subclasshook__',\n",
       "  '__weakref__',\n",
       "  'a',\n",
       "  'xx'],\n",
       " '_i32': 'vars(aa)',\n",
       " '_32': {'a': 3, 'xx': '윤성찬'},\n",
       " '_i33': 'vars(aa)',\n",
       " '_33': {'a': 3, 'xx': '윤성찬'},\n",
       " '_i34': 'aa.__dict__',\n",
       " '_34': {'a': 3, 'xx': '윤성찬'},\n",
       " '_i35': \"class A:\\n    a = 3\\n    def __init__(self,x=3):\\n        self.a=x\\n        print('init')\\n    def beua(self):\\n        print('beautiful')\",\n",
       " '_i36': 'aa = A()',\n",
       " '_i37': \"class A:\\n    a = 3\\n    def __init__(self,x=3):\\n        self.a=x\\n        print('init')\\n    def beau(self):\\n        print('beautiful')\",\n",
       " '_i38': 'aa = A()',\n",
       " '_i39': 'aa.beau()',\n",
       " '_i40': 'aa.beau()',\n",
       " '_i41': 'import keyword',\n",
       " 'keyword': <module 'keyword' from 'C:\\\\Users\\\\user\\\\Anaconda3\\\\lib\\\\keyword.py'>,\n",
       " '_i42': 'keyword.iskeyword',\n",
       " '_42': <function frozenset.__contains__>,\n",
       " '_i43': 'keyword.iskeyword()',\n",
       " '_i44': 'keyword.iskeyword',\n",
       " '_44': <function frozenset.__contains__>,\n",
       " '_i45': 'keyword.kwlist',\n",
       " '_45': ['False',\n",
       "  'None',\n",
       "  'True',\n",
       "  'and',\n",
       "  'as',\n",
       "  'assert',\n",
       "  'break',\n",
       "  'class',\n",
       "  'continue',\n",
       "  'def',\n",
       "  'del',\n",
       "  'elif',\n",
       "  'else',\n",
       "  'except',\n",
       "  'finally',\n",
       "  'for',\n",
       "  'from',\n",
       "  'global',\n",
       "  'if',\n",
       "  'import',\n",
       "  'in',\n",
       "  'is',\n",
       "  'lambda',\n",
       "  'nonlocal',\n",
       "  'not',\n",
       "  'or',\n",
       "  'pass',\n",
       "  'raise',\n",
       "  'return',\n",
       "  'try',\n",
       "  'while',\n",
       "  'with',\n",
       "  'yield'],\n",
       " '_i46': 'keyword.xx = 3',\n",
       " '_i47': 'keyword.xx',\n",
       " '_47': 3,\n",
       " '_i48': 'dir(keyword)',\n",
       " '_48': ['__all__',\n",
       "  '__builtins__',\n",
       "  '__cached__',\n",
       "  '__doc__',\n",
       "  '__file__',\n",
       "  '__loader__',\n",
       "  '__name__',\n",
       "  '__package__',\n",
       "  '__spec__',\n",
       "  'iskeyword',\n",
       "  'kwlist',\n",
       "  'main',\n",
       "  'xx'],\n",
       " '_i49': 'del keyword.xx',\n",
       " '_i50': 'dir(keyword)',\n",
       " '_50': ['__all__',\n",
       "  '__builtins__',\n",
       "  '__cached__',\n",
       "  '__doc__',\n",
       "  '__file__',\n",
       "  '__loader__',\n",
       "  '__name__',\n",
       "  '__package__',\n",
       "  '__spec__',\n",
       "  'iskeyword',\n",
       "  'kwlist',\n",
       "  'main'],\n",
       " '_i51': \"class A:\\n    __a = 3\\n    def __init__(self,x=3):\\n        self.a=x\\n        print('init')\\n    def beau(self):\\n        print('beautiful')\",\n",
       " '_i52': 'aa = A()',\n",
       " '_i53': 'dir(aa)',\n",
       " '_53': ['_A__a',\n",
       "  '__class__',\n",
       "  '__delattr__',\n",
       "  '__dict__',\n",
       "  '__dir__',\n",
       "  '__doc__',\n",
       "  '__eq__',\n",
       "  '__format__',\n",
       "  '__ge__',\n",
       "  '__getattribute__',\n",
       "  '__gt__',\n",
       "  '__hash__',\n",
       "  '__init__',\n",
       "  '__init_subclass__',\n",
       "  '__le__',\n",
       "  '__lt__',\n",
       "  '__module__',\n",
       "  '__ne__',\n",
       "  '__new__',\n",
       "  '__reduce__',\n",
       "  '__reduce_ex__',\n",
       "  '__repr__',\n",
       "  '__setattr__',\n",
       "  '__sizeof__',\n",
       "  '__str__',\n",
       "  '__subclasshook__',\n",
       "  '__weakref__',\n",
       "  'a',\n",
       "  'beau'],\n",
       " '_i54': 'aa.__a',\n",
       " '_i55': \"class A:\\n    a = 3\\n    def __init__(self,x):\\n        self.__a=x\\n        print('init')\\n        print(self.__a)\",\n",
       " '_i56': 'aa = A(3,4)',\n",
       " '_i57': \"class A:\\n    a = 3\\n    def __init__(self,x):\\n        self.__a=x\\n        print('init')\",\n",
       " '_i58': 'aa = A(3,4)',\n",
       " '_i59': \"class A:\\n    a = 3\\n    def __init__(self,x):\\n        self.__a=x\\n        print('init')\",\n",
       " '_i60': 'aa = A(4)',\n",
       " '_i61': 'aa.__a',\n",
       " '_i62': 'aa = A(4)\\nd = A()',\n",
       " '_i63': 'aa = A(4)',\n",
       " '_i64': 'aa = A()\\nd = A(2)',\n",
       " '_i65': 'aa = A()',\n",
       " '_i66': \"class A:\\n    __a = 3\\n    def __init__(self,x=3):\\n        self.a=x\\n        print('init')\\n    def beau(self):\\n        print('beautiful')\",\n",
       " '_i67': 'aa = A()',\n",
       " '_i68': \"class A:\\n    a = 3\\n    def __init__(self,x=3):\\n        self.a=x\\n        print('init')\\n    def beau(self):\\n        print('beautiful')\",\n",
       " '_i69': 'c = A()',\n",
       " 'c': <__main__.Computer at 0x1a425bf1d30>,\n",
       " '_i70': 'c = A()\\nd = A(3)',\n",
       " 'd': <__main__.A at 0x1a425b66390>,\n",
       " '_i71': 'c.beau()',\n",
       " '_i72': 'c.beau()\\nd.beau()',\n",
       " '_i73': 'A.beau(c)',\n",
       " '_i74': \"class A:\\n    __a = 3\\n    def __init__(self,x=3):\\n        self.__a=x\\n        print('init')\\n    def beau(self):\\n        print('beautiful')\",\n",
       " '_i75': 'aa = A()',\n",
       " '_i76': 'aa.__a',\n",
       " '_i77': 'A.beau(c)',\n",
       " '_i78': 'aa.__a()',\n",
       " '_i79': 'aa.__a',\n",
       " '_i80': 'aa = A()',\n",
       " '_i81': 'aa.__a',\n",
       " '_i82': \"class A:\\n    __a = 3\\n    def __init__(self,x=3):\\n        self.__a=x\\n        print('init')\\n    def beau(self):\\n        print('beautiful')\\n    def __beau(self):\\n        print('beautiful')\",\n",
       " '_i83': 'aa = A()',\n",
       " '_i84': 'xxxx = A()',\n",
       " 'xxxx': <__main__.A at 0x1a425b689e8>,\n",
       " '_i85': 'dir(xxxx)',\n",
       " '_85': ['_A__a',\n",
       "  '_A__beau',\n",
       "  '__class__',\n",
       "  '__delattr__',\n",
       "  '__dict__',\n",
       "  '__dir__',\n",
       "  '__doc__',\n",
       "  '__eq__',\n",
       "  '__format__',\n",
       "  '__ge__',\n",
       "  '__getattribute__',\n",
       "  '__gt__',\n",
       "  '__hash__',\n",
       "  '__init__',\n",
       "  '__init_subclass__',\n",
       "  '__le__',\n",
       "  '__lt__',\n",
       "  '__module__',\n",
       "  '__ne__',\n",
       "  '__new__',\n",
       "  '__reduce__',\n",
       "  '__reduce_ex__',\n",
       "  '__repr__',\n",
       "  '__setattr__',\n",
       "  '__sizeof__',\n",
       "  '__str__',\n",
       "  '__subclasshook__',\n",
       "  '__weakref__',\n",
       "  'beau'],\n",
       " '_i86': 'xxxx.__beau()',\n",
       " '_i87': 'func = lambda self:self+1',\n",
       " 'func': <function __main__.<lambda>(self)>,\n",
       " '_i88': 'yyy = A()',\n",
       " 'yyy': <__main__.A at 0x1a425b68ac8>,\n",
       " '_i89': 'yyy.func = func',\n",
       " '_i90': 'A.func(yyy)',\n",
       " '_i91': 'dir(yyy)',\n",
       " '_91': ['_A__a',\n",
       "  '_A__beau',\n",
       "  '__class__',\n",
       "  '__delattr__',\n",
       "  '__dict__',\n",
       "  '__dir__',\n",
       "  '__doc__',\n",
       "  '__eq__',\n",
       "  '__format__',\n",
       "  '__ge__',\n",
       "  '__getattribute__',\n",
       "  '__gt__',\n",
       "  '__hash__',\n",
       "  '__init__',\n",
       "  '__init_subclass__',\n",
       "  '__le__',\n",
       "  '__lt__',\n",
       "  '__module__',\n",
       "  '__ne__',\n",
       "  '__new__',\n",
       "  '__reduce__',\n",
       "  '__reduce_ex__',\n",
       "  '__repr__',\n",
       "  '__setattr__',\n",
       "  '__sizeof__',\n",
       "  '__str__',\n",
       "  '__subclasshook__',\n",
       "  '__weakref__',\n",
       "  'beau',\n",
       "  'func'],\n",
       " '_i92': 'class Parrot:\\n\\n    # class attribute\\n    species = \"bird\"\\n\\n    # instance attribute\\n    def __init__(self, name, age):\\n        self.name = name\\n        self.age = age\\n\\n# instantiate the Parrot class\\nblu = Parrot(\"Blu\", 10)\\nwoo = Parrot(\"Woo\", 15)',\n",
       " 'Parrot': __main__.Parrot,\n",
       " 'blu': <__main__.Parrot at 0x1a425b6cf60>,\n",
       " 'woo': <__main__.Parrot at 0x1a425b68b70>,\n",
       " '_i93': '# access the class attributes\\nprint(\"Blu is a {}\".format(blu.__class__.species))\\nprint(\"Woo is also a {}\".format(woo.__class__.species))\\n\\n# access the instance attributes\\nprint(\"{} is {} years old\".format( blu.name, blu.age))\\nprint(\"{} is {} years old\".format( woo.name, woo.age))',\n",
       " '_i94': \"blu.species='birds2'\",\n",
       " '_i95': 'blu._dict__',\n",
       " '_i96': 'blu.__dict__',\n",
       " '_96': {'name': 'Blu', 'age': 10, 'species': 'birds2'},\n",
       " '_i97': 'woo.species',\n",
       " '_97': 'bird',\n",
       " '_i98': 'var(blu)',\n",
       " '_i99': 'vars(blu)',\n",
       " '_99': {'name': 'Blu', 'age': 10, 'species': 'birds2'},\n",
       " '_i100': 'woo.species',\n",
       " '_100': 'bird',\n",
       " '_i101': 'woo.__dict__',\n",
       " '_101': {'name': 'Woo', 'age': 15},\n",
       " '_i102': 'blu.species',\n",
       " '_102': 'birds2',\n",
       " '_i103': 'woo.species',\n",
       " '_103': 'bird',\n",
       " '_i104': 'Parrot.species',\n",
       " '_104': 'bird',\n",
       " '_i105': 'Parrot.name',\n",
       " '_i106': '# access the class attributes\\nprint(\"Blu is a {}\".format(blu.__class__.species))\\nprint(\"Woo is also a {}\".format(woo.__class__.species))\\n\\n# access the instance attributes\\nprint(\"{} is {} years old\".format( blu.name, blu.age))\\nprint(\"{} is {} years old\".format( woo.name, woo.age))',\n",
       " '_i107': \"찬 = Parrot('찬찬',30)\",\n",
       " '찬': <__main__.Parrot at 0x1a425b5da58>,\n",
       " '_i108': 'vars(찬)',\n",
       " '_108': {'name': '찬찬', 'age': 30, 'species': 'bird2'},\n",
       " '_i109': '찬.species',\n",
       " '_109': 'bird',\n",
       " '_i110': '찬.species',\n",
       " '_110': 'bird',\n",
       " '_i111': \"찬.species = 'bird2'\",\n",
       " '_i112': '찬.species',\n",
       " '_112': 'bird2',\n",
       " '_i113': \"찬.species = 'bird2'\",\n",
       " '_i114': \"찬 = Parrot('찬찬',30)\",\n",
       " '_i115': 'vars(찬)',\n",
       " '_115': {'name': '찬찬', 'age': 30, 'species': 'bird2'},\n",
       " '_i116': '찬.species',\n",
       " '_116': 'bird',\n",
       " '_i117': '찬.species',\n",
       " '_117': 'bird',\n",
       " '_i118': \"찬.species = 'bird2'\",\n",
       " '_i119': '찬.species',\n",
       " '_119': 'bird2',\n",
       " '_i120': '찬.__class__.species',\n",
       " '_120': 'bird',\n",
       " '_i121': '찬.__class__',\n",
       " '_121': __main__.Parrot,\n",
       " '_i122': '찬.__class__.mro',\n",
       " '_122': <function Parrot.mro>,\n",
       " '_i123': '찬.__class__.species',\n",
       " '_123': 'bird',\n",
       " '_i124': 'class Parrot:\\n    \\n    # instance attributes\\n    def __init__(self, name, age):\\n        self.name = name\\n        self.age = age\\n    \\n    # instance method\\n    def sing(self, song):\\n        return \"{} sings {}\".format(self.name, song)\\n\\n    def dance(self):\\n        return \"{} is now dancing\".format(self.name)\\n\\n# instantiate the object\\nblu = Parrot(\"Blu\", 10)\\n\\n# call our instance methods\\nprint(blu.sing(\"\\'Happy\\'\"))\\nprint(blu.dance())',\n",
       " '_i125': 'class Parrot:\\n    \\n    # instance attributes\\n    def __init__(self1, name, age):\\n        self1.name = name\\n        self1.age = age\\n    \\n    # instance method\\n    def sing(self, song):\\n        return \"{} sings {}\".format(self.name, song)\\n\\n    def dance(self):\\n        return \"{} is now dancing\".format(self.name)\\n\\n# instantiate the object\\nblu = Parrot(\"Blu\", 10)\\n\\n# call our instance methods\\nprint(blu.sing(\"\\'Happy\\'\"))\\nprint(blu.dance())',\n",
       " '_i126': 'class Parrot:\\n    \\n    # instance attributes\\n    def __init__(selfaaa, name, age):\\n        selfaaa.name = name\\n        selfaaa.age = age\\n    \\n    # instance method\\n    def sing(selfaaa, song):\\n        return \"{} sings {}\".format(selfaaa.name, song)\\n\\n    def dance(selfaaa):\\n        return \"{} is now dancing\".format(selfaaa.name)\\n\\n# instantiate the object\\nblu = Parrot(\"Blu\", 10)\\n\\n# call our instance methods\\nprint(blu.sing(\"\\'Happy\\'\"))\\nprint(blu.dance())',\n",
       " '_i127': \"Parrot.sing(찬찬,'노래')\",\n",
       " '_i128': \"Parrot.sing(찬,'노래')\",\n",
       " '_128': '찬찬 sings 노래',\n",
       " '_i129': \"Parrot.sing(찬,'노래')\\n찬.sing('노래')\",\n",
       " '_i130': 'class Parrot:\\n    \\n    # instance attributes\\n    def __init__(self, name, age):\\n        self.name = name\\n        self.age = age\\n    \\n    # instance method\\n    def sing(self, song):\\n        return \"{} sings {}\".format(self.name, song)\\n\\n    def dance(self):\\n        return \"{} is now dancing\".format(self.name)\\n\\n# instantiate the object\\nblu = Parrot(\"Blu\", 10)\\n\\n# call our instance methods\\nprint(blu.sing(\"\\'Happy\\'\"))\\nprint(blu.dance())',\n",
       " '_i131': \"Parrot.sing(찬,'노래')\\n찬.sing('노래')\",\n",
       " '_i132': \"Parrot.sing(찬,'노래')\",\n",
       " '_132': '찬찬 sings 노래',\n",
       " '_i133': 'AA = Parrot()',\n",
       " '_i134': 'class Parrot:\\n    \\n    # instance attributes\\n    def __init__(selfaaa, name, age):\\n        selfaaa.name = name\\n        selfaaa.age = age\\n    \\n    # instance method\\n    def sing(selfaaa, song):\\n        return \"{} sings {}\".format(selfaaa.name, song)\\n\\n    def dance(selfaaa):\\n        return \"{} is now dancing\".format(selfaaa.name)',\n",
       " '_i135': \"aa = Parrot('aaa', 26)\",\n",
       " '_i136': 'aa.dance()',\n",
       " '_136': 'aaa is now dancing',\n",
       " '_i137': \"Parrot.sing(찬,'노래')\\n찬.dance()\",\n",
       " '_i138': \"aa.sing('얍얍얍')\\naa.dance()\",\n",
       " '_138': 'aaa is now dancing',\n",
       " '_i139': \"aa = Parrot('aaa', 26)\",\n",
       " '_i140': \"aa.sing('얍얍얍')\\naa.dance()\",\n",
       " '_140': 'aaa is now dancing',\n",
       " '_i141': \"print(aa.sing('얍얍얍'))\\naa.dance()\",\n",
       " '_141': 'aaa is now dancing',\n",
       " '_i142': \"print(aa.sing('얍얍얍'))\\nprint(aa.dance())\",\n",
       " '_i143': \"Parrot.sing(찬,'노래')\",\n",
       " '_143': '찬찬 sings 노래',\n",
       " '_i144': \"Parrot.sing(찬,'노래')\\nParrot.dance()\",\n",
       " '_i145': \"Parrot.sing(찬,'노래')\\nParrot.dance(?)\",\n",
       " '_i146': \"Parrot.sing(찬,'노래')\\nParrot.dance('?'')\",\n",
       " '_i147': \"Parrot.sing(찬,'노래')\\nParrot.dance('?')\",\n",
       " '_i148': \"Parrot.sing(찬,'노래')\\nParrot.dance('aa')\",\n",
       " '_i149': \"Parrot.sing(찬,'노래')\\nParrot.dance()\",\n",
       " '_i150': \"Parrot.sing(찬,'노래')\\nParrot.dance(self)\",\n",
       " '_i151': \"Parrot.sing(찬,'노래')\\nParrot.dance(찬)\",\n",
       " '_151': '찬찬 is now dancing',\n",
       " '_i152': 'class Parrot:\\n    \\n    # instance attributes\\n    def __init__(selfaaa, name, age):\\n        selfaaa.name = name\\n        selfaaa.age = age\\n    \\n    # instance method\\n    def sing(selfaaa, song):\\n        return \"{} sings {}\".format(selfaaa.name, song)\\n\\n    def dance(selfaaa):\\n        return \"{} is now dancing\".format(selfaaa.name)\\n    \\n    @classmethod    # 데코레이터라고 함\\n    def dance2(cls):\\n        return \"now dancing222\"',\n",
       " '_i153': \"print(Parrot.sing(찬,'노래'))\\nprint(Parrot.dance(찬))\",\n",
       " '_i154': \"print(aa.sing('얍얍얍'))\\nprint(aa.dance())\\nprint(aa.dance2())\",\n",
       " '_i155': \"aa = Parrot('aaa', 26)\",\n",
       " '_i156': \"print(aa.sing('얍얍얍'))\\nprint(aa.dance())\\nprint(aa.dance2())\",\n",
       " '_i157': \"print(Parrot.sing(찬,'노래'))\\nprint(Parrot.dance(AA))\",\n",
       " '_i158': \"print(Parrot.sing(찬,'노래'))\\nprint(Parrot.dance(a))\",\n",
       " '_i159': \"print(Parrot.sing(찬,'노래'))\\nprint(Parrot.dance(aa))\",\n",
       " '_i160': \"print(Parrot.sing(찬,'노래'))\\nprint(Parrot.dance(aa))\\nParrot.dance2()\",\n",
       " '_160': 'now dancing222',\n",
       " '_i161': 'aa.__class__.dance2',\n",
       " '_161': <bound method Parrot.dance2 of <class '__main__.Parrot'>>,\n",
       " '_i162': 'aa.__class__.dance2()',\n",
       " '_162': 'now dancing222',\n",
       " '_i163': 'aa.__class__.dance2()',\n",
       " '_163': 'now dancing222',\n",
       " '_i164': 'aa.__class__.dance()',\n",
       " '_i165': 'aa.__class__.dance(\"zz\")',\n",
       " '_i166': 'aa.__class__.dance(aa)',\n",
       " '_166': 'aaa is now dancing',\n",
       " '_i167': '# parent class\\nclass Bird:\\n    \\n    def __init__(self):\\n        print(\"Bird is ready\")\\n\\n    def whoisThis(self):\\n        print(\"Bird\")\\n\\n    def swim(self):\\n        print(\"Swim faster\")\\n\\n# child class\\nclass Penguin(Bird):\\n\\n    def __init__(self):\\n        # call super() function\\n        super().__init__()\\n        print(\"Penguin is ready\")\\n\\n    def whoisThis(self):\\n        print(\"Penguin\")\\n\\n    def run(self):\\n        print(\"Run faster\")\\n\\npeggy = Penguin()\\npeggy.whoisThis()\\npeggy.swim()\\npeggy.run()',\n",
       " 'Bird': __main__.Bird,\n",
       " 'Penguin': __main__.Penguin,\n",
       " 'peggy': <__main__.Penguin at 0x1a425bd96a0>,\n",
       " '_i168': '# parent class\\n# Attribute 0개\\nclass Bird:\\n    \\n    def __init__(self):\\n        print(\"Bird is ready\")\\n\\n    def whoisThis(self):\\n        print(\"Bird\")\\n\\n    def swim(self):\\n        print(\"Swim faster\")\\n\\n# child class\\nclass Penguin(Bird):\\n\\n    def __init__(self):\\n        # call super() function\\n        super().__init__()\\n        print(\"Penguin is ready\")\\n\\n    def whoisThis(self):\\n        print(\"Penguin\")\\n\\n    def run(self):\\n        print(\"Run faster\")\\n\\npeggy = Penguin()\\npeggy.whoisThis()\\npeggy.swim()\\npeggy.run()',\n",
       " '_i169': '# parent class\\n# Attribute 0개\\nclass Bird:\\n    pass  \\n#     def __init__(self):\\n#         print(\"Bird is ready\")\\n\\n#     def whoisThis(self):\\n#         print(\"Bird\")\\n\\n#     def swim(self):\\n#         print(\"Swim faster\")\\n\\n# child class\\nclass Penguin(Bird):\\n\\n    def __init__(self):\\n        # call super() function\\n        super().__init__()\\n        print(\"Penguin is ready\")\\n\\n    def whoisThis(self):\\n        print(\"Penguin\")\\n\\n    def run(self):\\n        print(\"Run faster\")\\n\\npeggy = Penguin()\\npeggy.whoisThis()\\npeggy.swim()\\npeggy.run()',\n",
       " '_i170': '# parent class\\n# Attribute 0개\\nclass Bird:\\n    \\n    def __init__(self):\\n        print(\"Bird is ready\")\\n\\n    def whoisThis(self):\\n        print(\"Bird\")\\n\\n    def swim(self):\\n        print(\"Swim faster\")',\n",
       " '_i171': '# child class\\nclass Penguin(Bird):\\n    pass\\n#     def __init__(self):\\n#         # call super() function\\n#         super().__init__()\\n#         print(\"Penguin is ready\")\\n\\n#     def whoisThis(self):\\n#         print(\"Penguin\")\\n\\n#     def run(self):\\n#         print(\"Run faster\")\\n\\npeggy = Penguin()\\npeggy.whoisThis()\\npeggy.swim()\\npeggy.run()',\n",
       " '_i172': 'dir(Penguin)',\n",
       " '_172': ['__class__',\n",
       "  '__delattr__',\n",
       "  '__dict__',\n",
       "  '__dir__',\n",
       "  '__doc__',\n",
       "  '__eq__',\n",
       "  '__format__',\n",
       "  '__ge__',\n",
       "  '__getattribute__',\n",
       "  '__gt__',\n",
       "  '__hash__',\n",
       "  '__init__',\n",
       "  '__init_subclass__',\n",
       "  '__le__',\n",
       "  '__lt__',\n",
       "  '__module__',\n",
       "  '__ne__',\n",
       "  '__new__',\n",
       "  '__reduce__',\n",
       "  '__reduce_ex__',\n",
       "  '__repr__',\n",
       "  '__setattr__',\n",
       "  '__sizeof__',\n",
       "  '__str__',\n",
       "  '__subclasshook__',\n",
       "  '__weakref__',\n",
       "  'swim',\n",
       "  'whoisThis'],\n",
       " '_i173': '# child class\\nclass Penguin(Bird):\\n    pass\\n#     def __init__(self):\\n#         # call super() function\\n#         super().__init__()\\n#         print(\"Penguin is ready\")\\n\\n#     def whoisThis(self):\\n#         print(\"Penguin\")\\n\\n#     def run(self):\\n#         print(\"Run faster\")\\n\\npeggy = Penguin()\\npeggy.whoisThis()\\n# peggy.swim()\\n# peggy.run()',\n",
       " '_i174': '# child class\\nclass Penguin(Bird):\\n    def swim(self):\\n        print(\"I can Swim\")\\n#     def __init__(self):\\n#         # call super() function\\n#         super().__init__()\\n#         print(\"Penguin is ready\")\\n\\n#     def whoisThis(self):\\n#         print(\"Penguin\")\\n\\n#     def run(self):\\n#         print(\"Run faster\")\\n\\npeggy = Penguin()\\npeggy.whoisThis()\\n# peggy.swim()\\n# peggy.run()',\n",
       " '_i175': '# child class\\nclass Penguin(Bird):\\n    def swim(self):\\n        print(\"I can Swim\")\\n#     def __init__(self):\\n#         # call super() function\\n#         super().__init__()\\n#         print(\"Penguin is ready\")\\n\\n#     def whoisThis(self):\\n#         print(\"Penguin\")\\n\\n#     def run(self):\\n#         print(\"Run faster\")\\n\\npeggy = Penguin()\\npeggy.whoisThis()\\npeggy.swim()\\n# peggy.run()',\n",
       " '_i176': '# child class\\nclass Penguin(Bird):\\n    def swim(self):\\n        print(\"I can Swim\")\\n#     def __init__(self):\\n#         # call super() function\\n#         super().__init__()\\n#         print(\"Penguin is ready\")\\n\\n#     def whoisThis(self):\\n#         print(\"Penguin\")\\n\\n    def run(self):\\n        print(\"Run faster\")\\n\\npeggy = Penguin()\\npeggy.whoisThis()\\npeggy.swim()\\npeggy.run()',\n",
       " '_i177': 'dir(Penguin)',\n",
       " '_177': ['__class__',\n",
       "  '__delattr__',\n",
       "  '__dict__',\n",
       "  '__dir__',\n",
       "  '__doc__',\n",
       "  '__eq__',\n",
       "  '__format__',\n",
       "  '__ge__',\n",
       "  '__getattribute__',\n",
       "  '__gt__',\n",
       "  '__hash__',\n",
       "  '__init__',\n",
       "  '__init_subclass__',\n",
       "  '__le__',\n",
       "  '__lt__',\n",
       "  '__module__',\n",
       "  '__ne__',\n",
       "  '__new__',\n",
       "  '__reduce__',\n",
       "  '__reduce_ex__',\n",
       "  '__repr__',\n",
       "  '__setattr__',\n",
       "  '__sizeof__',\n",
       "  '__str__',\n",
       "  '__subclasshook__',\n",
       "  '__weakref__',\n",
       "  'run',\n",
       "  'swim',\n",
       "  'whoisThis'],\n",
       " '_i178': '# child class\\nclass Penguin(Bird):\\n    def swim(self):\\n        print(\"I can Swim\")\\n#     def __init__(self):\\n#         # call super() function\\n#         super().__init__()\\n#         print(\"Penguin is ready\")\\n\\n#     def whoisThis(self):\\n#         print(\"Penguin\")\\n\\n    def run(self):\\n        print(\"Run faster\")',\n",
       " '_i179': 'peggy = Penguin()\\npeggy.whoisThis()\\npeggy.swim()\\npeggy.run()',\n",
       " '_i180': '# child class\\nclass Penguin(Bird):\\n    def swim(self):\\n        print(\"I can Swim\")\\n\\n    def __init__(self):\\n        # call super() function\\n        super().__init__()\\n        print(\"Penguin is ready\")\\n\\n#     def whoisThis(self):\\n#         print(\"Penguin\")\\n\\n    def run(self):\\n        print(\"Run faster\")',\n",
       " '_i181': 'peggy = Penguin()\\npeggy.whoisThis()\\npeggy.swim()\\npeggy.run()',\n",
       " '_i182': '# child class\\nclass Penguin(Bird):\\n    def swim(self):\\n        print(\"I can Swim\")\\n\\n    def __init__(self):\\n        # call super() function\\n#         super().__init__()\\n        print(\"Penguin is ready\")\\n\\n#     def whoisThis(self):\\n#         print(\"Penguin\")\\n\\n    def run(self):\\n        print(\"Run faster\")',\n",
       " '_i183': 'peggy = Penguin()\\npeggy.whoisThis()\\npeggy.swim()\\npeggy.run()',\n",
       " '_i184': '# child class\\nclass Penguin(Bird):\\n    def swim(self):\\n        print(\"I can Swim\")\\n\\n    def __init__(self):\\n        # call super() function\\n        super().__init__()\\n        print(\"Penguin is ready\")\\n\\n#     def whoisThis(self):\\n#         print(\"Penguin\")\\n\\n    def run(self):\\n        print(\"Run faster\")',\n",
       " '_i185': 'peggy = Penguin()\\npeggy.whoisThis()\\npeggy.swim()\\npeggy.run()',\n",
       " '_i186': '# child class\\nclass Penguin(Bird):\\n    def swim(self):\\n        print(\"I can Swim\")\\n\\n    def __init__(self):\\n        # call super() function\\n        super(Bird).__init__()\\n        print(\"Penguin is ready\")\\n\\n#     def whoisThis(self):\\n#         print(\"Penguin\")\\n\\n    def run(self):\\n        print(\"Run faster\")',\n",
       " '_i187': 'peggy = Penguin()\\npeggy.whoisThis()\\npeggy.swim()\\npeggy.run()',\n",
       " '_i188': '# child class\\nclass Penguin(Bird):\\n    def swim(self):\\n        print(\"I can Swim\")\\n\\n    def __init__(self):\\n        # call super() function\\n        super(Penguin).__init__()\\n        print(\"Penguin is ready\")\\n\\n#     def whoisThis(self):\\n#         print(\"Penguin\")\\n\\n    def run(self):\\n        print(\"Run faster\")',\n",
       " '_i189': 'peggy = Penguin()\\npeggy.whoisThis()\\npeggy.swim()\\npeggy.run()',\n",
       " '_i190': '# child class\\nclass Penguin(Bird):\\n    def swim(self):\\n        print(\"I can Swim\")\\n\\n    def __init__(self):\\n        # call super() function\\n        super().__init__()\\n        print(\"Penguin is ready\")\\n\\n#     def whoisThis(self):\\n#         print(\"Penguin\")\\n\\n    def run(self):\\n        print(\"Run faster\")',\n",
       " '_i191': 'peggy = Penguin()\\npeggy.whoisThis()\\npeggy.swim()\\npeggy.run()',\n",
       " '_i192': '# child class\\nclass Penguin(Bird):\\n    def swim(self):\\n        print(\"I can Swim\")\\n\\n    def __init__(self):\\n        # call super() function\\n        super(Penguin, self).__init__()\\n        print(\"Penguin is ready\")\\n\\n#     def whoisThis(self):\\n#         print(\"Penguin\")\\n\\n    def run(self):\\n        print(\"Run faster\")',\n",
       " '_i193': 'peggy = Penguin()\\npeggy.whoisThis()\\npeggy.swim()\\npeggy.run()',\n",
       " '_i194': '# child class\\nclass Penguin(Bird):\\n    def swim(self):\\n        print(\"I can Swim\")\\n\\n    def __init__(self):\\n        # call super() function\\n        super(Penguin).__init__()\\n        print(\"Penguin is ready\")\\n\\n#     def whoisThis(self):\\n#         print(\"Penguin\")\\n\\n    def run(self):\\n        print(\"Run faster\")',\n",
       " '_i195': 'peggy = Penguin()\\npeggy.whoisThis()\\npeggy.swim()\\npeggy.run()',\n",
       " '_i196': '# parent class\\n# Attribute 0개\\nclass Bird:\\n    \\n    def __init__(self):\\n        print(\"Bird is ready\")\\n\\n    def whoisThis(self):\\n        print(\"Bird\")\\n\\n    def swim(self):\\n        print(\"Swim faster\")',\n",
       " '_i197': '# child class\\nclass Penguin(Bird):\\n    def swim(self):\\n        print(\"I can Swim\")\\n\\n    def __init__(self):\\n        # call super() function\\n        super(Penguin).__init__()\\n        print(\"Penguin is ready\")\\n\\n#     def whoisThis(self):\\n#         print(\"Penguin\")\\n\\n    def run(self):\\n        print(\"Run faster\")',\n",
       " '_i198': 'peggy = Penguin()\\npeggy.whoisThis()\\npeggy.swim()\\npeggy.run()',\n",
       " '_i199': '# child class\\nclass Penguin(Bird):\\n    def swim(self):\\n        print(\"I can Swim\")\\n\\n    def __init__(self):\\n        # call super() function\\n        super().__init__()\\n        print(\"Penguin is ready\")\\n\\n#     def whoisThis(self):\\n#         print(\"Penguin\")\\n\\n    def run(self):\\n        print(\"Run faster\")',\n",
       " '_i200': 'peggy = Penguin()\\npeggy.whoisThis()\\npeggy.swim()\\npeggy.run()',\n",
       " '_i201': '# child class\\nclass Penguin(Bird):\\n    def swim(self):\\n        print(\"I can Swim\")\\n\\n    def __init__(self):\\n        # call super() function\\n        super(Bird).__init__()\\n        print(\"Penguin is ready\")\\n\\n#     def whoisThis(self):\\n#         print(\"Penguin\")\\n\\n    def run(self):\\n        print(\"Run faster\")',\n",
       " '_i202': 'peggy = Penguin()\\npeggy.whoisThis()\\npeggy.swim()\\npeggy.run()',\n",
       " '_i203': '# child class\\nclass Penguin(Bird):\\n    def swim(self):\\n        print(\"I can Swim\")\\n\\n    def __init__(self):\\n        # call super() function\\n        super().__init__()\\n        print(\"Penguin is ready\")\\n\\n#     def whoisThis(self):\\n#         print(\"Penguin\")\\n\\n    def run(self):\\n        print(\"Run faster\")',\n",
       " '_i204': 'peggy = Penguin()\\npeggy.whoisThis()\\npeggy.swim()\\npeggy.run()',\n",
       " '_i205': '# child class\\nclass Penguin(Bird):\\n    def swim(self):\\n        print(\"I can Swim\")\\n\\n    def __init__(self):\\n        # call super() function\\n        super(Penguin).__init__()\\n        print(\"Penguin is ready\")\\n\\n#     def whoisThis(self):\\n#         print(\"Penguin\")\\n\\n    def run(self):\\n        print(\"Run faster\")',\n",
       " '_i206': 'peggy = Penguin()\\npeggy.whoisThis()\\npeggy.swim()\\npeggy.run()',\n",
       " '_i207': '# child class\\nclass Penguin(Bird):\\n    def swim(self):\\n        print(\"I can Swim\")\\n\\n    def __init__(self):\\n        # call super() function\\n        super(Bird, self).__init__()\\n        print(\"Penguin is ready\")\\n\\n#     def whoisThis(self):\\n#         print(\"Penguin\")\\n\\n    def run(self):\\n        print(\"Run faster\")',\n",
       " '_i208': 'peggy = Penguin()\\npeggy.whoisThis()\\npeggy.swim()\\npeggy.run()',\n",
       " '_i209': '# child class\\nclass Penguin(Bird):\\n    def swim(self):\\n        print(\"I can Swim\")\\n\\n    def __init__(self):\\n        # call super() function\\n        super(Penguin, self).__init__()\\n        print(\"Penguin is ready\")\\n\\n#     def whoisThis(self):\\n#         print(\"Penguin\")\\n\\n    def run(self):\\n        print(\"Run faster\")',\n",
       " '_i210': 'peggy = Penguin()\\npeggy.whoisThis()\\npeggy.swim()\\npeggy.run()',\n",
       " '_i211': '# child class\\nclass Penguin(Bird):\\n    def swim(self):\\n        print(\"I can Swim\")\\n\\n    def __init__(self):\\n        # call super() function\\n        super(Penguin).__init__()\\n        print(\"Penguin is ready\")\\n\\n#     def whoisThis(self):\\n#         print(\"Penguin\")\\n\\n    def run(self):\\n        print(\"Run faster\")',\n",
       " '_i212': 'peggy = Penguin()\\npeggy.whoisThis()\\npeggy.swim()\\npeggy.run()',\n",
       " '_i213': '# child class\\nclass Penguin(Bird):\\n    def swim(self):\\n        print(\"I can Swim\")\\n\\n    def __init__(self):\\n        # call super() function\\n        super(Penguin,self).__init__()\\n        print(\"Penguin is ready\")\\n\\n#     def whoisThis(self):\\n#         print(\"Penguin\")\\n\\n    def run(self):\\n        print(\"Run faster\")',\n",
       " '_i214': 'peggy = Penguin()\\npeggy.whoisThis()\\npeggy.swim()\\npeggy.run()',\n",
       " '_i215': 'peggy = Penguin()\\npeggy.whoisThis()\\npeggy.swim()\\npeggy.run()\\npeggy.__mro__',\n",
       " '_i216': 'super()',\n",
       " '_i217': 'class Computer:\\n\\n    def __init__(self):\\n        self.__maxprice = 900\\n\\n    def sell(self):\\n        print(\"Selling Price: {}\".format(self.__maxprice))\\n\\n    def setMaxPrice(self, price):\\n        self.__maxprice = price\\n\\nc = Computer()\\nc.sell()\\n\\n# change the price\\nc.__maxprice = 1000\\nc.sell()\\n\\n# using setter function\\nc.setMaxPrice(1000)\\nc.sell()',\n",
       " 'Computer': __main__.Computer,\n",
       " '_i218': 'dir(c)',\n",
       " '_218': ['_Computer__maxprice',\n",
       "  '__class__',\n",
       "  '__delattr__',\n",
       "  '__dict__',\n",
       "  '__dir__',\n",
       "  '__doc__',\n",
       "  '__eq__',\n",
       "  '__format__',\n",
       "  '__ge__',\n",
       "  '__getattribute__',\n",
       "  '__gt__',\n",
       "  '__hash__',\n",
       "  '__init__',\n",
       "  '__init_subclass__',\n",
       "  '__le__',\n",
       "  '__lt__',\n",
       "  '__maxprice',\n",
       "  '__module__',\n",
       "  '__ne__',\n",
       "  '__new__',\n",
       "  '__reduce__',\n",
       "  '__reduce_ex__',\n",
       "  '__repr__',\n",
       "  '__setattr__',\n",
       "  '__sizeof__',\n",
       "  '__str__',\n",
       "  '__subclasshook__',\n",
       "  '__weakref__',\n",
       "  'sell',\n",
       "  'setMaxPrice'],\n",
       " '_i219': 'type(c)',\n",
       " '_219': __main__.Computer,\n",
       " '_i220': 'vars(c0)',\n",
       " '_i221': 'vars(c)',\n",
       " '_221': {'_Computer__maxprice': 1000, '__maxprice': 1000},\n",
       " '_i222': 'vars(c)',\n",
       " '_222': {'_Computer__maxprice': 1000, '__maxprice': 1000},\n",
       " '_i223': 'class Computer:\\n\\n    def __init__(self):\\n        self.__maxprice = 900\\n\\n    def sell(self):\\n        print(\"Selling Price: {}\".format(self.__maxprice))\\n\\n    def setMaxPrice(self, price):\\n        self.__maxprice = price\\n\\nc = Computer()\\nc.sell()\\n\\n# change the price\\nc.__maxprice = 1000\\nc.sell()\\n\\n# # using setter function\\n# c.setMaxPrice(1000)\\n# c.sell()',\n",
       " '_i224': 'vars(c)',\n",
       " '_224': {'_Computer__maxprice': 900, '__maxprice': 1000},\n",
       " '_i225': 'class Computer:\\n\\n    def __init__(self):\\n        self.__maxprice = 900\\n\\n    def sell(self):\\n        print(\"Selling Price: {}\".format(self.__maxprice))\\n\\n    def setMaxPrice(self, price):\\n        self.__maxprice = price\\n\\nc = Computer()\\nc.sell()\\n\\n# change the price\\nc.__maxprice = 1000\\nc.sell()\\n\\n# using setter function\\nc.setMaxPrice(1000)\\nc.sell()',\n",
       " '_i226': 'vars(c)',\n",
       " '_226': {'_Computer__maxprice': 1000, '__maxprice': 1000},\n",
       " '_i227': 'dir()',\n",
       " '_227': ['A',\n",
       "  'Bird',\n",
       "  'Computer',\n",
       "  'In',\n",
       "  'Out',\n",
       "  'Parrot',\n",
       "  'Penguin',\n",
       "  '_',\n",
       "  '_10',\n",
       "  '_100',\n",
       "  '_101',\n",
       "  '_102',\n",
       "  '_103',\n",
       "  '_104',\n",
       "  '_108',\n",
       "  '_109',\n",
       "  '_11',\n",
       "  '_110',\n",
       "  '_112',\n",
       "  '_115',\n",
       "  '_116',\n",
       "  '_117',\n",
       "  '_119',\n",
       "  '_12',\n",
       "  '_120',\n",
       "  '_121',\n",
       "  '_122',\n",
       "  '_123',\n",
       "  '_128',\n",
       "  '_132',\n",
       "  '_136',\n",
       "  '_138',\n",
       "  '_140',\n",
       "  '_141',\n",
       "  '_143',\n",
       "  '_151',\n",
       "  '_16',\n",
       "  '_160',\n",
       "  '_161',\n",
       "  '_162',\n",
       "  '_163',\n",
       "  '_166',\n",
       "  '_172',\n",
       "  '_177',\n",
       "  '_218',\n",
       "  '_219',\n",
       "  '_221',\n",
       "  '_222',\n",
       "  '_224',\n",
       "  '_226',\n",
       "  '_30',\n",
       "  '_31',\n",
       "  '_32',\n",
       "  '_33',\n",
       "  '_34',\n",
       "  '_42',\n",
       "  '_44',\n",
       "  '_45',\n",
       "  '_47',\n",
       "  '_48',\n",
       "  '_5',\n",
       "  '_50',\n",
       "  '_53',\n",
       "  '_6',\n",
       "  '_7',\n",
       "  '_8',\n",
       "  '_85',\n",
       "  '_91',\n",
       "  '_96',\n",
       "  '_97',\n",
       "  '_99',\n",
       "  '__',\n",
       "  '___',\n",
       "  '__builtin__',\n",
       "  '__builtins__',\n",
       "  '__doc__',\n",
       "  '__loader__',\n",
       "  '__name__',\n",
       "  '__package__',\n",
       "  '__spec__',\n",
       "  '_dh',\n",
       "  '_i',\n",
       "  '_i1',\n",
       "  '_i10',\n",
       "  '_i100',\n",
       "  '_i101',\n",
       "  '_i102',\n",
       "  '_i103',\n",
       "  '_i104',\n",
       "  '_i105',\n",
       "  '_i106',\n",
       "  '_i107',\n",
       "  '_i108',\n",
       "  '_i109',\n",
       "  '_i11',\n",
       "  '_i110',\n",
       "  '_i111',\n",
       "  '_i112',\n",
       "  '_i113',\n",
       "  '_i114',\n",
       "  '_i115',\n",
       "  '_i116',\n",
       "  '_i117',\n",
       "  '_i118',\n",
       "  '_i119',\n",
       "  '_i12',\n",
       "  '_i120',\n",
       "  '_i121',\n",
       "  '_i122',\n",
       "  '_i123',\n",
       "  '_i124',\n",
       "  '_i125',\n",
       "  '_i126',\n",
       "  '_i127',\n",
       "  '_i128',\n",
       "  '_i129',\n",
       "  '_i13',\n",
       "  '_i130',\n",
       "  '_i131',\n",
       "  '_i132',\n",
       "  '_i133',\n",
       "  '_i134',\n",
       "  '_i135',\n",
       "  '_i136',\n",
       "  '_i137',\n",
       "  '_i138',\n",
       "  '_i139',\n",
       "  '_i14',\n",
       "  '_i140',\n",
       "  '_i141',\n",
       "  '_i142',\n",
       "  '_i143',\n",
       "  '_i144',\n",
       "  '_i145',\n",
       "  '_i146',\n",
       "  '_i147',\n",
       "  '_i148',\n",
       "  '_i149',\n",
       "  '_i15',\n",
       "  '_i150',\n",
       "  '_i151',\n",
       "  '_i152',\n",
       "  '_i153',\n",
       "  '_i154',\n",
       "  '_i155',\n",
       "  '_i156',\n",
       "  '_i157',\n",
       "  '_i158',\n",
       "  '_i159',\n",
       "  '_i16',\n",
       "  '_i160',\n",
       "  '_i161',\n",
       "  '_i162',\n",
       "  '_i163',\n",
       "  '_i164',\n",
       "  '_i165',\n",
       "  '_i166',\n",
       "  '_i167',\n",
       "  '_i168',\n",
       "  '_i169',\n",
       "  '_i17',\n",
       "  '_i170',\n",
       "  '_i171',\n",
       "  '_i172',\n",
       "  '_i173',\n",
       "  '_i174',\n",
       "  '_i175',\n",
       "  '_i176',\n",
       "  '_i177',\n",
       "  '_i178',\n",
       "  '_i179',\n",
       "  '_i18',\n",
       "  '_i180',\n",
       "  '_i181',\n",
       "  '_i182',\n",
       "  '_i183',\n",
       "  '_i184',\n",
       "  '_i185',\n",
       "  '_i186',\n",
       "  '_i187',\n",
       "  '_i188',\n",
       "  '_i189',\n",
       "  '_i19',\n",
       "  '_i190',\n",
       "  '_i191',\n",
       "  '_i192',\n",
       "  '_i193',\n",
       "  '_i194',\n",
       "  '_i195',\n",
       "  '_i196',\n",
       "  '_i197',\n",
       "  '_i198',\n",
       "  '_i199',\n",
       "  '_i2',\n",
       "  '_i20',\n",
       "  '_i200',\n",
       "  '_i201',\n",
       "  '_i202',\n",
       "  '_i203',\n",
       "  '_i204',\n",
       "  '_i205',\n",
       "  '_i206',\n",
       "  '_i207',\n",
       "  '_i208',\n",
       "  '_i209',\n",
       "  '_i21',\n",
       "  '_i210',\n",
       "  '_i211',\n",
       "  '_i212',\n",
       "  '_i213',\n",
       "  '_i214',\n",
       "  '_i215',\n",
       "  '_i216',\n",
       "  '_i217',\n",
       "  '_i218',\n",
       "  '_i219',\n",
       "  '_i22',\n",
       "  '_i220',\n",
       "  '_i221',\n",
       "  '_i222',\n",
       "  '_i223',\n",
       "  '_i224',\n",
       "  '_i225',\n",
       "  '_i226',\n",
       "  '_i227',\n",
       "  '_i23',\n",
       "  '_i24',\n",
       "  '_i25',\n",
       "  '_i26',\n",
       "  '_i27',\n",
       "  '_i28',\n",
       "  '_i29',\n",
       "  '_i3',\n",
       "  '_i30',\n",
       "  '_i31',\n",
       "  '_i32',\n",
       "  '_i33',\n",
       "  '_i34',\n",
       "  '_i35',\n",
       "  '_i36',\n",
       "  '_i37',\n",
       "  '_i38',\n",
       "  '_i39',\n",
       "  '_i4',\n",
       "  '_i40',\n",
       "  '_i41',\n",
       "  '_i42',\n",
       "  '_i43',\n",
       "  '_i44',\n",
       "  '_i45',\n",
       "  '_i46',\n",
       "  '_i47',\n",
       "  '_i48',\n",
       "  '_i49',\n",
       "  '_i5',\n",
       "  '_i50',\n",
       "  '_i51',\n",
       "  '_i52',\n",
       "  '_i53',\n",
       "  '_i54',\n",
       "  '_i55',\n",
       "  '_i56',\n",
       "  '_i57',\n",
       "  '_i58',\n",
       "  '_i59',\n",
       "  '_i6',\n",
       "  '_i60',\n",
       "  '_i61',\n",
       "  '_i62',\n",
       "  '_i63',\n",
       "  '_i64',\n",
       "  '_i65',\n",
       "  '_i66',\n",
       "  '_i67',\n",
       "  '_i68',\n",
       "  '_i69',\n",
       "  '_i7',\n",
       "  '_i70',\n",
       "  '_i71',\n",
       "  '_i72',\n",
       "  '_i73',\n",
       "  '_i74',\n",
       "  '_i75',\n",
       "  '_i76',\n",
       "  '_i77',\n",
       "  '_i78',\n",
       "  '_i79',\n",
       "  '_i8',\n",
       "  '_i80',\n",
       "  '_i81',\n",
       "  '_i82',\n",
       "  '_i83',\n",
       "  '_i84',\n",
       "  '_i85',\n",
       "  '_i86',\n",
       "  '_i87',\n",
       "  '_i88',\n",
       "  '_i89',\n",
       "  '_i9',\n",
       "  '_i90',\n",
       "  '_i91',\n",
       "  '_i92',\n",
       "  '_i93',\n",
       "  '_i94',\n",
       "  '_i95',\n",
       "  '_i96',\n",
       "  '_i97',\n",
       "  '_i98',\n",
       "  '_i99',\n",
       "  '_ih',\n",
       "  '_ii',\n",
       "  '_iii',\n",
       "  '_oh',\n",
       "  'aa',\n",
       "  'blu',\n",
       "  'c',\n",
       "  'd',\n",
       "  'exit',\n",
       "  'func',\n",
       "  'get_ipython',\n",
       "  'keyword',\n",
       "  'peggy',\n",
       "  'quit',\n",
       "  'woo',\n",
       "  'xxxx',\n",
       "  'yyy',\n",
       "  '찬'],\n",
       " '_i228': '_226',\n",
       " '_228': {'_Computer__maxprice': 1000, '__maxprice': 1000},\n",
       " '_i229': '_ii',\n",
       " '_229': 'dir()',\n",
       " '_i230': '_iii',\n",
       " '_230': 'dir()',\n",
       " '_i231': 'locals()',\n",
       " '_231': {...},\n",
       " '_i232': 'globals()'}"
      ]
     },
     "execution_count": 232,
     "metadata": {},
     "output_type": "execute_result"
    }
   ],
   "source": [
    "locals()\n",
    "globals()"
   ]
  },
  {
   "cell_type": "markdown",
   "metadata": {},
   "source": [
    "## Polymorphism\n",
    "- 상속하는 애들끼리 다르게 행동할 수 있음\n",
    "- 굳이 족보 상 오리가 아니어도됨, 오리처럼 꽥꽥대기만 해도 오리라고 쳐줌 ( 덕 타이핑 )\n",
    "- 리스코프 변환 원리"
   ]
  },
  {
   "cell_type": "code",
   "execution_count": 235,
   "metadata": {},
   "outputs": [],
   "source": [
    "class Parrot:\n",
    "\n",
    "    def fly(self):\n",
    "        print(\"Parrot can fly\")\n",
    "    \n",
    "    def swim(self):\n",
    "        print(\"Parrot can't swim\")\n",
    "\n",
    "class Penguin:\n",
    "\n",
    "    def fly(self):\n",
    "        print(\"Penguin can't fly\")\n",
    "    \n",
    "    def swim(self):\n",
    "        print(\"Penguin can swim\")"
   ]
  },
  {
   "cell_type": "markdown",
   "metadata": {},
   "source": [
    "어? 상속 안받았는데도 bird.fly가 가능하네?\n",
    "- 덕타이핑 지원하는 거임"
   ]
  },
  {
   "cell_type": "code",
   "execution_count": 236,
   "metadata": {},
   "outputs": [
    {
     "name": "stdout",
     "output_type": "stream",
     "text": [
      "Parrot can fly\n",
      "Penguin can't fly\n"
     ]
    }
   ],
   "source": [
    "# common interface\n",
    "def flying_test(bird):\n",
    "    bird.fly()\n",
    "\n",
    "#instantiate objects\n",
    "blu = Parrot()\n",
    "peggy = Penguin()\n",
    "\n",
    "# passing the object\n",
    "flying_test(blu)\n",
    "flying_test(peggy)"
   ]
  },
  {
   "cell_type": "markdown",
   "metadata": {},
   "source": [
    "### 루프 간단하게 만드는것 -> comprehension\n",
    "- 익숙해져야한대"
   ]
  },
  {
   "cell_type": "markdown",
   "metadata": {},
   "source": [
    "### 제네레이터\n",
    "- 레이지 기법!\n",
    "- 한꺼번에 다 보여주는 것이 아닌 한 개씩 보여줌\n",
    "- 제네레이터. 메모리 효율도 좋고 속도도 좋음\n",
    "- 함수형 기법에서 많이 사용함\n",
    "- next()\n",
    "- 데이터가 클 경우에 많이 사용한대"
   ]
  },
  {
   "cell_type": "code",
   "execution_count": 271,
   "metadata": {},
   "outputs": [],
   "source": [
    "a = (x for x in range(11))"
   ]
  },
  {
   "cell_type": "code",
   "execution_count": 278,
   "metadata": {},
   "outputs": [
    {
     "data": {
      "text/plain": [
       "6"
      ]
     },
     "execution_count": 278,
     "metadata": {},
     "output_type": "execute_result"
    }
   ],
   "source": [
    "next(a)"
   ]
  },
  {
   "cell_type": "code",
   "execution_count": 279,
   "metadata": {},
   "outputs": [
    {
     "data": {
      "text/plain": [
       "7"
      ]
     },
     "execution_count": 279,
     "metadata": {},
     "output_type": "execute_result"
    }
   ],
   "source": [
    "a.__next__()"
   ]
  },
  {
   "cell_type": "code",
   "execution_count": 291,
   "metadata": {},
   "outputs": [],
   "source": [
    "# n = 인스턴스 어트리뷰트, sides = 어트리뷰트\n",
    "# class 안에서 따지는 거기 때문에, self.sides가 2개 있어도 1개로 취급 됨\n",
    "# i는 클래스 어트리뷰트일까 인스턴스 어트리뷰트일까\n",
    "\n",
    "# 인스턴스 메소드는 인스턴스한테만 쓰는거야\n",
    "# 그래서 aa = Polygon(5) 이후 aa.inputSide()가 가능\n",
    "\n",
    "class Polygon:\n",
    "    def __init__(self, no_of_sides):\n",
    "        self.n = no_of_sides\n",
    "        self.sides = [0 for i in range(no_of_sides)]\n",
    "\n",
    "    def inputSides(self):\n",
    "        # 문자열 + 숫자가 안되니까 str로 둘러서 한 거임\n",
    "        self.sides = [float(input(\"Enter side \"+str(i+1)+\" : \")) for i in range(self.n)]\n",
    "\n",
    "    def dispSides(self):\n",
    "        for i in range(self.n):\n",
    "            print(\"Side\",i+1,\"is\",self.sides[i])"
   ]
  },
  {
   "cell_type": "code",
   "execution_count": 292,
   "metadata": {},
   "outputs": [
    {
     "name": "stdout",
     "output_type": "stream",
     "text": [
      "Enter side 1 : 1.1\n",
      "Enter side 2 : 2.2\n",
      "Enter side 3 : 3.3\n",
      "Enter side 4 : 4.4\n",
      "Enter side 5 : 5.5\n"
     ]
    }
   ],
   "source": [
    "aa= Polygon(5)\n",
    "aa.inputSides()\n",
    "zx = Polygon(3)"
   ]
  },
  {
   "cell_type": "code",
   "execution_count": 293,
   "metadata": {},
   "outputs": [
    {
     "name": "stdout",
     "output_type": "stream",
     "text": [
      "Side 1 is 1.1\n",
      "Side 2 is 2.2\n",
      "Side 3 is 3.3\n",
      "Side 4 is 4.4\n",
      "Side 5 is 5.5\n"
     ]
    }
   ],
   "source": [
    "aa.dispSides()"
   ]
  },
  {
   "cell_type": "code",
   "execution_count": 294,
   "metadata": {},
   "outputs": [
    {
     "data": {
      "text/plain": [
       "[1.1, 2.2, 3.3, 4.4, 5.5]"
      ]
     },
     "execution_count": 294,
     "metadata": {},
     "output_type": "execute_result"
    }
   ],
   "source": [
    "aa.sides"
   ]
  },
  {
   "cell_type": "code",
   "execution_count": 296,
   "metadata": {},
   "outputs": [],
   "source": [
    "#init 메소드는 인스턴스 메소드\n",
    "\n",
    "class Triangle(Polygon):\n",
    "    def __init__(self):\n",
    "        # 어디를 상속하는지 꼭 찝어주기 위해 이런 방식으로도 사용함\n",
    "        Polygon.__init__(self,3) # super().__init__(3)\n",
    "\n",
    "    def findArea(self):\n",
    "        a, b, c = self.sides\n",
    "        # calculate the semi-perimeter\n",
    "        s = (a + b + c) / 2\n",
    "        area = (s*(s-a)*(s-b)*(s-c)) ** 0.5\n",
    "        print('The area of the triangle is %0.2f' %area)"
   ]
  },
  {
   "cell_type": "markdown",
   "metadata": {},
   "source": [
    "- instance : 클래스에서 만든애가 instance 자너 ㅋㅋ\n"
   ]
  },
  {
   "cell_type": "code",
   "execution_count": 298,
   "metadata": {},
   "outputs": [
    {
     "name": "stdout",
     "output_type": "stream",
     "text": [
      "True\n",
      "True\n",
      "True\n"
     ]
    }
   ],
   "source": [
    "# Output: True\n",
    "print(issubclass(list,object))\n",
    "\n",
    "# Output: True\n",
    "# print(isinstance(5.5,object))\n",
    "print(issubclass(float, object))\n",
    "\n",
    "# Output: True\n",
    "print(isinstance(\"Hello\",object))"
   ]
  },
  {
   "cell_type": "markdown",
   "metadata": {},
   "source": [
    "### 다중상속\n",
    "- 우선순위가 혼동이 되는겨 Z가 일단 혼동되니까 X,Y를 먼저 하고 그 다음에 Z를 간대 ??? 이해가 안됨\n",
    "- 고로 아예 쓸 생각도 하지마라!"
   ]
  },
  {
   "cell_type": "code",
   "execution_count": 299,
   "metadata": {},
   "outputs": [
    {
     "name": "stdout",
     "output_type": "stream",
     "text": [
      "[<class '__main__.M'>, <class '__main__.B'>, <class '__main__.A'>, <class '__main__.X'>, <class '__main__.Y'>, <class '__main__.Z'>, <class 'object'>]\n"
     ]
    }
   ],
   "source": [
    "class X: pass\n",
    "class Y: pass\n",
    "class Z: pass\n",
    "\n",
    "class A(X,Y): pass\n",
    "class B(Y,Z): pass\n",
    "\n",
    "class M(B,A,Z): pass\n",
    "\n",
    "# Output:\n",
    "# [<class '__main__.M'>, <class '__main__.B'>,\n",
    "# <class '__main__.A'>, <class '__main__.X'>,\n",
    "# <class '__main__.Y'>, <class '__main__.Z'>,\n",
    "# <class 'object'>]\n",
    "\n",
    "print(M.mro())"
   ]
  },
  {
   "cell_type": "markdown",
   "metadata": {},
   "source": [
    "### 클래스와 인스턴스 차이\n",
    "- m1 = M() 일 때, m1은 인스턴스\n",
    "- M.mro 일 때, M은 클래스"
   ]
  },
  {
   "cell_type": "markdown",
   "metadata": {},
   "source": [
    "### 오버라이딩\n",
    "- str은 print할 때, repr은 변수만 입력했을 때 보여줌\n",
    "- ipython은 repr을 보여줌\n",
    "- 아래와 같이 재정의 하는게 뭐다? 오버라이딩!"
   ]
  },
  {
   "cell_type": "code",
   "execution_count": 305,
   "metadata": {},
   "outputs": [],
   "source": [
    "class B:\n",
    "    # self 넣는 다는 것은?\n",
    "    def __str__(self):\n",
    "        return 'aaa'\n",
    "    def __repr__(self):\n",
    "        return 'bbb'"
   ]
  },
  {
   "cell_type": "code",
   "execution_count": 302,
   "metadata": {},
   "outputs": [],
   "source": [
    "abc = B()  # 인스턴스화 한다. 라고 말함"
   ]
  },
  {
   "cell_type": "code",
   "execution_count": 304,
   "metadata": {},
   "outputs": [
    {
     "data": {
      "text/plain": [
       "bbb"
      ]
     },
     "execution_count": 304,
     "metadata": {},
     "output_type": "execute_result"
    }
   ],
   "source": [
    "abc"
   ]
  },
  {
   "cell_type": "code",
   "execution_count": 303,
   "metadata": {},
   "outputs": [
    {
     "name": "stdout",
     "output_type": "stream",
     "text": [
      "aaa\n"
     ]
    }
   ],
   "source": [
    "print(abc)"
   ]
  },
  {
   "cell_type": "code",
   "execution_count": 441,
   "metadata": {},
   "outputs": [],
   "source": [
    "class MyInt(int):\n",
    "    def __init__(self,num):\n",
    "        self.num = num\n",
    "    \n",
    "    def __add__(self, other):\n",
    "        print('add')\n",
    "        return self.num+other+3\n",
    "    \n",
    "    def __radd__(self, other):\n",
    "        print('radd')\n",
    "        return self.num+other+1\n",
    "    \n",
    "#         super().__add__(other)\n",
    "    def __str__(self,*args,**kwargs):\n",
    "        print('aaa')\n",
    "#         return 'aaa'\n",
    "\n",
    "    def __repr__(self):\n",
    "        return 'bbb'\n",
    "\n",
    "    def __sub__(self, other):\n",
    "        return 'subsubsub'"
   ]
  },
  {
   "cell_type": "markdown",
   "metadata": {},
   "source": [
    "### 오버로딩\n",
    "- 아래 실행은 왜 안돼니? 연산자는 오버로딩이거든!\n",
    "- 객체 지향이기 때문에 가능하다.\n",
    "- 상속 받아서 바꿀 수 있기 때문에"
   ]
  },
  {
   "cell_type": "code",
   "execution_count": 437,
   "metadata": {},
   "outputs": [],
   "source": [
    "aa = MyInt(10)\n",
    "bb = MyInt(5)"
   ]
  },
  {
   "cell_type": "code",
   "execution_count": 442,
   "metadata": {},
   "outputs": [
    {
     "name": "stdout",
     "output_type": "stream",
     "text": [
      "add\n",
      "radd\n"
     ]
    },
    {
     "data": {
      "text/plain": [
       "7"
      ]
     },
     "execution_count": 442,
     "metadata": {},
     "output_type": "execute_result"
    }
   ],
   "source": [
    "MyInt(2) + MyInt(1)"
   ]
  },
  {
   "cell_type": "markdown",
   "metadata": {},
   "source": [
    "오호 str은 문자열로 바꿔주는 거구나!\n",
    "- 그래서 print할 때 문자열로 바꿔서 프린트를 하는 거였어"
   ]
  },
  {
   "cell_type": "code",
   "execution_count": 400,
   "metadata": {},
   "outputs": [
    {
     "data": {
      "text/plain": [
       "'3'"
      ]
     },
     "execution_count": 400,
     "metadata": {},
     "output_type": "execute_result"
    }
   ],
   "source": [
    "3 .__str__()"
   ]
  },
  {
   "cell_type": "markdown",
   "metadata": {},
   "source": [
    "나만의 객체만들기~~"
   ]
  },
  {
   "cell_type": "code",
   "execution_count": 461,
   "metadata": {},
   "outputs": [],
   "source": [
    "class AA:\n",
    "    def __init__(self, num):\n",
    "        self.num = num\n",
    "    def __add__(self, other):\n",
    "        self.num = self.num + other.num\n",
    "    def __str__(self):\n",
    "        return(self.num)"
   ]
  },
  {
   "cell_type": "code",
   "execution_count": 462,
   "metadata": {},
   "outputs": [],
   "source": [
    "aa = AA(3)"
   ]
  },
  {
   "cell_type": "code",
   "execution_count": 463,
   "metadata": {},
   "outputs": [],
   "source": [
    "bb = AA(4)"
   ]
  },
  {
   "cell_type": "code",
   "execution_count": 464,
   "metadata": {},
   "outputs": [
    {
     "name": "stdout",
     "output_type": "stream",
     "text": [
      "None\n"
     ]
    }
   ],
   "source": [
    "print(aa+bb)"
   ]
  },
  {
   "cell_type": "markdown",
   "metadata": {},
   "source": [
    "### callable\n",
    "- 함수인지 아닌지 체크를 해줌\n",
    "- 클래스냐 메소드냐 ㅋㅋ\n",
    "- 괄호 써야할까 안써야할까 결정할 때 사용함"
   ]
  },
  {
   "cell_type": "code",
   "execution_count": 496,
   "metadata": {},
   "outputs": [],
   "source": [
    "import keyword"
   ]
  },
  {
   "cell_type": "code",
   "execution_count": 497,
   "metadata": {},
   "outputs": [
    {
     "data": {
      "text/plain": [
       "False"
      ]
     },
     "execution_count": 497,
     "metadata": {},
     "output_type": "execute_result"
    }
   ],
   "source": [
    "callable(keyword.kwlist)"
   ]
  },
  {
   "cell_type": "markdown",
   "metadata": {},
   "source": [
    "property가 붙어버리면 함수처럼 실행되면 안 됨"
   ]
  },
  {
   "cell_type": "code",
   "execution_count": 516,
   "metadata": {},
   "outputs": [],
   "source": [
    "class A:\n",
    "    a=['a','b','c']\n",
    "#     @property\n",
    "    def x(self):\n",
    "        return self.a\n",
    "    def __call__(self):\n",
    "        print('aaa')\n",
    "    "
   ]
  },
  {
   "cell_type": "code",
   "execution_count": 519,
   "metadata": {},
   "outputs": [],
   "source": [
    "a = A()  # 인스턴스화를 시키고"
   ]
  },
  {
   "cell_type": "code",
   "execution_count": 523,
   "metadata": {},
   "outputs": [
    {
     "data": {
      "text/plain": [
       "True"
      ]
     },
     "execution_count": 523,
     "metadata": {},
     "output_type": "execute_result"
    }
   ],
   "source": [
    "callable(a.x)"
   ]
  },
  {
   "cell_type": "code",
   "execution_count": 514,
   "metadata": {},
   "outputs": [
    {
     "data": {
      "text/plain": [
       "<method-wrapper '__call__' of method object at 0x000001A4259E1BC8>"
      ]
     },
     "execution_count": 514,
     "metadata": {},
     "output_type": "execute_result"
    }
   ],
   "source": [
    "a.x.__call__"
   ]
  },
  {
   "cell_type": "markdown",
   "metadata": {},
   "source": [
    "method 또는 function 이 나오면 () 붙이셈"
   ]
  },
  {
   "cell_type": "code",
   "execution_count": 520,
   "metadata": {},
   "outputs": [
    {
     "name": "stdout",
     "output_type": "stream",
     "text": [
      "aaa\n"
     ]
    }
   ],
   "source": [
    "a.__call__()"
   ]
  },
  {
   "cell_type": "code",
   "execution_count": 521,
   "metadata": {},
   "outputs": [
    {
     "name": "stdout",
     "output_type": "stream",
     "text": [
      "aaa\n"
     ]
    }
   ],
   "source": [
    "A().__call__()"
   ]
  },
  {
   "cell_type": "markdown",
   "metadata": {},
   "source": [
    "인스턴스할 때 괄호를 썼기 때문에 클래스도 callable이다. "
   ]
  },
  {
   "cell_type": "code",
   "execution_count": 525,
   "metadata": {},
   "outputs": [
    {
     "data": {
      "text/plain": [
       "True"
      ]
     },
     "execution_count": 525,
     "metadata": {},
     "output_type": "execute_result"
    }
   ],
   "source": [
    "callable(A)"
   ]
  },
  {
   "cell_type": "code",
   "execution_count": 546,
   "metadata": {},
   "outputs": [],
   "source": [
    "from collections import namedtuple"
   ]
  },
  {
   "cell_type": "code",
   "execution_count": 585,
   "metadata": {},
   "outputs": [],
   "source": [
    "a = namedtuple('hot',['이름','나이','선호'])"
   ]
  },
  {
   "cell_type": "code",
   "execution_count": 586,
   "metadata": {},
   "outputs": [
    {
     "data": {
      "text/plain": [
       "__main__.hot"
      ]
     },
     "execution_count": 586,
     "metadata": {},
     "output_type": "execute_result"
    }
   ],
   "source": [
    "a"
   ]
  },
  {
   "cell_type": "code",
   "execution_count": 587,
   "metadata": {},
   "outputs": [
    {
     "data": {
      "text/plain": [
       "'hot(이름, 나이, 선호)'"
      ]
     },
     "execution_count": 587,
     "metadata": {},
     "output_type": "execute_result"
    }
   ],
   "source": [
    "a.__doc__"
   ]
  },
  {
   "cell_type": "code",
   "execution_count": 624,
   "metadata": {},
   "outputs": [],
   "source": [
    "x = a('윤싱찬',20,'치킨')"
   ]
  },
  {
   "cell_type": "code",
   "execution_count": 625,
   "metadata": {},
   "outputs": [],
   "source": [
    "y = a('찬찬찬',26,'치킨')"
   ]
  },
  {
   "cell_type": "code",
   "execution_count": 626,
   "metadata": {},
   "outputs": [
    {
     "data": {
      "text/plain": [
       "26"
      ]
     },
     "execution_count": 626,
     "metadata": {},
     "output_type": "execute_result"
    }
   ],
   "source": [
    "y.나이"
   ]
  },
  {
   "cell_type": "code",
   "execution_count": 632,
   "metadata": {},
   "outputs": [],
   "source": [
    "t = [x,y]"
   ]
  },
  {
   "cell_type": "code",
   "execution_count": 633,
   "metadata": {},
   "outputs": [
    {
     "data": {
      "text/plain": [
       "2"
      ]
     },
     "execution_count": 633,
     "metadata": {},
     "output_type": "execute_result"
    }
   ],
   "source": [
    "len(t)"
   ]
  },
  {
   "cell_type": "code",
   "execution_count": 634,
   "metadata": {},
   "outputs": [
    {
     "data": {
      "text/plain": [
       "23.0"
      ]
     },
     "execution_count": 634,
     "metadata": {},
     "output_type": "execute_result"
    }
   ],
   "source": [
    "sum([z.나이 for z in t])/len(t)"
   ]
  },
  {
   "cell_type": "markdown",
   "metadata": {},
   "source": [
    "insert 한 타입의 순서만 기억한다."
   ]
  },
  {
   "cell_type": "code",
   "execution_count": 701,
   "metadata": {},
   "outputs": [],
   "source": [
    "from collections import OrderedDict"
   ]
  },
  {
   "cell_type": "code",
   "execution_count": 652,
   "metadata": {},
   "outputs": [],
   "source": [
    "d = {'name ': '윤성찬', 'age':26. ,'addr':'천안'}\n",
    "e = {'name ': '찬찬찬', 'age':20. ,'addr':'서울'}"
   ]
  },
  {
   "cell_type": "code",
   "execution_count": 666,
   "metadata": {},
   "outputs": [],
   "source": [
    "od = OrderedDict(d)"
   ]
  },
  {
   "cell_type": "code",
   "execution_count": 668,
   "metadata": {},
   "outputs": [],
   "source": [
    "of = OrderedDict(e)"
   ]
  },
  {
   "cell_type": "markdown",
   "metadata": {},
   "source": [
    "shift + tab 해도 정보가 나오지 않는다면, help로 들어가거라"
   ]
  },
  {
   "cell_type": "code",
   "execution_count": 672,
   "metadata": {},
   "outputs": [
    {
     "name": "stdout",
     "output_type": "stream",
     "text": [
      "Help on class OrderedDict in module collections:\n",
      "\n",
      "class OrderedDict(builtins.dict)\n",
      " |  Dictionary that remembers insertion order\n",
      " |  \n",
      " |  Method resolution order:\n",
      " |      OrderedDict\n",
      " |      builtins.dict\n",
      " |      builtins.object\n",
      " |  \n",
      " |  Methods defined here:\n",
      " |  \n",
      " |  __delitem__(self, key, /)\n",
      " |      Delete self[key].\n",
      " |  \n",
      " |  __eq__(self, value, /)\n",
      " |      Return self==value.\n",
      " |  \n",
      " |  __ge__(self, value, /)\n",
      " |      Return self>=value.\n",
      " |  \n",
      " |  __gt__(self, value, /)\n",
      " |      Return self>value.\n",
      " |  \n",
      " |  __init__(self, /, *args, **kwargs)\n",
      " |      Initialize self.  See help(type(self)) for accurate signature.\n",
      " |  \n",
      " |  __iter__(self, /)\n",
      " |      Implement iter(self).\n",
      " |  \n",
      " |  __le__(self, value, /)\n",
      " |      Return self<=value.\n",
      " |  \n",
      " |  __lt__(self, value, /)\n",
      " |      Return self<value.\n",
      " |  \n",
      " |  __ne__(self, value, /)\n",
      " |      Return self!=value.\n",
      " |  \n",
      " |  __new__(*args, **kwargs) from builtins.type\n",
      " |      Create and return a new object.  See help(type) for accurate signature.\n",
      " |  \n",
      " |  __reduce__(...)\n",
      " |      Return state information for pickling\n",
      " |  \n",
      " |  __repr__(self, /)\n",
      " |      Return repr(self).\n",
      " |  \n",
      " |  __reversed__(...)\n",
      " |      od.__reversed__() <==> reversed(od)\n",
      " |  \n",
      " |  __setitem__(self, key, value, /)\n",
      " |      Set self[key] to value.\n",
      " |  \n",
      " |  __sizeof__(...)\n",
      " |      D.__sizeof__() -> size of D in memory, in bytes\n",
      " |  \n",
      " |  clear(...)\n",
      " |      od.clear() -> None.  Remove all items from od.\n",
      " |  \n",
      " |  copy(...)\n",
      " |      od.copy() -> a shallow copy of od\n",
      " |  \n",
      " |  fromkeys(...) from builtins.type\n",
      " |      OD.fromkeys(S[, v]) -> New ordered dictionary with keys from S.\n",
      " |      If not specified, the value defaults to None.\n",
      " |  \n",
      " |  items(...)\n",
      " |      D.items() -> a set-like object providing a view on D's items\n",
      " |  \n",
      " |  keys(...)\n",
      " |      D.keys() -> a set-like object providing a view on D's keys\n",
      " |  \n",
      " |  move_to_end(...)\n",
      " |      Move an existing element to the end (or beginning if last==False).\n",
      " |      \n",
      " |      Raises KeyError if the element does not exist.\n",
      " |      When last=True, acts like a fast version of self[key]=self.pop(key).\n",
      " |  \n",
      " |  pop(...)\n",
      " |      od.pop(k[,d]) -> v, remove specified key and return the corresponding\n",
      " |      value.  If key is not found, d is returned if given, otherwise KeyError\n",
      " |      is raised.\n",
      " |  \n",
      " |  popitem(self, /, last=True)\n",
      " |      Remove and return a (key, value) pair from the dictionary.\n",
      " |      \n",
      " |      Pairs are returned in LIFO order if last is true or FIFO order if false.\n",
      " |  \n",
      " |  setdefault(...)\n",
      " |      od.setdefault(k[,d]) -> od.get(k,d), also set od[k]=d if k not in od\n",
      " |  \n",
      " |  update(...)\n",
      " |      D.update([E, ]**F) -> None.  Update D from dict/iterable E and F.\n",
      " |      If E is present and has a .keys() method, then does:  for k in E: D[k] = E[k]\n",
      " |      If E is present and lacks a .keys() method, then does:  for k, v in E: D[k] = v\n",
      " |      In either case, this is followed by: for k in F:  D[k] = F[k]\n",
      " |  \n",
      " |  values(...)\n",
      " |      D.values() -> an object providing a view on D's values\n",
      " |  \n",
      " |  ----------------------------------------------------------------------\n",
      " |  Data descriptors defined here:\n",
      " |  \n",
      " |  __dict__\n",
      " |  \n",
      " |  ----------------------------------------------------------------------\n",
      " |  Data and other attributes defined here:\n",
      " |  \n",
      " |  __hash__ = None\n",
      " |  \n",
      " |  ----------------------------------------------------------------------\n",
      " |  Methods inherited from builtins.dict:\n",
      " |  \n",
      " |  __contains__(self, key, /)\n",
      " |      True if D has a key k, else False.\n",
      " |  \n",
      " |  __getattribute__(self, name, /)\n",
      " |      Return getattr(self, name).\n",
      " |  \n",
      " |  __getitem__(...)\n",
      " |      x.__getitem__(y) <==> x[y]\n",
      " |  \n",
      " |  __len__(self, /)\n",
      " |      Return len(self).\n",
      " |  \n",
      " |  get(...)\n",
      " |      D.get(k[,d]) -> D[k] if k in D, else d.  d defaults to None.\n",
      "\n"
     ]
    }
   ],
   "source": [
    "help(OrderedDict)"
   ]
  },
  {
   "cell_type": "markdown",
   "metadata": {},
   "source": [
    "딕셔너리는 unpacking해서 넣어라!"
   ]
  },
  {
   "cell_type": "code",
   "execution_count": 696,
   "metadata": {},
   "outputs": [],
   "source": [
    "a = OrderedDict(name='윤성찬',age=26)"
   ]
  },
  {
   "cell_type": "code",
   "execution_count": 697,
   "metadata": {
    "scrolled": true
   },
   "outputs": [],
   "source": [
    "b = dict(name='찬찬찬',age=20)"
   ]
  },
  {
   "cell_type": "code",
   "execution_count": 698,
   "metadata": {},
   "outputs": [
    {
     "data": {
      "text/plain": [
       "OrderedDict([('name', '윤성찬'), ('age', 26)])"
      ]
     },
     "execution_count": 698,
     "metadata": {},
     "output_type": "execute_result"
    }
   ],
   "source": [
    "a"
   ]
  },
  {
   "cell_type": "code",
   "execution_count": 699,
   "metadata": {},
   "outputs": [
    {
     "data": {
      "text/plain": [
       "{'name': '찬찬찬', 'age': 20}"
      ]
     },
     "execution_count": 699,
     "metadata": {},
     "output_type": "execute_result"
    }
   ],
   "source": [
    "b"
   ]
  },
  {
   "cell_type": "code",
   "execution_count": 691,
   "metadata": {},
   "outputs": [
    {
     "data": {
      "text/plain": [
       "'윤성찬'"
      ]
     },
     "execution_count": 691,
     "metadata": {},
     "output_type": "execute_result"
    }
   ],
   "source": [
    "a.get('name')"
   ]
  },
  {
   "cell_type": "code",
   "execution_count": 694,
   "metadata": {},
   "outputs": [
    {
     "name": "stdout",
     "output_type": "stream",
     "text": [
      "name 윤성찬\n",
      "age 26\n"
     ]
    }
   ],
   "source": [
    "for i,j in a.items():\n",
    "    print (i,j)"
   ]
  },
  {
   "cell_type": "code",
   "execution_count": 703,
   "metadata": {},
   "outputs": [],
   "source": [
    "from collections import defaultdict"
   ]
  },
  {
   "cell_type": "code",
   "execution_count": 704,
   "metadata": {},
   "outputs": [
    {
     "data": {
      "text/plain": [
       "[('i', 4), ('m', 1), ('p', 2), ('s', 4)]"
      ]
     },
     "execution_count": 704,
     "metadata": {},
     "output_type": "execute_result"
    }
   ],
   "source": [
    "s = 'mississippi'\n",
    "d = defaultdict(int)\n",
    "for k in s:\n",
    "    d[k]+=1\n",
    "\n",
    "sorted(d.items())"
   ]
  },
  {
   "cell_type": "markdown",
   "metadata": {},
   "source": [
    "### --call--이 있어? 그럼 () 써야겠네!"
   ]
  },
  {
   "cell_type": "code",
   "execution_count": 554,
   "metadata": {},
   "outputs": [
    {
     "name": "stdout",
     "output_type": "stream",
     "text": [
      "Returns a new subclass of tuple with named fields.\n",
      "\n",
      "    >>> Point = namedtuple('Point', ['x', 'y'])\n",
      "    >>> Point.__doc__                   # docstring for the new class\n",
      "    'Point(x, y)'\n",
      "    >>> p = Point(11, y=22)             # instantiate with positional args or keywords\n",
      "    >>> p[0] + p[1]                     # indexable like a plain tuple\n",
      "    33\n",
      "    >>> x, y = p                        # unpack like a regular tuple\n",
      "    >>> x, y\n",
      "    (11, 22)\n",
      "    >>> p.x + p.y                       # fields also accessible by name\n",
      "    33\n",
      "    >>> d = p._asdict()                 # convert to a dictionary\n",
      "    >>> d['x']\n",
      "    11\n",
      "    >>> Point(**d)                      # convert from a dictionary\n",
      "    Point(x=11, y=22)\n",
      "    >>> p._replace(x=100)               # _replace() is like str.replace() but targets named fields\n",
      "    Point(x=100, y=22)\n",
      "\n",
      "    \n"
     ]
    }
   ],
   "source": [
    "print(namedtuple.__doc__)"
   ]
  },
  {
   "cell_type": "markdown",
   "metadata": {},
   "source": [
    "### KEYWORD\n",
    "- 리스코프 변환 원리\n",
    "- dock typying\n",
    "- eafp\n",
    "- lbyl\n",
    "- 제네레이터\n",
    "- comprehension\n",
    "- predicate (컴퓨터과학에서)\n",
    "- 오버로딩 / 오버라이딩\n",
    "- add/radd\n",
    "- callable\n",
    "    - @property  [디스크립터]\n",
    "- 디자인 패턴\n",
    "- ordereddict / dict / Userdict / Defualtdict"
   ]
  },
  {
   "cell_type": "code",
   "execution_count": null,
   "metadata": {},
   "outputs": [],
   "source": []
  }
 ],
 "metadata": {
  "kernelspec": {
   "display_name": "Python 3",
   "language": "python",
   "name": "python3"
  },
  "language_info": {
   "codemirror_mode": {
    "name": "ipython",
    "version": 3
   },
   "file_extension": ".py",
   "mimetype": "text/x-python",
   "name": "python",
   "nbconvert_exporter": "python",
   "pygments_lexer": "ipython3",
   "version": "3.6.5"
  }
 },
 "nbformat": 4,
 "nbformat_minor": 2
}
