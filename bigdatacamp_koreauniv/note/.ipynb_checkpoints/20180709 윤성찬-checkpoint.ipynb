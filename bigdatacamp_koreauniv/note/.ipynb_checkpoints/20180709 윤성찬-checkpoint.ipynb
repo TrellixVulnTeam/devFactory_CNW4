{
 "cells": [
  {
   "cell_type": "markdown",
   "metadata": {},
   "source": [
    "### 0709 윤성찬 실습과제"
   ]
  },
  {
   "cell_type": "code",
   "execution_count": 268,
   "metadata": {},
   "outputs": [
    {
     "name": "stdout",
     "output_type": "stream",
     "text": [
      "Total\tSimulated Percent\tExpected Percent\n",
      "2 \t\t 3.1 \t\t 2.78\n",
      "3 \t\t 6.0 \t\t 5.56\n",
      "4 \t\t 8.7 \t\t 8.33\n",
      "5 \t\t 13.2 \t\t 11.11\n",
      "6 \t\t 14.8 \t\t 13.89\n",
      "7 \t\t 15.2 \t\t 16.67\n",
      "8 \t\t 13.6 \t\t 13.89\n",
      "9 \t\t 10.4 \t\t 11.11\n",
      "10 \t\t 7.9 \t\t 8.33\n",
      "11 \t\t 4.6 \t\t 5.56\n",
      "12 \t\t 2.5 \t\t 2.78\n"
     ]
    }
   ],
   "source": [
    "#Exercise 129 : Two Dice Simulation\n",
    "\n",
    "from random import randint\n",
    "from collections import Counter\n",
    "\n",
    "def rolldice():\n",
    "    dice1 = randint(1,6)\n",
    "    dice2 = randint(1,6)\n",
    "    return dice1+dice2\n",
    "\n",
    "numlist = []\n",
    "simulate=[0,0,2.78,5.56,8.33,11.11,13.89,16.67,13.89,11.11,8.33,5.56,2.78]\n",
    "for i in range(0,1000):\n",
    "    a = rolldice()\n",
    "    numlist.append(a)\n",
    "    \n",
    "cnt = Counter(numlist)\n",
    "\n",
    "print(\"Total\\tSimulated Percent\\tExpected Percent\")\n",
    "for i in range(2,13):\n",
    "    print(i,\"\\t\\t\",cnt.get(i)/10,\"\\t\\t\",simulate[i])"
   ]
  },
  {
   "cell_type": "code",
   "execution_count": null,
   "metadata": {},
   "outputs": [],
   "source": []
  }
 ],
 "metadata": {
  "kernelspec": {
   "display_name": "Python 3",
   "language": "python",
   "name": "python3"
  },
  "language_info": {
   "codemirror_mode": {
    "name": "ipython",
    "version": 3
   },
   "file_extension": ".py",
   "mimetype": "text/x-python",
   "name": "python",
   "nbconvert_exporter": "python",
   "pygments_lexer": "ipython3",
   "version": "3.6.5"
  }
 },
 "nbformat": 4,
 "nbformat_minor": 2
}
