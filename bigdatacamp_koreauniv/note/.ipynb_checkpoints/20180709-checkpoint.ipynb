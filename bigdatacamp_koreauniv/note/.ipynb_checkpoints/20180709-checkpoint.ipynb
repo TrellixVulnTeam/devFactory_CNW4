{
 "cells": [
  {
   "cell_type": "markdown",
   "metadata": {},
   "source": [
    "# 20180709 필기"
   ]
  },
  {
   "cell_type": "code",
   "execution_count": 8,
   "metadata": {},
   "outputs": [],
   "source": [
    "import sqlite3"
   ]
  },
  {
   "cell_type": "code",
   "execution_count": 9,
   "metadata": {},
   "outputs": [],
   "source": [
    "conn = sqlite3.connect(\":memory:\")"
   ]
  },
  {
   "cell_type": "markdown",
   "metadata": {},
   "source": [
    "cur은 pointer 개념이라고 생각하면 된다."
   ]
  },
  {
   "cell_type": "code",
   "execution_count": 10,
   "metadata": {},
   "outputs": [],
   "source": [
    "cur = conn.cursor()"
   ]
  },
  {
   "cell_type": "code",
   "execution_count": 11,
   "metadata": {},
   "outputs": [],
   "source": [
    "who = \"yeltsin\""
   ]
  },
  {
   "cell_type": "code",
   "execution_count": 12,
   "metadata": {},
   "outputs": [],
   "source": [
    "age = 72"
   ]
  },
  {
   "cell_type": "code",
   "execution_count": 13,
   "metadata": {},
   "outputs": [
    {
     "data": {
      "text/plain": [
       "'yeltsin'"
      ]
     },
     "execution_count": 13,
     "metadata": {},
     "output_type": "execute_result"
    }
   ],
   "source": [
    "who"
   ]
  },
  {
   "cell_type": "code",
   "execution_count": 14,
   "metadata": {},
   "outputs": [
    {
     "data": {
      "text/plain": [
       "72"
      ]
     },
     "execution_count": 14,
     "metadata": {},
     "output_type": "execute_result"
    }
   ],
   "source": [
    "age"
   ]
  },
  {
   "cell_type": "code",
   "execution_count": 15,
   "metadata": {},
   "outputs": [
    {
     "data": {
      "text/plain": [
       "<sqlite3.Cursor at 0x1fa75fa4c70>"
      ]
     },
     "execution_count": 15,
     "metadata": {},
     "output_type": "execute_result"
    }
   ],
   "source": [
    "cur.execute(\"create table people (name_last, age)\")"
   ]
  },
  {
   "cell_type": "code",
   "execution_count": 16,
   "metadata": {},
   "outputs": [
    {
     "data": {
      "text/plain": [
       "<sqlite3.Cursor at 0x1fa75fa4c70>"
      ]
     },
     "execution_count": 16,
     "metadata": {},
     "output_type": "execute_result"
    }
   ],
   "source": [
    "cur.execute(\"insert into people values(?,?)\", (who, age))"
   ]
  },
  {
   "cell_type": "code",
   "execution_count": 17,
   "metadata": {},
   "outputs": [
    {
     "data": {
      "text/plain": [
       "<sqlite3.Cursor at 0x1fa75fa4c70>"
      ]
     },
     "execution_count": 17,
     "metadata": {},
     "output_type": "execute_result"
    }
   ],
   "source": [
    "cur.execute(\"select * from people where name_last=:who and age=:age\",{\"who\":who, \"age\":age})"
   ]
  },
  {
   "cell_type": "markdown",
   "metadata": {},
   "source": [
    "cur.fetchone()\n",
    "- 물고 있는 데이터 중에 하나 하나씩 꺼내오는거임"
   ]
  },
  {
   "cell_type": "code",
   "execution_count": 18,
   "metadata": {},
   "outputs": [
    {
     "data": {
      "text/plain": [
       "('yeltsin', 72)"
      ]
     },
     "execution_count": 18,
     "metadata": {},
     "output_type": "execute_result"
    }
   ],
   "source": [
    "cur.fetchone()"
   ]
  },
  {
   "cell_type": "code",
   "execution_count": 30,
   "metadata": {},
   "outputs": [],
   "source": [
    "sql = \"insert into people values (?,?)\""
   ]
  },
  {
   "cell_type": "code",
   "execution_count": 20,
   "metadata": {},
   "outputs": [
    {
     "data": {
      "text/plain": [
       "'insert into people values (?,?)'"
      ]
     },
     "execution_count": 20,
     "metadata": {},
     "output_type": "execute_result"
    }
   ],
   "source": [
    "sql"
   ]
  },
  {
   "cell_type": "code",
   "execution_count": 31,
   "metadata": {},
   "outputs": [],
   "source": [
    "data =[(\"1\",1),(\"2\",2),(\"3\",3)]"
   ]
  },
  {
   "cell_type": "code",
   "execution_count": 32,
   "metadata": {},
   "outputs": [
    {
     "data": {
      "text/plain": [
       "<sqlite3.Cursor at 0x1fa75fa4c70>"
      ]
     },
     "execution_count": 32,
     "metadata": {},
     "output_type": "execute_result"
    }
   ],
   "source": [
    "cur.executemany(sql, data)"
   ]
  },
  {
   "cell_type": "code",
   "execution_count": 23,
   "metadata": {},
   "outputs": [
    {
     "data": {
      "text/plain": [
       "<sqlite3.Cursor at 0x1fa75fa4c70>"
      ]
     },
     "execution_count": 23,
     "metadata": {},
     "output_type": "execute_result"
    }
   ],
   "source": [
    "cur.executescript(\n",
    "\"\"\"\n",
    "    create table person2(\n",
    "        first_name text primary key,\n",
    "        last_name text not null\n",
    "    );\n",
    "    \n",
    "    insert into people values ('name','kim');\n",
    "\"\"\"\n",
    ")"
   ]
  },
  {
   "cell_type": "code",
   "execution_count": 24,
   "metadata": {},
   "outputs": [
    {
     "data": {
      "text/plain": [
       "<sqlite3.Cursor at 0x1fa75fa4c70>"
      ]
     },
     "execution_count": 24,
     "metadata": {},
     "output_type": "execute_result"
    }
   ],
   "source": [
    "cur.execute(\"select *from person\")"
   ]
  },
  {
   "cell_type": "code",
   "execution_count": 33,
   "metadata": {},
   "outputs": [
    {
     "name": "stdout",
     "output_type": "stream",
     "text": [
      "[]\n"
     ]
    }
   ],
   "source": [
    "print(cur.fetchall())"
   ]
  },
  {
   "cell_type": "code",
   "execution_count": 34,
   "metadata": {},
   "outputs": [],
   "source": [
    "conn.close()"
   ]
  },
  {
   "cell_type": "code",
   "execution_count": 35,
   "metadata": {},
   "outputs": [],
   "source": [
    "conn = sqlite3.connect(\"test.db\")"
   ]
  },
  {
   "cell_type": "code",
   "execution_count": 43,
   "metadata": {},
   "outputs": [
    {
     "data": {
      "text/plain": [
       "<sqlite3.Cursor at 0x1fa7609b8f0>"
      ]
     },
     "execution_count": 43,
     "metadata": {},
     "output_type": "execute_result"
    }
   ],
   "source": [
    "conn.execute(\n",
    "\"\"\"\n",
    "    create table company(\n",
    "        id int primary key not null,\n",
    "        name text not null,\n",
    "        age int not null,\n",
    "        address char(50),\n",
    "        salary real\n",
    "    )\n",
    "\"\"\"\n",
    ")"
   ]
  },
  {
   "cell_type": "code",
   "execution_count": 39,
   "metadata": {},
   "outputs": [
    {
     "data": {
      "text/plain": [
       "<sqlite3.Cursor at 0x1fa7609b260>"
      ]
     },
     "execution_count": 39,
     "metadata": {},
     "output_type": "execute_result"
    }
   ],
   "source": [
    "conn.execute(\"drop table company\")"
   ]
  },
  {
   "cell_type": "code",
   "execution_count": 40,
   "metadata": {
    "scrolled": true
   },
   "outputs": [
    {
     "ename": "OperationalError",
     "evalue": "no such table: company",
     "output_type": "error",
     "traceback": [
      "\u001b[1;31m---------------------------------------------------------------------------\u001b[0m",
      "\u001b[1;31mOperationalError\u001b[0m                          Traceback (most recent call last)",
      "\u001b[1;32m<ipython-input-40-6fb6ec903f26>\u001b[0m in \u001b[0;36m<module>\u001b[1;34m()\u001b[0m\n\u001b[1;32m----> 1\u001b[1;33m \u001b[0mconn\u001b[0m\u001b[1;33m.\u001b[0m\u001b[0mexecute\u001b[0m\u001b[1;33m(\u001b[0m\u001b[1;34m\"select *from company\"\u001b[0m\u001b[1;33m)\u001b[0m\u001b[1;33m\u001b[0m\u001b[0m\n\u001b[0m",
      "\u001b[1;31mOperationalError\u001b[0m: no such table: company"
     ]
    }
   ],
   "source": [
    "conn.execute(\"select *from company\")"
   ]
  },
  {
   "cell_type": "code",
   "execution_count": 44,
   "metadata": {},
   "outputs": [],
   "source": [
    "conn.execute(\"insert into company values (1, 'Paul', 32, 'California', 20000.00)\");"
   ]
  },
  {
   "cell_type": "code",
   "execution_count": 47,
   "metadata": {},
   "outputs": [],
   "source": [
    "conn.execute(\"insert into company values (:id, :name, :age, :address, :salaray)\"\n",
    ", {'id':2, 'name':'AAA', 'age':32, 'address':'California', 'salaray':15000.00});"
   ]
  },
  {
   "cell_type": "code",
   "execution_count": 49,
   "metadata": {},
   "outputs": [],
   "source": [
    "data = [(3, 'Teddy',23,'Norway',200000.00),\n",
    "(4, 'Mark', 25, 'Rich-Mond', 65000.00)]"
   ]
  },
  {
   "cell_type": "code",
   "execution_count": 50,
   "metadata": {},
   "outputs": [],
   "source": [
    "conn.executemany(\"insert into company values (?,?,?,?,?)\",data);"
   ]
  },
  {
   "cell_type": "code",
   "execution_count": 51,
   "metadata": {},
   "outputs": [],
   "source": [
    "conn.executescript(\n",
    "\"\"\"\n",
    "    insert into company values (5,'mark1',25,'rich-mond',65000.00);\n",
    "    insert into company values (6,'mark2',25,'rich-mond',65000.00);\n",
    "\n",
    "\"\"\");"
   ]
  },
  {
   "cell_type": "markdown",
   "metadata": {},
   "source": [
    "커밋을 너무 자주하면 오버헤드가 커짐\n",
    "- select,update 하기 전에 꼭 커밋을 해야한대"
   ]
  },
  {
   "cell_type": "code",
   "execution_count": 52,
   "metadata": {},
   "outputs": [],
   "source": [
    "conn.commit()"
   ]
  },
  {
   "cell_type": "code",
   "execution_count": 66,
   "metadata": {},
   "outputs": [],
   "source": [
    "temp = conn.execute('select *from company')"
   ]
  },
  {
   "cell_type": "code",
   "execution_count": 55,
   "metadata": {},
   "outputs": [
    {
     "data": {
      "text/plain": [
       "sqlite3.Cursor"
      ]
     },
     "execution_count": 55,
     "metadata": {},
     "output_type": "execute_result"
    }
   ],
   "source": [
    "type(temp)"
   ]
  },
  {
   "cell_type": "code",
   "execution_count": 67,
   "metadata": {},
   "outputs": [
    {
     "name": "stdout",
     "output_type": "stream",
     "text": [
      "<class 'tuple'> (1, 'Paul', 32, 'California', 20000.0)\n",
      "<class 'tuple'> (2, 'AAA', 32, 'California', 15000.0)\n",
      "<class 'tuple'> (3, 'Teddy', 23, 'Norway', 200000.0)\n",
      "<class 'tuple'> (4, 'Mark', 25, 'Rich-Mond', 65000.0)\n",
      "<class 'tuple'> (5, 'mark1', 25, 'rich-mond', 65000.0)\n",
      "<class 'tuple'> (6, 'mark2', 25, 'rich-mond', 65000.0)\n"
     ]
    }
   ],
   "source": [
    "for row in temp:\n",
    "    print(type(row),row)"
   ]
  },
  {
   "cell_type": "code",
   "execution_count": 61,
   "metadata": {},
   "outputs": [
    {
     "data": {
      "text/plain": [
       "[(1, 'Paul', 32, 'California', 20000.0),\n",
       " (2, 'AAA', 32, 'California', 15000.0),\n",
       " (3, 'Teddy', 23, 'Norway', 200000.0),\n",
       " (4, 'Mark', 25, 'Rich-Mond', 65000.0),\n",
       " (5, 'mark1', 25, 'rich-mond', 65000.0),\n",
       " (6, 'mark2', 25, 'rich-mond', 65000.0)]"
      ]
     },
     "execution_count": 61,
     "metadata": {},
     "output_type": "execute_result"
    }
   ],
   "source": [
    "temp.fetchall()"
   ]
  },
  {
   "cell_type": "markdown",
   "metadata": {},
   "source": [
    "변수를 이용해서 만들 수도 있음"
   ]
  },
  {
   "cell_type": "code",
   "execution_count": 68,
   "metadata": {},
   "outputs": [
    {
     "name": "stdout",
     "output_type": "stream",
     "text": [
      "Total number of rows updated :  7\n"
     ]
    }
   ],
   "source": [
    "cid = 1\n",
    "\n",
    "conn.execute(\"update company set salary = 25000.00 where id=:id\",{'id':cid})\n",
    "conn.commit()\n",
    "print(\"Total number of rows updated : \",conn.total_changes)"
   ]
  },
  {
   "cell_type": "code",
   "execution_count": 71,
   "metadata": {},
   "outputs": [
    {
     "name": "stdout",
     "output_type": "stream",
     "text": [
      "(1, 'Paul', 'California', 25000.0)\n",
      "(2, 'AAA', 'California', 15000.0)\n",
      "(3, 'Teddy', 'Norway', 200000.0)\n",
      "(4, 'Mark', 'Rich-Mond', 65000.0)\n",
      "(5, 'mark1', 'rich-mond', 65000.0)\n",
      "(6, 'mark2', 'rich-mond', 65000.0)\n"
     ]
    }
   ],
   "source": [
    "curs = conn.execute(\"select id,name,address,salary from company\")\n",
    "for row in curs:\n",
    "    print(row)"
   ]
  },
  {
   "cell_type": "code",
   "execution_count": 72,
   "metadata": {},
   "outputs": [
    {
     "data": {
      "text/plain": [
       "<sqlite3.Cursor at 0x1fa7609b9d0>"
      ]
     },
     "execution_count": 72,
     "metadata": {},
     "output_type": "execute_result"
    }
   ],
   "source": [
    "conn.execute(\"delete from company where id = 2\")"
   ]
  },
  {
   "cell_type": "code",
   "execution_count": 73,
   "metadata": {},
   "outputs": [
    {
     "name": "stdout",
     "output_type": "stream",
     "text": [
      "8\n"
     ]
    }
   ],
   "source": [
    "print(conn.total_changes)"
   ]
  },
  {
   "cell_type": "markdown",
   "metadata": {},
   "source": [
    "트랜잭션을 끝내고 싶을 때, 바로 select를 하면 자동으로 commit이 적용된다."
   ]
  },
  {
   "cell_type": "code",
   "execution_count": 74,
   "metadata": {},
   "outputs": [],
   "source": [
    "conn.commit()"
   ]
  },
  {
   "cell_type": "code",
   "execution_count": 75,
   "metadata": {},
   "outputs": [
    {
     "name": "stdout",
     "output_type": "stream",
     "text": [
      "(1, 'Paul', 'California', 25000.0)\n",
      "(3, 'Teddy', 'Norway', 200000.0)\n",
      "(4, 'Mark', 'Rich-Mond', 65000.0)\n",
      "(5, 'mark1', 'rich-mond', 65000.0)\n",
      "(6, 'mark2', 'rich-mond', 65000.0)\n"
     ]
    }
   ],
   "source": [
    "curs = conn.execute(\"select id,name,address,salary from company\")\n",
    "for row in curs:\n",
    "    print(row)"
   ]
  },
  {
   "cell_type": "markdown",
   "metadata": {},
   "source": [
    "### 예제"
   ]
  },
  {
   "cell_type": "code",
   "execution_count": 76,
   "metadata": {},
   "outputs": [],
   "source": [
    "import sqlite3 as sql\n",
    "con = None"
   ]
  },
  {
   "cell_type": "code",
   "execution_count": 80,
   "metadata": {},
   "outputs": [
    {
     "name": "stdout",
     "output_type": "stream",
     "text": [
      "sqlite Version:  ('3.21.0',)\n"
     ]
    }
   ],
   "source": [
    "try:\n",
    "    con = sql.connect('prac.db')\n",
    "    cur = con.cursor()\n",
    "    cur.execute(\"select sqlite_version()\")\n",
    "    data = cur.fetchone()\n",
    "    print(\"sqlite Version: \",data)\n",
    "except Exception as e:\n",
    "    print(\"error: \",e)\n",
    "finally:\n",
    "    if con:\n",
    "        con.close()"
   ]
  },
  {
   "cell_type": "markdown",
   "metadata": {},
   "source": [
    "with문 : name scope.\n",
    "- with 문 안에 생성된 변수는 with 문이 끝나면 사라진다.\n",
    "- with con:\n",
    "    - with문이 끝나면 con이 자동으로 close가 됨"
   ]
  },
  {
   "cell_type": "code",
   "execution_count": 81,
   "metadata": {},
   "outputs": [],
   "source": [
    "cars = [\n",
    "    (1,'audi',524441),\n",
    "    (2,'audi2',524442),\n",
    "    (3,'audi3',524443),\n",
    "    (4,'audi4',524444),\n",
    "    (5,'audi5',524445),\n",
    "    (6,'audi6',524446),\n",
    "    (7,'audi7',524447),\n",
    "    (8,'audi8',524448)    \n",
    "    \n",
    "]\n",
    "con = sql.connect('prac.db')\n",
    "with con:\n",
    "    cur = con.cursor()\n",
    "    cur.execute(\"create table cars(id int primary key, name text, price int)\")\n",
    "    cur.executemany(\"insert into cars values(?,?,?)\",cars)"
   ]
  },
  {
   "cell_type": "code",
   "execution_count": 89,
   "metadata": {},
   "outputs": [],
   "source": [
    "temp = cur.execute(\"select *from cars\")"
   ]
  },
  {
   "cell_type": "code",
   "execution_count": 90,
   "metadata": {},
   "outputs": [
    {
     "name": "stdout",
     "output_type": "stream",
     "text": [
      "(1, 'audi', 524441)\n",
      "(2, 'audi2', 524442)\n",
      "(3, 'audi3', 524443)\n",
      "(4, 'audi4', 524444)\n",
      "(5, 'audi5', 524445)\n",
      "(6, 'audi6', 524446)\n",
      "(7, 'audi7', 524447)\n",
      "(8, 'audi8', 524448)\n"
     ]
    }
   ],
   "source": [
    "for rows in temp:\n",
    "    print(rows)"
   ]
  },
  {
   "cell_type": "markdown",
   "metadata": {},
   "source": [
    "### python은 인터프리터 언어기 때문에, create table 은 성공이 되도 select에서 실패가 된다면 table은 생성이 되있다\n",
    "- exception 안에 rollback을 넣는다."
   ]
  },
  {
   "cell_type": "code",
   "execution_count": 93,
   "metadata": {},
   "outputs": [
    {
     "name": "stdout",
     "output_type": "stream",
     "text": [
      "The last id of the inserted row is 4\n"
     ]
    }
   ],
   "source": [
    "con = sql.connect(':memory:')\n",
    "with con:\n",
    "    cur = con.cursor()\n",
    "    cur.execute(\"create table friends(id integer primary key, name text);\")\n",
    "    cur.execute(\"insert into friends(name) values('tom');\")\n",
    "    cur.execute(\"insert into friends(name) values('tom2');\")\n",
    "    cur.execute(\"insert into friends(name) values('tom3');\")\n",
    "    cur.execute(\"insert into friends(name) values('tom4');\")\n",
    "\n",
    "    lid = cur.lastrowid\n",
    "    print(\"The last id of the inserted row is\",lid)"
   ]
  },
  {
   "cell_type": "code",
   "execution_count": null,
   "metadata": {},
   "outputs": [],
   "source": []
  }
 ],
 "metadata": {
  "kernelspec": {
   "display_name": "Python 3",
   "language": "python",
   "name": "python3"
  },
  "language_info": {
   "codemirror_mode": {
    "name": "ipython",
    "version": 3
   },
   "file_extension": ".py",
   "mimetype": "text/x-python",
   "name": "python",
   "nbconvert_exporter": "python",
   "pygments_lexer": "ipython3",
   "version": "3.6.5"
  }
 },
 "nbformat": 4,
 "nbformat_minor": 2
}
