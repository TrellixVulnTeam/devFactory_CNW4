{
 "cells": [
  {
   "cell_type": "code",
   "execution_count": 1,
   "metadata": {},
   "outputs": [],
   "source": [
    "from sqlalchemy import create_engine"
   ]
  },
  {
   "cell_type": "code",
   "execution_count": 17,
   "metadata": {},
   "outputs": [],
   "source": [
    "engine = create_engine(\"sqlite:///alchemytest.db\", echo=True)"
   ]
  },
  {
   "cell_type": "markdown",
   "metadata": {},
   "source": [
    "### 기존의 Base 방식"
   ]
  },
  {
   "cell_type": "code",
   "execution_count": 12,
   "metadata": {},
   "outputs": [],
   "source": [
    "from sqlalchemy.ext.declarative import declarative_base"
   ]
  },
  {
   "cell_type": "code",
   "execution_count": 13,
   "metadata": {},
   "outputs": [],
   "source": [
    "Base = declarative_base()"
   ]
  },
  {
   "cell_type": "markdown",
   "metadata": {},
   "source": [
    "### 또 다른 Base 방식"
   ]
  },
  {
   "cell_type": "code",
   "execution_count": 14,
   "metadata": {},
   "outputs": [],
   "source": [
    "from sqlalchemy.ext.automap import automap_base"
   ]
  },
  {
   "cell_type": "code",
   "execution_count": 18,
   "metadata": {},
   "outputs": [],
   "source": [
    "Base = automap_base()"
   ]
  },
  {
   "cell_type": "code",
   "execution_count": 19,
   "metadata": {},
   "outputs": [
    {
     "name": "stdout",
     "output_type": "stream",
     "text": [
      "2018-07-12 10:25:01,779 INFO sqlalchemy.engine.base.Engine SELECT CAST('test plain returns' AS VARCHAR(60)) AS anon_1\n",
      "2018-07-12 10:25:01,782 INFO sqlalchemy.engine.base.Engine ()\n",
      "2018-07-12 10:25:01,785 INFO sqlalchemy.engine.base.Engine SELECT CAST('test unicode returns' AS VARCHAR(60)) AS anon_1\n",
      "2018-07-12 10:25:01,786 INFO sqlalchemy.engine.base.Engine ()\n",
      "2018-07-12 10:25:01,788 INFO sqlalchemy.engine.base.Engine SELECT name FROM sqlite_master WHERE type='table' ORDER BY name\n",
      "2018-07-12 10:25:01,789 INFO sqlalchemy.engine.base.Engine ()\n",
      "2018-07-12 10:25:01,793 INFO sqlalchemy.engine.base.Engine PRAGMA table_info(\"Album\")\n",
      "2018-07-12 10:25:01,794 INFO sqlalchemy.engine.base.Engine ()\n",
      "2018-07-12 10:25:01,797 INFO sqlalchemy.engine.base.Engine SELECT sql FROM  (SELECT * FROM sqlite_master UNION ALL   SELECT * FROM sqlite_temp_master) WHERE name = 'Album' AND type = 'table'\n",
      "2018-07-12 10:25:01,798 INFO sqlalchemy.engine.base.Engine ()\n",
      "2018-07-12 10:25:01,801 INFO sqlalchemy.engine.base.Engine PRAGMA foreign_key_list(\"Album\")\n",
      "2018-07-12 10:25:01,802 INFO sqlalchemy.engine.base.Engine ()\n",
      "2018-07-12 10:25:01,804 INFO sqlalchemy.engine.base.Engine SELECT sql FROM  (SELECT * FROM sqlite_master UNION ALL   SELECT * FROM sqlite_temp_master) WHERE name = 'Album' AND type = 'table'\n",
      "2018-07-12 10:25:01,805 INFO sqlalchemy.engine.base.Engine ()\n",
      "2018-07-12 10:25:01,811 INFO sqlalchemy.engine.base.Engine PRAGMA table_info(\"Artist\")\n",
      "2018-07-12 10:25:01,812 INFO sqlalchemy.engine.base.Engine ()\n",
      "2018-07-12 10:25:01,814 INFO sqlalchemy.engine.base.Engine SELECT sql FROM  (SELECT * FROM sqlite_master UNION ALL   SELECT * FROM sqlite_temp_master) WHERE name = 'Artist' AND type = 'table'\n",
      "2018-07-12 10:25:01,815 INFO sqlalchemy.engine.base.Engine ()\n",
      "2018-07-12 10:25:01,817 INFO sqlalchemy.engine.base.Engine PRAGMA foreign_key_list(\"Artist\")\n",
      "2018-07-12 10:25:01,818 INFO sqlalchemy.engine.base.Engine ()\n",
      "2018-07-12 10:25:01,820 INFO sqlalchemy.engine.base.Engine SELECT sql FROM  (SELECT * FROM sqlite_master UNION ALL   SELECT * FROM sqlite_temp_master) WHERE name = 'Artist' AND type = 'table'\n",
      "2018-07-12 10:25:01,821 INFO sqlalchemy.engine.base.Engine ()\n",
      "2018-07-12 10:25:01,823 INFO sqlalchemy.engine.base.Engine PRAGMA index_list(\"Artist\")\n",
      "2018-07-12 10:25:01,824 INFO sqlalchemy.engine.base.Engine ()\n",
      "2018-07-12 10:25:01,826 INFO sqlalchemy.engine.base.Engine PRAGMA index_list(\"Artist\")\n",
      "2018-07-12 10:25:01,827 INFO sqlalchemy.engine.base.Engine ()\n",
      "2018-07-12 10:25:01,829 INFO sqlalchemy.engine.base.Engine SELECT sql FROM  (SELECT * FROM sqlite_master UNION ALL   SELECT * FROM sqlite_temp_master) WHERE name = 'Artist' AND type = 'table'\n",
      "2018-07-12 10:25:01,830 INFO sqlalchemy.engine.base.Engine ()\n",
      "2018-07-12 10:25:01,838 INFO sqlalchemy.engine.base.Engine PRAGMA index_list(\"Album\")\n",
      "2018-07-12 10:25:01,839 INFO sqlalchemy.engine.base.Engine ()\n",
      "2018-07-12 10:25:01,841 INFO sqlalchemy.engine.base.Engine PRAGMA index_list(\"Album\")\n",
      "2018-07-12 10:25:01,842 INFO sqlalchemy.engine.base.Engine ()\n",
      "2018-07-12 10:25:01,844 INFO sqlalchemy.engine.base.Engine SELECT sql FROM  (SELECT * FROM sqlite_master UNION ALL   SELECT * FROM sqlite_temp_master) WHERE name = 'Album' AND type = 'table'\n",
      "2018-07-12 10:25:01,845 INFO sqlalchemy.engine.base.Engine ()\n",
      "2018-07-12 10:25:01,849 INFO sqlalchemy.engine.base.Engine PRAGMA table_info(\"Genre\")\n",
      "2018-07-12 10:25:01,850 INFO sqlalchemy.engine.base.Engine ()\n",
      "2018-07-12 10:25:01,853 INFO sqlalchemy.engine.base.Engine SELECT sql FROM  (SELECT * FROM sqlite_master UNION ALL   SELECT * FROM sqlite_temp_master) WHERE name = 'Genre' AND type = 'table'\n",
      "2018-07-12 10:25:01,854 INFO sqlalchemy.engine.base.Engine ()\n",
      "2018-07-12 10:25:01,856 INFO sqlalchemy.engine.base.Engine PRAGMA foreign_key_list(\"Genre\")\n",
      "2018-07-12 10:25:01,857 INFO sqlalchemy.engine.base.Engine ()\n",
      "2018-07-12 10:25:01,858 INFO sqlalchemy.engine.base.Engine SELECT sql FROM  (SELECT * FROM sqlite_master UNION ALL   SELECT * FROM sqlite_temp_master) WHERE name = 'Genre' AND type = 'table'\n",
      "2018-07-12 10:25:01,860 INFO sqlalchemy.engine.base.Engine ()\n",
      "2018-07-12 10:25:01,862 INFO sqlalchemy.engine.base.Engine PRAGMA index_list(\"Genre\")\n",
      "2018-07-12 10:25:01,863 INFO sqlalchemy.engine.base.Engine ()\n",
      "2018-07-12 10:25:01,865 INFO sqlalchemy.engine.base.Engine PRAGMA index_list(\"Genre\")\n",
      "2018-07-12 10:25:01,865 INFO sqlalchemy.engine.base.Engine ()\n",
      "2018-07-12 10:25:01,868 INFO sqlalchemy.engine.base.Engine SELECT sql FROM  (SELECT * FROM sqlite_master UNION ALL   SELECT * FROM sqlite_temp_master) WHERE name = 'Genre' AND type = 'table'\n",
      "2018-07-12 10:25:01,869 INFO sqlalchemy.engine.base.Engine ()\n",
      "2018-07-12 10:25:01,871 INFO sqlalchemy.engine.base.Engine PRAGMA table_info(\"Track\")\n",
      "2018-07-12 10:25:01,872 INFO sqlalchemy.engine.base.Engine ()\n",
      "2018-07-12 10:25:01,875 INFO sqlalchemy.engine.base.Engine SELECT sql FROM  (SELECT * FROM sqlite_master UNION ALL   SELECT * FROM sqlite_temp_master) WHERE name = 'Track' AND type = 'table'\n",
      "2018-07-12 10:25:01,876 INFO sqlalchemy.engine.base.Engine ()\n",
      "2018-07-12 10:25:01,878 INFO sqlalchemy.engine.base.Engine PRAGMA foreign_key_list(\"Track\")\n",
      "2018-07-12 10:25:01,879 INFO sqlalchemy.engine.base.Engine ()\n",
      "2018-07-12 10:25:01,919 INFO sqlalchemy.engine.base.Engine SELECT sql FROM  (SELECT * FROM sqlite_master UNION ALL   SELECT * FROM sqlite_temp_master) WHERE name = 'Track' AND type = 'table'\n",
      "2018-07-12 10:25:01,920 INFO sqlalchemy.engine.base.Engine ()\n",
      "2018-07-12 10:25:01,923 INFO sqlalchemy.engine.base.Engine PRAGMA index_list(\"Track\")\n",
      "2018-07-12 10:25:01,924 INFO sqlalchemy.engine.base.Engine ()\n",
      "2018-07-12 10:25:01,926 INFO sqlalchemy.engine.base.Engine PRAGMA index_list(\"Track\")\n",
      "2018-07-12 10:25:01,927 INFO sqlalchemy.engine.base.Engine ()\n",
      "2018-07-12 10:25:01,929 INFO sqlalchemy.engine.base.Engine SELECT sql FROM  (SELECT * FROM sqlite_master UNION ALL   SELECT * FROM sqlite_temp_master) WHERE name = 'Track' AND type = 'table'\n",
      "2018-07-12 10:25:01,930 INFO sqlalchemy.engine.base.Engine ()\n"
     ]
    }
   ],
   "source": [
    "Base.prepare(engine, reflect=True)"
   ]
  },
  {
   "cell_type": "markdown",
   "metadata": {},
   "source": [
    "### 사실 DB작업 안할거면 sessionmaker 안해도됨 ㅋㅋ"
   ]
  },
  {
   "cell_type": "code",
   "execution_count": 20,
   "metadata": {},
   "outputs": [],
   "source": [
    "from sqlalchemy.orm import sessionmaker"
   ]
  },
  {
   "cell_type": "markdown",
   "metadata": {},
   "source": [
    "### 엔진이랑 연결해주고"
   ]
  },
  {
   "cell_type": "code",
   "execution_count": 21,
   "metadata": {},
   "outputs": [],
   "source": [
    "Session = sessionmaker(bind=engine)"
   ]
  },
  {
   "cell_type": "markdown",
   "metadata": {},
   "source": [
    "### 상속받을 객체 하나 만들어주고"
   ]
  },
  {
   "cell_type": "code",
   "execution_count": 22,
   "metadata": {},
   "outputs": [],
   "source": [
    "session = Session()"
   ]
  },
  {
   "cell_type": "code",
   "execution_count": 24,
   "metadata": {},
   "outputs": [],
   "source": [
    "artist = Base.classes.Artist"
   ]
  },
  {
   "cell_type": "code",
   "execution_count": 25,
   "metadata": {},
   "outputs": [
    {
     "data": {
      "text/plain": [
       "sqlalchemy.ext.automap.Artist"
      ]
     },
     "execution_count": 25,
     "metadata": {},
     "output_type": "execute_result"
    }
   ],
   "source": [
    "artist"
   ]
  },
  {
   "cell_type": "code",
   "execution_count": 27,
   "metadata": {},
   "outputs": [],
   "source": [
    "result = session.query(artist)"
   ]
  },
  {
   "cell_type": "code",
   "execution_count": 32,
   "metadata": {},
   "outputs": [
    {
     "name": "stdout",
     "output_type": "stream",
     "text": [
      "2018-07-12 10:29:31,621 INFO sqlalchemy.engine.base.Engine SELECT \"Artist\".id AS \"Artist_id\", \"Artist\".name AS \"Artist_name\" \n",
      "FROM \"Artist\"\n",
      "2018-07-12 10:29:31,623 INFO sqlalchemy.engine.base.Engine ()\n",
      "1 Led Zepplin\n",
      "2 AC/DC\n"
     ]
    }
   ],
   "source": [
    "for row in result:\n",
    "    print(row.id, row.name)"
   ]
  },
  {
   "cell_type": "markdown",
   "metadata": {},
   "source": [
    "# Relationship"
   ]
  },
  {
   "cell_type": "code",
   "execution_count": 1,
   "metadata": {},
   "outputs": [],
   "source": [
    "from sqlalchemy import create_engine"
   ]
  },
  {
   "cell_type": "code",
   "execution_count": 2,
   "metadata": {},
   "outputs": [],
   "source": [
    "engine = create_engine(\"sqlite://\",echo=True)"
   ]
  },
  {
   "cell_type": "code",
   "execution_count": 3,
   "metadata": {},
   "outputs": [],
   "source": [
    "from sqlalchemy.ext.declarative import declarative_base"
   ]
  },
  {
   "cell_type": "code",
   "execution_count": 4,
   "metadata": {},
   "outputs": [],
   "source": [
    "Base = declarative_base()"
   ]
  },
  {
   "cell_type": "code",
   "execution_count": 5,
   "metadata": {},
   "outputs": [],
   "source": [
    "from sqlalchemy import Column, Integer, String, ForeignKey"
   ]
  },
  {
   "cell_type": "code",
   "execution_count": 6,
   "metadata": {},
   "outputs": [],
   "source": [
    "from sqlalchemy.orm import relationship"
   ]
  },
  {
   "cell_type": "markdown",
   "metadata": {},
   "source": [
    "### 기본적으로 N:M 관계 = 리스트 타입\n",
    "- uselist = True 가 기본 값.\n",
    "- uselist = False 이면 1:n관계가 생성됨"
   ]
  },
  {
   "cell_type": "code",
   "execution_count": 7,
   "metadata": {},
   "outputs": [],
   "source": [
    "class Artist(Base):\n",
    "    __tablename__=\"artist\"\n",
    "    \n",
    "    id = Column(Integer, primary_key=True)\n",
    "    name = Column(String)\n",
    "    album = relationship(\"Album\", back_populates=\"artist\")              # Albumdp 가면 artist라는 애가 있어. \n",
    "    \n",
    "    # 생성자나 함수들을 선언해주면 좋다.\n",
    "    def __repr__(self):\n",
    "        return \"<T'artist(name='%s')>\" % (self.name)\n",
    "    \n",
    "class Album(Base):\n",
    "    __tablename__=\"album\"\n",
    "    \n",
    "    id = Column(Integer, primary_key=True)\n",
    "    title = Column(String)\n",
    "    artist_id = Column(Integer, ForeignKey(\"artist.id\"))                             # uselist = False => 1:n 관계가 생겨버림.\n",
    "    artist= relationship(\"Artist\", back_populates=\"album\", uselist=False)            # Artist에가면 album이라는 애가 있어\n",
    "    \n",
    "class Genre(Base):\n",
    "    __tablename__=\"genre\"\n",
    "    \n",
    "    id = Column(Integer, primary_key=True)\n",
    "    name = Column(String)\n",
    "\n",
    "class Track(Base):\n",
    "    __tablename__=\"track\"\n",
    "    \n",
    "    id = Column(Integer, primary_key=True)\n",
    "    title = Column(String)\n",
    "    album_id = Column(Integer, ForeignKey(\"album.id\"))\n",
    "    genre_id = Column(Integer, ForeignKey(\"genre.id\"))"
   ]
  },
  {
   "cell_type": "code",
   "execution_count": 8,
   "metadata": {},
   "outputs": [
    {
     "name": "stdout",
     "output_type": "stream",
     "text": [
      "2018-07-12 10:37:59,230 INFO sqlalchemy.engine.base.Engine SELECT CAST('test plain returns' AS VARCHAR(60)) AS anon_1\n",
      "2018-07-12 10:37:59,234 INFO sqlalchemy.engine.base.Engine ()\n",
      "2018-07-12 10:37:59,236 INFO sqlalchemy.engine.base.Engine SELECT CAST('test unicode returns' AS VARCHAR(60)) AS anon_1\n",
      "2018-07-12 10:37:59,237 INFO sqlalchemy.engine.base.Engine ()\n",
      "2018-07-12 10:37:59,239 INFO sqlalchemy.engine.base.Engine PRAGMA table_info(\"artist\")\n",
      "2018-07-12 10:37:59,240 INFO sqlalchemy.engine.base.Engine ()\n",
      "2018-07-12 10:37:59,242 INFO sqlalchemy.engine.base.Engine PRAGMA table_info(\"album\")\n",
      "2018-07-12 10:37:59,243 INFO sqlalchemy.engine.base.Engine ()\n",
      "2018-07-12 10:37:59,244 INFO sqlalchemy.engine.base.Engine PRAGMA table_info(\"genre\")\n",
      "2018-07-12 10:37:59,245 INFO sqlalchemy.engine.base.Engine ()\n",
      "2018-07-12 10:37:59,247 INFO sqlalchemy.engine.base.Engine PRAGMA table_info(\"track\")\n",
      "2018-07-12 10:37:59,248 INFO sqlalchemy.engine.base.Engine ()\n",
      "2018-07-12 10:37:59,251 INFO sqlalchemy.engine.base.Engine \n",
      "CREATE TABLE artist (\n",
      "\tid INTEGER NOT NULL, \n",
      "\tname VARCHAR, \n",
      "\tPRIMARY KEY (id)\n",
      ")\n",
      "\n",
      "\n",
      "2018-07-12 10:37:59,252 INFO sqlalchemy.engine.base.Engine ()\n",
      "2018-07-12 10:37:59,254 INFO sqlalchemy.engine.base.Engine COMMIT\n",
      "2018-07-12 10:37:59,255 INFO sqlalchemy.engine.base.Engine \n",
      "CREATE TABLE genre (\n",
      "\tid INTEGER NOT NULL, \n",
      "\tname VARCHAR, \n",
      "\tPRIMARY KEY (id)\n",
      ")\n",
      "\n",
      "\n",
      "2018-07-12 10:37:59,256 INFO sqlalchemy.engine.base.Engine ()\n",
      "2018-07-12 10:37:59,258 INFO sqlalchemy.engine.base.Engine COMMIT\n",
      "2018-07-12 10:37:59,259 INFO sqlalchemy.engine.base.Engine \n",
      "CREATE TABLE album (\n",
      "\tid INTEGER NOT NULL, \n",
      "\ttitle VARCHAR, \n",
      "\tartist_id INTEGER, \n",
      "\tPRIMARY KEY (id), \n",
      "\tFOREIGN KEY(artist_id) REFERENCES artist (id)\n",
      ")\n",
      "\n",
      "\n",
      "2018-07-12 10:37:59,260 INFO sqlalchemy.engine.base.Engine ()\n",
      "2018-07-12 10:37:59,261 INFO sqlalchemy.engine.base.Engine COMMIT\n",
      "2018-07-12 10:37:59,263 INFO sqlalchemy.engine.base.Engine \n",
      "CREATE TABLE track (\n",
      "\tid INTEGER NOT NULL, \n",
      "\ttitle VARCHAR, \n",
      "\talbum_id INTEGER, \n",
      "\tgenre_id INTEGER, \n",
      "\tPRIMARY KEY (id), \n",
      "\tFOREIGN KEY(album_id) REFERENCES album (id), \n",
      "\tFOREIGN KEY(genre_id) REFERENCES genre (id)\n",
      ")\n",
      "\n",
      "\n",
      "2018-07-12 10:37:59,264 INFO sqlalchemy.engine.base.Engine ()\n",
      "2018-07-12 10:37:59,265 INFO sqlalchemy.engine.base.Engine COMMIT\n"
     ]
    }
   ],
   "source": [
    "Base.metadata.create_all(engine)"
   ]
  },
  {
   "cell_type": "code",
   "execution_count": 9,
   "metadata": {},
   "outputs": [],
   "source": [
    "artist1 = Artist(name = \"Led Zepplin\")\n",
    "artist2 = Artist(name = \"AC/DC\")"
   ]
  },
  {
   "cell_type": "code",
   "execution_count": 11,
   "metadata": {},
   "outputs": [],
   "source": [
    "artist1.album = [Album(title = \"IV\"),Album(title=\"Who Made Who\")]"
   ]
  },
  {
   "cell_type": "code",
   "execution_count": 12,
   "metadata": {},
   "outputs": [
    {
     "data": {
      "text/plain": [
       "[<__main__.Album at 0x195c9c33240>, <__main__.Album at 0x195c9c332b0>]"
      ]
     },
     "execution_count": 12,
     "metadata": {},
     "output_type": "execute_result"
    }
   ],
   "source": [
    "artist1.album"
   ]
  },
  {
   "cell_type": "code",
   "execution_count": 13,
   "metadata": {},
   "outputs": [],
   "source": [
    "from sqlalchemy.orm import sessionmaker"
   ]
  },
  {
   "cell_type": "code",
   "execution_count": 14,
   "metadata": {},
   "outputs": [],
   "source": [
    "Session = sessionmaker(bind=engine)"
   ]
  },
  {
   "cell_type": "code",
   "execution_count": 15,
   "metadata": {},
   "outputs": [],
   "source": [
    "session = Session()"
   ]
  },
  {
   "cell_type": "code",
   "execution_count": 27,
   "metadata": {},
   "outputs": [],
   "source": [
    "session.add(artist1)"
   ]
  },
  {
   "cell_type": "code",
   "execution_count": 28,
   "metadata": {},
   "outputs": [
    {
     "name": "stdout",
     "output_type": "stream",
     "text": [
      "2018-07-12 10:45:19,495 INFO sqlalchemy.engine.base.Engine UPDATE album SET title=? WHERE album.id = ?\n",
      "2018-07-12 10:45:19,496 INFO sqlalchemy.engine.base.Engine ('test', 1)\n",
      "2018-07-12 10:45:19,498 INFO sqlalchemy.engine.base.Engine COMMIT\n"
     ]
    }
   ],
   "source": [
    "session.commit()"
   ]
  },
  {
   "cell_type": "markdown",
   "metadata": {},
   "source": [
    "### 리스트 단위기 때문에 맞는 형식으로 받아와야 한다."
   ]
  },
  {
   "cell_type": "code",
   "execution_count": 34,
   "metadata": {},
   "outputs": [
    {
     "name": "stdout",
     "output_type": "stream",
     "text": [
      "<class 'sqlalchemy.orm.collections.InstrumentedList'>\n"
     ]
    }
   ],
   "source": [
    "print(type(artist1.album))"
   ]
  },
  {
   "cell_type": "code",
   "execution_count": 33,
   "metadata": {},
   "outputs": [
    {
     "name": "stdout",
     "output_type": "stream",
     "text": [
      "2018-07-12 10:45:39,022 INFO sqlalchemy.engine.base.Engine BEGIN (implicit)\n",
      "2018-07-12 10:45:39,024 INFO sqlalchemy.engine.base.Engine SELECT artist.id AS artist_id, artist.name AS artist_name \n",
      "FROM artist \n",
      "WHERE artist.id = ?\n",
      "2018-07-12 10:45:39,025 INFO sqlalchemy.engine.base.Engine (1,)\n",
      "2018-07-12 10:45:39,027 INFO sqlalchemy.engine.base.Engine SELECT album.id AS album_id, album.title AS album_title, album.artist_id AS album_artist_id \n",
      "FROM album \n",
      "WHERE ? = album.artist_id\n",
      "2018-07-12 10:45:39,028 INFO sqlalchemy.engine.base.Engine (1,)\n",
      "1 Led Zepplin test123123\n"
     ]
    }
   ],
   "source": [
    "print(artist1.id,artist1.name, artist1.album[0].title)"
   ]
  },
  {
   "cell_type": "markdown",
   "metadata": {},
   "source": [
    "### 수정도 간단함ㅋㅋ"
   ]
  },
  {
   "cell_type": "code",
   "execution_count": 30,
   "metadata": {},
   "outputs": [],
   "source": [
    "artist1.album[0].title = \"test123123\""
   ]
  },
  {
   "cell_type": "code",
   "execution_count": 31,
   "metadata": {},
   "outputs": [],
   "source": [
    "session.add(artist1)"
   ]
  },
  {
   "cell_type": "code",
   "execution_count": 32,
   "metadata": {},
   "outputs": [
    {
     "name": "stdout",
     "output_type": "stream",
     "text": [
      "2018-07-12 10:45:36,040 INFO sqlalchemy.engine.base.Engine UPDATE album SET title=? WHERE album.id = ?\n",
      "2018-07-12 10:45:36,042 INFO sqlalchemy.engine.base.Engine ('test123123', 1)\n",
      "2018-07-12 10:45:36,043 INFO sqlalchemy.engine.base.Engine COMMIT\n"
     ]
    }
   ],
   "source": [
    "session.commit()"
   ]
  },
  {
   "cell_type": "markdown",
   "metadata": {},
   "source": [
    "### 이렇게 클래스를 선언만 하면 DB 작업이 매우 간단해진다.\n",
    "- pk가 누구고 fk가 누군지만,\n",
    "- relationship 만 표현만 하면 orm이 알아서 해줄거임\n",
    "- 우리는 그냥 session 작업만 해서 commit만 하면 끝이자너 ㅋㅋ쩔지"
   ]
  },
  {
   "cell_type": "markdown",
   "metadata": {},
   "source": [
    "# HTML5 & CSS3"
   ]
  },
  {
   "cell_type": "code",
   "execution_count": 1,
   "metadata": {},
   "outputs": [
    {
     "name": "stdout",
     "output_type": "stream",
     "text": [
      "Writing test.html\n"
     ]
    }
   ],
   "source": [
    "%%writefile test.html\n",
    "<!doctype html>\n",
    "<html lang=\"ko\">\n",
    "\t<head>\n",
    "\t\t<meta charset=\"utf-8\"/>\n",
    "\t\t<title>예제</title>\n",
    "\t\t<meta name = \"viewport\" content=\"width=device-width, initial-scale=1.0\">\n",
    "\t\t<meta name=\"keywords\" content=\"실습, 데이터진흥원, 노잼\"/>\n",
    "\t</head>\n",
    "\t<body>\n",
    "\t\t<div id = \"container\">\n",
    "\t\t\t<header>\n",
    "\t\t\t\theader\n",
    "\t\t\t</header>\n",
    "\t\t\t<nav>\n",
    "\t\t\t\t<ul>\n",
    "\t\t\t\t\t<li>Home</li>\n",
    "\t\t\t\t\t<li>News</li>\n",
    "\t\t\t\t\t<li>Contact</li>\n",
    "\t\t\t\t\t<li>About</li>\n",
    "\t\t\t\t</ul>\n",
    "\t\t\t</nav>\n",
    "\t\t\t<section>\n",
    "\t\t\t\t<article>\n",
    "\t\t\t\t\t<h1>Title</h1>\n",
    "\t\t\t\t\t<p>Content</p>\n",
    "\t\t\t\t</article>\n",
    "\t\t\t\t<article>\n",
    "\t\t\t\t\t<h1>Title</h1>\n",
    "\t\t\t\t\t<section>\n",
    "\t\t\t\t\t\t<h1>Sub title1</h1>\n",
    "\t\t\t\t\t\t<p>Sub Content1</p>\n",
    "\t\t\t\t\t</section>\n",
    "\t\t\t\t\t<section>\n",
    "\t\t\t\t\t\t<h1>Sub title2</h1>\n",
    "\t\t\t\t\t\t<p>Sub Content2</p>\n",
    "\t\t\t\t\t</section>\n",
    "\t\t\t\t</article>\n",
    "\t\t\t</section>\n",
    "\t\t\t<aside>\n",
    "\t\t\t\t<section>\n",
    "\t\t\t\t\t<h1> Advertisement </h1>\n",
    "\t\t\t\t\t<p>Content</p>\n",
    "\t\t\t\t</section>\n",
    "\t\t\t\t<section>\n",
    "\t\t\t\t\t<h1> Advertisement </h1>\n",
    "\t\t\t\t\t<p>Content</p>\n",
    "\t\t\t\t</section>\n",
    "\t\t\t</aside>\n",
    "\t\t\t<footer>\n",
    "\t\t\t\tfooter\n",
    "\t\t\t</footer>\n",
    "\t\t</div>\n",
    "\t</body>\n",
    "</html>"
   ]
  },
  {
   "cell_type": "code",
   "execution_count": 2,
   "metadata": {},
   "outputs": [
    {
     "name": "stdout",
     "output_type": "stream",
     "text": [
      "Writing css.html\n"
     ]
    }
   ],
   "source": [
    "%%writefile css.html\n",
    "<!DOCTYPE html>\n",
    "<html>\n",
    "<head>\n",
    "\t<style>\n",
    "\t\tdiv {border: 1px solid #aaaaaa;}\n",
    "\t\t#id {\n",
    "\t\t\tcolor: rgb(0,0,255);\n",
    "\t\t}\n",
    "\t\tdiv.class{\n",
    "\t\t\tbackground-color: yellow;\n",
    "\t\t}\n",
    "\t\tp.class{\n",
    "\t\t\tcolor: green;\n",
    "\t\t\tfont-family: \"궁서\", \"Malgun Gothic\",BatangChe, Sans-serif;\n",
    "\t\t\tfont-size: 3.0em;\n",
    "\t\t}\n",
    "\t\tdiv+p.class{background-color: pink}\n",
    "\t</style>\n",
    "</head>\n",
    "<body>\n",
    "\t<div id=\"id1\">Content1</div>\n",
    "\t<div id=\"id2\">Content2</div>\n",
    "\t<div id=\"id3\">Content3</div>\n",
    "</body>\n",
    "</html>"
   ]
  },
  {
   "cell_type": "code",
   "execution_count": 4,
   "metadata": {},
   "outputs": [
    {
     "name": "stdout",
     "output_type": "stream",
     "text": [
      "Writing css2.html\n"
     ]
    }
   ],
   "source": [
    "%%writefile css2.html\n",
    "<!DOCTYPE html>\n",
    "<html>\n",
    "<head>\n",
    "\t<style>\n",
    "\t\tdiv {border: 1px solid #aaaaaa;}\n",
    "\t\t#id1 {height: 1000px;}\n",
    "\t\t#id2 {position: absolute; top: 100px; left: 200px;}\n",
    "\t\t#id3 {position: fixed; top: 100px; left: 200px;}\n",
    "\t</style>\n",
    "</head>\n",
    "<body>\n",
    "\t<div id=\"id1\">Content1</div>\n",
    "\t<div id=\"id2\">Content2</div>\n",
    "\t<div id=\"id3\">Content3</div>\n",
    "</body>\n",
    "</html>"
   ]
  },
  {
   "cell_type": "code",
   "execution_count": 2,
   "metadata": {},
   "outputs": [
    {
     "name": "stdout",
     "output_type": "stream",
     "text": [
      "Overwriting test.html\n"
     ]
    }
   ],
   "source": [
    "%%writefile test.html\n",
    "\n",
    "<!doctype html>\n",
    "<html lang=\"ko\">\n",
    "\t<head>\n",
    "\t\t<meta charset=\"utf-8\"/>\n",
    "\t\t<title>예제</title>\n",
    "\t\t<meta name = \"viewport\" content=\"width=device-width, initial-scale=1.0\">\n",
    "\t\t<meta name=\"keywords\" content=\"실습, 데이터진흥원, 노잼\"/>\n",
    "\t</head>\n",
    "\t<body>\n",
    "\t\t<div id = \"container\">\n",
    "\t\t\t<header>\n",
    "\t\t\t\theader\n",
    "\t\t\t</header>\n",
    "\t\t\t<nav>\n",
    "\t\t\t\t<ul>\n",
    "\t\t\t\t\t<li>Home</li>\n",
    "\t\t\t\t\t<li>News</li>\n",
    "\t\t\t\t\t<li>Contact</li>\n",
    "\t\t\t\t\t<li>About</li>\n",
    "\t\t\t\t</ul>\n",
    "\t\t\t</nav>\n",
    "\t\t\t<section>\n",
    "\t\t\t\t<article>\n",
    "\t\t\t\t\t<h1>Title</h1>\n",
    "\t\t\t\t\t<p>Content</p>\n",
    "\t\t\t\t</article>\n",
    "\t\t\t\t<article>\n",
    "\t\t\t\t\t<h1>Title</h1>\n",
    "\t\t\t\t\t<section>\n",
    "\t\t\t\t\t\t<h1>Sub title1</h1>\n",
    "\t\t\t\t\t\t<p>Sub Content1</p>\n",
    "\t\t\t\t\t</section>\n",
    "\t\t\t\t\t<section>\n",
    "\t\t\t\t\t\t<h1>Sub title2</h1>\n",
    "\t\t\t\t\t\t<p>Sub Content2</p>\n",
    "\t\t\t\t\t</section>\n",
    "\t\t\t\t</article>\n",
    "\t\t\t</section>\n",
    "\t\t\t<aside>\n",
    "\t\t\t\t<section>\n",
    "\t\t\t\t\t<h1> Advertisement </h1>\n",
    "\t\t\t\t\t<p>Content</p>\n",
    "\t\t\t\t</section>\n",
    "\t\t\t\t<section>\n",
    "\t\t\t\t\t<h1> Advertisement </h1>\n",
    "\t\t\t\t\t<p>Content</p>\n",
    "\t\t\t\t</section>\n",
    "\t\t\t</aside>\n",
    "\t\t\t<footer>\n",
    "\t\t\t\tfooter\n",
    "\t\t\t</footer>\n",
    "\t\t</div>\n",
    "\t</body>\n",
    "</html>\n",
    "\n",
    "%%writefile css.html\n",
    "<!DOCTYPE html>\n",
    "<html>\n",
    "<head>\n",
    "\t<style>\n",
    "\t\tdiv {border: 1px solid #aaaaaa;}\n",
    "\t\t#id {\n",
    "\t\t\tcolor: rgb(0,0,255);\n",
    "\t\t}\n",
    "\t\tdiv.class{\n",
    "\t\t\tbackground-color: yellow;\n",
    "\t\t}\n",
    "\t\tp.class{\n",
    "\t\t\tcolor: green;\n",
    "\t\t\tfont-family: \"궁서\", \"Malgun Gothic\",BatangChe, Sans-serif;\n",
    "\t\t\tfont-size: 3.0em;\n",
    "\t\t}\n",
    "\t\tdiv+p.class{background-color: pink}\n",
    "\t</style>\n",
    "</head>\n",
    "<body>\n",
    "\t<div id=\"id1\">Content1</div>\n",
    "\t<div id=\"id2\">Content2</div>\n",
    "\t<div id=\"id3\">Content3</div>\n",
    "</body>\n",
    "</html>\n",
    "\n",
    "%%writefile css2.html\n",
    "<!DOCTYPE html>\n",
    "<html>\n",
    "<head>\n",
    "\t<style>\n",
    "\t\tdiv {border: 1px solid #aaaaaa;}\n",
    "\t\t#id1 {height: 1000px;}\n",
    "\t\t#id2 {position: absolute; top: 100px; left: 200px;}\n",
    "\t\t#id3 {position: fixed; top: 100px; left: 200px;}\n",
    "\t</style>\n",
    "</head>\n",
    "<body>\n",
    "\t<div id=\"id1\">Content1</div>\n",
    "\t<div id=\"id2\">Content2</div>\n",
    "\t<div id=\"id3\">Content3</div>\n",
    "</body>\n",
    "</html>"
   ]
  }
 ],
 "metadata": {
  "kernelspec": {
   "display_name": "Python 3",
   "language": "python",
   "name": "python3"
  },
  "language_info": {
   "codemirror_mode": {
    "name": "ipython",
    "version": 3
   },
   "file_extension": ".py",
   "mimetype": "text/x-python",
   "name": "python",
   "nbconvert_exporter": "python",
   "pygments_lexer": "ipython3",
   "version": "3.6.5"
  }
 },
 "nbformat": 4,
 "nbformat_minor": 2
}
