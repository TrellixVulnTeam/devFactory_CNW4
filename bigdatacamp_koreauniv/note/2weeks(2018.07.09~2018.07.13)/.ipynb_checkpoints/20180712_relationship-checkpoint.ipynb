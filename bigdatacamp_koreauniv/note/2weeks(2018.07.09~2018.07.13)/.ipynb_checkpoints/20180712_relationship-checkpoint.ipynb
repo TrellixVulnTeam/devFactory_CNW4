{
 "cells": [
  {
   "cell_type": "markdown",
   "metadata": {},
   "source": [
    "# Relationship"
   ]
  },
  {
   "cell_type": "code",
   "execution_count": 1,
   "metadata": {},
   "outputs": [],
   "source": [
    "from sqlalchemy import create_engine"
   ]
  },
  {
   "cell_type": "code",
   "execution_count": 2,
   "metadata": {},
   "outputs": [],
   "source": [
    "engine = create_engine(\"sqlite://\",echo=True)"
   ]
  },
  {
   "cell_type": "code",
   "execution_count": 3,
   "metadata": {},
   "outputs": [],
   "source": [
    "from sqlalchemy.ext.declarative import declarative_base"
   ]
  },
  {
   "cell_type": "code",
   "execution_count": 4,
   "metadata": {},
   "outputs": [],
   "source": [
    "Base = declarative_base()"
   ]
  },
  {
   "cell_type": "code",
   "execution_count": 5,
   "metadata": {},
   "outputs": [],
   "source": [
    "from sqlalchemy import Column, Integer, String, ForeignKey"
   ]
  },
  {
   "cell_type": "code",
   "execution_count": 6,
   "metadata": {},
   "outputs": [],
   "source": [
    "from sqlalchemy.orm import relationship"
   ]
  },
  {
   "cell_type": "markdown",
   "metadata": {},
   "source": [
    "### 기본적으로 N:M 관계 = 리스트 타입\n",
    "- uselist = True 가 기본 값.\n",
    "- uselist = False 이면 1:n관계가 생성됨"
   ]
  },
  {
   "cell_type": "code",
   "execution_count": 7,
   "metadata": {},
   "outputs": [],
   "source": [
    "class Artist(Base):\n",
    "    __tablename__=\"artist\"\n",
    "    \n",
    "    id = Column(Integer, primary_key=True)\n",
    "    name = Column(String)\n",
    "    album = relationship(\"Album\", back_populates=\"artist\")              # Albumdp 가면 artist라는 애가 있어. \n",
    "    \n",
    "    # 생성자나 함수들을 선언해주면 좋다.\n",
    "    def __repr__(self):\n",
    "        return \"<T'artist(name='%s')>\" % (self.name)\n",
    "    \n",
    "class Album(Base):\n",
    "    __tablename__=\"album\"\n",
    "    \n",
    "    id = Column(Integer, primary_key=True)\n",
    "    title = Column(String)\n",
    "    artist_id = Column(Integer, ForeignKey(\"artist.id\"))                             # uselist = False => 1:n 관계가 생겨버림.\n",
    "    artist= relationship(\"Artist\", back_populates=\"album\", uselist=False)            # Artist에가면 album이라는 애가 있어\n",
    "    \n",
    "class Genre(Base):\n",
    "    __tablename__=\"genre\"\n",
    "    \n",
    "    id = Column(Integer, primary_key=True)\n",
    "    name = Column(String)\n",
    "\n",
    "class Track(Base):\n",
    "    __tablename__=\"track\"\n",
    "    \n",
    "    id = Column(Integer, primary_key=True)\n",
    "    title = Column(String)\n",
    "    album_id = Column(Integer, ForeignKey(\"album.id\"))\n",
    "    genre_id = Column(Integer, ForeignKey(\"genre.id\"))"
   ]
  },
  {
   "cell_type": "code",
   "execution_count": 8,
   "metadata": {},
   "outputs": [
    {
     "name": "stdout",
     "output_type": "stream",
     "text": [
      "2018-07-12 10:37:59,230 INFO sqlalchemy.engine.base.Engine SELECT CAST('test plain returns' AS VARCHAR(60)) AS anon_1\n",
      "2018-07-12 10:37:59,234 INFO sqlalchemy.engine.base.Engine ()\n",
      "2018-07-12 10:37:59,236 INFO sqlalchemy.engine.base.Engine SELECT CAST('test unicode returns' AS VARCHAR(60)) AS anon_1\n",
      "2018-07-12 10:37:59,237 INFO sqlalchemy.engine.base.Engine ()\n",
      "2018-07-12 10:37:59,239 INFO sqlalchemy.engine.base.Engine PRAGMA table_info(\"artist\")\n",
      "2018-07-12 10:37:59,240 INFO sqlalchemy.engine.base.Engine ()\n",
      "2018-07-12 10:37:59,242 INFO sqlalchemy.engine.base.Engine PRAGMA table_info(\"album\")\n",
      "2018-07-12 10:37:59,243 INFO sqlalchemy.engine.base.Engine ()\n",
      "2018-07-12 10:37:59,244 INFO sqlalchemy.engine.base.Engine PRAGMA table_info(\"genre\")\n",
      "2018-07-12 10:37:59,245 INFO sqlalchemy.engine.base.Engine ()\n",
      "2018-07-12 10:37:59,247 INFO sqlalchemy.engine.base.Engine PRAGMA table_info(\"track\")\n",
      "2018-07-12 10:37:59,248 INFO sqlalchemy.engine.base.Engine ()\n",
      "2018-07-12 10:37:59,251 INFO sqlalchemy.engine.base.Engine \n",
      "CREATE TABLE artist (\n",
      "\tid INTEGER NOT NULL, \n",
      "\tname VARCHAR, \n",
      "\tPRIMARY KEY (id)\n",
      ")\n",
      "\n",
      "\n",
      "2018-07-12 10:37:59,252 INFO sqlalchemy.engine.base.Engine ()\n",
      "2018-07-12 10:37:59,254 INFO sqlalchemy.engine.base.Engine COMMIT\n",
      "2018-07-12 10:37:59,255 INFO sqlalchemy.engine.base.Engine \n",
      "CREATE TABLE genre (\n",
      "\tid INTEGER NOT NULL, \n",
      "\tname VARCHAR, \n",
      "\tPRIMARY KEY (id)\n",
      ")\n",
      "\n",
      "\n",
      "2018-07-12 10:37:59,256 INFO sqlalchemy.engine.base.Engine ()\n",
      "2018-07-12 10:37:59,258 INFO sqlalchemy.engine.base.Engine COMMIT\n",
      "2018-07-12 10:37:59,259 INFO sqlalchemy.engine.base.Engine \n",
      "CREATE TABLE album (\n",
      "\tid INTEGER NOT NULL, \n",
      "\ttitle VARCHAR, \n",
      "\tartist_id INTEGER, \n",
      "\tPRIMARY KEY (id), \n",
      "\tFOREIGN KEY(artist_id) REFERENCES artist (id)\n",
      ")\n",
      "\n",
      "\n",
      "2018-07-12 10:37:59,260 INFO sqlalchemy.engine.base.Engine ()\n",
      "2018-07-12 10:37:59,261 INFO sqlalchemy.engine.base.Engine COMMIT\n",
      "2018-07-12 10:37:59,263 INFO sqlalchemy.engine.base.Engine \n",
      "CREATE TABLE track (\n",
      "\tid INTEGER NOT NULL, \n",
      "\ttitle VARCHAR, \n",
      "\talbum_id INTEGER, \n",
      "\tgenre_id INTEGER, \n",
      "\tPRIMARY KEY (id), \n",
      "\tFOREIGN KEY(album_id) REFERENCES album (id), \n",
      "\tFOREIGN KEY(genre_id) REFERENCES genre (id)\n",
      ")\n",
      "\n",
      "\n",
      "2018-07-12 10:37:59,264 INFO sqlalchemy.engine.base.Engine ()\n",
      "2018-07-12 10:37:59,265 INFO sqlalchemy.engine.base.Engine COMMIT\n"
     ]
    }
   ],
   "source": [
    "Base.metadata.create_all(engine)"
   ]
  },
  {
   "cell_type": "code",
   "execution_count": 9,
   "metadata": {},
   "outputs": [],
   "source": [
    "artist1 = Artist(name = \"Led Zepplin\")\n",
    "artist2 = Artist(name = \"AC/DC\")"
   ]
  },
  {
   "cell_type": "code",
   "execution_count": 11,
   "metadata": {},
   "outputs": [],
   "source": [
    "artist1.album = [Album(title = \"IV\"),Album(title=\"Who Made Who\")]"
   ]
  },
  {
   "cell_type": "code",
   "execution_count": 12,
   "metadata": {},
   "outputs": [
    {
     "data": {
      "text/plain": [
       "[<__main__.Album at 0x195c9c33240>, <__main__.Album at 0x195c9c332b0>]"
      ]
     },
     "execution_count": 12,
     "metadata": {},
     "output_type": "execute_result"
    }
   ],
   "source": [
    "artist1.album"
   ]
  },
  {
   "cell_type": "code",
   "execution_count": 13,
   "metadata": {},
   "outputs": [],
   "source": [
    "from sqlalchemy.orm import sessionmaker"
   ]
  },
  {
   "cell_type": "code",
   "execution_count": 14,
   "metadata": {},
   "outputs": [],
   "source": [
    "Session = sessionmaker(bind=engine)"
   ]
  },
  {
   "cell_type": "code",
   "execution_count": 15,
   "metadata": {},
   "outputs": [],
   "source": [
    "session = Session()"
   ]
  },
  {
   "cell_type": "code",
   "execution_count": 27,
   "metadata": {},
   "outputs": [],
   "source": [
    "session.add(artist1)"
   ]
  },
  {
   "cell_type": "code",
   "execution_count": 28,
   "metadata": {},
   "outputs": [
    {
     "name": "stdout",
     "output_type": "stream",
     "text": [
      "2018-07-12 10:45:19,495 INFO sqlalchemy.engine.base.Engine UPDATE album SET title=? WHERE album.id = ?\n",
      "2018-07-12 10:45:19,496 INFO sqlalchemy.engine.base.Engine ('test', 1)\n",
      "2018-07-12 10:45:19,498 INFO sqlalchemy.engine.base.Engine COMMIT\n"
     ]
    }
   ],
   "source": [
    "session.commit()"
   ]
  },
  {
   "cell_type": "markdown",
   "metadata": {},
   "source": [
    "### 리스트 단위기 때문에 맞는 형식으로 받아와야 한다."
   ]
  },
  {
   "cell_type": "code",
   "execution_count": 34,
   "metadata": {},
   "outputs": [
    {
     "name": "stdout",
     "output_type": "stream",
     "text": [
      "<class 'sqlalchemy.orm.collections.InstrumentedList'>\n"
     ]
    }
   ],
   "source": [
    "print(type(artist1.album))"
   ]
  },
  {
   "cell_type": "code",
   "execution_count": 33,
   "metadata": {},
   "outputs": [
    {
     "name": "stdout",
     "output_type": "stream",
     "text": [
      "2018-07-12 10:45:39,022 INFO sqlalchemy.engine.base.Engine BEGIN (implicit)\n",
      "2018-07-12 10:45:39,024 INFO sqlalchemy.engine.base.Engine SELECT artist.id AS artist_id, artist.name AS artist_name \n",
      "FROM artist \n",
      "WHERE artist.id = ?\n",
      "2018-07-12 10:45:39,025 INFO sqlalchemy.engine.base.Engine (1,)\n",
      "2018-07-12 10:45:39,027 INFO sqlalchemy.engine.base.Engine SELECT album.id AS album_id, album.title AS album_title, album.artist_id AS album_artist_id \n",
      "FROM album \n",
      "WHERE ? = album.artist_id\n",
      "2018-07-12 10:45:39,028 INFO sqlalchemy.engine.base.Engine (1,)\n",
      "1 Led Zepplin test123123\n"
     ]
    }
   ],
   "source": [
    "print(artist1.id,artist1.name, artist1.album[0].title)"
   ]
  },
  {
   "cell_type": "markdown",
   "metadata": {},
   "source": [
    "### 수정도 간단함ㅋㅋ"
   ]
  },
  {
   "cell_type": "code",
   "execution_count": 30,
   "metadata": {},
   "outputs": [],
   "source": [
    "artist1.album[0].title = \"test123123\""
   ]
  },
  {
   "cell_type": "code",
   "execution_count": 31,
   "metadata": {},
   "outputs": [],
   "source": [
    "session.add(artist1)"
   ]
  },
  {
   "cell_type": "code",
   "execution_count": 32,
   "metadata": {},
   "outputs": [
    {
     "name": "stdout",
     "output_type": "stream",
     "text": [
      "2018-07-12 10:45:36,040 INFO sqlalchemy.engine.base.Engine UPDATE album SET title=? WHERE album.id = ?\n",
      "2018-07-12 10:45:36,042 INFO sqlalchemy.engine.base.Engine ('test123123', 1)\n",
      "2018-07-12 10:45:36,043 INFO sqlalchemy.engine.base.Engine COMMIT\n"
     ]
    }
   ],
   "source": [
    "session.commit()"
   ]
  },
  {
   "cell_type": "markdown",
   "metadata": {},
   "source": [
    "### 이렇게 클래스를 선언만 하면 DB 작업이 매우 간단해진다.\n",
    "- pk가 누구고 fk가 누군지만,\n",
    "- relationship 만 표현만 하면 orm이 알아서 해줄거임\n",
    "- 우리는 그냥 session 작업만 해서 commit만 하면 끝이자너 ㅋㅋ쩔지"
   ]
  }
 ],
 "metadata": {
  "kernelspec": {
   "display_name": "Python 3",
   "language": "python",
   "name": "python3"
  },
  "language_info": {
   "codemirror_mode": {
    "name": "ipython",
    "version": 3
   },
   "file_extension": ".py",
   "mimetype": "text/x-python",
   "name": "python",
   "nbconvert_exporter": "python",
   "pygments_lexer": "ipython3",
   "version": "3.6.5"
  }
 },
 "nbformat": 4,
 "nbformat_minor": 2
}
