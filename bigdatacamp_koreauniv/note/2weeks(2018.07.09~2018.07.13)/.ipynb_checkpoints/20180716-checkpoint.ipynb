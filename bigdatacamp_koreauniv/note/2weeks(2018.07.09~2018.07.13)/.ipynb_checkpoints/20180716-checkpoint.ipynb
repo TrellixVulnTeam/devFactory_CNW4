{
 "cells": [
  {
   "cell_type": "markdown",
   "metadata": {},
   "source": [
    "# 0716 필기"
   ]
  },
  {
   "cell_type": "code",
   "execution_count": 2,
   "metadata": {},
   "outputs": [],
   "source": [
    "import urllib.request\n",
    "from lxml import etree"
   ]
  },
  {
   "cell_type": "code",
   "execution_count": 3,
   "metadata": {},
   "outputs": [],
   "source": [
    "url = \"http://openapi.airkorea.or.kr/openapi/services/rest/ArpltnInforInqireSvc/getMsrstnAcctoRltmMesureDnsty?\"\n",
    "\n",
    "params = {\"serviceKey\":\"WuCY6xmu%2BZmuKPhrewpGUxpyyBs3BuRE5kE%2BRalhpRyQsZFLcYFl6PV6NyieUeFXlyfe%2Bm0BSwYnotR9C%2F1CTg%3D%3D\",\n",
    "        \"numOfRows\":10,\n",
    "        \"pageNo\":1,\n",
    "        \"dataTerm\":\"daily\",\n",
    "        \"stationName\":None,\n",
    "        \"ver\":\"1.3\"\n",
    "}"
   ]
  },
  {
   "cell_type": "code",
   "execution_count": 4,
   "metadata": {},
   "outputs": [
    {
     "data": {
      "text/plain": [
       "{'serviceKey': 'WuCY6xmu%2BZmuKPhrewpGUxpyyBs3BuRE5kE%2BRalhpRyQsZFLcYFl6PV6NyieUeFXlyfe%2Bm0BSwYnotR9C%2F1CTg%3D%3D',\n",
       " 'numOfRows': 10,\n",
       " 'pageNo': 1,\n",
       " 'dataTerm': 'daily',\n",
       " 'stationName': None,\n",
       " 'ver': '1.3'}"
      ]
     },
     "execution_count": 4,
     "metadata": {},
     "output_type": "execute_result"
    }
   ],
   "source": [
    "params"
   ]
  },
  {
   "cell_type": "code",
   "execution_count": null,
   "metadata": {},
   "outputs": [],
   "source": []
  }
 ],
 "metadata": {
  "kernelspec": {
   "display_name": "Python 3",
   "language": "python",
   "name": "python3"
  },
  "language_info": {
   "codemirror_mode": {
    "name": "ipython",
    "version": 3
   },
   "file_extension": ".py",
   "mimetype": "text/x-python",
   "name": "python",
   "nbconvert_exporter": "python",
   "pygments_lexer": "ipython3",
   "version": "3.6.5"
  }
 },
 "nbformat": 4,
 "nbformat_minor": 2
}
