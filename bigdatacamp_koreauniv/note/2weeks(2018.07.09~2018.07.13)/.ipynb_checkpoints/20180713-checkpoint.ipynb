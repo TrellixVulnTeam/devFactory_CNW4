{
 "cells": [
  {
   "cell_type": "markdown",
   "metadata": {},
   "source": [
    "# 20180713 필기"
   ]
  },
  {
   "cell_type": "markdown",
   "metadata": {},
   "source": [
    "## JSON\n",
    "- key와 value의 쌍으로 이루어져있어 사람도 읽을 수 있다.\n",
    "- 왜 사용하느냐?\n",
    "   - 구조화된 데이터로 직렬화를 해 줄 수 있는 방법\n",
    "   - 쉽게 읽고 쉽게 쓸 수 있다."
   ]
  },
  {
   "cell_type": "code",
   "execution_count": 1,
   "metadata": {},
   "outputs": [
    {
     "data": {
      "text/plain": [
       "{'Make': 'Volkswagen',\n",
       " 'Year': 2003,\n",
       " 'Model': {'Base': 'Golf', 'Trim': 'GL'},\n",
       " 'Colors': ['White', 'Pearl', 'Rust']}"
      ]
     },
     "execution_count": 1,
     "metadata": {},
     "output_type": "execute_result"
    }
   ],
   "source": [
    "{ \"Make\":\"Volkswagen\",\n",
    "\"Year\":2003,\n",
    "\"Model\":{\n",
    "    \"Base\" :\"Golf\",\n",
    "    \"Trim\" : \"GL\"\n",
    "    },\n",
    "\"Colors\":[\"White\",\"Pearl\",\"Rust\"]\n",
    "}"
   ]
  },
  {
   "cell_type": "code",
   "execution_count": 2,
   "metadata": {},
   "outputs": [],
   "source": [
    "import json"
   ]
  },
  {
   "cell_type": "markdown",
   "metadata": {},
   "source": [
    "### 우리가 알아야 할 것은 JSONDecoder, JSONEncoder, dump, dumps, encoder 이다!"
   ]
  },
  {
   "cell_type": "code",
   "execution_count": 3,
   "metadata": {},
   "outputs": [
    {
     "data": {
      "text/plain": [
       "['JSONDecodeError',\n",
       " 'JSONDecoder',\n",
       " 'JSONEncoder',\n",
       " '__all__',\n",
       " '__author__',\n",
       " '__builtins__',\n",
       " '__cached__',\n",
       " '__doc__',\n",
       " '__file__',\n",
       " '__loader__',\n",
       " '__name__',\n",
       " '__package__',\n",
       " '__path__',\n",
       " '__spec__',\n",
       " '__version__',\n",
       " '_default_decoder',\n",
       " '_default_encoder',\n",
       " 'codecs',\n",
       " 'decoder',\n",
       " 'detect_encoding',\n",
       " 'dump',\n",
       " 'dumps',\n",
       " 'encoder',\n",
       " 'load',\n",
       " 'loads',\n",
       " 'scanner']"
      ]
     },
     "execution_count": 3,
     "metadata": {},
     "output_type": "execute_result"
    }
   ],
   "source": [
    "dir(json)"
   ]
  },
  {
   "cell_type": "code",
   "execution_count": 4,
   "metadata": {},
   "outputs": [],
   "source": [
    "name = (\"kim\", \"lee\", \"park\")"
   ]
  },
  {
   "cell_type": "code",
   "execution_count": 5,
   "metadata": {},
   "outputs": [
    {
     "data": {
      "text/plain": [
       "tuple"
      ]
     },
     "execution_count": 5,
     "metadata": {},
     "output_type": "execute_result"
    }
   ],
   "source": [
    "type(name)"
   ]
  },
  {
   "cell_type": "markdown",
   "metadata": {},
   "source": [
    "### JSON.dumps 에 넣으면 타입이 str로 바뀐다."
   ]
  },
  {
   "cell_type": "code",
   "execution_count": 10,
   "metadata": {},
   "outputs": [],
   "source": [
    "nameStr = json.dumps(name)"
   ]
  },
  {
   "cell_type": "code",
   "execution_count": 12,
   "metadata": {},
   "outputs": [
    {
     "data": {
      "text/plain": [
       "str"
      ]
     },
     "execution_count": 12,
     "metadata": {},
     "output_type": "execute_result"
    }
   ],
   "source": [
    "type(nameStr)"
   ]
  },
  {
   "cell_type": "code",
   "execution_count": 13,
   "metadata": {},
   "outputs": [
    {
     "data": {
      "text/plain": [
       "'[\"kim\", \"lee\", \"park\"]'"
      ]
     },
     "execution_count": 13,
     "metadata": {},
     "output_type": "execute_result"
    }
   ],
   "source": [
    "nameStr"
   ]
  },
  {
   "cell_type": "code",
   "execution_count": 6,
   "metadata": {},
   "outputs": [],
   "source": [
    "age = [30, 28, 32]"
   ]
  },
  {
   "cell_type": "code",
   "execution_count": 7,
   "metadata": {},
   "outputs": [
    {
     "data": {
      "text/plain": [
       "list"
      ]
     },
     "execution_count": 7,
     "metadata": {},
     "output_type": "execute_result"
    }
   ],
   "source": [
    "type(age)"
   ]
  },
  {
   "cell_type": "code",
   "execution_count": 8,
   "metadata": {},
   "outputs": [],
   "source": [
    "person = {\"name\":\"Kim\",\"age\":30,\"car\":False}"
   ]
  },
  {
   "cell_type": "code",
   "execution_count": 9,
   "metadata": {},
   "outputs": [
    {
     "data": {
      "text/plain": [
       "dict"
      ]
     },
     "execution_count": 9,
     "metadata": {},
     "output_type": "execute_result"
    }
   ],
   "source": [
    "type(person)"
   ]
  },
  {
   "cell_type": "code",
   "execution_count": 14,
   "metadata": {},
   "outputs": [],
   "source": [
    "personStr = json.dumps(person, indent= \"    \")"
   ]
  },
  {
   "cell_type": "code",
   "execution_count": 16,
   "metadata": {},
   "outputs": [
    {
     "name": "stdout",
     "output_type": "stream",
     "text": [
      "{\n",
      "    \"name\": \"Kim\",\n",
      "    \"age\": 30,\n",
      "    \"car\": false\n",
      "}\n"
     ]
    }
   ],
   "source": [
    "print(personStr)"
   ]
  },
  {
   "cell_type": "code",
   "execution_count": 17,
   "metadata": {},
   "outputs": [
    {
     "data": {
      "text/plain": [
       "str"
      ]
     },
     "execution_count": 17,
     "metadata": {},
     "output_type": "execute_result"
    }
   ],
   "source": [
    "type(personStr)"
   ]
  },
  {
   "cell_type": "markdown",
   "metadata": {},
   "source": [
    "### 한글을 보낼 때는 ascii code 그대로 보내야 한다. \n",
    "- 한글은 2바이트이기 때문에 비효율.\n",
    "- 사람이 읽고 싶을 때는 ensure_ascii=False option을 준다."
   ]
  },
  {
   "cell_type": "code",
   "execution_count": 18,
   "metadata": {},
   "outputs": [],
   "source": [
    "korean = (\"김\",\"이\",\"박\")"
   ]
  },
  {
   "cell_type": "code",
   "execution_count": 19,
   "metadata": {},
   "outputs": [],
   "source": [
    "koreanStr = json.dumps(korean)"
   ]
  },
  {
   "cell_type": "code",
   "execution_count": 20,
   "metadata": {},
   "outputs": [
    {
     "name": "stdout",
     "output_type": "stream",
     "text": [
      "[\"\\uae40\", \"\\uc774\", \"\\ubc15\"]\n"
     ]
    }
   ],
   "source": [
    "print(koreanStr)"
   ]
  },
  {
   "cell_type": "code",
   "execution_count": 21,
   "metadata": {},
   "outputs": [],
   "source": [
    "koreanStr2 = json.dumps(korean, ensure_ascii=False)"
   ]
  },
  {
   "cell_type": "code",
   "execution_count": 22,
   "metadata": {},
   "outputs": [
    {
     "name": "stdout",
     "output_type": "stream",
     "text": [
      "[\"김\", \"이\", \"박\"]\n"
     ]
    }
   ],
   "source": [
    "print(koreanStr2)"
   ]
  },
  {
   "cell_type": "markdown",
   "metadata": {},
   "source": [
    "### loads 메소드로 Json 타입을 다시 원래대로 돌릴 수 있음"
   ]
  },
  {
   "cell_type": "code",
   "execution_count": 24,
   "metadata": {},
   "outputs": [],
   "source": [
    "personObj = json.loads(personStr)"
   ]
  },
  {
   "cell_type": "code",
   "execution_count": 25,
   "metadata": {},
   "outputs": [
    {
     "data": {
      "text/plain": [
       "dict"
      ]
     },
     "execution_count": 25,
     "metadata": {},
     "output_type": "execute_result"
    }
   ],
   "source": [
    "type(personObj)"
   ]
  },
  {
   "cell_type": "code",
   "execution_count": 26,
   "metadata": {},
   "outputs": [
    {
     "data": {
      "text/plain": [
       "{'name': 'Kim', 'age': 30, 'car': False}"
      ]
     },
     "execution_count": 26,
     "metadata": {},
     "output_type": "execute_result"
    }
   ],
   "source": [
    "personObj"
   ]
  },
  {
   "cell_type": "markdown",
   "metadata": {},
   "source": [
    "### 타입을 비교하면 같은 것을 알 수 있다!"
   ]
  },
  {
   "cell_type": "code",
   "execution_count": 29,
   "metadata": {
    "scrolled": true
   },
   "outputs": [
    {
     "data": {
      "text/plain": [
       "True"
      ]
     },
     "execution_count": 29,
     "metadata": {},
     "output_type": "execute_result"
    }
   ],
   "source": [
    "person == personObj"
   ]
  },
  {
   "cell_type": "markdown",
   "metadata": {},
   "source": [
    "### 추가할 수도 있어"
   ]
  },
  {
   "cell_type": "code",
   "execution_count": 30,
   "metadata": {},
   "outputs": [],
   "source": [
    "personObj[\"car\"] = [\"레이\",\"모닝\"]"
   ]
  },
  {
   "cell_type": "code",
   "execution_count": 31,
   "metadata": {},
   "outputs": [
    {
     "data": {
      "text/plain": [
       "{'name': 'Kim', 'age': 30, 'car': ['레이', '모닝']}"
      ]
     },
     "execution_count": 31,
     "metadata": {},
     "output_type": "execute_result"
    }
   ],
   "source": [
    "personObj"
   ]
  },
  {
   "cell_type": "markdown",
   "metadata": {},
   "source": [
    "### 파일을 저장하고 다시 열거야\n",
    "- 한글로 저장했기 때문에 한글이 유니코드 형식으로 들어간다.\n",
    "- 파이썬은 유니코드도 지원하기 때문에 읽을 때는 한글로 또 잘 읽힘"
   ]
  },
  {
   "cell_type": "code",
   "execution_count": 32,
   "metadata": {},
   "outputs": [],
   "source": [
    "with open(\"test.json\",\"w\") as fp:\n",
    "    json.dump(personObj, fp)"
   ]
  },
  {
   "cell_type": "code",
   "execution_count": 33,
   "metadata": {},
   "outputs": [],
   "source": [
    "with open(\"test.json\",\"r\") as fp:\n",
    "    loadObj = json.load(fp)"
   ]
  },
  {
   "cell_type": "code",
   "execution_count": 34,
   "metadata": {},
   "outputs": [
    {
     "data": {
      "text/plain": [
       "{'name': 'Kim', 'age': 30, 'car': ['레이', '모닝']}"
      ]
     },
     "execution_count": 34,
     "metadata": {},
     "output_type": "execute_result"
    }
   ],
   "source": [
    "loadObj"
   ]
  },
  {
   "cell_type": "code",
   "execution_count": 35,
   "metadata": {},
   "outputs": [
    {
     "data": {
      "text/plain": [
       "True"
      ]
     },
     "execution_count": 35,
     "metadata": {},
     "output_type": "execute_result"
    }
   ],
   "source": [
    "personObj == loadObj"
   ]
  },
  {
   "cell_type": "markdown",
   "metadata": {},
   "source": [
    "### url에서 데이터를 가져올거임"
   ]
  },
  {
   "cell_type": "code",
   "execution_count": 36,
   "metadata": {},
   "outputs": [],
   "source": [
    "import urllib.request"
   ]
  },
  {
   "cell_type": "code",
   "execution_count": 69,
   "metadata": {},
   "outputs": [],
   "source": [
    "resp = urllib.request.urlopen(\"https://jsonplaceholder.typicode.com/posts/1\")"
   ]
  },
  {
   "cell_type": "code",
   "execution_count": 70,
   "metadata": {},
   "outputs": [],
   "source": [
    "text = resp.read()"
   ]
  },
  {
   "cell_type": "code",
   "execution_count": 71,
   "metadata": {},
   "outputs": [
    {
     "data": {
      "text/plain": [
       "bytes"
      ]
     },
     "execution_count": 71,
     "metadata": {},
     "output_type": "execute_result"
    }
   ],
   "source": [
    "type(text)"
   ]
  },
  {
   "cell_type": "markdown",
   "metadata": {},
   "source": [
    "### bytes를 string으로 변환해줘야 json으로 변환할 수 있음"
   ]
  },
  {
   "cell_type": "code",
   "execution_count": 89,
   "metadata": {},
   "outputs": [],
   "source": [
    "testStr = text.decode(\"utf-8\")"
   ]
  },
  {
   "cell_type": "code",
   "execution_count": 90,
   "metadata": {},
   "outputs": [
    {
     "data": {
      "text/plain": [
       "str"
      ]
     },
     "execution_count": 90,
     "metadata": {},
     "output_type": "execute_result"
    }
   ],
   "source": [
    "type(textStr)"
   ]
  },
  {
   "cell_type": "code",
   "execution_count": 91,
   "metadata": {},
   "outputs": [],
   "source": [
    "respObj = json.loads(testStr)"
   ]
  },
  {
   "cell_type": "code",
   "execution_count": 92,
   "metadata": {},
   "outputs": [
    {
     "data": {
      "text/plain": [
       "'sunt aut facere repellat provident occaecati excepturi optio reprehenderit'"
      ]
     },
     "execution_count": 92,
     "metadata": {},
     "output_type": "execute_result"
    }
   ],
   "source": [
    "respObj[\"title\"]"
   ]
  },
  {
   "cell_type": "code",
   "execution_count": 93,
   "metadata": {},
   "outputs": [
    {
     "name": "stdout",
     "output_type": "stream",
     "text": [
      "userId 1\n",
      "<class 'int'>\n",
      "id 1\n",
      "<class 'int'>\n",
      "title sunt aut facere repellat provident occaecati excepturi optio reprehenderit\n",
      "<class 'str'>\n",
      "body quia et suscipit\n",
      "suscipit recusandae consequuntur expedita et cum\n",
      "reprehenderit molestiae ut ut quas totam\n",
      "nostrum rerum est autem sunt rem eveniet architecto\n",
      "<class 'str'>\n"
     ]
    }
   ],
   "source": [
    "for (k,v) in respObj.items():\n",
    "    print(k,v)\n",
    "    print(type(v))"
   ]
  },
  {
   "cell_type": "markdown",
   "metadata": {},
   "source": [
    "## 대기오염 공공데이터 사용 예제"
   ]
  },
  {
   "cell_type": "code",
   "execution_count": null,
   "metadata": {},
   "outputs": [],
   "source": [
    "http://openapi.airkorea.or.kr/openapi/services/rest/ArpltnInforInqireSvc/getMsrstnAcctoRltmMesureDnsty\n",
    "    ?serviceKey=WuCY6xmu%2BZmuKPhrewpGUxpyyBs3BuRE5kE%2BRalhpRyQsZFLcYFl6PV6NyieUeFXlyfe%2Bm0BSwYnotR9C%2F1CTg%3D%3D\n",
    "    &numOfRows=10\n",
    "    &pageSize=10\n",
    "    &pageNo=1\n",
    "    &startPage=1\n",
    "    &stationName=%EC%A2%85%EB%A1%9C%EA%B5%AC\n",
    "    &dataTerm=DAILY\n",
    "    &ver=1.3\n",
    "    &_returnType=json"
   ]
  },
  {
   "cell_type": "code",
   "execution_count": 203,
   "metadata": {},
   "outputs": [],
   "source": [
    "params = {\"serviceKey\":\"WuCY6xmu%2BZmuKPhrewpGUxpyyBs3BuRE5kE%2BRalhpRyQsZFLcYFl6PV6NyieUeFXlyfe%2Bm0BSwYnotR9C%2F1CTg%3D%3D\",\n",
    "        \"numOfRows\":10,\n",
    "        \"pageNo\":1,\n",
    "        \"sidoName\":None,\n",
    "        \"ver\":\"1.3\",\n",
    "        \"_returnType\":\"json\"\n",
    "}"
   ]
  },
  {
   "cell_type": "code",
   "execution_count": 206,
   "metadata": {},
   "outputs": [],
   "source": [
    "params[\"sidoName\"]=\"충남\""
   ]
  },
  {
   "cell_type": "code",
   "execution_count": 207,
   "metadata": {},
   "outputs": [
    {
     "data": {
      "text/plain": [
       "{'serviceKey': 'WuCY6xmu%2BZmuKPhrewpGUxpyyBs3BuRE5kE%2BRalhpRyQsZFLcYFl6PV6NyieUeFXlyfe%2Bm0BSwYnotR9C%2F1CTg%3D%3D',\n",
       " 'numOfRows': 10,\n",
       " 'pageNo': 1,\n",
       " 'sidoName': '충남',\n",
       " 'ver': '1.3',\n",
       " '_returnType': 'json'}"
      ]
     },
     "execution_count": 207,
     "metadata": {},
     "output_type": "execute_result"
    }
   ],
   "source": [
    "params"
   ]
  },
  {
   "cell_type": "markdown",
   "metadata": {},
   "source": [
    "### url 뒤에 파라메터로 넣을거야\n",
    "- urllib.parse 활용"
   ]
  },
  {
   "cell_type": "code",
   "execution_count": 208,
   "metadata": {},
   "outputs": [],
   "source": [
    "url = \"http://openapi.airkorea.or.kr/openapi/services/rest/ArpltnInforInqireSvc/getMsrstnAcctoRltmMesureDnsty?\""
   ]
  },
  {
   "cell_type": "code",
   "execution_count": 106,
   "metadata": {},
   "outputs": [],
   "source": [
    "from urllib import parse"
   ]
  },
  {
   "cell_type": "code",
   "execution_count": 209,
   "metadata": {},
   "outputs": [],
   "source": [
    "paramUrl = parse.urlencode(params)"
   ]
  },
  {
   "cell_type": "code",
   "execution_count": 210,
   "metadata": {},
   "outputs": [
    {
     "data": {
      "text/plain": [
       "'serviceKey=WuCY6xmu%252BZmuKPhrewpGUxpyyBs3BuRE5kE%252BRalhpRyQsZFLcYFl6PV6NyieUeFXlyfe%252Bm0BSwYnotR9C%252F1CTg%253D%253D&numOfRows=10&pageNo=1&sidoName=%EC%B6%A9%EB%82%A8&ver=1.3&_returnType=json'"
      ]
     },
     "execution_count": 210,
     "metadata": {},
     "output_type": "execute_result"
    }
   ],
   "source": [
    "paramUrl"
   ]
  },
  {
   "cell_type": "markdown",
   "metadata": {},
   "source": [
    "### 문제는....? paramUrl 값이 string이다. 인터넷에서 주고받을 때는 무조건 bytes 형태이다."
   ]
  },
  {
   "cell_type": "code",
   "execution_count": 109,
   "metadata": {},
   "outputs": [
    {
     "data": {
      "text/plain": [
       "str"
      ]
     },
     "execution_count": 109,
     "metadata": {},
     "output_type": "execute_result"
    }
   ],
   "source": [
    "type(paramUrl)"
   ]
  },
  {
   "cell_type": "markdown",
   "metadata": {},
   "source": [
    "### String -> bytes 바꾸자!"
   ]
  },
  {
   "cell_type": "code",
   "execution_count": 110,
   "metadata": {},
   "outputs": [],
   "source": [
    "paramBytes = paramUrl.encode(\"utf-8\")"
   ]
  },
  {
   "cell_type": "code",
   "execution_count": 111,
   "metadata": {},
   "outputs": [
    {
     "data": {
      "text/plain": [
       "bytes"
      ]
     },
     "execution_count": 111,
     "metadata": {},
     "output_type": "execute_result"
    }
   ],
   "source": [
    "type(paramBytes)"
   ]
  },
  {
   "cell_type": "code",
   "execution_count": 112,
   "metadata": {},
   "outputs": [
    {
     "name": "stdout",
     "output_type": "stream",
     "text": [
      "b'serviceKey=WuCY6xmu%252BZmuKPhrewpGUxpyyBs3BuRE5kE%252BRalhpRyQsZFLcYFl6PV6NyieUeFXlyfe%252Bm0BSwYnotR9C%252F1CTg%253D%253D&numOfRows=10&pageSize=10&pageNo=1&startPage=1&sidoName=%EC%B6%A9%EB%82%A8&ver=1.3&_returnType=json'\n"
     ]
    }
   ],
   "source": [
    "print(paramBytes)"
   ]
  },
  {
   "cell_type": "code",
   "execution_count": 113,
   "metadata": {},
   "outputs": [],
   "source": [
    "req = urllib.request.Request(url, data=paramBytes)"
   ]
  },
  {
   "cell_type": "code",
   "execution_count": 115,
   "metadata": {},
   "outputs": [],
   "source": [
    "res = urllib.request.urlopen(req)"
   ]
  },
  {
   "cell_type": "code",
   "execution_count": 116,
   "metadata": {},
   "outputs": [],
   "source": [
    "result = res.read()"
   ]
  },
  {
   "cell_type": "code",
   "execution_count": 117,
   "metadata": {
    "scrolled": true
   },
   "outputs": [
    {
     "data": {
      "text/plain": [
       "b'<?xml version=\"1.0\" encoding=\"UTF-8\"?>\\r\\n\\r\\n\\r\\n\\r\\n\\r\\n<response>\\r\\n\\t<header>\\r\\n\\t\\t<resultCode>30</resultCode>\\r\\n\\t\\t<resultMsg>SERVICE KEY IS NOT REGISTERED ERROR.</resultMsg>\\r\\n\\t</header>\\r\\n</response>\\r\\n'"
      ]
     },
     "execution_count": 117,
     "metadata": {},
     "output_type": "execute_result"
    }
   ],
   "source": [
    "result"
   ]
  },
  {
   "cell_type": "markdown",
   "metadata": {},
   "source": [
    "### 이미 servicekey값이 bytes인데 bytes로 바꿨기 때문에 값이 바뀌었다. 그래서 등록되지 않은 키라고 에러가 나온다.\n",
    "- serviceKey만 str로 바꾸고 bytes로 다시 만들어볼까"
   ]
  },
  {
   "cell_type": "code",
   "execution_count": 211,
   "metadata": {},
   "outputs": [],
   "source": [
    "params[\"serviceKey\"] = urllib.parse.unquote(params[\"serviceKey\"])"
   ]
  },
  {
   "cell_type": "code",
   "execution_count": 212,
   "metadata": {},
   "outputs": [
    {
     "data": {
      "text/plain": [
       "'WuCY6xmu+ZmuKPhrewpGUxpyyBs3BuRE5kE+RalhpRyQsZFLcYFl6PV6NyieUeFXlyfe+m0BSwYnotR9C/1CTg=='"
      ]
     },
     "execution_count": 212,
     "metadata": {},
     "output_type": "execute_result"
    }
   ],
   "source": [
    "params[\"serviceKey\"]"
   ]
  },
  {
   "cell_type": "code",
   "execution_count": 213,
   "metadata": {},
   "outputs": [],
   "source": [
    "paramUrl = parse.urlencode(params)"
   ]
  },
  {
   "cell_type": "code",
   "execution_count": 214,
   "metadata": {},
   "outputs": [
    {
     "data": {
      "text/plain": [
       "'serviceKey=WuCY6xmu%2BZmuKPhrewpGUxpyyBs3BuRE5kE%2BRalhpRyQsZFLcYFl6PV6NyieUeFXlyfe%2Bm0BSwYnotR9C%2F1CTg%3D%3D&numOfRows=10&pageNo=1&sidoName=%EC%B6%A9%EB%82%A8&ver=1.3&_returnType=json'"
      ]
     },
     "execution_count": 214,
     "metadata": {},
     "output_type": "execute_result"
    }
   ],
   "source": [
    "paramUrl"
   ]
  },
  {
   "cell_type": "code",
   "execution_count": 215,
   "metadata": {},
   "outputs": [],
   "source": [
    "paramBytes = paramUrl.encode(\"utf-8\")"
   ]
  },
  {
   "cell_type": "code",
   "execution_count": 216,
   "metadata": {},
   "outputs": [
    {
     "data": {
      "text/plain": [
       "bytes"
      ]
     },
     "execution_count": 216,
     "metadata": {},
     "output_type": "execute_result"
    }
   ],
   "source": [
    "type(paramBytes)"
   ]
  },
  {
   "cell_type": "code",
   "execution_count": 217,
   "metadata": {},
   "outputs": [
    {
     "name": "stdout",
     "output_type": "stream",
     "text": [
      "b'serviceKey=WuCY6xmu%2BZmuKPhrewpGUxpyyBs3BuRE5kE%2BRalhpRyQsZFLcYFl6PV6NyieUeFXlyfe%2Bm0BSwYnotR9C%2F1CTg%3D%3D&numOfRows=10&pageNo=1&sidoName=%EC%B6%A9%EB%82%A8&ver=1.3&_returnType=json'\n"
     ]
    }
   ],
   "source": [
    "print(paramBytes)"
   ]
  },
  {
   "cell_type": "code",
   "execution_count": 218,
   "metadata": {},
   "outputs": [],
   "source": [
    "req = urllib.request.Request(url, data=paramBytes)"
   ]
  },
  {
   "cell_type": "code",
   "execution_count": 219,
   "metadata": {},
   "outputs": [],
   "source": [
    "res = urllib.request.urlopen(req)"
   ]
  },
  {
   "cell_type": "code",
   "execution_count": 220,
   "metadata": {},
   "outputs": [],
   "source": [
    "result = res.read()"
   ]
  },
  {
   "cell_type": "code",
   "execution_count": 221,
   "metadata": {
    "scrolled": true
   },
   "outputs": [
    {
     "data": {
      "text/plain": [
       "b'{\"ArpltnInforInqireSvcVo\":{\"_returnType\":\"json\",\"coGrade\":\"\",\"coValue\":\"\",\"dataTerm\":\"\",\"dataTime\":\"\",\"khaiGrade\":\"\",\"khaiValue\":\"\",\"mangName\":\"\",\"no2Grade\":\"\",\"no2Value\":\"\",\"numOfRows\":\"10\",\"o3Grade\":\"\",\"o3Value\":\"\",\"pageNo\":\"1\",\"pm10Grade\":\"\",\"pm10Grade1h\":\"\",\"pm10Value\":\"\",\"pm10Value24\":\"\",\"pm25Grade\":\"\",\"pm25Grade1h\":\"\",\"pm25Value\":\"\",\"pm25Value24\":\"\",\"resultCode\":\"\",\"resultMsg\":\"\",\"rnum\":0,\"serviceKey\":\"WuCY6xmu+ZmuKPhrewpGUxpyyBs3BuRE5kE+RalhpRyQsZFLcYFl6PV6NyieUeFXlyfe+m0BSwYnotR9C/1CTg==\",\"sidoName\":\"\\xec\\xb6\\xa9\\xeb\\x82\\xa8\",\"so2Grade\":\"\",\"so2Value\":\"\",\"stationCode\":\"\",\"stationName\":\"\",\"totalCount\":\"\",\"ver\":\"1.3\"}}'"
      ]
     },
     "execution_count": 221,
     "metadata": {},
     "output_type": "execute_result"
    }
   ],
   "source": [
    "result"
   ]
  },
  {
   "cell_type": "markdown",
   "metadata": {},
   "source": [
    "### 아 한글 깨지네 String으로 바꾸자 !!\n",
    "- 입력한 sidoName 이 충남으로 보일 것이다"
   ]
  },
  {
   "cell_type": "code",
   "execution_count": 222,
   "metadata": {},
   "outputs": [
    {
     "data": {
      "text/plain": [
       "bytes"
      ]
     },
     "execution_count": 222,
     "metadata": {},
     "output_type": "execute_result"
    }
   ],
   "source": [
    "type(result)"
   ]
  },
  {
   "cell_type": "code",
   "execution_count": 223,
   "metadata": {},
   "outputs": [],
   "source": [
    "resultStr = result.decode(\"utf-8\")"
   ]
  },
  {
   "cell_type": "code",
   "execution_count": 224,
   "metadata": {},
   "outputs": [
    {
     "data": {
      "text/plain": [
       "str"
      ]
     },
     "execution_count": 224,
     "metadata": {},
     "output_type": "execute_result"
    }
   ],
   "source": [
    "type(resultStr)"
   ]
  },
  {
   "cell_type": "code",
   "execution_count": 225,
   "metadata": {},
   "outputs": [
    {
     "data": {
      "text/plain": [
       "'{\"ArpltnInforInqireSvcVo\":{\"_returnType\":\"json\",\"coGrade\":\"\",\"coValue\":\"\",\"dataTerm\":\"\",\"dataTime\":\"\",\"khaiGrade\":\"\",\"khaiValue\":\"\",\"mangName\":\"\",\"no2Grade\":\"\",\"no2Value\":\"\",\"numOfRows\":\"10\",\"o3Grade\":\"\",\"o3Value\":\"\",\"pageNo\":\"1\",\"pm10Grade\":\"\",\"pm10Grade1h\":\"\",\"pm10Value\":\"\",\"pm10Value24\":\"\",\"pm25Grade\":\"\",\"pm25Grade1h\":\"\",\"pm25Value\":\"\",\"pm25Value24\":\"\",\"resultCode\":\"\",\"resultMsg\":\"\",\"rnum\":0,\"serviceKey\":\"WuCY6xmu+ZmuKPhrewpGUxpyyBs3BuRE5kE+RalhpRyQsZFLcYFl6PV6NyieUeFXlyfe+m0BSwYnotR9C/1CTg==\",\"sidoName\":\"충남\",\"so2Grade\":\"\",\"so2Value\":\"\",\"stationCode\":\"\",\"stationName\":\"\",\"totalCount\":\"\",\"ver\":\"1.3\"}}'"
      ]
     },
     "execution_count": 225,
     "metadata": {},
     "output_type": "execute_result"
    }
   ],
   "source": [
    "resultStr"
   ]
  },
  {
   "cell_type": "markdown",
   "metadata": {},
   "source": [
    "### 이제 String 만들었으니 JSON 만들어봅시다!"
   ]
  },
  {
   "cell_type": "code",
   "execution_count": 175,
   "metadata": {},
   "outputs": [],
   "source": [
    "resultObj = json.loads(resultStr)"
   ]
  },
  {
   "cell_type": "code",
   "execution_count": 255,
   "metadata": {
    "scrolled": true
   },
   "outputs": [
    {
     "name": "stdout",
     "output_type": "stream",
     "text": [
      "ArpltnInforInqireSvcVo {'_returnType': 'json', 'coGrade': '', 'coValue': '', 'dataTerm': '', 'dataTime': '', 'khaiGrade': '', 'khaiValue': '', 'mangName': '', 'no2Grade': '', 'no2Value': '', 'numOfRows': '10', 'o3Grade': '', 'o3Value': '', 'pageNo': '1', 'pm10Grade': '', 'pm10Grade1h': '', 'pm10Value': '', 'pm10Value24': '', 'pm25Grade': '', 'pm25Grade1h': '', 'pm25Value': '', 'pm25Value24': '', 'resultCode': '', 'resultMsg': '', 'rnum': 0, 'serviceKey': 'WuCY6xmu+ZmuKPhrewpGUxpyyBs3BuRE5kE+RalhpRyQsZFLcYFl6PV6NyieUeFXlyfe+m0BSwYnotR9C/1CTg==', 'sidoName': '서울', 'so2Grade': '', 'so2Value': '', 'stationCode': '', 'stationName': '', 'totalCount': '', 'ver': '1.3'}\n"
     ]
    }
   ],
   "source": [
    "for (k,v) in resultObj.items():\n",
    "    print(k,v)"
   ]
  },
  {
   "cell_type": "markdown",
   "metadata": {},
   "source": [
    "------"
   ]
  },
  {
   "cell_type": "markdown",
   "metadata": {},
   "source": [
    "# 시 군구별 실시간 평균정보 조회 오퍼레이션"
   ]
  },
  {
   "cell_type": "code",
   "execution_count": 323,
   "metadata": {},
   "outputs": [],
   "source": [
    "params = {\"serviceKey\":\"WuCY6xmu%2BZmuKPhrewpGUxpyyBs3BuRE5kE%2BRalhpRyQsZFLcYFl6PV6NyieUeFXlyfe%2Bm0BSwYnotR9C%2F1CTg%3D%3D\",\n",
    "        \"numOfRows\":10,\n",
    "        \"pageNo\":1,\n",
    "        \"sidoName\":None,\n",
    "        \"searchCondition\":\"DAILY\"\n",
    "}"
   ]
  },
  {
   "cell_type": "code",
   "execution_count": 324,
   "metadata": {},
   "outputs": [],
   "source": [
    "params[\"sidoName\"]=\"충남\""
   ]
  },
  {
   "cell_type": "code",
   "execution_count": 325,
   "metadata": {},
   "outputs": [
    {
     "data": {
      "text/plain": [
       "{'serviceKey': 'WuCY6xmu%2BZmuKPhrewpGUxpyyBs3BuRE5kE%2BRalhpRyQsZFLcYFl6PV6NyieUeFXlyfe%2Bm0BSwYnotR9C%2F1CTg%3D%3D',\n",
       " 'numOfRows': 10,\n",
       " 'pageNo': 1,\n",
       " 'sidoName': '충남',\n",
       " 'searchCondition': 'DAILY'}"
      ]
     },
     "execution_count": 325,
     "metadata": {},
     "output_type": "execute_result"
    }
   ],
   "source": [
    "params"
   ]
  },
  {
   "cell_type": "code",
   "execution_count": 339,
   "metadata": {},
   "outputs": [],
   "source": [
    "url = \"http://openapi.airkorea.or.kr/openapi/services/rest/ArpltnInforInqireSvc/getCtprvnMesureSidoLIst?\""
   ]
  },
  {
   "cell_type": "code",
   "execution_count": 340,
   "metadata": {},
   "outputs": [],
   "source": [
    "paramUrl = parse.urlencode(params)"
   ]
  },
  {
   "cell_type": "code",
   "execution_count": 341,
   "metadata": {},
   "outputs": [
    {
     "data": {
      "text/plain": [
       "'serviceKey=WuCY6xmu%2BZmuKPhrewpGUxpyyBs3BuRE5kE%2BRalhpRyQsZFLcYFl6PV6NyieUeFXlyfe%2Bm0BSwYnotR9C%2F1CTg%3D%3D&numOfRows=10&pageNo=1&sidoName=%EC%B6%A9%EB%82%A8&searchCondition=DAILY'"
      ]
     },
     "execution_count": 341,
     "metadata": {},
     "output_type": "execute_result"
    }
   ],
   "source": [
    "paramUrl"
   ]
  },
  {
   "cell_type": "markdown",
   "metadata": {},
   "source": [
    "### bytes -> string 작업"
   ]
  },
  {
   "cell_type": "code",
   "execution_count": 342,
   "metadata": {},
   "outputs": [],
   "source": [
    "params[\"serviceKey\"] = urllib.parse.unquote(params[\"serviceKey\"])"
   ]
  },
  {
   "cell_type": "code",
   "execution_count": 343,
   "metadata": {},
   "outputs": [
    {
     "data": {
      "text/plain": [
       "'WuCY6xmu+ZmuKPhrewpGUxpyyBs3BuRE5kE+RalhpRyQsZFLcYFl6PV6NyieUeFXlyfe+m0BSwYnotR9C/1CTg=='"
      ]
     },
     "execution_count": 343,
     "metadata": {},
     "output_type": "execute_result"
    }
   ],
   "source": [
    "params[\"serviceKey\"]"
   ]
  },
  {
   "cell_type": "code",
   "execution_count": 328,
   "metadata": {},
   "outputs": [],
   "source": [
    "paramUrl = parse.urlencode(params)"
   ]
  },
  {
   "cell_type": "code",
   "execution_count": 329,
   "metadata": {},
   "outputs": [
    {
     "data": {
      "text/plain": [
       "'serviceKey=WuCY6xmu%2BZmuKPhrewpGUxpyyBs3BuRE5kE%2BRalhpRyQsZFLcYFl6PV6NyieUeFXlyfe%2Bm0BSwYnotR9C%2F1CTg%3D%3D&numOfRows=10&pageNo=1&sidoName=%EC%B6%A9%EB%82%A8&searchCondition=DAILY'"
      ]
     },
     "execution_count": 329,
     "metadata": {},
     "output_type": "execute_result"
    }
   ],
   "source": [
    "paramUrl"
   ]
  },
  {
   "cell_type": "code",
   "execution_count": 330,
   "metadata": {},
   "outputs": [],
   "source": [
    "paramBytes = paramUrl.encode(\"utf-8\")"
   ]
  },
  {
   "cell_type": "code",
   "execution_count": 331,
   "metadata": {},
   "outputs": [
    {
     "data": {
      "text/plain": [
       "bytes"
      ]
     },
     "execution_count": 331,
     "metadata": {},
     "output_type": "execute_result"
    }
   ],
   "source": [
    "type(paramBytes)"
   ]
  },
  {
   "cell_type": "code",
   "execution_count": 332,
   "metadata": {},
   "outputs": [
    {
     "name": "stdout",
     "output_type": "stream",
     "text": [
      "b'serviceKey=WuCY6xmu%2BZmuKPhrewpGUxpyyBs3BuRE5kE%2BRalhpRyQsZFLcYFl6PV6NyieUeFXlyfe%2Bm0BSwYnotR9C%2F1CTg%3D%3D&numOfRows=10&pageNo=1&sidoName=%EC%B6%A9%EB%82%A8&searchCondition=DAILY'\n"
     ]
    }
   ],
   "source": [
    "print(paramBytes)"
   ]
  },
  {
   "cell_type": "code",
   "execution_count": 344,
   "metadata": {},
   "outputs": [],
   "source": [
    "req = urllib.request.Request(url, data=paramBytes)"
   ]
  },
  {
   "cell_type": "code",
   "execution_count": 345,
   "metadata": {},
   "outputs": [],
   "source": [
    "res = urllib.request.urlopen(req)"
   ]
  },
  {
   "cell_type": "code",
   "execution_count": 346,
   "metadata": {},
   "outputs": [],
   "source": [
    "result = res.read()"
   ]
  },
  {
   "cell_type": "code",
   "execution_count": 347,
   "metadata": {
    "scrolled": true
   },
   "outputs": [
    {
     "data": {
      "text/plain": [
       "b'<?xml version=\"1.0\" encoding=\"UTF-8\"?>\\r\\n\\r\\n\\r\\n\\r\\n\\r\\n<response>\\r\\n\\t<header>\\r\\n\\t\\t<resultCode>00</resultCode>\\r\\n\\t\\t<resultMsg>NORMAL SERVICE.</resultMsg>\\r\\n\\t</header>\\r\\n\\t<body>\\r\\n\\t\\t<items>\\r\\n\\t\\t\\t\\r\\n\\t\\t\\t\\t<item>\\r\\n\\t\\t\\t\\t    <dataTime>2018-07-14 03:00</dataTime>\\r\\n\\t\\t\\t\\t    <cityName>\\xea\\xb3\\xb5\\xec\\xa3\\xbc\\xec\\x8b\\x9c</cityName>\\r\\n\\t\\t\\t\\t    <so2Value>0.003</so2Value>\\r\\n\\t\\t\\t\\t    <coValue>0.2</coValue>\\r\\n\\t\\t\\t\\t    <o3Value>0.009</o3Value>\\r\\n\\t\\t\\t\\t    <no2Value>0.005</no2Value>\\r\\n\\t\\t\\t\\t    <pm10Value>16</pm10Value>\\r\\n\\t\\t\\t\\t    <pm25Value>9</pm25Value>\\r\\n\\t\\t\\t\\t</item>\\r\\n\\t\\t\\t\\r\\n\\t\\t\\t\\t<item>\\r\\n\\t\\t\\t\\t    <dataTime>2018-07-14 03:00</dataTime>\\r\\n\\t\\t\\t\\t    <cityName>\\xea\\xb8\\x88\\xec\\x82\\xb0\\xea\\xb5\\xb0</cityName>\\r\\n\\t\\t\\t\\t    <so2Value>0.002</so2Value>\\r\\n\\t\\t\\t\\t    <coValue>0.2</coValue>\\r\\n\\t\\t\\t\\t    <o3Value>0.008</o3Value>\\r\\n\\t\\t\\t\\t    <no2Value>0.008</no2Value>\\r\\n\\t\\t\\t\\t    <pm10Value>17</pm10Value>\\r\\n\\t\\t\\t\\t    <pm25Value>-</pm25Value>\\r\\n\\t\\t\\t\\t</item>\\r\\n\\t\\t\\t\\r\\n\\t\\t\\t\\t<item>\\r\\n\\t\\t\\t\\t    <dataTime>2018-07-14 03:00</dataTime>\\r\\n\\t\\t\\t\\t    <cityName>\\xeb\\x85\\xbc\\xec\\x82\\xb0\\xec\\x8b\\x9c</cityName>\\r\\n\\t\\t\\t\\t    <so2Value>0.004</so2Value>\\r\\n\\t\\t\\t\\t    <coValue>0.3</coValue>\\r\\n\\t\\t\\t\\t    <o3Value>0.010</o3Value>\\r\\n\\t\\t\\t\\t    <no2Value>0.005</no2Value>\\r\\n\\t\\t\\t\\t    <pm10Value>20</pm10Value>\\r\\n\\t\\t\\t\\t    <pm25Value>7</pm25Value>\\r\\n\\t\\t\\t\\t</item>\\r\\n\\t\\t\\t\\r\\n\\t\\t\\t\\t<item>\\r\\n\\t\\t\\t\\t    <dataTime>2018-07-14 03:00</dataTime>\\r\\n\\t\\t\\t\\t    <cityName>\\xeb\\x8b\\xb9\\xec\\xa7\\x84\\xea\\xb5\\xb0</cityName>\\r\\n\\t\\t\\t\\t    <so2Value>0.004</so2Value>\\r\\n\\t\\t\\t\\t    <coValue>0.4</coValue>\\r\\n\\t\\t\\t\\t    <o3Value>0.012</o3Value>\\r\\n\\t\\t\\t\\t    <no2Value>0.003</no2Value>\\r\\n\\t\\t\\t\\t    <pm10Value>11</pm10Value>\\r\\n\\t\\t\\t\\t    <pm25Value>5</pm25Value>\\r\\n\\t\\t\\t\\t</item>\\r\\n\\t\\t\\t\\r\\n\\t\\t\\t\\t<item>\\r\\n\\t\\t\\t\\t    <dataTime>2018-07-14 03:00</dataTime>\\r\\n\\t\\t\\t\\t    <cityName>\\xeb\\xb3\\xb4\\xeb\\xa0\\xb9\\xec\\x8b\\x9c</cityName>\\r\\n\\t\\t\\t\\t    <so2Value>0.004</so2Value>\\r\\n\\t\\t\\t\\t    <coValue>0.3</coValue>\\r\\n\\t\\t\\t\\t    <o3Value>0.017</o3Value>\\r\\n\\t\\t\\t\\t    <no2Value>0.002</no2Value>\\r\\n\\t\\t\\t\\t    <pm10Value>21</pm10Value>\\r\\n\\t\\t\\t\\t    <pm25Value>6</pm25Value>\\r\\n\\t\\t\\t\\t</item>\\r\\n\\t\\t\\t\\r\\n\\t\\t\\t\\t<item>\\r\\n\\t\\t\\t\\t    <dataTime>2018-07-14 03:00</dataTime>\\r\\n\\t\\t\\t\\t    <cityName>\\xeb\\xb6\\x80\\xec\\x97\\xac\\xea\\xb5\\xb0</cityName>\\r\\n\\t\\t\\t\\t    <so2Value>0.003</so2Value>\\r\\n\\t\\t\\t\\t    <coValue>0.3</coValue>\\r\\n\\t\\t\\t\\t    <o3Value>0.014</o3Value>\\r\\n\\t\\t\\t\\t    <no2Value>0.003</no2Value>\\r\\n\\t\\t\\t\\t    <pm10Value>10</pm10Value>\\r\\n\\t\\t\\t\\t    <pm25Value>9</pm25Value>\\r\\n\\t\\t\\t\\t</item>\\r\\n\\t\\t\\t\\r\\n\\t\\t\\t\\t<item>\\r\\n\\t\\t\\t\\t    <dataTime>2018-07-14 03:00</dataTime>\\r\\n\\t\\t\\t\\t    <cityName>\\xec\\x84\\x9c\\xec\\x82\\xb0\\xec\\x8b\\x9c</cityName>\\r\\n\\t\\t\\t\\t    <so2Value>0.003</so2Value>\\r\\n\\t\\t\\t\\t    <coValue>0.4</coValue>\\r\\n\\t\\t\\t\\t    <o3Value>0.014</o3Value>\\r\\n\\t\\t\\t\\t    <no2Value>0.003</no2Value>\\r\\n\\t\\t\\t\\t    <pm10Value>17</pm10Value>\\r\\n\\t\\t\\t\\t    <pm25Value>10</pm25Value>\\r\\n\\t\\t\\t\\t</item>\\r\\n\\t\\t\\t\\r\\n\\t\\t\\t\\t<item>\\r\\n\\t\\t\\t\\t    <dataTime>2018-07-14 03:00</dataTime>\\r\\n\\t\\t\\t\\t    <cityName>\\xec\\x84\\x9c\\xec\\xb2\\x9c\\xea\\xb5\\xb0</cityName>\\r\\n\\t\\t\\t\\t    <so2Value>0.003</so2Value>\\r\\n\\t\\t\\t\\t    <coValue>0.2</coValue>\\r\\n\\t\\t\\t\\t    <o3Value>0.016</o3Value>\\r\\n\\t\\t\\t\\t    <no2Value>0.003</no2Value>\\r\\n\\t\\t\\t\\t    <pm10Value>17</pm10Value>\\r\\n\\t\\t\\t\\t    <pm25Value>7</pm25Value>\\r\\n\\t\\t\\t\\t</item>\\r\\n\\t\\t\\t\\r\\n\\t\\t\\t\\t<item>\\r\\n\\t\\t\\t\\t    <dataTime>2018-07-14 03:00</dataTime>\\r\\n\\t\\t\\t\\t    <cityName>\\xec\\x95\\x84\\xec\\x82\\xb0\\xec\\x8b\\x9c</cityName>\\r\\n\\t\\t\\t\\t    <so2Value>0.003</so2Value>\\r\\n\\t\\t\\t\\t    <coValue>0.3</coValue>\\r\\n\\t\\t\\t\\t    <o3Value>0.010</o3Value>\\r\\n\\t\\t\\t\\t    <no2Value>0.005</no2Value>\\r\\n\\t\\t\\t\\t    <pm10Value>11</pm10Value>\\r\\n\\t\\t\\t\\t    <pm25Value>5</pm25Value>\\r\\n\\t\\t\\t\\t</item>\\r\\n\\t\\t\\t\\r\\n\\t\\t\\t\\t<item>\\r\\n\\t\\t\\t\\t    <dataTime>2018-07-14 03:00</dataTime>\\r\\n\\t\\t\\t\\t    <cityName>\\xec\\x98\\x88\\xec\\x82\\xb0\\xea\\xb5\\xb0</cityName>\\r\\n\\t\\t\\t\\t    <so2Value>0.003</so2Value>\\r\\n\\t\\t\\t\\t    <coValue>0.2</coValue>\\r\\n\\t\\t\\t\\t    <o3Value>0.012</o3Value>\\r\\n\\t\\t\\t\\t    <no2Value>0.002</no2Value>\\r\\n\\t\\t\\t\\t    <pm10Value>12</pm10Value>\\r\\n\\t\\t\\t\\t    <pm25Value>5</pm25Value>\\r\\n\\t\\t\\t\\t</item>\\r\\n\\t\\t\\t\\r\\n\\t\\t</items>\\r\\n\\t\\t<numOfRows>10</numOfRows>\\r\\n        <pageNo>1</pageNo>\\r\\n        <totalCount>350</totalCount>\\r\\n\\t</body>\\r\\n</response>\\r\\n'"
      ]
     },
     "execution_count": 347,
     "metadata": {},
     "output_type": "execute_result"
    }
   ],
   "source": [
    "result"
   ]
  },
  {
   "cell_type": "markdown",
   "metadata": {},
   "source": [
    "### 아 한글 깨지네 String으로 바꾸자 !!\n",
    "- 입력한 sidoName 이 충남으로 보일 것이다"
   ]
  },
  {
   "cell_type": "code",
   "execution_count": 251,
   "metadata": {},
   "outputs": [
    {
     "data": {
      "text/plain": [
       "bytes"
      ]
     },
     "execution_count": 251,
     "metadata": {},
     "output_type": "execute_result"
    }
   ],
   "source": [
    "type(result)"
   ]
  },
  {
   "cell_type": "code",
   "execution_count": 252,
   "metadata": {},
   "outputs": [],
   "source": [
    "resultStr = result.decode(\"utf-8\")"
   ]
  },
  {
   "cell_type": "code",
   "execution_count": 253,
   "metadata": {},
   "outputs": [
    {
     "data": {
      "text/plain": [
       "str"
      ]
     },
     "execution_count": 253,
     "metadata": {},
     "output_type": "execute_result"
    }
   ],
   "source": [
    "type(resultStr)"
   ]
  },
  {
   "cell_type": "code",
   "execution_count": 257,
   "metadata": {},
   "outputs": [
    {
     "data": {
      "text/plain": [
       "'{\"list\":[{\"_returnType\":\"json\",\"cityName\":\"공주시\",\"cityNameEng\":\"Gongju-si\",\"coValue\":\"0.2\",\"dataGubun\":\"\",\"dataTime\":\"2018-07-13 15:00\",\"districtCode\":\"041\",\"districtNumSeq\":\"001\",\"itemCode\":\"\",\"khaiValue\":\"\",\"no2Value\":\"0.002\",\"numOfRows\":\"10\",\"o3Value\":\"0.020\",\"pageNo\":\"1\",\"pm10Value\":\"13\",\"pm25Value\":\"5\",\"resultCode\":\"\",\"resultMsg\":\"\",\"searchCondition\":\"\",\"serviceKey\":\"\",\"sidoName\":\"충남\",\"so2Value\":\"0.003\",\"totalCount\":\"\"},{\"_returnType\":\"json\",\"cityName\":\"금산군\",\"cityNameEng\":\"Geumsan-gun\",\"coValue\":\"0.2\",\"dataGubun\":\"\",\"dataTime\":\"2018-07-13 15:00\",\"districtCode\":\"041\",\"districtNumSeq\":\"002\",\"itemCode\":\"\",\"khaiValue\":\"\",\"no2Value\":\"0.009\",\"numOfRows\":\"10\",\"o3Value\":\"0.035\",\"pageNo\":\"1\",\"pm10Value\":\"22\",\"pm25Value\":\"10\",\"resultCode\":\"\",\"resultMsg\":\"\",\"searchCondition\":\"\",\"serviceKey\":\"\",\"sidoName\":\"충남\",\"so2Value\":\"0.002\",\"totalCount\":\"\"},{\"_returnType\":\"json\",\"cityName\":\"논산시\",\"cityNameEng\":\"Nonsan-si\",\"coValue\":\"0.2\",\"dataGubun\":\"\",\"dataTime\":\"2018-07-13 15:00\",\"districtCode\":\"041\",\"districtNumSeq\":\"003\",\"itemCode\":\"\",\"khaiValue\":\"\",\"no2Value\":\"0.002\",\"numOfRows\":\"10\",\"o3Value\":\"0.034\",\"pageNo\":\"1\",\"pm10Value\":\"15\",\"pm25Value\":\"14\",\"resultCode\":\"\",\"resultMsg\":\"\",\"searchCondition\":\"\",\"serviceKey\":\"\",\"sidoName\":\"충남\",\"so2Value\":\"0.003\",\"totalCount\":\"\"},{\"_returnType\":\"json\",\"cityName\":\"당진군\",\"cityNameEng\":\"Dangjin-gun\",\"coValue\":\"0.3\",\"dataGubun\":\"\",\"dataTime\":\"2018-07-13 15:00\",\"districtCode\":\"041\",\"districtNumSeq\":\"004\",\"itemCode\":\"\",\"khaiValue\":\"\",\"no2Value\":\"0.003\",\"numOfRows\":\"10\",\"o3Value\":\"0.016\",\"pageNo\":\"1\",\"pm10Value\":\"8\",\"pm25Value\":\"3\",\"resultCode\":\"\",\"resultMsg\":\"\",\"searchCondition\":\"\",\"serviceKey\":\"\",\"sidoName\":\"충남\",\"so2Value\":\"0.004\",\"totalCount\":\"\"},{\"_returnType\":\"json\",\"cityName\":\"보령시\",\"cityNameEng\":\"Boryeong-si\",\"coValue\":\"0.4\",\"dataGubun\":\"\",\"dataTime\":\"2018-07-13 15:00\",\"districtCode\":\"041\",\"districtNumSeq\":\"005\",\"itemCode\":\"\",\"khaiValue\":\"\",\"no2Value\":\"0.003\",\"numOfRows\":\"10\",\"o3Value\":\"0.016\",\"pageNo\":\"1\",\"pm10Value\":\"5\",\"pm25Value\":\"2\",\"resultCode\":\"\",\"resultMsg\":\"\",\"searchCondition\":\"\",\"serviceKey\":\"\",\"sidoName\":\"충남\",\"so2Value\":\"0.003\",\"totalCount\":\"\"},{\"_returnType\":\"json\",\"cityName\":\"부여군\",\"cityNameEng\":\"Buyeo-gun\",\"coValue\":\"0.2\",\"dataGubun\":\"\",\"dataTime\":\"2018-07-13 15:00\",\"districtCode\":\"041\",\"districtNumSeq\":\"006\",\"itemCode\":\"\",\"khaiValue\":\"\",\"no2Value\":\"0.004\",\"numOfRows\":\"10\",\"o3Value\":\"0.031\",\"pageNo\":\"1\",\"pm10Value\":\"17\",\"pm25Value\":\"4\",\"resultCode\":\"\",\"resultMsg\":\"\",\"searchCondition\":\"\",\"serviceKey\":\"\",\"sidoName\":\"충남\",\"so2Value\":\"0.003\",\"totalCount\":\"\"},{\"_returnType\":\"json\",\"cityName\":\"서산시\",\"cityNameEng\":\"Seosan-si\",\"coValue\":\"0.4\",\"dataGubun\":\"\",\"dataTime\":\"2018-07-13 15:00\",\"districtCode\":\"041\",\"districtNumSeq\":\"007\",\"itemCode\":\"\",\"khaiValue\":\"\",\"no2Value\":\"0.005\",\"numOfRows\":\"10\",\"o3Value\":\"0.016\",\"pageNo\":\"1\",\"pm10Value\":\"13\",\"pm25Value\":\"6\",\"resultCode\":\"\",\"resultMsg\":\"\",\"searchCondition\":\"\",\"serviceKey\":\"\",\"sidoName\":\"충남\",\"so2Value\":\"0.003\",\"totalCount\":\"\"},{\"_returnType\":\"json\",\"cityName\":\"서천군\",\"cityNameEng\":\"Seocheon-gun\",\"coValue\":\"0.3\",\"dataGubun\":\"\",\"dataTime\":\"2018-07-13 15:00\",\"districtCode\":\"041\",\"districtNumSeq\":\"008\",\"itemCode\":\"\",\"khaiValue\":\"\",\"no2Value\":\"0.004\",\"numOfRows\":\"10\",\"o3Value\":\"0.014\",\"pageNo\":\"1\",\"pm10Value\":\"14\",\"pm25Value\":\"3\",\"resultCode\":\"\",\"resultMsg\":\"\",\"searchCondition\":\"\",\"serviceKey\":\"\",\"sidoName\":\"충남\",\"so2Value\":\"0.003\",\"totalCount\":\"\"},{\"_returnType\":\"json\",\"cityName\":\"아산시\",\"cityNameEng\":\"Asan-si\",\"coValue\":\"0.3\",\"dataGubun\":\"\",\"dataTime\":\"2018-07-13 15:00\",\"districtCode\":\"041\",\"districtNumSeq\":\"009\",\"itemCode\":\"\",\"khaiValue\":\"\",\"no2Value\":\"0.004\",\"numOfRows\":\"10\",\"o3Value\":\"0.028\",\"pageNo\":\"1\",\"pm10Value\":\"14\",\"pm25Value\":\"8\",\"resultCode\":\"\",\"resultMsg\":\"\",\"searchCondition\":\"\",\"serviceKey\":\"\",\"sidoName\":\"충남\",\"so2Value\":\"0.003\",\"totalCount\":\"\"},{\"_returnType\":\"json\",\"cityName\":\"예산군\",\"cityNameEng\":\"Yesan-gun\",\"coValue\":\"0.3\",\"dataGubun\":\"\",\"dataTime\":\"2018-07-13 15:00\",\"districtCode\":\"041\",\"districtNumSeq\":\"011\",\"itemCode\":\"\",\"khaiValue\":\"\",\"no2Value\":\"0.004\",\"numOfRows\":\"10\",\"o3Value\":\"0.023\",\"pageNo\":\"1\",\"pm10Value\":\"15\",\"pm25Value\":\"\",\"resultCode\":\"\",\"resultMsg\":\"\",\"searchCondition\":\"\",\"serviceKey\":\"\",\"sidoName\":\"충남\",\"so2Value\":\"0.003\",\"totalCount\":\"\"}],\"parm\":{\"_returnType\":\"json\",\"cityName\":\"\",\"cityNameEng\":\"\",\"coValue\":\"\",\"dataGubun\":\"\",\"dataTime\":\"\",\"districtCode\":\"\",\"districtNumSeq\":\"\",\"itemCode\":\"\",\"khaiValue\":\"\",\"no2Value\":\"\",\"numOfRows\":\"10\",\"o3Value\":\"\",\"pageNo\":\"1\",\"pm10Value\":\"\",\"pm25Value\":\"\",\"resultCode\":\"\",\"resultMsg\":\"\",\"searchCondition\":\"DAILY\",\"serviceKey\":\"WuCY6xmu+ZmuKPhrewpGUxpyyBs3BuRE5kE+RalhpRyQsZFLcYFl6PV6NyieUeFXlyfe+m0BSwYnotR9C/1CTg==\",\"sidoName\":\"충남\",\"so2Value\":\"\",\"totalCount\":\"\"},\"CtprvnMesureLIstVo2\":{\"_returnType\":\"json\",\"cityName\":\"\",\"cityNameEng\":\"\",\"coValue\":\"\",\"dataGubun\":\"\",\"dataTime\":\"\",\"districtCode\":\"\",\"districtNumSeq\":\"\",\"itemCode\":\"\",\"khaiValue\":\"\",\"no2Value\":\"\",\"numOfRows\":\"10\",\"o3Value\":\"\",\"pageNo\":\"1\",\"pm10Value\":\"\",\"pm25Value\":\"\",\"resultCode\":\"\",\"resultMsg\":\"\",\"searchCondition\":\"DAILY\",\"serviceKey\":\"WuCY6xmu+ZmuKPhrewpGUxpyyBs3BuRE5kE+RalhpRyQsZFLcYFl6PV6NyieUeFXlyfe+m0BSwYnotR9C/1CTg==\",\"sidoName\":\"충남\",\"so2Value\":\"\",\"totalCount\":\"\"},\"totalCount\":350}'"
      ]
     },
     "execution_count": 257,
     "metadata": {},
     "output_type": "execute_result"
    }
   ],
   "source": [
    "resultStr"
   ]
  },
  {
   "cell_type": "markdown",
   "metadata": {},
   "source": [
    "### 이제 String 만들었으니 JSON 만들어봅시다!"
   ]
  },
  {
   "cell_type": "code",
   "execution_count": 261,
   "metadata": {},
   "outputs": [],
   "source": [
    "resultObj = json.loads(resultStr)"
   ]
  },
  {
   "cell_type": "code",
   "execution_count": 262,
   "metadata": {
    "scrolled": true
   },
   "outputs": [
    {
     "name": "stdout",
     "output_type": "stream",
     "text": [
      "list [{'_returnType': 'json', 'cityName': '공주시', 'cityNameEng': 'Gongju-si', 'coValue': '0.2', 'dataGubun': '', 'dataTime': '2018-07-13 15:00', 'districtCode': '041', 'districtNumSeq': '001', 'itemCode': '', 'khaiValue': '', 'no2Value': '0.002', 'numOfRows': '10', 'o3Value': '0.020', 'pageNo': '1', 'pm10Value': '13', 'pm25Value': '5', 'resultCode': '', 'resultMsg': '', 'searchCondition': '', 'serviceKey': '', 'sidoName': '충남', 'so2Value': '0.003', 'totalCount': ''}, {'_returnType': 'json', 'cityName': '금산군', 'cityNameEng': 'Geumsan-gun', 'coValue': '0.2', 'dataGubun': '', 'dataTime': '2018-07-13 15:00', 'districtCode': '041', 'districtNumSeq': '002', 'itemCode': '', 'khaiValue': '', 'no2Value': '0.009', 'numOfRows': '10', 'o3Value': '0.035', 'pageNo': '1', 'pm10Value': '22', 'pm25Value': '10', 'resultCode': '', 'resultMsg': '', 'searchCondition': '', 'serviceKey': '', 'sidoName': '충남', 'so2Value': '0.002', 'totalCount': ''}, {'_returnType': 'json', 'cityName': '논산시', 'cityNameEng': 'Nonsan-si', 'coValue': '0.2', 'dataGubun': '', 'dataTime': '2018-07-13 15:00', 'districtCode': '041', 'districtNumSeq': '003', 'itemCode': '', 'khaiValue': '', 'no2Value': '0.002', 'numOfRows': '10', 'o3Value': '0.034', 'pageNo': '1', 'pm10Value': '15', 'pm25Value': '14', 'resultCode': '', 'resultMsg': '', 'searchCondition': '', 'serviceKey': '', 'sidoName': '충남', 'so2Value': '0.003', 'totalCount': ''}, {'_returnType': 'json', 'cityName': '당진군', 'cityNameEng': 'Dangjin-gun', 'coValue': '0.3', 'dataGubun': '', 'dataTime': '2018-07-13 15:00', 'districtCode': '041', 'districtNumSeq': '004', 'itemCode': '', 'khaiValue': '', 'no2Value': '0.003', 'numOfRows': '10', 'o3Value': '0.016', 'pageNo': '1', 'pm10Value': '8', 'pm25Value': '3', 'resultCode': '', 'resultMsg': '', 'searchCondition': '', 'serviceKey': '', 'sidoName': '충남', 'so2Value': '0.004', 'totalCount': ''}, {'_returnType': 'json', 'cityName': '보령시', 'cityNameEng': 'Boryeong-si', 'coValue': '0.4', 'dataGubun': '', 'dataTime': '2018-07-13 15:00', 'districtCode': '041', 'districtNumSeq': '005', 'itemCode': '', 'khaiValue': '', 'no2Value': '0.003', 'numOfRows': '10', 'o3Value': '0.016', 'pageNo': '1', 'pm10Value': '5', 'pm25Value': '2', 'resultCode': '', 'resultMsg': '', 'searchCondition': '', 'serviceKey': '', 'sidoName': '충남', 'so2Value': '0.003', 'totalCount': ''}, {'_returnType': 'json', 'cityName': '부여군', 'cityNameEng': 'Buyeo-gun', 'coValue': '0.2', 'dataGubun': '', 'dataTime': '2018-07-13 15:00', 'districtCode': '041', 'districtNumSeq': '006', 'itemCode': '', 'khaiValue': '', 'no2Value': '0.004', 'numOfRows': '10', 'o3Value': '0.031', 'pageNo': '1', 'pm10Value': '17', 'pm25Value': '4', 'resultCode': '', 'resultMsg': '', 'searchCondition': '', 'serviceKey': '', 'sidoName': '충남', 'so2Value': '0.003', 'totalCount': ''}, {'_returnType': 'json', 'cityName': '서산시', 'cityNameEng': 'Seosan-si', 'coValue': '0.4', 'dataGubun': '', 'dataTime': '2018-07-13 15:00', 'districtCode': '041', 'districtNumSeq': '007', 'itemCode': '', 'khaiValue': '', 'no2Value': '0.005', 'numOfRows': '10', 'o3Value': '0.016', 'pageNo': '1', 'pm10Value': '13', 'pm25Value': '6', 'resultCode': '', 'resultMsg': '', 'searchCondition': '', 'serviceKey': '', 'sidoName': '충남', 'so2Value': '0.003', 'totalCount': ''}, {'_returnType': 'json', 'cityName': '서천군', 'cityNameEng': 'Seocheon-gun', 'coValue': '0.3', 'dataGubun': '', 'dataTime': '2018-07-13 15:00', 'districtCode': '041', 'districtNumSeq': '008', 'itemCode': '', 'khaiValue': '', 'no2Value': '0.004', 'numOfRows': '10', 'o3Value': '0.014', 'pageNo': '1', 'pm10Value': '14', 'pm25Value': '3', 'resultCode': '', 'resultMsg': '', 'searchCondition': '', 'serviceKey': '', 'sidoName': '충남', 'so2Value': '0.003', 'totalCount': ''}, {'_returnType': 'json', 'cityName': '아산시', 'cityNameEng': 'Asan-si', 'coValue': '0.3', 'dataGubun': '', 'dataTime': '2018-07-13 15:00', 'districtCode': '041', 'districtNumSeq': '009', 'itemCode': '', 'khaiValue': '', 'no2Value': '0.004', 'numOfRows': '10', 'o3Value': '0.028', 'pageNo': '1', 'pm10Value': '14', 'pm25Value': '8', 'resultCode': '', 'resultMsg': '', 'searchCondition': '', 'serviceKey': '', 'sidoName': '충남', 'so2Value': '0.003', 'totalCount': ''}, {'_returnType': 'json', 'cityName': '예산군', 'cityNameEng': 'Yesan-gun', 'coValue': '0.3', 'dataGubun': '', 'dataTime': '2018-07-13 15:00', 'districtCode': '041', 'districtNumSeq': '011', 'itemCode': '', 'khaiValue': '', 'no2Value': '0.004', 'numOfRows': '10', 'o3Value': '0.023', 'pageNo': '1', 'pm10Value': '15', 'pm25Value': '', 'resultCode': '', 'resultMsg': '', 'searchCondition': '', 'serviceKey': '', 'sidoName': '충남', 'so2Value': '0.003', 'totalCount': ''}]\n",
      "parm {'_returnType': 'json', 'cityName': '', 'cityNameEng': '', 'coValue': '', 'dataGubun': '', 'dataTime': '', 'districtCode': '', 'districtNumSeq': '', 'itemCode': '', 'khaiValue': '', 'no2Value': '', 'numOfRows': '10', 'o3Value': '', 'pageNo': '1', 'pm10Value': '', 'pm25Value': '', 'resultCode': '', 'resultMsg': '', 'searchCondition': 'DAILY', 'serviceKey': 'WuCY6xmu+ZmuKPhrewpGUxpyyBs3BuRE5kE+RalhpRyQsZFLcYFl6PV6NyieUeFXlyfe+m0BSwYnotR9C/1CTg==', 'sidoName': '충남', 'so2Value': '', 'totalCount': ''}\n",
      "CtprvnMesureLIstVo2 {'_returnType': 'json', 'cityName': '', 'cityNameEng': '', 'coValue': '', 'dataGubun': '', 'dataTime': '', 'districtCode': '', 'districtNumSeq': '', 'itemCode': '', 'khaiValue': '', 'no2Value': '', 'numOfRows': '10', 'o3Value': '', 'pageNo': '1', 'pm10Value': '', 'pm25Value': '', 'resultCode': '', 'resultMsg': '', 'searchCondition': 'DAILY', 'serviceKey': 'WuCY6xmu+ZmuKPhrewpGUxpyyBs3BuRE5kE+RalhpRyQsZFLcYFl6PV6NyieUeFXlyfe+m0BSwYnotR9C/1CTg==', 'sidoName': '충남', 'so2Value': '', 'totalCount': ''}\n",
      "totalCount 350\n"
     ]
    }
   ],
   "source": [
    "for (k,v) in resultObj.items():\n",
    "    print(k,v)"
   ]
  },
  {
   "cell_type": "markdown",
   "metadata": {},
   "source": [
    "-----"
   ]
  },
  {
   "cell_type": "markdown",
   "metadata": {},
   "source": [
    "## XML\n",
    "- XML and HTML with Python"
   ]
  },
  {
   "cell_type": "code",
   "execution_count": 263,
   "metadata": {},
   "outputs": [],
   "source": [
    "from lxml import etree"
   ]
  },
  {
   "cell_type": "code",
   "execution_count": 264,
   "metadata": {},
   "outputs": [
    {
     "data": {
      "text/plain": [
       "['AncestorsIterator',\n",
       " 'AttributeBasedElementClassLookup',\n",
       " 'C14NError',\n",
       " 'CDATA',\n",
       " 'Comment',\n",
       " 'CommentBase',\n",
       " 'CustomElementClassLookup',\n",
       " 'DEBUG',\n",
       " 'DTD',\n",
       " 'DTDError',\n",
       " 'DTDParseError',\n",
       " 'DTDValidateError',\n",
       " 'DocInfo',\n",
       " 'DocumentInvalid',\n",
       " 'ETCompatXMLParser',\n",
       " 'ETXPath',\n",
       " 'Element',\n",
       " 'ElementBase',\n",
       " 'ElementChildIterator',\n",
       " 'ElementClassLookup',\n",
       " 'ElementDefaultClassLookup',\n",
       " 'ElementDepthFirstIterator',\n",
       " 'ElementNamespaceClassLookup',\n",
       " 'ElementTextIterator',\n",
       " 'ElementTree',\n",
       " 'Entity',\n",
       " 'EntityBase',\n",
       " 'Error',\n",
       " 'ErrorDomains',\n",
       " 'ErrorLevels',\n",
       " 'ErrorTypes',\n",
       " 'Extension',\n",
       " 'FallbackElementClassLookup',\n",
       " 'FunctionNamespace',\n",
       " 'HTML',\n",
       " 'HTMLParser',\n",
       " 'HTMLPullParser',\n",
       " 'LIBXML_COMPILED_VERSION',\n",
       " 'LIBXML_VERSION',\n",
       " 'LIBXSLT_COMPILED_VERSION',\n",
       " 'LIBXSLT_VERSION',\n",
       " 'LXML_VERSION',\n",
       " 'LxmlError',\n",
       " 'LxmlRegistryError',\n",
       " 'LxmlSyntaxError',\n",
       " 'NamespaceRegistryError',\n",
       " 'PI',\n",
       " 'PIBase',\n",
       " 'ParseError',\n",
       " 'ParserBasedElementClassLookup',\n",
       " 'ParserError',\n",
       " 'ProcessingInstruction',\n",
       " 'PyErrorLog',\n",
       " 'PythonElementClassLookup',\n",
       " 'QName',\n",
       " 'RelaxNG',\n",
       " 'RelaxNGError',\n",
       " 'RelaxNGErrorTypes',\n",
       " 'RelaxNGParseError',\n",
       " 'RelaxNGValidateError',\n",
       " 'Resolver',\n",
       " 'Schematron',\n",
       " 'SchematronError',\n",
       " 'SchematronParseError',\n",
       " 'SchematronValidateError',\n",
       " 'SerialisationError',\n",
       " 'SiblingsIterator',\n",
       " 'SubElement',\n",
       " 'TreeBuilder',\n",
       " 'XInclude',\n",
       " 'XIncludeError',\n",
       " 'XML',\n",
       " 'XMLDTDID',\n",
       " 'XMLID',\n",
       " 'XMLParser',\n",
       " 'XMLPullParser',\n",
       " 'XMLSchema',\n",
       " 'XMLSchemaError',\n",
       " 'XMLSchemaParseError',\n",
       " 'XMLSchemaValidateError',\n",
       " 'XMLSyntaxError',\n",
       " 'XMLTreeBuilder',\n",
       " 'XPath',\n",
       " 'XPathDocumentEvaluator',\n",
       " 'XPathElementEvaluator',\n",
       " 'XPathError',\n",
       " 'XPathEvalError',\n",
       " 'XPathEvaluator',\n",
       " 'XPathFunctionError',\n",
       " 'XPathResultError',\n",
       " 'XPathSyntaxError',\n",
       " 'XSLT',\n",
       " 'XSLTAccessControl',\n",
       " 'XSLTApplyError',\n",
       " 'XSLTError',\n",
       " 'XSLTExtension',\n",
       " 'XSLTExtensionError',\n",
       " 'XSLTParseError',\n",
       " 'XSLTSaveError',\n",
       " '_Attrib',\n",
       " '_BaseErrorLog',\n",
       " '_Comment',\n",
       " '_Document',\n",
       " '_DomainErrorLog',\n",
       " '_Element',\n",
       " '_ElementIterator',\n",
       " '_ElementMatchIterator',\n",
       " '_ElementStringResult',\n",
       " '_ElementTagMatcher',\n",
       " '_ElementTree',\n",
       " '_ElementUnicodeResult',\n",
       " '_Entity',\n",
       " '_ErrorLog',\n",
       " '_FeedParser',\n",
       " '_IDDict',\n",
       " '_ListErrorLog',\n",
       " '_LogEntry',\n",
       " '_ProcessingInstruction',\n",
       " '_RotatingErrorLog',\n",
       " '_SaxParserTarget',\n",
       " '_TargetParserResult',\n",
       " '_Validator',\n",
       " '_XPathEvaluatorBase',\n",
       " '_XSLTProcessingInstruction',\n",
       " '_XSLTResultTree',\n",
       " '__all__',\n",
       " '__builtins__',\n",
       " '__doc__',\n",
       " '__docformat__',\n",
       " '__file__',\n",
       " '__loader__',\n",
       " '__name__',\n",
       " '__package__',\n",
       " '__pyx_capi__',\n",
       " '__spec__',\n",
       " '__test__',\n",
       " '__version__',\n",
       " 'adopt_external_document',\n",
       " 'cleanup_namespaces',\n",
       " 'clear_error_log',\n",
       " 'dump',\n",
       " 'fromstring',\n",
       " 'fromstringlist',\n",
       " 'get_default_parser',\n",
       " 'htmlfile',\n",
       " 'iselement',\n",
       " 'iterparse',\n",
       " 'iterwalk',\n",
       " 'memory_debugger',\n",
       " 'parse',\n",
       " 'parseid',\n",
       " 'register_namespace',\n",
       " 'set_default_parser',\n",
       " 'set_element_class_lookup',\n",
       " 'strip_attributes',\n",
       " 'strip_elements',\n",
       " 'strip_tags',\n",
       " 'tostring',\n",
       " 'tostringlist',\n",
       " 'tounicode',\n",
       " 'use_global_python_log',\n",
       " 'xmlfile']"
      ]
     },
     "execution_count": 264,
     "metadata": {},
     "output_type": "execute_result"
    }
   ],
   "source": [
    "dir(etree)"
   ]
  },
  {
   "cell_type": "code",
   "execution_count": 265,
   "metadata": {},
   "outputs": [],
   "source": [
    "bookstore = etree.Element(\"bookstore\")"
   ]
  },
  {
   "cell_type": "markdown",
   "metadata": {},
   "source": [
    "### book1, book2 자식 노드 만들거야"
   ]
  },
  {
   "cell_type": "code",
   "execution_count": 266,
   "metadata": {},
   "outputs": [],
   "source": [
    "book1 = etree.SubElement(bookstore, \"book\")"
   ]
  },
  {
   "cell_type": "code",
   "execution_count": 267,
   "metadata": {},
   "outputs": [],
   "source": [
    "book2 = etree.SubElement(bookstore, \"book\", attrib={\"category\":\"children\"})"
   ]
  },
  {
   "cell_type": "code",
   "execution_count": 269,
   "metadata": {},
   "outputs": [],
   "source": [
    "book1.attrib[\"category\"] = \"cooking\""
   ]
  },
  {
   "cell_type": "code",
   "execution_count": 277,
   "metadata": {},
   "outputs": [
    {
     "name": "stdout",
     "output_type": "stream",
     "text": [
      "<bookstore>\n",
      "  <book category=\"cooking\"/>\n",
      "  <book category=\"children\"/>\n",
      "</bookstore>\n"
     ]
    }
   ],
   "source": [
    "etree.dump(bookstore)"
   ]
  },
  {
   "cell_type": "markdown",
   "metadata": {},
   "source": [
    "### SubElement는 반드시 부모 element가 필요하다. 우선 우리는 아무 거나 만들어본다."
   ]
  },
  {
   "cell_type": "code",
   "execution_count": 278,
   "metadata": {},
   "outputs": [],
   "source": [
    "title1 = etree.Element(\"title\")"
   ]
  },
  {
   "cell_type": "code",
   "execution_count": 279,
   "metadata": {},
   "outputs": [],
   "source": [
    "title1.text = \"Harry Potter\""
   ]
  },
  {
   "cell_type": "code",
   "execution_count": 281,
   "metadata": {},
   "outputs": [],
   "source": [
    "title1.attrib[\"lang\"] = \"en\""
   ]
  },
  {
   "cell_type": "code",
   "execution_count": 283,
   "metadata": {},
   "outputs": [
    {
     "name": "stdout",
     "output_type": "stream",
     "text": [
      "<title lang=\"en\">Harry Potter</title>\n"
     ]
    }
   ],
   "source": [
    "etree.dump(title1)"
   ]
  },
  {
   "cell_type": "markdown",
   "metadata": {},
   "source": [
    "### book2 안에는 자식노드 title1가 있다."
   ]
  },
  {
   "cell_type": "code",
   "execution_count": 284,
   "metadata": {},
   "outputs": [],
   "source": [
    "book2.append(title1)"
   ]
  },
  {
   "cell_type": "code",
   "execution_count": 285,
   "metadata": {},
   "outputs": [
    {
     "name": "stdout",
     "output_type": "stream",
     "text": [
      "<bookstore>\n",
      "  <book category=\"cooking\"/>\n",
      "  <book category=\"children\">\n",
      "    <title lang=\"en\">Harry Potter</title>\n",
      "  </book>\n",
      "</bookstore>\n"
     ]
    }
   ],
   "source": [
    "etree.dump(bookstore)"
   ]
  },
  {
   "cell_type": "markdown",
   "metadata": {},
   "source": [
    "### attrib 세팅!\n",
    "- get으로 가져올 수 있어!"
   ]
  },
  {
   "cell_type": "code",
   "execution_count": 286,
   "metadata": {},
   "outputs": [
    {
     "data": {
      "text/plain": [
       "<Element title at 0x1c06f5edd08>"
      ]
     },
     "execution_count": 286,
     "metadata": {},
     "output_type": "execute_result"
    }
   ],
   "source": [
    "etree.SubElement(book1, \"title\", attrib={\"lang\":title1.get(\"lang\")})"
   ]
  },
  {
   "cell_type": "code",
   "execution_count": 287,
   "metadata": {},
   "outputs": [
    {
     "name": "stdout",
     "output_type": "stream",
     "text": [
      "<bookstore>\n",
      "  <book category=\"cooking\">\n",
      "    <title lang=\"en\"/>\n",
      "  </book>\n",
      "  <book category=\"children\">\n",
      "    <title lang=\"en\">Harry Potter</title>\n",
      "  </book>\n",
      "</bookstore>\n"
     ]
    }
   ],
   "source": [
    "etree.dump(bookstore)"
   ]
  },
  {
   "cell_type": "markdown",
   "metadata": {},
   "source": [
    "### JSON으로 보내고 받아볼까?\n",
    "- 똑같이 serialize해서 보내야 해\n",
    "- etree.tostring => ASCII로 바뀜 (Bytes)"
   ]
  },
  {
   "cell_type": "code",
   "execution_count": 289,
   "metadata": {},
   "outputs": [],
   "source": [
    "xmlByte = etree.tostring(bookstore)"
   ]
  },
  {
   "cell_type": "code",
   "execution_count": 290,
   "metadata": {},
   "outputs": [
    {
     "data": {
      "text/plain": [
       "bytes"
      ]
     },
     "execution_count": 290,
     "metadata": {},
     "output_type": "execute_result"
    }
   ],
   "source": [
    "type(xmlByte)"
   ]
  },
  {
   "cell_type": "code",
   "execution_count": 291,
   "metadata": {},
   "outputs": [
    {
     "name": "stdout",
     "output_type": "stream",
     "text": [
      "b'<bookstore><book category=\"cooking\"><title lang=\"en\"/></book><book category=\"children\"><title lang=\"en\">Harry Potter</title></book></bookstore>'\n"
     ]
    }
   ],
   "source": [
    "print(xmlByte)"
   ]
  },
  {
   "cell_type": "markdown",
   "metadata": {},
   "source": [
    "### 그냥 보내면 이 타입이 xml인지 아닌지 모르기 때문에 그대로 보내면 오류가 난다.\n",
    "- toString(xml_declaration=True) 옵션을 줘야한다.\n",
    "- encoding = \"utf-8\" 옵션도 주자"
   ]
  },
  {
   "cell_type": "code",
   "execution_count": 295,
   "metadata": {},
   "outputs": [],
   "source": [
    "xmlByte = etree.tostring(bookstore, xml_declaration=True, encoding=\"utf-8\")"
   ]
  },
  {
   "cell_type": "markdown",
   "metadata": {},
   "source": [
    "### 짜란 앞에 xml 붙었지?"
   ]
  },
  {
   "cell_type": "code",
   "execution_count": 296,
   "metadata": {
    "scrolled": true
   },
   "outputs": [
    {
     "name": "stdout",
     "output_type": "stream",
     "text": [
      "b'<?xml version=\\'1.0\\' encoding=\\'utf-8\\'?>\\n<bookstore><book category=\"cooking\"><title lang=\"en\"/></book><book category=\"children\"><title lang=\"en\">Harry Potter</title></book></bookstore>'\n"
     ]
    }
   ],
   "source": [
    "print(xmlByte)"
   ]
  },
  {
   "cell_type": "markdown",
   "metadata": {},
   "source": [
    "### xml 타입을 적용시킨 것을 다시 확인해보자."
   ]
  },
  {
   "cell_type": "code",
   "execution_count": 298,
   "metadata": {},
   "outputs": [],
   "source": [
    "temp = etree.fromstring(xmlByte)"
   ]
  },
  {
   "cell_type": "code",
   "execution_count": 299,
   "metadata": {},
   "outputs": [
    {
     "name": "stdout",
     "output_type": "stream",
     "text": [
      "<bookstore>\n",
      "  <book category=\"cooking\">\n",
      "    <title lang=\"en\"/>\n",
      "  </book>\n",
      "  <book category=\"children\">\n",
      "    <title lang=\"en\">Harry Potter</title>\n",
      "  </book>\n",
      "</bookstore>\n"
     ]
    }
   ],
   "source": [
    "etree.dump(temp)"
   ]
  },
  {
   "cell_type": "markdown",
   "metadata": {},
   "source": [
    "### 파싱 ㄱㄱ\n",
    "- 일단 트리를 먼저 만들 것이야."
   ]
  },
  {
   "cell_type": "code",
   "execution_count": 300,
   "metadata": {},
   "outputs": [],
   "source": [
    "tree = etree.ElementTree(temp)"
   ]
  },
  {
   "cell_type": "markdown",
   "metadata": {},
   "source": [
    "### 루트 한 번 찾아보자."
   ]
  },
  {
   "cell_type": "code",
   "execution_count": 301,
   "metadata": {},
   "outputs": [],
   "source": [
    "root = tree.getroot()"
   ]
  },
  {
   "cell_type": "code",
   "execution_count": 302,
   "metadata": {},
   "outputs": [
    {
     "data": {
      "text/plain": [
       "'bookstore'"
      ]
     },
     "execution_count": 302,
     "metadata": {},
     "output_type": "execute_result"
    }
   ],
   "source": [
    "root.tag"
   ]
  },
  {
   "cell_type": "code",
   "execution_count": 303,
   "metadata": {},
   "outputs": [
    {
     "name": "stdout",
     "output_type": "stream",
     "text": [
      "<bookstore>\n",
      "  <book category=\"cooking\">\n",
      "    <title lang=\"en\"/>\n",
      "  </book>\n",
      "  <book category=\"children\">\n",
      "    <title lang=\"en\">Harry Potter</title>\n",
      "  </book>\n",
      "</bookstore>\n"
     ]
    }
   ],
   "source": [
    "etree.dump(root)"
   ]
  },
  {
   "cell_type": "markdown",
   "metadata": {},
   "source": [
    "### 이전에 설정한 옵션들을 확인 할 수 있음"
   ]
  },
  {
   "cell_type": "code",
   "execution_count": 305,
   "metadata": {},
   "outputs": [
    {
     "data": {
      "text/plain": [
       "'1.0'"
      ]
     },
     "execution_count": 305,
     "metadata": {},
     "output_type": "execute_result"
    }
   ],
   "source": [
    "tree.docinfo.xml_version"
   ]
  },
  {
   "cell_type": "code",
   "execution_count": 306,
   "metadata": {},
   "outputs": [
    {
     "data": {
      "text/plain": [
       "'utf-8'"
      ]
     },
     "execution_count": 306,
     "metadata": {},
     "output_type": "execute_result"
    }
   ],
   "source": [
    "tree.docinfo.encoding"
   ]
  },
  {
   "cell_type": "markdown",
   "metadata": {},
   "source": [
    "### 부모 / 자식을 확인해보자."
   ]
  },
  {
   "cell_type": "code",
   "execution_count": 307,
   "metadata": {
    "scrolled": true
   },
   "outputs": [
    {
     "name": "stdout",
     "output_type": "stream",
     "text": [
      "None\n"
     ]
    }
   ],
   "source": [
    "print(root.getparent())"
   ]
  },
  {
   "cell_type": "code",
   "execution_count": 308,
   "metadata": {},
   "outputs": [],
   "source": [
    "children = root.getchildren()"
   ]
  },
  {
   "cell_type": "code",
   "execution_count": 309,
   "metadata": {},
   "outputs": [
    {
     "data": {
      "text/plain": [
       "2"
      ]
     },
     "execution_count": 309,
     "metadata": {},
     "output_type": "execute_result"
    }
   ],
   "source": [
    "len(children)"
   ]
  },
  {
   "cell_type": "code",
   "execution_count": 313,
   "metadata": {},
   "outputs": [
    {
     "name": "stdout",
     "output_type": "stream",
     "text": [
      "book cooking\n",
      "book children\n"
     ]
    }
   ],
   "source": [
    "for child in children:\n",
    "    print(child.tag, child.get(\"category\"))"
   ]
  },
  {
   "cell_type": "markdown",
   "metadata": {},
   "source": [
    "-----"
   ]
  },
  {
   "cell_type": "markdown",
   "metadata": {},
   "source": [
    "# 예제 ㄱㄱ"
   ]
  },
  {
   "cell_type": "code",
   "execution_count": 348,
   "metadata": {},
   "outputs": [],
   "source": [
    "apiElement = etree.fromstring(result)"
   ]
  },
  {
   "cell_type": "code",
   "execution_count": 349,
   "metadata": {},
   "outputs": [],
   "source": [
    "apiTree = etree.ElementTree(apiElement)"
   ]
  },
  {
   "cell_type": "code",
   "execution_count": 350,
   "metadata": {},
   "outputs": [],
   "source": [
    "rootNode = apiTree.getroot()"
   ]
  },
  {
   "cell_type": "code",
   "execution_count": 351,
   "metadata": {},
   "outputs": [
    {
     "name": "stdout",
     "output_type": "stream",
     "text": [
      "response\n"
     ]
    }
   ],
   "source": [
    "print(rootNode.tag)"
   ]
  },
  {
   "cell_type": "code",
   "execution_count": 352,
   "metadata": {},
   "outputs": [],
   "source": [
    "# 현재 루트\n",
    "nodeList = rootNode.findall(\".//pm10Value\")"
   ]
  },
  {
   "cell_type": "code",
   "execution_count": 353,
   "metadata": {},
   "outputs": [
    {
     "data": {
      "text/plain": [
       "10"
      ]
     },
     "execution_count": 353,
     "metadata": {},
     "output_type": "execute_result"
    }
   ],
   "source": [
    "len(nodeList)"
   ]
  },
  {
   "cell_type": "code",
   "execution_count": 354,
   "metadata": {},
   "outputs": [
    {
     "name": "stdout",
     "output_type": "stream",
     "text": [
      "pm10Value 16\n",
      "pm10Value 17\n",
      "pm10Value 20\n",
      "pm10Value 11\n",
      "pm10Value 21\n",
      "pm10Value 10\n",
      "pm10Value 17\n",
      "pm10Value 17\n",
      "pm10Value 11\n",
      "pm10Value 12\n"
     ]
    }
   ],
   "source": [
    "for row in nodeList:\n",
    "    print(row.tag, row.text)"
   ]
  },
  {
   "cell_type": "code",
   "execution_count": null,
   "metadata": {},
   "outputs": [],
   "source": []
  }
 ],
 "metadata": {
  "kernelspec": {
   "display_name": "Python 3",
   "language": "python",
   "name": "python3"
  },
  "language_info": {
   "codemirror_mode": {
    "name": "ipython",
    "version": 3
   },
   "file_extension": ".py",
   "mimetype": "text/x-python",
   "name": "python",
   "nbconvert_exporter": "python",
   "pygments_lexer": "ipython3",
   "version": "3.6.5"
  }
 },
 "nbformat": 4,
 "nbformat_minor": 2
}
