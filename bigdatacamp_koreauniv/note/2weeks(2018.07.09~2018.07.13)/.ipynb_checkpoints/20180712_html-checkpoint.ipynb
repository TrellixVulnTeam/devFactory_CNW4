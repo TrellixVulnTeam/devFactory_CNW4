{
 "cells": [
  {
   "cell_type": "markdown",
   "metadata": {},
   "source": [
    "# HTML5 & CSS3"
   ]
  },
  {
   "cell_type": "code",
   "execution_count": 1,
   "metadata": {},
   "outputs": [
    {
     "name": "stdout",
     "output_type": "stream",
     "text": [
      "Writing test.html\n"
     ]
    }
   ],
   "source": [
    "%%writefile test.html\n",
    "<!doctype html>\n",
    "<html lang=\"ko\">\n",
    "\t<head>\n",
    "\t\t<meta charset=\"utf-8\"/>\n",
    "\t\t<title>예제</title>\n",
    "\t\t<meta name = \"viewport\" content=\"width=device-width, initial-scale=1.0\">\n",
    "\t\t<meta name=\"keywords\" content=\"실습, 데이터진흥원, 노잼\"/>\n",
    "\t</head>\n",
    "\t<body>\n",
    "\t\t<div id = \"container\">\n",
    "\t\t\t<header>\n",
    "\t\t\t\theader\n",
    "\t\t\t</header>\n",
    "\t\t\t<nav>\n",
    "\t\t\t\t<ul>\n",
    "\t\t\t\t\t<li>Home</li>\n",
    "\t\t\t\t\t<li>News</li>\n",
    "\t\t\t\t\t<li>Contact</li>\n",
    "\t\t\t\t\t<li>About</li>\n",
    "\t\t\t\t</ul>\n",
    "\t\t\t</nav>\n",
    "\t\t\t<section>\n",
    "\t\t\t\t<article>\n",
    "\t\t\t\t\t<h1>Title</h1>\n",
    "\t\t\t\t\t<p>Content</p>\n",
    "\t\t\t\t</article>\n",
    "\t\t\t\t<article>\n",
    "\t\t\t\t\t<h1>Title</h1>\n",
    "\t\t\t\t\t<section>\n",
    "\t\t\t\t\t\t<h1>Sub title1</h1>\n",
    "\t\t\t\t\t\t<p>Sub Content1</p>\n",
    "\t\t\t\t\t</section>\n",
    "\t\t\t\t\t<section>\n",
    "\t\t\t\t\t\t<h1>Sub title2</h1>\n",
    "\t\t\t\t\t\t<p>Sub Content2</p>\n",
    "\t\t\t\t\t</section>\n",
    "\t\t\t\t</article>\n",
    "\t\t\t</section>\n",
    "\t\t\t<aside>\n",
    "\t\t\t\t<section>\n",
    "\t\t\t\t\t<h1> Advertisement </h1>\n",
    "\t\t\t\t\t<p>Content</p>\n",
    "\t\t\t\t</section>\n",
    "\t\t\t\t<section>\n",
    "\t\t\t\t\t<h1> Advertisement </h1>\n",
    "\t\t\t\t\t<p>Content</p>\n",
    "\t\t\t\t</section>\n",
    "\t\t\t</aside>\n",
    "\t\t\t<footer>\n",
    "\t\t\t\tfooter\n",
    "\t\t\t</footer>\n",
    "\t\t</div>\n",
    "\t</body>\n",
    "</html>"
   ]
  },
  {
   "cell_type": "code",
   "execution_count": 2,
   "metadata": {},
   "outputs": [
    {
     "name": "stdout",
     "output_type": "stream",
     "text": [
      "Writing css.html\n"
     ]
    }
   ],
   "source": [
    "%%writefile css.html\n",
    "<!DOCTYPE html>\n",
    "<html>\n",
    "<head>\n",
    "\t<style>\n",
    "\t\tdiv {border: 1px solid #aaaaaa;}\n",
    "\t\t#id {\n",
    "\t\t\tcolor: rgb(0,0,255);\n",
    "\t\t}\n",
    "\t\tdiv.class{\n",
    "\t\t\tbackground-color: yellow;\n",
    "\t\t}\n",
    "\t\tp.class{\n",
    "\t\t\tcolor: green;\n",
    "\t\t\tfont-family: \"궁서\", \"Malgun Gothic\",BatangChe, Sans-serif;\n",
    "\t\t\tfont-size: 3.0em;\n",
    "\t\t}\n",
    "\t\tdiv+p.class{background-color: pink}\n",
    "\t</style>\n",
    "</head>\n",
    "<body>\n",
    "\t<div id=\"id1\">Content1</div>\n",
    "\t<div id=\"id2\">Content2</div>\n",
    "\t<div id=\"id3\">Content3</div>\n",
    "</body>\n",
    "</html>"
   ]
  },
  {
   "cell_type": "code",
   "execution_count": 4,
   "metadata": {},
   "outputs": [
    {
     "name": "stdout",
     "output_type": "stream",
     "text": [
      "Writing css2.html\n"
     ]
    }
   ],
   "source": [
    "%%writefile css2.html\n",
    "<!DOCTYPE html>\n",
    "<html>\n",
    "<head>\n",
    "\t<style>\n",
    "\t\tdiv {border: 1px solid #aaaaaa;}\n",
    "\t\t#id1 {height: 1000px;}\n",
    "\t\t#id2 {position: absolute; top: 100px; left: 200px;}\n",
    "\t\t#id3 {position: fixed; top: 100px; left: 200px;}\n",
    "\t</style>\n",
    "</head>\n",
    "<body>\n",
    "\t<div id=\"id1\">Content1</div>\n",
    "\t<div id=\"id2\">Content2</div>\n",
    "\t<div id=\"id3\">Content3</div>\n",
    "</body>\n",
    "</html>"
   ]
  }
 ],
 "metadata": {
  "kernelspec": {
   "display_name": "Python 3",
   "language": "python",
   "name": "python3"
  },
  "language_info": {
   "codemirror_mode": {
    "name": "ipython",
    "version": 3
   },
   "file_extension": ".py",
   "mimetype": "text/x-python",
   "name": "python",
   "nbconvert_exporter": "python",
   "pygments_lexer": "ipython3",
   "version": "3.6.5"
  }
 },
 "nbformat": 4,
 "nbformat_minor": 2
}
