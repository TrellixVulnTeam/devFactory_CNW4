{
 "cells": [
  {
   "cell_type": "code",
   "execution_count": 17,
   "metadata": {},
   "outputs": [],
   "source": [
    "import requests\n",
    "from bs4 import BeautifulSoup"
   ]
  },
  {
   "cell_type": "code",
   "execution_count": 71,
   "metadata": {},
   "outputs": [],
   "source": [
    "url = 'https://www.google.co.kr/search?q=%EC%9C%A0%EB%AA%85+%EB%AF%B8%EC%88%A0%EC%9E%91%ED%92%88&rlz=1C1NHXL_koKR716KR716&source=lnms&tbm=isch&sa=X&ved=0ahUKEwikoqGs3KrcAhXSUd4KHVd1CrUQ_AUICigB&biw=994&bih=895'\n",
    "data = requests.get(url,headers={\"user-agent\":\"Mozilla/5.0 (Windows NT 10.0; Win64; x64) AppleWebKit/537.36 (KHTML, like Gecko) Chrome/67.0.3396.99 Safari/537.36\"})"
   ]
  },
  {
   "cell_type": "code",
   "execution_count": 12,
   "metadata": {},
   "outputs": [
    {
     "data": {
      "text/plain": [
       "'UTF-8'"
      ]
     },
     "execution_count": 12,
     "metadata": {},
     "output_type": "execute_result"
    }
   ],
   "source": [
    "data.encoding"
   ]
  },
  {
   "cell_type": "code",
   "execution_count": 72,
   "metadata": {},
   "outputs": [],
   "source": [
    "dom = BeautifulSoup(data.text,\"lxml\")"
   ]
  },
  {
   "cell_type": "code",
   "execution_count": 43,
   "metadata": {},
   "outputs": [],
   "source": [
    "domList = dom.select(\"#rg a img\")"
   ]
  },
  {
   "cell_type": "code",
   "execution_count": 73,
   "metadata": {},
   "outputs": [],
   "source": [
    "\n",
    "domList2 = dom.select(\"#rg_s > div > a > img\")"
   ]
  },
  {
   "cell_type": "code",
   "execution_count": 74,
   "metadata": {},
   "outputs": [
    {
     "data": {
      "text/plain": [
       "[<img alt=\"유명 미술작품에 대한 이미지 검색결과\" class=\"rg_ic rg_i\" id=\"y21QlQ3Kz_RYxM:\" jsaction=\"load:str.tbn\" onload=\"typeof google==='object'&amp;&amp;google.aft&amp;&amp;google.aft(this)\"/>,\n",
       " <img alt=\"유명 미술작품에 대한 이미지 검색결과\" class=\"rg_ic rg_i\" id=\"ZHaZkCsriQhexM:\" jsaction=\"load:str.tbn\" onload=\"typeof google==='object'&amp;&amp;google.aft&amp;&amp;google.aft(this)\"/>,\n",
       " <img alt=\"유명 미술작품에 대한 이미지 검색결과\" class=\"rg_ic rg_i\" id=\"SypNhzF1pn6QpM:\" jsaction=\"load:str.tbn\" onload=\"typeof google==='object'&amp;&amp;google.aft&amp;&amp;google.aft(this)\"/>,\n",
       " <img alt=\"유명 미술작품에 대한 이미지 검색결과\" class=\"rg_ic rg_i\" id=\"dicssehZR5z0UM:\" jsaction=\"load:str.tbn\" onload=\"typeof google==='object'&amp;&amp;google.aft&amp;&amp;google.aft(this)\"/>,\n",
       " <img alt=\"유명 미술작품에 대한 이미지 검색결과\" class=\"rg_ic rg_i\" id=\"csEVEU4y8dPZMM:\" jsaction=\"load:str.tbn\" onload=\"typeof google==='object'&amp;&amp;google.aft&amp;&amp;google.aft(this)\"/>,\n",
       " <img alt=\"유명 미술작품에 대한 이미지 검색결과\" class=\"rg_ic rg_i\" id=\"wxWve-XN8gF6oM:\" jsaction=\"load:str.tbn\" onload=\"typeof google==='object'&amp;&amp;google.aft&amp;&amp;google.aft(this)\"/>,\n",
       " <img alt=\"유명 미술작품에 대한 이미지 검색결과\" class=\"rg_ic rg_i\" id=\"gx0YR2-_6UQcoM:\" jsaction=\"load:str.tbn\" onload=\"typeof google==='object'&amp;&amp;google.aft&amp;&amp;google.aft(this)\"/>,\n",
       " <img alt=\"유명 미술작품에 대한 이미지 검색결과\" class=\"rg_ic rg_i\" id=\"gzcKq0CqmTZRAM:\" jsaction=\"load:str.tbn\" onload=\"typeof google==='object'&amp;&amp;google.aft&amp;&amp;google.aft(this)\"/>,\n",
       " <img alt=\"유명 미술작품에 대한 이미지 검색결과\" class=\"rg_ic rg_i\" id=\"O6fiDO8983HE5M:\" jsaction=\"load:str.tbn\" onload=\"typeof google==='object'&amp;&amp;google.aft&amp;&amp;google.aft(this)\"/>,\n",
       " <img alt=\"유명 미술작품에 대한 이미지 검색결과\" class=\"rg_ic rg_i\" id=\"Zisg35t0740zDM:\" jsaction=\"load:str.tbn\" onload=\"typeof google==='object'&amp;&amp;google.aft&amp;&amp;google.aft(this)\"/>,\n",
       " <img alt=\"유명 미술작품에 대한 이미지 검색결과\" class=\"rg_ic rg_i\" id=\"7WWKNhjXHEZiwM:\" jsaction=\"load:str.tbn\" onload=\"typeof google==='object'&amp;&amp;google.aft&amp;&amp;google.aft(this)\"/>,\n",
       " <img alt=\"유명 미술작품에 대한 이미지 검색결과\" class=\"rg_ic rg_i\" id=\"QmE7-rdmjmNBnM:\" jsaction=\"load:str.tbn\" onload=\"typeof google==='object'&amp;&amp;google.aft&amp;&amp;google.aft(this)\"/>,\n",
       " <img alt=\"유명 미술작품에 대한 이미지 검색결과\" class=\"rg_ic rg_i\" id=\"kcGFNKkIbsTSOM:\" jsaction=\"load:str.tbn\" onload=\"typeof google==='object'&amp;&amp;google.aft&amp;&amp;google.aft(this)\"/>,\n",
       " <img alt=\"유명 미술작품에 대한 이미지 검색결과\" class=\"rg_ic rg_i\" id=\"MI81GfXpYGmRFM:\" jsaction=\"load:str.tbn\" onload=\"typeof google==='object'&amp;&amp;google.aft&amp;&amp;google.aft(this)\"/>,\n",
       " <img alt=\"유명 미술작품에 대한 이미지 검색결과\" class=\"rg_ic rg_i\" id=\"RcsOTriyGajrnM:\" jsaction=\"load:str.tbn\" onload=\"typeof google==='object'&amp;&amp;google.aft&amp;&amp;google.aft(this)\"/>,\n",
       " <img alt=\"유명 미술작품에 대한 이미지 검색결과\" class=\"rg_ic rg_i\" id=\"9-5BHnAHP0_4uM:\" jsaction=\"load:str.tbn\" onload=\"typeof google==='object'&amp;&amp;google.aft&amp;&amp;google.aft(this)\"/>,\n",
       " <img alt=\"유명 미술작품에 대한 이미지 검색결과\" class=\"rg_ic rg_i\" id=\"z36qA5eWLFLfuM:\" jsaction=\"load:str.tbn\" onload=\"typeof google==='object'&amp;&amp;google.aft&amp;&amp;google.aft(this)\"/>,\n",
       " <img alt=\"유명 미술작품에 대한 이미지 검색결과\" class=\"rg_ic rg_i\" id=\"gebzncR3OguNBM:\" jsaction=\"load:str.tbn\" onload=\"typeof google==='object'&amp;&amp;google.aft&amp;&amp;google.aft(this)\"/>,\n",
       " <img alt=\"유명 미술작품에 대한 이미지 검색결과\" class=\"rg_ic rg_i\" data-src=\"https://encrypted-tbn0.gstatic.com/images?q=tbn:ANd9GcSZchu3oGBseu6Iddxbn3XevbXX-Yva4k3eHT8Wqy98G_dKzh-V\" jsaction=\"load:str.tbn\" onload=\"typeof google==='object'&amp;&amp;google.aft&amp;&amp;google.aft(this)\"/>,\n",
       " <img alt=\"유명 미술작품에 대한 이미지 검색결과\" class=\"rg_ic rg_i\" data-src=\"https://encrypted-tbn0.gstatic.com/images?q=tbn:ANd9GcQlYKZTvsvMbRaxeRMd1Gwyq91Wh1ub-UVwcHdQXVTLKpKO_1Mnhg\" jsaction=\"load:str.tbn\" onload=\"typeof google==='object'&amp;&amp;google.aft&amp;&amp;google.aft(this)\"/>]"
      ]
     },
     "execution_count": 74,
     "metadata": {},
     "output_type": "execute_result"
    }
   ],
   "source": [
    "domList2"
   ]
  },
  {
   "cell_type": "code",
   "execution_count": 45,
   "metadata": {},
   "outputs": [
    {
     "data": {
      "text/plain": [
       "20"
      ]
     },
     "execution_count": 45,
     "metadata": {},
     "output_type": "execute_result"
    }
   ],
   "source": [
    "len(domList)"
   ]
  },
  {
   "cell_type": "code",
   "execution_count": 61,
   "metadata": {},
   "outputs": [
    {
     "name": "stdout",
     "output_type": "stream",
     "text": [
      "#\n",
      "#\n",
      "#\n",
      "#\n",
      "#\n",
      "#\n",
      "#\n",
      "#\n",
      "#\n",
      "#\n",
      "#\n",
      "#\n",
      "#\n",
      "#\n",
      "#\n",
      "#\n",
      "#\n",
      "#\n",
      "#\n",
      "#\n"
     ]
    }
   ],
   "source": [
    "for link in domList2:\n",
    "    print(link[\"href\"])"
   ]
  },
  {
   "cell_type": "code",
   "execution_count": 86,
   "metadata": {},
   "outputs": [
    {
     "data": {
      "text/plain": [
       "bs4.BeautifulSoup"
      ]
     },
     "execution_count": 86,
     "metadata": {},
     "output_type": "execute_result"
    }
   ],
   "source": [
    "type(dom)"
   ]
  },
  {
   "cell_type": "code",
   "execution_count": 160,
   "metadata": {},
   "outputs": [],
   "source": [
    "import base64"
   ]
  },
  {
   "cell_type": "code",
   "execution_count": 161,
   "metadata": {},
   "outputs": [],
   "source": [
    "end = base64.encodebytes(data.content)"
   ]
  },
  {
   "cell_type": "code",
   "execution_count": 166,
   "metadata": {},
   "outputs": [],
   "source": [
    "end2 = end.decode('euc-kr')"
   ]
  },
  {
   "cell_type": "code",
   "execution_count": 167,
   "metadata": {},
   "outputs": [
    {
     "data": {
      "text/plain": [
       "str"
      ]
     },
     "execution_count": 167,
     "metadata": {},
     "output_type": "execute_result"
    }
   ],
   "source": [
    "type(end2)"
   ]
  },
  {
   "cell_type": "code",
   "execution_count": 169,
   "metadata": {},
   "outputs": [
    {
     "data": {
      "text/plain": [
       "'/9j/4AAQSkZJRgABAQAAAQABAAD/2wCEAAkGBwgHBgkIBwgKCgkLDRYPDQwMDRsUFRAWIB0iIiAd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'"
      ]
     },
     "execution_count": 169,
     "metadata": {},
     "output_type": "execute_result"
    }
   ],
   "source": [
    "end2.rstrip()"
   ]
  },
  {
   "cell_type": "code",
   "execution_count": null,
   "metadata": {},
   "outputs": [],
   "source": []
  }
 ],
 "metadata": {
  "kernelspec": {
   "display_name": "Python 3",
   "language": "python",
   "name": "python3"
  },
  "language_info": {
   "codemirror_mode": {
    "name": "ipython",
    "version": 3
   },
   "file_extension": ".py",
   "mimetype": "text/x-python",
   "name": "python",
   "nbconvert_exporter": "python",
   "pygments_lexer": "ipython3",
   "version": "3.6.5"
  }
 },
 "nbformat": 4,
 "nbformat_minor": 2
}
